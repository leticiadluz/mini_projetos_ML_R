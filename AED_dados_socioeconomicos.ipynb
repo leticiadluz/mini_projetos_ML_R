{
 "cells": [
  {
   "cell_type": "markdown",
   "id": "7bb52a25",
   "metadata": {},
   "source": [
    "### A análise de dados socioeconômicos é fundamental para qualquer empresa compreender o  cenário  social  e  econômico  para  o  ambiente  de  negócios,  compreender  as  diferenças  entre regiões, cidades e países, a influência de indicadores nas decisões de compra dos clientes e como as mudanças no cenário podem impactar as estratégias corporativas.\n",
    "\n",
    "### Neste    mini-projeto    são    aplicadas    técnicas    de    análise    exploratória em    dados socioeconômicos  reais  disponíveis  publicamente.  Por  se  tratar  de  dados  reais,  apresentam diversos problemas que serão tratados no processo de limpeza antes da análise\n",
    "### Abaixo  o  link  da  fonte  de  dados  (os  dados  estão  sendo  fornecidos  a  você  ao  final  do capítulo):\n",
    "https://data.world/laurel/world-happiness-report-data\n",
    "\n",
    "#### Aqui estão as 5 perguntas de negócio que devem ser respondidas neste mini-projeto:\n",
    "- Pergunta 1:O aumento do PIB per capita de um país afeta positivamente a expectativa de vida dos cidadãos ao nascer?Qual a correlação entre essas duas variáveis?\n",
    "- Pergunta 2: Existe uma correlação entre a escala de vida e a conscientização do público em geral sobre a corrupção nos negócios e no governo? Qual a correlação entre essas duas variáveis?\n",
    "- Pergunta 3: O aumento na escala de vida tem algum efeito na média de felicidade entre o público em geral?Qual a correlação entre essas duas variáveis?\n",
    "- Pergunta 4: O país com o menor índice de suporte social tem maior percepção de corrupção em relação às empresas e ao governo no país?\n",
    "- Pergunta 5: Pessoas generosas são mais felizes?"
   ]
  },
  {
   "cell_type": "code",
   "execution_count": 1,
   "id": "4f2ce8ca",
   "metadata": {},
   "outputs": [
    {
     "name": "stderr",
     "output_type": "stream",
     "text": [
      "Warning message:\n",
      "\"package 'dplyr' was built under R version 4.2.3\"\n",
      "\n",
      "Attaching package: 'dplyr'\n",
      "\n",
      "\n",
      "The following objects are masked from 'package:stats':\n",
      "\n",
      "    filter, lag\n",
      "\n",
      "\n",
      "The following objects are masked from 'package:base':\n",
      "\n",
      "    intersect, setdiff, setequal, union\n",
      "\n",
      "\n",
      "Warning message:\n",
      "\"package 'corrplot' was built under R version 4.2.3\"\n",
      "corrplot 0.92 loaded\n",
      "\n"
     ]
    }
   ],
   "source": [
    "library('dplyr')\n",
    "library('corrplot')"
   ]
  },
  {
   "cell_type": "code",
   "execution_count": 2,
   "id": "eb084748",
   "metadata": {},
   "outputs": [
    {
     "data": {
      "text/html": [
       "<table class=\"dataframe\">\n",
       "<caption>A data.frame: 10 × 11</caption>\n",
       "<thead>\n",
       "\t<tr><th></th><th scope=col>Country.name</th><th scope=col>year</th><th scope=col>Life.Ladder</th><th scope=col>Log.GDP.per.capita</th><th scope=col>Social.support</th><th scope=col>Healthy.life.expectancy.at.birth</th><th scope=col>Freedom.to.make.life.choices</th><th scope=col>Generosity</th><th scope=col>Perceptions.of.corruption</th><th scope=col>Positive.affect</th><th scope=col>Negative.affect</th></tr>\n",
       "\t<tr><th></th><th scope=col>&lt;chr&gt;</th><th scope=col>&lt;int&gt;</th><th scope=col>&lt;dbl&gt;</th><th scope=col>&lt;dbl&gt;</th><th scope=col>&lt;dbl&gt;</th><th scope=col>&lt;dbl&gt;</th><th scope=col>&lt;dbl&gt;</th><th scope=col>&lt;dbl&gt;</th><th scope=col>&lt;dbl&gt;</th><th scope=col>&lt;dbl&gt;</th><th scope=col>&lt;dbl&gt;</th></tr>\n",
       "</thead>\n",
       "<tbody>\n",
       "\t<tr><th scope=row>1</th><td>Afghanistan</td><td>2008</td><td>3.724</td><td>7.370</td><td>0.451</td><td>50.80</td><td>0.718</td><td> 0.168</td><td>0.882</td><td>0.518</td><td>0.258</td></tr>\n",
       "\t<tr><th scope=row>2</th><td>Afghanistan</td><td>2009</td><td>4.402</td><td>7.540</td><td>0.552</td><td>51.20</td><td>0.679</td><td> 0.190</td><td>0.850</td><td>0.584</td><td>0.237</td></tr>\n",
       "\t<tr><th scope=row>3</th><td>Afghanistan</td><td>2010</td><td>4.758</td><td>7.647</td><td>0.539</td><td>51.60</td><td>0.600</td><td> 0.121</td><td>0.707</td><td>0.618</td><td>0.275</td></tr>\n",
       "\t<tr><th scope=row>4</th><td>Afghanistan</td><td>2011</td><td>3.832</td><td>7.620</td><td>0.521</td><td>51.92</td><td>0.496</td><td> 0.162</td><td>0.731</td><td>0.611</td><td>0.267</td></tr>\n",
       "\t<tr><th scope=row>5</th><td>Afghanistan</td><td>2012</td><td>3.783</td><td>7.705</td><td>0.521</td><td>52.24</td><td>0.531</td><td> 0.236</td><td>0.776</td><td>0.710</td><td>0.268</td></tr>\n",
       "\t<tr><th scope=row>6</th><td>Afghanistan</td><td>2013</td><td>3.572</td><td>7.725</td><td>0.484</td><td>52.56</td><td>0.578</td><td> 0.061</td><td>0.823</td><td>0.621</td><td>0.273</td></tr>\n",
       "\t<tr><th scope=row>7</th><td>Afghanistan</td><td>2014</td><td>3.131</td><td>7.718</td><td>0.526</td><td>52.88</td><td>0.509</td><td> 0.104</td><td>0.871</td><td>0.532</td><td>0.375</td></tr>\n",
       "\t<tr><th scope=row>8</th><td>Afghanistan</td><td>2015</td><td>3.983</td><td>7.702</td><td>0.529</td><td>53.20</td><td>0.389</td><td> 0.080</td><td>0.881</td><td>0.554</td><td>0.339</td></tr>\n",
       "\t<tr><th scope=row>9</th><td>Afghanistan</td><td>2016</td><td>4.220</td><td>7.697</td><td>0.559</td><td>53.00</td><td>0.523</td><td> 0.042</td><td>0.793</td><td>0.565</td><td>0.348</td></tr>\n",
       "\t<tr><th scope=row>10</th><td>Afghanistan</td><td>2017</td><td>2.662</td><td>7.697</td><td>0.491</td><td>52.80</td><td>0.427</td><td>-0.121</td><td>0.954</td><td>0.496</td><td>0.371</td></tr>\n",
       "</tbody>\n",
       "</table>\n"
      ],
      "text/latex": [
       "A data.frame: 10 × 11\n",
       "\\begin{tabular}{r|lllllllllll}\n",
       "  & Country.name & year & Life.Ladder & Log.GDP.per.capita & Social.support & Healthy.life.expectancy.at.birth & Freedom.to.make.life.choices & Generosity & Perceptions.of.corruption & Positive.affect & Negative.affect\\\\\n",
       "  & <chr> & <int> & <dbl> & <dbl> & <dbl> & <dbl> & <dbl> & <dbl> & <dbl> & <dbl> & <dbl>\\\\\n",
       "\\hline\n",
       "\t1 & Afghanistan & 2008 & 3.724 & 7.370 & 0.451 & 50.80 & 0.718 &  0.168 & 0.882 & 0.518 & 0.258\\\\\n",
       "\t2 & Afghanistan & 2009 & 4.402 & 7.540 & 0.552 & 51.20 & 0.679 &  0.190 & 0.850 & 0.584 & 0.237\\\\\n",
       "\t3 & Afghanistan & 2010 & 4.758 & 7.647 & 0.539 & 51.60 & 0.600 &  0.121 & 0.707 & 0.618 & 0.275\\\\\n",
       "\t4 & Afghanistan & 2011 & 3.832 & 7.620 & 0.521 & 51.92 & 0.496 &  0.162 & 0.731 & 0.611 & 0.267\\\\\n",
       "\t5 & Afghanistan & 2012 & 3.783 & 7.705 & 0.521 & 52.24 & 0.531 &  0.236 & 0.776 & 0.710 & 0.268\\\\\n",
       "\t6 & Afghanistan & 2013 & 3.572 & 7.725 & 0.484 & 52.56 & 0.578 &  0.061 & 0.823 & 0.621 & 0.273\\\\\n",
       "\t7 & Afghanistan & 2014 & 3.131 & 7.718 & 0.526 & 52.88 & 0.509 &  0.104 & 0.871 & 0.532 & 0.375\\\\\n",
       "\t8 & Afghanistan & 2015 & 3.983 & 7.702 & 0.529 & 53.20 & 0.389 &  0.080 & 0.881 & 0.554 & 0.339\\\\\n",
       "\t9 & Afghanistan & 2016 & 4.220 & 7.697 & 0.559 & 53.00 & 0.523 &  0.042 & 0.793 & 0.565 & 0.348\\\\\n",
       "\t10 & Afghanistan & 2017 & 2.662 & 7.697 & 0.491 & 52.80 & 0.427 & -0.121 & 0.954 & 0.496 & 0.371\\\\\n",
       "\\end{tabular}\n"
      ],
      "text/markdown": [
       "\n",
       "A data.frame: 10 × 11\n",
       "\n",
       "| <!--/--> | Country.name &lt;chr&gt; | year &lt;int&gt; | Life.Ladder &lt;dbl&gt; | Log.GDP.per.capita &lt;dbl&gt; | Social.support &lt;dbl&gt; | Healthy.life.expectancy.at.birth &lt;dbl&gt; | Freedom.to.make.life.choices &lt;dbl&gt; | Generosity &lt;dbl&gt; | Perceptions.of.corruption &lt;dbl&gt; | Positive.affect &lt;dbl&gt; | Negative.affect &lt;dbl&gt; |\n",
       "|---|---|---|---|---|---|---|---|---|---|---|---|\n",
       "| 1 | Afghanistan | 2008 | 3.724 | 7.370 | 0.451 | 50.80 | 0.718 |  0.168 | 0.882 | 0.518 | 0.258 |\n",
       "| 2 | Afghanistan | 2009 | 4.402 | 7.540 | 0.552 | 51.20 | 0.679 |  0.190 | 0.850 | 0.584 | 0.237 |\n",
       "| 3 | Afghanistan | 2010 | 4.758 | 7.647 | 0.539 | 51.60 | 0.600 |  0.121 | 0.707 | 0.618 | 0.275 |\n",
       "| 4 | Afghanistan | 2011 | 3.832 | 7.620 | 0.521 | 51.92 | 0.496 |  0.162 | 0.731 | 0.611 | 0.267 |\n",
       "| 5 | Afghanistan | 2012 | 3.783 | 7.705 | 0.521 | 52.24 | 0.531 |  0.236 | 0.776 | 0.710 | 0.268 |\n",
       "| 6 | Afghanistan | 2013 | 3.572 | 7.725 | 0.484 | 52.56 | 0.578 |  0.061 | 0.823 | 0.621 | 0.273 |\n",
       "| 7 | Afghanistan | 2014 | 3.131 | 7.718 | 0.526 | 52.88 | 0.509 |  0.104 | 0.871 | 0.532 | 0.375 |\n",
       "| 8 | Afghanistan | 2015 | 3.983 | 7.702 | 0.529 | 53.20 | 0.389 |  0.080 | 0.881 | 0.554 | 0.339 |\n",
       "| 9 | Afghanistan | 2016 | 4.220 | 7.697 | 0.559 | 53.00 | 0.523 |  0.042 | 0.793 | 0.565 | 0.348 |\n",
       "| 10 | Afghanistan | 2017 | 2.662 | 7.697 | 0.491 | 52.80 | 0.427 | -0.121 | 0.954 | 0.496 | 0.371 |\n",
       "\n"
      ],
      "text/plain": [
       "   Country.name year Life.Ladder Log.GDP.per.capita Social.support\n",
       "1  Afghanistan  2008 3.724       7.370              0.451         \n",
       "2  Afghanistan  2009 4.402       7.540              0.552         \n",
       "3  Afghanistan  2010 4.758       7.647              0.539         \n",
       "4  Afghanistan  2011 3.832       7.620              0.521         \n",
       "5  Afghanistan  2012 3.783       7.705              0.521         \n",
       "6  Afghanistan  2013 3.572       7.725              0.484         \n",
       "7  Afghanistan  2014 3.131       7.718              0.526         \n",
       "8  Afghanistan  2015 3.983       7.702              0.529         \n",
       "9  Afghanistan  2016 4.220       7.697              0.559         \n",
       "10 Afghanistan  2017 2.662       7.697              0.491         \n",
       "   Healthy.life.expectancy.at.birth Freedom.to.make.life.choices Generosity\n",
       "1  50.80                            0.718                         0.168    \n",
       "2  51.20                            0.679                         0.190    \n",
       "3  51.60                            0.600                         0.121    \n",
       "4  51.92                            0.496                         0.162    \n",
       "5  52.24                            0.531                         0.236    \n",
       "6  52.56                            0.578                         0.061    \n",
       "7  52.88                            0.509                         0.104    \n",
       "8  53.20                            0.389                         0.080    \n",
       "9  53.00                            0.523                         0.042    \n",
       "10 52.80                            0.427                        -0.121    \n",
       "   Perceptions.of.corruption Positive.affect Negative.affect\n",
       "1  0.882                     0.518           0.258          \n",
       "2  0.850                     0.584           0.237          \n",
       "3  0.707                     0.618           0.275          \n",
       "4  0.731                     0.611           0.267          \n",
       "5  0.776                     0.710           0.268          \n",
       "6  0.823                     0.621           0.273          \n",
       "7  0.871                     0.532           0.375          \n",
       "8  0.881                     0.554           0.339          \n",
       "9  0.793                     0.565           0.348          \n",
       "10 0.954                     0.496           0.371          "
      ]
     },
     "metadata": {},
     "output_type": "display_data"
    },
    {
     "data": {
      "text/html": [
       "<style>\n",
       ".list-inline {list-style: none; margin:0; padding: 0}\n",
       ".list-inline>li {display: inline-block}\n",
       ".list-inline>li:not(:last-child)::after {content: \"\\00b7\"; padding: 0 .5ex}\n",
       "</style>\n",
       "<ol class=list-inline><li>1949</li><li>11</li></ol>\n"
      ],
      "text/latex": [
       "\\begin{enumerate*}\n",
       "\\item 1949\n",
       "\\item 11\n",
       "\\end{enumerate*}\n"
      ],
      "text/markdown": [
       "1. 1949\n",
       "2. 11\n",
       "\n",
       "\n"
      ],
      "text/plain": [
       "[1] 1949   11"
      ]
     },
     "metadata": {},
     "output_type": "display_data"
    }
   ],
   "source": [
    "dados <- read.csv('dataset.csv')\n",
    "head(dados,10) # Apresentação das 10 primeiras linhas dos dados\n",
    "dim(dados) #Quantidade de linhas e colunas "
   ]
  },
  {
   "cell_type": "markdown",
   "id": "b76a89f8",
   "metadata": {},
   "source": [
    "### Variáveis:\n",
    "- País (Country.name)\n",
    "- Ano (year)\n",
    "- Índice de Felicidade (Life.Ladder)\n",
    "- Logaritmo do PIB per capita (Log.GDP.per.capita), como o valor do PIB per capita pode ser muito grande, foi aplicado log nestes valores para facilitar a visualização.\n",
    "- Apoio Social (Social.support)\n",
    "- Expectativa de Vida Saudável ao Nascer (Healthy.life.expectancy.at.birth)\n",
    "- Liberdade para Tomar Escolhas de Vida (Freedom.to.make.life.choices)\n",
    "- Generosidade (Generosity)\n",
    "- Percepções de Corrupção (Perceptions.of.corruption)\n",
    "- Afeto Positivo (Positive.affect)\n",
    "- Afeto Negativo (Negative.affect)"
   ]
  },
  {
   "cell_type": "code",
   "execution_count": 3,
   "id": "27e4e757",
   "metadata": {},
   "outputs": [
    {
     "name": "stdout",
     "output_type": "stream",
     "text": [
      "'data.frame':\t1949 obs. of  11 variables:\n",
      " $ Country.name                    : chr  \"Afghanistan\" \"Afghanistan\" \"Afghanistan\" \"Afghanistan\" ...\n",
      " $ year                            : int  2008 2009 2010 2011 2012 2013 2014 2015 2016 2017 ...\n",
      " $ Life.Ladder                     : num  3.72 4.4 4.76 3.83 3.78 ...\n",
      " $ Log.GDP.per.capita              : num  7.37 7.54 7.65 7.62 7.71 ...\n",
      " $ Social.support                  : num  0.451 0.552 0.539 0.521 0.521 0.484 0.526 0.529 0.559 0.491 ...\n",
      " $ Healthy.life.expectancy.at.birth: num  50.8 51.2 51.6 51.9 52.2 ...\n",
      " $ Freedom.to.make.life.choices    : num  0.718 0.679 0.6 0.496 0.531 0.578 0.509 0.389 0.523 0.427 ...\n",
      " $ Generosity                      : num  0.168 0.19 0.121 0.162 0.236 0.061 0.104 0.08 0.042 -0.121 ...\n",
      " $ Perceptions.of.corruption       : num  0.882 0.85 0.707 0.731 0.776 0.823 0.871 0.881 0.793 0.954 ...\n",
      " $ Positive.affect                 : num  0.518 0.584 0.618 0.611 0.71 0.621 0.532 0.554 0.565 0.496 ...\n",
      " $ Negative.affect                 : num  0.258 0.237 0.275 0.267 0.268 0.273 0.375 0.339 0.348 0.371 ...\n"
     ]
    }
   ],
   "source": [
    "# Estrtura dos dados \n",
    "str(dados)"
   ]
  },
  {
   "cell_type": "code",
   "execution_count": 4,
   "id": "daf203e3",
   "metadata": {},
   "outputs": [
    {
     "data": {
      "text/plain": [
       " Country.name            year       Life.Ladder    Log.GDP.per.capita\n",
       " Length:1949        Min.   :2005   Min.   :2.375   Min.   : 6.635    \n",
       " Class :character   1st Qu.:2010   1st Qu.:4.640   1st Qu.: 8.464    \n",
       " Mode  :character   Median :2013   Median :5.386   Median : 9.460    \n",
       "                    Mean   :2013   Mean   :5.467   Mean   : 9.368    \n",
       "                    3rd Qu.:2017   3rd Qu.:6.283   3rd Qu.:10.353    \n",
       "                    Max.   :2020   Max.   :8.019   Max.   :11.648    \n",
       "                                                   NA's   :36        \n",
       " Social.support   Healthy.life.expectancy.at.birth Freedom.to.make.life.choices\n",
       " Min.   :0.2900   Min.   :32.30                    Min.   :0.2580              \n",
       " 1st Qu.:0.7498   1st Qu.:58.69                    1st Qu.:0.6470              \n",
       " Median :0.8355   Median :65.20                    Median :0.7630              \n",
       " Mean   :0.8126   Mean   :63.36                    Mean   :0.7426              \n",
       " 3rd Qu.:0.9050   3rd Qu.:68.59                    3rd Qu.:0.8560              \n",
       " Max.   :0.9870   Max.   :77.10                    Max.   :0.9850              \n",
       " NA's   :13       NA's   :55                       NA's   :32                  \n",
       "   Generosity      Perceptions.of.corruption Positive.affect  Negative.affect \n",
       " Min.   :-0.3350   Min.   :0.0350            Min.   :0.3220   Min.   :0.0830  \n",
       " 1st Qu.:-0.1130   1st Qu.:0.6900            1st Qu.:0.6255   1st Qu.:0.2060  \n",
       " Median :-0.0255   Median :0.8020            Median :0.7220   Median :0.2580  \n",
       " Mean   : 0.0001   Mean   :0.7471            Mean   :0.7100   Mean   :0.2685  \n",
       " 3rd Qu.: 0.0910   3rd Qu.:0.8720            3rd Qu.:0.7990   3rd Qu.:0.3200  \n",
       " Max.   : 0.6980   Max.   :0.9830            Max.   :0.9440   Max.   :0.7050  \n",
       " NA's   :89        NA's   :110               NA's   :22       NA's   :16      "
      ]
     },
     "metadata": {},
     "output_type": "display_data"
    }
   ],
   "source": [
    "#Resumo estatistico dos dados\n",
    "summary(dados)"
   ]
  },
  {
   "cell_type": "code",
   "execution_count": 5,
   "id": "bc521fe8",
   "metadata": {},
   "outputs": [
    {
     "data": {
      "text/html": [
       "<table class=\"dataframe\">\n",
       "<caption>A data.frame: 11 × 1</caption>\n",
       "<thead>\n",
       "\t<tr><th></th><th scope=col>colSums.is.na.dados..</th></tr>\n",
       "\t<tr><th></th><th scope=col>&lt;dbl&gt;</th></tr>\n",
       "</thead>\n",
       "<tbody>\n",
       "\t<tr><th scope=row>Country.name</th><td>  0</td></tr>\n",
       "\t<tr><th scope=row>year</th><td>  0</td></tr>\n",
       "\t<tr><th scope=row>Life.Ladder</th><td>  0</td></tr>\n",
       "\t<tr><th scope=row>Log.GDP.per.capita</th><td> 36</td></tr>\n",
       "\t<tr><th scope=row>Social.support</th><td> 13</td></tr>\n",
       "\t<tr><th scope=row>Healthy.life.expectancy.at.birth</th><td> 55</td></tr>\n",
       "\t<tr><th scope=row>Freedom.to.make.life.choices</th><td> 32</td></tr>\n",
       "\t<tr><th scope=row>Generosity</th><td> 89</td></tr>\n",
       "\t<tr><th scope=row>Perceptions.of.corruption</th><td>110</td></tr>\n",
       "\t<tr><th scope=row>Positive.affect</th><td> 22</td></tr>\n",
       "\t<tr><th scope=row>Negative.affect</th><td> 16</td></tr>\n",
       "</tbody>\n",
       "</table>\n"
      ],
      "text/latex": [
       "A data.frame: 11 × 1\n",
       "\\begin{tabular}{r|l}\n",
       "  & colSums.is.na.dados..\\\\\n",
       "  & <dbl>\\\\\n",
       "\\hline\n",
       "\tCountry.name &   0\\\\\n",
       "\tyear &   0\\\\\n",
       "\tLife.Ladder &   0\\\\\n",
       "\tLog.GDP.per.capita &  36\\\\\n",
       "\tSocial.support &  13\\\\\n",
       "\tHealthy.life.expectancy.at.birth &  55\\\\\n",
       "\tFreedom.to.make.life.choices &  32\\\\\n",
       "\tGenerosity &  89\\\\\n",
       "\tPerceptions.of.corruption & 110\\\\\n",
       "\tPositive.affect &  22\\\\\n",
       "\tNegative.affect &  16\\\\\n",
       "\\end{tabular}\n"
      ],
      "text/markdown": [
       "\n",
       "A data.frame: 11 × 1\n",
       "\n",
       "| <!--/--> | colSums.is.na.dados.. &lt;dbl&gt; |\n",
       "|---|---|\n",
       "| Country.name |   0 |\n",
       "| year |   0 |\n",
       "| Life.Ladder |   0 |\n",
       "| Log.GDP.per.capita |  36 |\n",
       "| Social.support |  13 |\n",
       "| Healthy.life.expectancy.at.birth |  55 |\n",
       "| Freedom.to.make.life.choices |  32 |\n",
       "| Generosity |  89 |\n",
       "| Perceptions.of.corruption | 110 |\n",
       "| Positive.affect |  22 |\n",
       "| Negative.affect |  16 |\n",
       "\n"
      ],
      "text/plain": [
       "                                 colSums.is.na.dados..\n",
       "Country.name                       0                  \n",
       "year                               0                  \n",
       "Life.Ladder                        0                  \n",
       "Log.GDP.per.capita                36                  \n",
       "Social.support                    13                  \n",
       "Healthy.life.expectancy.at.birth  55                  \n",
       "Freedom.to.make.life.choices      32                  \n",
       "Generosity                        89                  \n",
       "Perceptions.of.corruption        110                  \n",
       "Positive.affect                   22                  \n",
       "Negative.affect                   16                  "
      ]
     },
     "metadata": {},
     "output_type": "display_data"
    }
   ],
   "source": [
    "# verificando valores nulos por coluna\n",
    "data.frame(colSums(is.na(dados)))"
   ]
  },
  {
   "cell_type": "code",
   "execution_count": 6,
   "id": "3c41ee5c",
   "metadata": {},
   "outputs": [
    {
     "data": {
      "text/html": [
       "1708"
      ],
      "text/latex": [
       "1708"
      ],
      "text/markdown": [
       "1708"
      ],
      "text/plain": [
       "[1] 1708"
      ]
     },
     "metadata": {},
     "output_type": "display_data"
    }
   ],
   "source": [
    "# Quantas linhas têm casos completos?\n",
    "# Verifica para cada linha se todos os valores estão preenchidos\n",
    "casos_completos <- sum(complete.cases(dados))\n",
    "casos_completos"
   ]
  },
  {
   "cell_type": "code",
   "execution_count": 7,
   "id": "6c1e7af8",
   "metadata": {},
   "outputs": [
    {
     "data": {
      "text/html": [
       "241"
      ],
      "text/latex": [
       "241"
      ],
      "text/markdown": [
       "241"
      ],
      "text/plain": [
       "[1] 241"
      ]
     },
     "metadata": {},
     "output_type": "display_data"
    }
   ],
   "source": [
    "# Quantas linhas tem casos incompletos?\n",
    "casos_incompletos <- sum(!complete.cases(dados))\n",
    "casos_incompletos"
   ]
  },
  {
   "cell_type": "code",
   "execution_count": 8,
   "id": "a5074405",
   "metadata": {},
   "outputs": [
    {
     "data": {
      "text/html": [
       "14.1100702576112"
      ],
      "text/latex": [
       "14.1100702576112"
      ],
      "text/markdown": [
       "14.1100702576112"
      ],
      "text/plain": [
       "[1] 14.11007"
      ]
     },
     "metadata": {},
     "output_type": "display_data"
    }
   ],
   "source": [
    "# Qual o percentual de dados incompletos?\n",
    "percentual <- (casos_incompletos / casos_completos) * 100\n",
    "percentual"
   ]
  },
  {
   "cell_type": "code",
   "execution_count": 9,
   "id": "6384aea7",
   "metadata": {},
   "outputs": [],
   "source": [
    "# Remove os objetos anteriores para liberar memória RAM\n",
    "rm(casos_completos)\n",
    "rm(casos_incompletos)"
   ]
  },
  {
   "cell_type": "code",
   "execution_count": 10,
   "id": "8a9acdba",
   "metadata": {},
   "outputs": [
    {
     "data": {
      "text/html": [
       "<style>\n",
       ".list-inline {list-style: none; margin:0; padding: 0}\n",
       ".list-inline>li {display: inline-block}\n",
       ".list-inline>li:not(:last-child)::after {content: \"\\00b7\"; padding: 0 .5ex}\n",
       "</style>\n",
       "<ol class=list-inline><li>'Pais'</li><li>'Ano'</li><li>'Indice_felicidade'</li><li>'PIB_per_capita'</li><li>'Suporte_social'</li><li>'Expectativa_vida'</li><li>'Indicador_liberdade'</li><li>'Indicador_generosidade'</li><li>'Indicador_corrupcao'</li><li>'Afeto_positivo'</li><li>'Afeto_negativo'</li></ol>\n"
      ],
      "text/latex": [
       "\\begin{enumerate*}\n",
       "\\item 'Pais'\n",
       "\\item 'Ano'\n",
       "\\item 'Indice\\_felicidade'\n",
       "\\item 'PIB\\_per\\_capita'\n",
       "\\item 'Suporte\\_social'\n",
       "\\item 'Expectativa\\_vida'\n",
       "\\item 'Indicador\\_liberdade'\n",
       "\\item 'Indicador\\_generosidade'\n",
       "\\item 'Indicador\\_corrupcao'\n",
       "\\item 'Afeto\\_positivo'\n",
       "\\item 'Afeto\\_negativo'\n",
       "\\end{enumerate*}\n"
      ],
      "text/markdown": [
       "1. 'Pais'\n",
       "2. 'Ano'\n",
       "3. 'Indice_felicidade'\n",
       "4. 'PIB_per_capita'\n",
       "5. 'Suporte_social'\n",
       "6. 'Expectativa_vida'\n",
       "7. 'Indicador_liberdade'\n",
       "8. 'Indicador_generosidade'\n",
       "9. 'Indicador_corrupcao'\n",
       "10. 'Afeto_positivo'\n",
       "11. 'Afeto_negativo'\n",
       "\n",
       "\n"
      ],
      "text/plain": [
       " [1] \"Pais\"                   \"Ano\"                    \"Indice_felicidade\"     \n",
       " [4] \"PIB_per_capita\"         \"Suporte_social\"         \"Expectativa_vida\"      \n",
       " [7] \"Indicador_liberdade\"    \"Indicador_generosidade\" \"Indicador_corrupcao\"   \n",
       "[10] \"Afeto_positivo\"         \"Afeto_negativo\"        "
      ]
     },
     "metadata": {},
     "output_type": "display_data"
    }
   ],
   "source": [
    "# Criando um vetor para renomear as colunas:\n",
    "novos_nomes <-c('Pais',\n",
    "'Ano',\n",
    "'Indice_felicidade',\n",
    "'PIB_per_capita',\n",
    "'Suporte_social',\n",
    "'Expectativa_vida',\n",
    "'Indicador_liberdade',\n",
    "'Indicador_generosidade',\n",
    "'Indicador_corrupcao',\n",
    "'Afeto_positivo',\n",
    "'Afeto_negativo')\n",
    "novos_nomes"
   ]
  },
  {
   "cell_type": "code",
   "execution_count": 11,
   "id": "85943e6e",
   "metadata": {},
   "outputs": [],
   "source": [
    "#Renomeando\n",
    "colnames(dados) <-novos_nomes"
   ]
  },
  {
   "cell_type": "code",
   "execution_count": 12,
   "id": "4a835f5b",
   "metadata": {},
   "outputs": [
    {
     "data": {
      "text/html": [
       "<table class=\"dataframe\">\n",
       "<caption>A data.frame: 6 × 11</caption>\n",
       "<thead>\n",
       "\t<tr><th></th><th scope=col>Pais</th><th scope=col>Ano</th><th scope=col>Indice_felicidade</th><th scope=col>PIB_per_capita</th><th scope=col>Suporte_social</th><th scope=col>Expectativa_vida</th><th scope=col>Indicador_liberdade</th><th scope=col>Indicador_generosidade</th><th scope=col>Indicador_corrupcao</th><th scope=col>Afeto_positivo</th><th scope=col>Afeto_negativo</th></tr>\n",
       "\t<tr><th></th><th scope=col>&lt;chr&gt;</th><th scope=col>&lt;int&gt;</th><th scope=col>&lt;dbl&gt;</th><th scope=col>&lt;dbl&gt;</th><th scope=col>&lt;dbl&gt;</th><th scope=col>&lt;dbl&gt;</th><th scope=col>&lt;dbl&gt;</th><th scope=col>&lt;dbl&gt;</th><th scope=col>&lt;dbl&gt;</th><th scope=col>&lt;dbl&gt;</th><th scope=col>&lt;dbl&gt;</th></tr>\n",
       "</thead>\n",
       "<tbody>\n",
       "\t<tr><th scope=row>1</th><td>Afghanistan</td><td>2008</td><td>3.724</td><td>7.370</td><td>0.451</td><td>50.80</td><td>0.718</td><td>0.168</td><td>0.882</td><td>0.518</td><td>0.258</td></tr>\n",
       "\t<tr><th scope=row>2</th><td>Afghanistan</td><td>2009</td><td>4.402</td><td>7.540</td><td>0.552</td><td>51.20</td><td>0.679</td><td>0.190</td><td>0.850</td><td>0.584</td><td>0.237</td></tr>\n",
       "\t<tr><th scope=row>3</th><td>Afghanistan</td><td>2010</td><td>4.758</td><td>7.647</td><td>0.539</td><td>51.60</td><td>0.600</td><td>0.121</td><td>0.707</td><td>0.618</td><td>0.275</td></tr>\n",
       "\t<tr><th scope=row>4</th><td>Afghanistan</td><td>2011</td><td>3.832</td><td>7.620</td><td>0.521</td><td>51.92</td><td>0.496</td><td>0.162</td><td>0.731</td><td>0.611</td><td>0.267</td></tr>\n",
       "\t<tr><th scope=row>5</th><td>Afghanistan</td><td>2012</td><td>3.783</td><td>7.705</td><td>0.521</td><td>52.24</td><td>0.531</td><td>0.236</td><td>0.776</td><td>0.710</td><td>0.268</td></tr>\n",
       "\t<tr><th scope=row>6</th><td>Afghanistan</td><td>2013</td><td>3.572</td><td>7.725</td><td>0.484</td><td>52.56</td><td>0.578</td><td>0.061</td><td>0.823</td><td>0.621</td><td>0.273</td></tr>\n",
       "</tbody>\n",
       "</table>\n"
      ],
      "text/latex": [
       "A data.frame: 6 × 11\n",
       "\\begin{tabular}{r|lllllllllll}\n",
       "  & Pais & Ano & Indice\\_felicidade & PIB\\_per\\_capita & Suporte\\_social & Expectativa\\_vida & Indicador\\_liberdade & Indicador\\_generosidade & Indicador\\_corrupcao & Afeto\\_positivo & Afeto\\_negativo\\\\\n",
       "  & <chr> & <int> & <dbl> & <dbl> & <dbl> & <dbl> & <dbl> & <dbl> & <dbl> & <dbl> & <dbl>\\\\\n",
       "\\hline\n",
       "\t1 & Afghanistan & 2008 & 3.724 & 7.370 & 0.451 & 50.80 & 0.718 & 0.168 & 0.882 & 0.518 & 0.258\\\\\n",
       "\t2 & Afghanistan & 2009 & 4.402 & 7.540 & 0.552 & 51.20 & 0.679 & 0.190 & 0.850 & 0.584 & 0.237\\\\\n",
       "\t3 & Afghanistan & 2010 & 4.758 & 7.647 & 0.539 & 51.60 & 0.600 & 0.121 & 0.707 & 0.618 & 0.275\\\\\n",
       "\t4 & Afghanistan & 2011 & 3.832 & 7.620 & 0.521 & 51.92 & 0.496 & 0.162 & 0.731 & 0.611 & 0.267\\\\\n",
       "\t5 & Afghanistan & 2012 & 3.783 & 7.705 & 0.521 & 52.24 & 0.531 & 0.236 & 0.776 & 0.710 & 0.268\\\\\n",
       "\t6 & Afghanistan & 2013 & 3.572 & 7.725 & 0.484 & 52.56 & 0.578 & 0.061 & 0.823 & 0.621 & 0.273\\\\\n",
       "\\end{tabular}\n"
      ],
      "text/markdown": [
       "\n",
       "A data.frame: 6 × 11\n",
       "\n",
       "| <!--/--> | Pais &lt;chr&gt; | Ano &lt;int&gt; | Indice_felicidade &lt;dbl&gt; | PIB_per_capita &lt;dbl&gt; | Suporte_social &lt;dbl&gt; | Expectativa_vida &lt;dbl&gt; | Indicador_liberdade &lt;dbl&gt; | Indicador_generosidade &lt;dbl&gt; | Indicador_corrupcao &lt;dbl&gt; | Afeto_positivo &lt;dbl&gt; | Afeto_negativo &lt;dbl&gt; |\n",
       "|---|---|---|---|---|---|---|---|---|---|---|---|\n",
       "| 1 | Afghanistan | 2008 | 3.724 | 7.370 | 0.451 | 50.80 | 0.718 | 0.168 | 0.882 | 0.518 | 0.258 |\n",
       "| 2 | Afghanistan | 2009 | 4.402 | 7.540 | 0.552 | 51.20 | 0.679 | 0.190 | 0.850 | 0.584 | 0.237 |\n",
       "| 3 | Afghanistan | 2010 | 4.758 | 7.647 | 0.539 | 51.60 | 0.600 | 0.121 | 0.707 | 0.618 | 0.275 |\n",
       "| 4 | Afghanistan | 2011 | 3.832 | 7.620 | 0.521 | 51.92 | 0.496 | 0.162 | 0.731 | 0.611 | 0.267 |\n",
       "| 5 | Afghanistan | 2012 | 3.783 | 7.705 | 0.521 | 52.24 | 0.531 | 0.236 | 0.776 | 0.710 | 0.268 |\n",
       "| 6 | Afghanistan | 2013 | 3.572 | 7.725 | 0.484 | 52.56 | 0.578 | 0.061 | 0.823 | 0.621 | 0.273 |\n",
       "\n"
      ],
      "text/plain": [
       "  Pais        Ano  Indice_felicidade PIB_per_capita Suporte_social\n",
       "1 Afghanistan 2008 3.724             7.370          0.451         \n",
       "2 Afghanistan 2009 4.402             7.540          0.552         \n",
       "3 Afghanistan 2010 4.758             7.647          0.539         \n",
       "4 Afghanistan 2011 3.832             7.620          0.521         \n",
       "5 Afghanistan 2012 3.783             7.705          0.521         \n",
       "6 Afghanistan 2013 3.572             7.725          0.484         \n",
       "  Expectativa_vida Indicador_liberdade Indicador_generosidade\n",
       "1 50.80            0.718               0.168                 \n",
       "2 51.20            0.679               0.190                 \n",
       "3 51.60            0.600               0.121                 \n",
       "4 51.92            0.496               0.162                 \n",
       "5 52.24            0.531               0.236                 \n",
       "6 52.56            0.578               0.061                 \n",
       "  Indicador_corrupcao Afeto_positivo Afeto_negativo\n",
       "1 0.882               0.518          0.258         \n",
       "2 0.850               0.584          0.237         \n",
       "3 0.707               0.618          0.275         \n",
       "4 0.731               0.611          0.267         \n",
       "5 0.776               0.710          0.268         \n",
       "6 0.823               0.621          0.273         "
      ]
     },
     "metadata": {},
     "output_type": "display_data"
    }
   ],
   "source": [
    "head(dados)"
   ]
  },
  {
   "cell_type": "markdown",
   "id": "bce1f298",
   "metadata": {},
   "source": [
    "###  Vamos adotar a estratégia de eliminar os dados ausentes, uma abordagem mais conservadora em comparação com a simples imputação de dados. Dado que estamos lidando frequentemente com informações socioeconômicas, caso decidíssemos utilizar dados de anos anteriores ou até mesmo de outros países, existe o risco de que esses dados não sejam totalmente confiáveis. Essa falta de confiabilidade poderia gerar problemas significativos durante a realização da análise exploratória e na geração de insights. Portanto, a remoção dos dados ausentes se mostra uma escolha mais cautelosa, visando preservar a integridade e a precisão de nossas análises."
   ]
  },
  {
   "cell_type": "code",
   "execution_count": 13,
   "id": "94b7b6f1",
   "metadata": {},
   "outputs": [
    {
     "data": {
      "text/html": [
       "166"
      ],
      "text/latex": [
       "166"
      ],
      "text/markdown": [
       "166"
      ],
      "text/plain": [
       "[1] 166"
      ]
     },
     "metadata": {},
     "output_type": "display_data"
    }
   ],
   "source": [
    "# Verificando se há países que serão excluídos\n",
    "# Contando valores unicos\n",
    "length(unique(dados$Pais))"
   ]
  },
  {
   "cell_type": "code",
   "execution_count": 14,
   "id": "38f64a57",
   "metadata": {},
   "outputs": [
    {
     "data": {
      "text/html": [
       "<style>\n",
       ".list-inline {list-style: none; margin:0; padding: 0}\n",
       ".list-inline>li {display: inline-block}\n",
       ".list-inline>li:not(:last-child)::after {content: \"\\00b7\"; padding: 0 .5ex}\n",
       "</style>\n",
       "<ol class=list-inline><li>'Afghanistan'</li><li>'Albania'</li><li>'Algeria'</li><li>'Angola'</li><li>'Argentina'</li><li>'Armenia'</li><li>'Australia'</li><li>'Austria'</li><li>'Azerbaijan'</li><li>'Bahrain'</li><li>'Bangladesh'</li><li>'Belarus'</li><li>'Belgium'</li><li>'Belize'</li><li>'Benin'</li><li>'Bhutan'</li><li>'Bolivia'</li><li>'Bosnia and Herzegovina'</li><li>'Botswana'</li><li>'Brazil'</li><li>'Bulgaria'</li><li>'Burkina Faso'</li><li>'Burundi'</li><li>'Cambodia'</li><li>'Cameroon'</li><li>'Canada'</li><li>'Central African Republic'</li><li>'Chad'</li><li>'Chile'</li><li>'China'</li><li>'Colombia'</li><li>'Comoros'</li><li>'Congo (Brazzaville)'</li><li>'Congo (Kinshasa)'</li><li>'Costa Rica'</li><li>'Croatia'</li><li>'Cuba'</li><li>'Cyprus'</li><li>'Czech Republic'</li><li>'Denmark'</li><li>'Djibouti'</li><li>'Dominican Republic'</li><li>'Ecuador'</li><li>'Egypt'</li><li>'El Salvador'</li><li>'Estonia'</li><li>'Ethiopia'</li><li>'Finland'</li><li>'France'</li><li>'Gabon'</li><li>'Gambia'</li><li>'Georgia'</li><li>'Germany'</li><li>'Ghana'</li><li>'Greece'</li><li>'Guatemala'</li><li>'Guinea'</li><li>'Guyana'</li><li>'Haiti'</li><li>'Honduras'</li><li>'Hong Kong S.A.R. of China'</li><li>'Hungary'</li><li>'Iceland'</li><li>'India'</li><li>'Indonesia'</li><li>'Iran'</li><li>'Iraq'</li><li>'Ireland'</li><li>'Israel'</li><li>'Italy'</li><li>'Ivory Coast'</li><li>'Jamaica'</li><li>'Japan'</li><li>'Jordan'</li><li>'Kazakhstan'</li><li>'Kenya'</li><li>'Kosovo'</li><li>'Kuwait'</li><li>'Kyrgyzstan'</li><li>'Laos'</li><li>'Latvia'</li><li>'Lebanon'</li><li>'Lesotho'</li><li>'Liberia'</li><li>'Libya'</li><li>'Lithuania'</li><li>'Luxembourg'</li><li>'Madagascar'</li><li>'Malawi'</li><li>'Malaysia'</li><li>'Maldives'</li><li>'Mali'</li><li>'Malta'</li><li>'Mauritania'</li><li>'Mauritius'</li><li>'Mexico'</li><li>'Moldova'</li><li>'Mongolia'</li><li>'Montenegro'</li><li>'Morocco'</li><li>'Mozambique'</li><li>'Myanmar'</li><li>'Namibia'</li><li>'Nepal'</li><li>'Netherlands'</li><li>'New Zealand'</li><li>'Nicaragua'</li><li>'Niger'</li><li>'Nigeria'</li><li>'North Cyprus'</li><li>'North Macedonia'</li><li>'Norway'</li><li>'Oman'</li><li>'Pakistan'</li><li>'Palestinian Territories'</li><li>'Panama'</li><li>'Paraguay'</li><li>'Peru'</li><li>'Philippines'</li><li>'Poland'</li><li>'Portugal'</li><li>'Qatar'</li><li>'Romania'</li><li>'Russia'</li><li>'Rwanda'</li><li>'Saudi Arabia'</li><li>'Senegal'</li><li>'Serbia'</li><li>'Sierra Leone'</li><li>'Singapore'</li><li>'Slovakia'</li><li>'Slovenia'</li><li>'Somalia'</li><li>'Somaliland region'</li><li>'South Africa'</li><li>'South Korea'</li><li>'South Sudan'</li><li>'Spain'</li><li>'Sri Lanka'</li><li>'Sudan'</li><li>'Suriname'</li><li>'Swaziland'</li><li>'Sweden'</li><li>'Switzerland'</li><li>'Syria'</li><li>'Taiwan Province of China'</li><li>'Tajikistan'</li><li>'Tanzania'</li><li>'Thailand'</li><li>'Togo'</li><li>'Trinidad and Tobago'</li><li>'Tunisia'</li><li>'Turkey'</li><li>'Turkmenistan'</li><li>'Uganda'</li><li>'Ukraine'</li><li>'United Arab Emirates'</li><li>'United Kingdom'</li><li>'United States'</li><li>'Uruguay'</li><li>'Uzbekistan'</li><li>'Venezuela'</li><li>'Vietnam'</li><li>'Yemen'</li><li>'Zambia'</li><li>'Zimbabwe'</li></ol>\n"
      ],
      "text/latex": [
       "\\begin{enumerate*}\n",
       "\\item 'Afghanistan'\n",
       "\\item 'Albania'\n",
       "\\item 'Algeria'\n",
       "\\item 'Angola'\n",
       "\\item 'Argentina'\n",
       "\\item 'Armenia'\n",
       "\\item 'Australia'\n",
       "\\item 'Austria'\n",
       "\\item 'Azerbaijan'\n",
       "\\item 'Bahrain'\n",
       "\\item 'Bangladesh'\n",
       "\\item 'Belarus'\n",
       "\\item 'Belgium'\n",
       "\\item 'Belize'\n",
       "\\item 'Benin'\n",
       "\\item 'Bhutan'\n",
       "\\item 'Bolivia'\n",
       "\\item 'Bosnia and Herzegovina'\n",
       "\\item 'Botswana'\n",
       "\\item 'Brazil'\n",
       "\\item 'Bulgaria'\n",
       "\\item 'Burkina Faso'\n",
       "\\item 'Burundi'\n",
       "\\item 'Cambodia'\n",
       "\\item 'Cameroon'\n",
       "\\item 'Canada'\n",
       "\\item 'Central African Republic'\n",
       "\\item 'Chad'\n",
       "\\item 'Chile'\n",
       "\\item 'China'\n",
       "\\item 'Colombia'\n",
       "\\item 'Comoros'\n",
       "\\item 'Congo (Brazzaville)'\n",
       "\\item 'Congo (Kinshasa)'\n",
       "\\item 'Costa Rica'\n",
       "\\item 'Croatia'\n",
       "\\item 'Cuba'\n",
       "\\item 'Cyprus'\n",
       "\\item 'Czech Republic'\n",
       "\\item 'Denmark'\n",
       "\\item 'Djibouti'\n",
       "\\item 'Dominican Republic'\n",
       "\\item 'Ecuador'\n",
       "\\item 'Egypt'\n",
       "\\item 'El Salvador'\n",
       "\\item 'Estonia'\n",
       "\\item 'Ethiopia'\n",
       "\\item 'Finland'\n",
       "\\item 'France'\n",
       "\\item 'Gabon'\n",
       "\\item 'Gambia'\n",
       "\\item 'Georgia'\n",
       "\\item 'Germany'\n",
       "\\item 'Ghana'\n",
       "\\item 'Greece'\n",
       "\\item 'Guatemala'\n",
       "\\item 'Guinea'\n",
       "\\item 'Guyana'\n",
       "\\item 'Haiti'\n",
       "\\item 'Honduras'\n",
       "\\item 'Hong Kong S.A.R. of China'\n",
       "\\item 'Hungary'\n",
       "\\item 'Iceland'\n",
       "\\item 'India'\n",
       "\\item 'Indonesia'\n",
       "\\item 'Iran'\n",
       "\\item 'Iraq'\n",
       "\\item 'Ireland'\n",
       "\\item 'Israel'\n",
       "\\item 'Italy'\n",
       "\\item 'Ivory Coast'\n",
       "\\item 'Jamaica'\n",
       "\\item 'Japan'\n",
       "\\item 'Jordan'\n",
       "\\item 'Kazakhstan'\n",
       "\\item 'Kenya'\n",
       "\\item 'Kosovo'\n",
       "\\item 'Kuwait'\n",
       "\\item 'Kyrgyzstan'\n",
       "\\item 'Laos'\n",
       "\\item 'Latvia'\n",
       "\\item 'Lebanon'\n",
       "\\item 'Lesotho'\n",
       "\\item 'Liberia'\n",
       "\\item 'Libya'\n",
       "\\item 'Lithuania'\n",
       "\\item 'Luxembourg'\n",
       "\\item 'Madagascar'\n",
       "\\item 'Malawi'\n",
       "\\item 'Malaysia'\n",
       "\\item 'Maldives'\n",
       "\\item 'Mali'\n",
       "\\item 'Malta'\n",
       "\\item 'Mauritania'\n",
       "\\item 'Mauritius'\n",
       "\\item 'Mexico'\n",
       "\\item 'Moldova'\n",
       "\\item 'Mongolia'\n",
       "\\item 'Montenegro'\n",
       "\\item 'Morocco'\n",
       "\\item 'Mozambique'\n",
       "\\item 'Myanmar'\n",
       "\\item 'Namibia'\n",
       "\\item 'Nepal'\n",
       "\\item 'Netherlands'\n",
       "\\item 'New Zealand'\n",
       "\\item 'Nicaragua'\n",
       "\\item 'Niger'\n",
       "\\item 'Nigeria'\n",
       "\\item 'North Cyprus'\n",
       "\\item 'North Macedonia'\n",
       "\\item 'Norway'\n",
       "\\item 'Oman'\n",
       "\\item 'Pakistan'\n",
       "\\item 'Palestinian Territories'\n",
       "\\item 'Panama'\n",
       "\\item 'Paraguay'\n",
       "\\item 'Peru'\n",
       "\\item 'Philippines'\n",
       "\\item 'Poland'\n",
       "\\item 'Portugal'\n",
       "\\item 'Qatar'\n",
       "\\item 'Romania'\n",
       "\\item 'Russia'\n",
       "\\item 'Rwanda'\n",
       "\\item 'Saudi Arabia'\n",
       "\\item 'Senegal'\n",
       "\\item 'Serbia'\n",
       "\\item 'Sierra Leone'\n",
       "\\item 'Singapore'\n",
       "\\item 'Slovakia'\n",
       "\\item 'Slovenia'\n",
       "\\item 'Somalia'\n",
       "\\item 'Somaliland region'\n",
       "\\item 'South Africa'\n",
       "\\item 'South Korea'\n",
       "\\item 'South Sudan'\n",
       "\\item 'Spain'\n",
       "\\item 'Sri Lanka'\n",
       "\\item 'Sudan'\n",
       "\\item 'Suriname'\n",
       "\\item 'Swaziland'\n",
       "\\item 'Sweden'\n",
       "\\item 'Switzerland'\n",
       "\\item 'Syria'\n",
       "\\item 'Taiwan Province of China'\n",
       "\\item 'Tajikistan'\n",
       "\\item 'Tanzania'\n",
       "\\item 'Thailand'\n",
       "\\item 'Togo'\n",
       "\\item 'Trinidad and Tobago'\n",
       "\\item 'Tunisia'\n",
       "\\item 'Turkey'\n",
       "\\item 'Turkmenistan'\n",
       "\\item 'Uganda'\n",
       "\\item 'Ukraine'\n",
       "\\item 'United Arab Emirates'\n",
       "\\item 'United Kingdom'\n",
       "\\item 'United States'\n",
       "\\item 'Uruguay'\n",
       "\\item 'Uzbekistan'\n",
       "\\item 'Venezuela'\n",
       "\\item 'Vietnam'\n",
       "\\item 'Yemen'\n",
       "\\item 'Zambia'\n",
       "\\item 'Zimbabwe'\n",
       "\\end{enumerate*}\n"
      ],
      "text/markdown": [
       "1. 'Afghanistan'\n",
       "2. 'Albania'\n",
       "3. 'Algeria'\n",
       "4. 'Angola'\n",
       "5. 'Argentina'\n",
       "6. 'Armenia'\n",
       "7. 'Australia'\n",
       "8. 'Austria'\n",
       "9. 'Azerbaijan'\n",
       "10. 'Bahrain'\n",
       "11. 'Bangladesh'\n",
       "12. 'Belarus'\n",
       "13. 'Belgium'\n",
       "14. 'Belize'\n",
       "15. 'Benin'\n",
       "16. 'Bhutan'\n",
       "17. 'Bolivia'\n",
       "18. 'Bosnia and Herzegovina'\n",
       "19. 'Botswana'\n",
       "20. 'Brazil'\n",
       "21. 'Bulgaria'\n",
       "22. 'Burkina Faso'\n",
       "23. 'Burundi'\n",
       "24. 'Cambodia'\n",
       "25. 'Cameroon'\n",
       "26. 'Canada'\n",
       "27. 'Central African Republic'\n",
       "28. 'Chad'\n",
       "29. 'Chile'\n",
       "30. 'China'\n",
       "31. 'Colombia'\n",
       "32. 'Comoros'\n",
       "33. 'Congo (Brazzaville)'\n",
       "34. 'Congo (Kinshasa)'\n",
       "35. 'Costa Rica'\n",
       "36. 'Croatia'\n",
       "37. 'Cuba'\n",
       "38. 'Cyprus'\n",
       "39. 'Czech Republic'\n",
       "40. 'Denmark'\n",
       "41. 'Djibouti'\n",
       "42. 'Dominican Republic'\n",
       "43. 'Ecuador'\n",
       "44. 'Egypt'\n",
       "45. 'El Salvador'\n",
       "46. 'Estonia'\n",
       "47. 'Ethiopia'\n",
       "48. 'Finland'\n",
       "49. 'France'\n",
       "50. 'Gabon'\n",
       "51. 'Gambia'\n",
       "52. 'Georgia'\n",
       "53. 'Germany'\n",
       "54. 'Ghana'\n",
       "55. 'Greece'\n",
       "56. 'Guatemala'\n",
       "57. 'Guinea'\n",
       "58. 'Guyana'\n",
       "59. 'Haiti'\n",
       "60. 'Honduras'\n",
       "61. 'Hong Kong S.A.R. of China'\n",
       "62. 'Hungary'\n",
       "63. 'Iceland'\n",
       "64. 'India'\n",
       "65. 'Indonesia'\n",
       "66. 'Iran'\n",
       "67. 'Iraq'\n",
       "68. 'Ireland'\n",
       "69. 'Israel'\n",
       "70. 'Italy'\n",
       "71. 'Ivory Coast'\n",
       "72. 'Jamaica'\n",
       "73. 'Japan'\n",
       "74. 'Jordan'\n",
       "75. 'Kazakhstan'\n",
       "76. 'Kenya'\n",
       "77. 'Kosovo'\n",
       "78. 'Kuwait'\n",
       "79. 'Kyrgyzstan'\n",
       "80. 'Laos'\n",
       "81. 'Latvia'\n",
       "82. 'Lebanon'\n",
       "83. 'Lesotho'\n",
       "84. 'Liberia'\n",
       "85. 'Libya'\n",
       "86. 'Lithuania'\n",
       "87. 'Luxembourg'\n",
       "88. 'Madagascar'\n",
       "89. 'Malawi'\n",
       "90. 'Malaysia'\n",
       "91. 'Maldives'\n",
       "92. 'Mali'\n",
       "93. 'Malta'\n",
       "94. 'Mauritania'\n",
       "95. 'Mauritius'\n",
       "96. 'Mexico'\n",
       "97. 'Moldova'\n",
       "98. 'Mongolia'\n",
       "99. 'Montenegro'\n",
       "100. 'Morocco'\n",
       "101. 'Mozambique'\n",
       "102. 'Myanmar'\n",
       "103. 'Namibia'\n",
       "104. 'Nepal'\n",
       "105. 'Netherlands'\n",
       "106. 'New Zealand'\n",
       "107. 'Nicaragua'\n",
       "108. 'Niger'\n",
       "109. 'Nigeria'\n",
       "110. 'North Cyprus'\n",
       "111. 'North Macedonia'\n",
       "112. 'Norway'\n",
       "113. 'Oman'\n",
       "114. 'Pakistan'\n",
       "115. 'Palestinian Territories'\n",
       "116. 'Panama'\n",
       "117. 'Paraguay'\n",
       "118. 'Peru'\n",
       "119. 'Philippines'\n",
       "120. 'Poland'\n",
       "121. 'Portugal'\n",
       "122. 'Qatar'\n",
       "123. 'Romania'\n",
       "124. 'Russia'\n",
       "125. 'Rwanda'\n",
       "126. 'Saudi Arabia'\n",
       "127. 'Senegal'\n",
       "128. 'Serbia'\n",
       "129. 'Sierra Leone'\n",
       "130. 'Singapore'\n",
       "131. 'Slovakia'\n",
       "132. 'Slovenia'\n",
       "133. 'Somalia'\n",
       "134. 'Somaliland region'\n",
       "135. 'South Africa'\n",
       "136. 'South Korea'\n",
       "137. 'South Sudan'\n",
       "138. 'Spain'\n",
       "139. 'Sri Lanka'\n",
       "140. 'Sudan'\n",
       "141. 'Suriname'\n",
       "142. 'Swaziland'\n",
       "143. 'Sweden'\n",
       "144. 'Switzerland'\n",
       "145. 'Syria'\n",
       "146. 'Taiwan Province of China'\n",
       "147. 'Tajikistan'\n",
       "148. 'Tanzania'\n",
       "149. 'Thailand'\n",
       "150. 'Togo'\n",
       "151. 'Trinidad and Tobago'\n",
       "152. 'Tunisia'\n",
       "153. 'Turkey'\n",
       "154. 'Turkmenistan'\n",
       "155. 'Uganda'\n",
       "156. 'Ukraine'\n",
       "157. 'United Arab Emirates'\n",
       "158. 'United Kingdom'\n",
       "159. 'United States'\n",
       "160. 'Uruguay'\n",
       "161. 'Uzbekistan'\n",
       "162. 'Venezuela'\n",
       "163. 'Vietnam'\n",
       "164. 'Yemen'\n",
       "165. 'Zambia'\n",
       "166. 'Zimbabwe'\n",
       "\n",
       "\n"
      ],
      "text/plain": [
       "  [1] \"Afghanistan\"               \"Albania\"                  \n",
       "  [3] \"Algeria\"                   \"Angola\"                   \n",
       "  [5] \"Argentina\"                 \"Armenia\"                  \n",
       "  [7] \"Australia\"                 \"Austria\"                  \n",
       "  [9] \"Azerbaijan\"                \"Bahrain\"                  \n",
       " [11] \"Bangladesh\"                \"Belarus\"                  \n",
       " [13] \"Belgium\"                   \"Belize\"                   \n",
       " [15] \"Benin\"                     \"Bhutan\"                   \n",
       " [17] \"Bolivia\"                   \"Bosnia and Herzegovina\"   \n",
       " [19] \"Botswana\"                  \"Brazil\"                   \n",
       " [21] \"Bulgaria\"                  \"Burkina Faso\"             \n",
       " [23] \"Burundi\"                   \"Cambodia\"                 \n",
       " [25] \"Cameroon\"                  \"Canada\"                   \n",
       " [27] \"Central African Republic\"  \"Chad\"                     \n",
       " [29] \"Chile\"                     \"China\"                    \n",
       " [31] \"Colombia\"                  \"Comoros\"                  \n",
       " [33] \"Congo (Brazzaville)\"       \"Congo (Kinshasa)\"         \n",
       " [35] \"Costa Rica\"                \"Croatia\"                  \n",
       " [37] \"Cuba\"                      \"Cyprus\"                   \n",
       " [39] \"Czech Republic\"            \"Denmark\"                  \n",
       " [41] \"Djibouti\"                  \"Dominican Republic\"       \n",
       " [43] \"Ecuador\"                   \"Egypt\"                    \n",
       " [45] \"El Salvador\"               \"Estonia\"                  \n",
       " [47] \"Ethiopia\"                  \"Finland\"                  \n",
       " [49] \"France\"                    \"Gabon\"                    \n",
       " [51] \"Gambia\"                    \"Georgia\"                  \n",
       " [53] \"Germany\"                   \"Ghana\"                    \n",
       " [55] \"Greece\"                    \"Guatemala\"                \n",
       " [57] \"Guinea\"                    \"Guyana\"                   \n",
       " [59] \"Haiti\"                     \"Honduras\"                 \n",
       " [61] \"Hong Kong S.A.R. of China\" \"Hungary\"                  \n",
       " [63] \"Iceland\"                   \"India\"                    \n",
       " [65] \"Indonesia\"                 \"Iran\"                     \n",
       " [67] \"Iraq\"                      \"Ireland\"                  \n",
       " [69] \"Israel\"                    \"Italy\"                    \n",
       " [71] \"Ivory Coast\"               \"Jamaica\"                  \n",
       " [73] \"Japan\"                     \"Jordan\"                   \n",
       " [75] \"Kazakhstan\"                \"Kenya\"                    \n",
       " [77] \"Kosovo\"                    \"Kuwait\"                   \n",
       " [79] \"Kyrgyzstan\"                \"Laos\"                     \n",
       " [81] \"Latvia\"                    \"Lebanon\"                  \n",
       " [83] \"Lesotho\"                   \"Liberia\"                  \n",
       " [85] \"Libya\"                     \"Lithuania\"                \n",
       " [87] \"Luxembourg\"                \"Madagascar\"               \n",
       " [89] \"Malawi\"                    \"Malaysia\"                 \n",
       " [91] \"Maldives\"                  \"Mali\"                     \n",
       " [93] \"Malta\"                     \"Mauritania\"               \n",
       " [95] \"Mauritius\"                 \"Mexico\"                   \n",
       " [97] \"Moldova\"                   \"Mongolia\"                 \n",
       " [99] \"Montenegro\"                \"Morocco\"                  \n",
       "[101] \"Mozambique\"                \"Myanmar\"                  \n",
       "[103] \"Namibia\"                   \"Nepal\"                    \n",
       "[105] \"Netherlands\"               \"New Zealand\"              \n",
       "[107] \"Nicaragua\"                 \"Niger\"                    \n",
       "[109] \"Nigeria\"                   \"North Cyprus\"             \n",
       "[111] \"North Macedonia\"           \"Norway\"                   \n",
       "[113] \"Oman\"                      \"Pakistan\"                 \n",
       "[115] \"Palestinian Territories\"   \"Panama\"                   \n",
       "[117] \"Paraguay\"                  \"Peru\"                     \n",
       "[119] \"Philippines\"               \"Poland\"                   \n",
       "[121] \"Portugal\"                  \"Qatar\"                    \n",
       "[123] \"Romania\"                   \"Russia\"                   \n",
       "[125] \"Rwanda\"                    \"Saudi Arabia\"             \n",
       "[127] \"Senegal\"                   \"Serbia\"                   \n",
       "[129] \"Sierra Leone\"              \"Singapore\"                \n",
       "[131] \"Slovakia\"                  \"Slovenia\"                 \n",
       "[133] \"Somalia\"                   \"Somaliland region\"        \n",
       "[135] \"South Africa\"              \"South Korea\"              \n",
       "[137] \"South Sudan\"               \"Spain\"                    \n",
       "[139] \"Sri Lanka\"                 \"Sudan\"                    \n",
       "[141] \"Suriname\"                  \"Swaziland\"                \n",
       "[143] \"Sweden\"                    \"Switzerland\"              \n",
       "[145] \"Syria\"                     \"Taiwan Province of China\" \n",
       "[147] \"Tajikistan\"                \"Tanzania\"                 \n",
       "[149] \"Thailand\"                  \"Togo\"                     \n",
       "[151] \"Trinidad and Tobago\"       \"Tunisia\"                  \n",
       "[153] \"Turkey\"                    \"Turkmenistan\"             \n",
       "[155] \"Uganda\"                    \"Ukraine\"                  \n",
       "[157] \"United Arab Emirates\"      \"United Kingdom\"           \n",
       "[159] \"United States\"             \"Uruguay\"                  \n",
       "[161] \"Uzbekistan\"                \"Venezuela\"                \n",
       "[163] \"Vietnam\"                   \"Yemen\"                    \n",
       "[165] \"Zambia\"                    \"Zimbabwe\"                 "
      ]
     },
     "metadata": {},
     "output_type": "display_data"
    }
   ],
   "source": [
    "# Lista os países únicos e grava o resultado (antes de remover registros com valores NA)\n",
    "paises_antes_na <- unique(dados$Pais)\n",
    "paises_antes_na"
   ]
  },
  {
   "cell_type": "code",
   "execution_count": 15,
   "id": "e130bb5a",
   "metadata": {},
   "outputs": [
    {
     "data": {
      "text/html": [
       "<style>\n",
       ".list-inline {list-style: none; margin:0; padding: 0}\n",
       ".list-inline>li {display: inline-block}\n",
       ".list-inline>li:not(:last-child)::after {content: \"\\00b7\"; padding: 0 .5ex}\n",
       "</style>\n",
       "<ol class=list-inline><li>1708</li><li>11</li></ol>\n"
      ],
      "text/latex": [
       "\\begin{enumerate*}\n",
       "\\item 1708\n",
       "\\item 11\n",
       "\\end{enumerate*}\n"
      ],
      "text/markdown": [
       "1. 1708\n",
       "2. 11\n",
       "\n",
       "\n"
      ],
      "text/plain": [
       "[1] 1708   11"
      ]
     },
     "metadata": {},
     "output_type": "display_data"
    }
   ],
   "source": [
    "# Vamos eliminar linhas com valores NA\n",
    "dados <- na.omit(dados)\n",
    "dim(dados)"
   ]
  },
  {
   "cell_type": "code",
   "execution_count": 16,
   "id": "ef08b19c",
   "metadata": {},
   "outputs": [
    {
     "data": {
      "text/html": [
       "155"
      ],
      "text/latex": [
       "155"
      ],
      "text/markdown": [
       "155"
      ],
      "text/plain": [
       "[1] 155"
      ]
     },
     "metadata": {},
     "output_type": "display_data"
    }
   ],
   "source": [
    "#Contagem de paises após NA\n",
    "length(unique(dados$Pais))"
   ]
  },
  {
   "cell_type": "code",
   "execution_count": 17,
   "id": "46af46f2",
   "metadata": {},
   "outputs": [],
   "source": [
    "#Lista os países únicos após NA\n",
    "paises_depois_na <- unique(dados$Pais)"
   ]
  },
  {
   "cell_type": "code",
   "execution_count": 18,
   "id": "35eed243",
   "metadata": {},
   "outputs": [
    {
     "data": {
      "text/html": [
       "<style>\n",
       ".list-inline {list-style: none; margin:0; padding: 0}\n",
       ".list-inline>li {display: inline-block}\n",
       ".list-inline>li:not(:last-child)::after {content: \"\\00b7\"; padding: 0 .5ex}\n",
       "</style>\n",
       "<ol class=list-inline><li>'China'</li><li>'Cuba'</li><li>'Hong Kong S.A.R. of China'</li><li>'Kosovo'</li><li>'Maldives'</li><li>'North Cyprus'</li><li>'Oman'</li><li>'Somalia'</li><li>'Somaliland region'</li><li>'South Sudan'</li><li>'Turkmenistan'</li></ol>\n"
      ],
      "text/latex": [
       "\\begin{enumerate*}\n",
       "\\item 'China'\n",
       "\\item 'Cuba'\n",
       "\\item 'Hong Kong S.A.R. of China'\n",
       "\\item 'Kosovo'\n",
       "\\item 'Maldives'\n",
       "\\item 'North Cyprus'\n",
       "\\item 'Oman'\n",
       "\\item 'Somalia'\n",
       "\\item 'Somaliland region'\n",
       "\\item 'South Sudan'\n",
       "\\item 'Turkmenistan'\n",
       "\\end{enumerate*}\n"
      ],
      "text/markdown": [
       "1. 'China'\n",
       "2. 'Cuba'\n",
       "3. 'Hong Kong S.A.R. of China'\n",
       "4. 'Kosovo'\n",
       "5. 'Maldives'\n",
       "6. 'North Cyprus'\n",
       "7. 'Oman'\n",
       "8. 'Somalia'\n",
       "9. 'Somaliland region'\n",
       "10. 'South Sudan'\n",
       "11. 'Turkmenistan'\n",
       "\n",
       "\n"
      ],
      "text/plain": [
       " [1] \"China\"                     \"Cuba\"                     \n",
       " [3] \"Hong Kong S.A.R. of China\" \"Kosovo\"                   \n",
       " [5] \"Maldives\"                  \"North Cyprus\"             \n",
       " [7] \"Oman\"                      \"Somalia\"                  \n",
       " [9] \"Somaliland region\"         \"South Sudan\"              \n",
       "[11] \"Turkmenistan\"             "
      ]
     },
     "metadata": {},
     "output_type": "display_data"
    }
   ],
   "source": [
    "# Verificando a diferença antes e depois de remover valores NA\n",
    "setdiff(paises_antes_na, paises_depois_na)"
   ]
  },
  {
   "cell_type": "code",
   "execution_count": 19,
   "id": "de54f54b",
   "metadata": {},
   "outputs": [],
   "source": [
    "rm(paises_depois_na,paises_antes_na)"
   ]
  },
  {
   "cell_type": "code",
   "execution_count": 20,
   "id": "282edb0d",
   "metadata": {},
   "outputs": [
    {
     "data": {
      "text/html": [
       "<style>\n",
       ".list-inline {list-style: none; margin:0; padding: 0}\n",
       ".list-inline>li {display: inline-block}\n",
       ".list-inline>li:not(:last-child)::after {content: \"\\00b7\"; padding: 0 .5ex}\n",
       "</style>\n",
       "<ol class=list-inline><li>2008</li><li>2009</li><li>2010</li><li>2011</li><li>2012</li><li>2013</li><li>2014</li><li>2015</li><li>2016</li><li>2017</li><li>2018</li><li>2019</li><li>2007</li><li>2020</li><li>2006</li><li>2005</li></ol>\n"
      ],
      "text/latex": [
       "\\begin{enumerate*}\n",
       "\\item 2008\n",
       "\\item 2009\n",
       "\\item 2010\n",
       "\\item 2011\n",
       "\\item 2012\n",
       "\\item 2013\n",
       "\\item 2014\n",
       "\\item 2015\n",
       "\\item 2016\n",
       "\\item 2017\n",
       "\\item 2018\n",
       "\\item 2019\n",
       "\\item 2007\n",
       "\\item 2020\n",
       "\\item 2006\n",
       "\\item 2005\n",
       "\\end{enumerate*}\n"
      ],
      "text/markdown": [
       "1. 2008\n",
       "2. 2009\n",
       "3. 2010\n",
       "4. 2011\n",
       "5. 2012\n",
       "6. 2013\n",
       "7. 2014\n",
       "8. 2015\n",
       "9. 2016\n",
       "10. 2017\n",
       "11. 2018\n",
       "12. 2019\n",
       "13. 2007\n",
       "14. 2020\n",
       "15. 2006\n",
       "16. 2005\n",
       "\n",
       "\n"
      ],
      "text/plain": [
       " [1] 2008 2009 2010 2011 2012 2013 2014 2015 2016 2017 2018 2019 2007 2020 2006\n",
       "[16] 2005"
      ]
     },
     "metadata": {},
     "output_type": "display_data"
    }
   ],
   "source": [
    "# Verificando quais anos estão presentes nos dados\n",
    "unique(dados$Ano)"
   ]
  },
  {
   "cell_type": "code",
   "execution_count": 21,
   "id": "ad624b75",
   "metadata": {},
   "outputs": [
    {
     "data": {
      "text/html": [
       "<style>\n",
       ".list-inline {list-style: none; margin:0; padding: 0}\n",
       ".list-inline>li {display: inline-block}\n",
       ".list-inline>li:not(:last-child)::after {content: \"\\00b7\"; padding: 0 .5ex}\n",
       "</style>\n",
       "<ol class=list-inline><li>2005</li><li>2020</li></ol>\n"
      ],
      "text/latex": [
       "\\begin{enumerate*}\n",
       "\\item 2005\n",
       "\\item 2020\n",
       "\\end{enumerate*}\n"
      ],
      "text/markdown": [
       "1. 2005\n",
       "2. 2020\n",
       "\n",
       "\n"
      ],
      "text/plain": [
       "[1] 2005 2020"
      ]
     },
     "metadata": {},
     "output_type": "display_data"
    }
   ],
   "source": [
    "range(dados$Ano)"
   ]
  },
  {
   "cell_type": "code",
   "execution_count": 22,
   "id": "8dd8688c",
   "metadata": {},
   "outputs": [
    {
     "data": {
      "text/plain": [
       "\n",
       "2005 2006 2007 2008 2009 2010 2011 2012 2013 2014 2015 2016 2017 2018 2019 2020 \n",
       "   1   74   94  101  106  112  132  121  124  127  127  124  132  126  126   81 "
      ]
     },
     "metadata": {},
     "output_type": "display_data"
    }
   ],
   "source": [
    "# Número de registros por ano\n",
    "frequencia_anos <- table(dados$Ano)\n",
    "frequencia_anos "
   ]
  },
  {
   "cell_type": "code",
   "execution_count": 23,
   "id": "6d6f9bd8",
   "metadata": {},
   "outputs": [
    {
     "data": {
      "text/html": [
       "<style>\n",
       ".list-inline {list-style: none; margin:0; padding: 0}\n",
       ".list-inline>li {display: inline-block}\n",
       ".list-inline>li:not(:last-child)::after {content: \"\\00b7\"; padding: 0 .5ex}\n",
       "</style>\n",
       "<ol class=list-inline><li>'2005'</li><li>'2006'</li><li>'2007'</li><li>'2020'</li></ol>\n"
      ],
      "text/latex": [
       "\\begin{enumerate*}\n",
       "\\item '2005'\n",
       "\\item '2006'\n",
       "\\item '2007'\n",
       "\\item '2020'\n",
       "\\end{enumerate*}\n"
      ],
      "text/markdown": [
       "1. '2005'\n",
       "2. '2006'\n",
       "3. '2007'\n",
       "4. '2020'\n",
       "\n",
       "\n"
      ],
      "text/plain": [
       "[1] \"2005\" \"2006\" \"2007\" \"2020\""
      ]
     },
     "metadata": {},
     "output_type": "display_data"
    }
   ],
   "source": [
    "#Vamos optar por remover todos os anos que tiveram uma contagem menor que 100.\n",
    "anos_remover <- names(frequencia_anos[frequencia_anos < 100])\n",
    "anos_remover "
   ]
  },
  {
   "cell_type": "code",
   "execution_count": 24,
   "id": "94f76de5",
   "metadata": {},
   "outputs": [],
   "source": [
    "# Criando um novo conjunto de dados excluindo os anos identificados\n",
    "dados <- dados[!(dados$Ano %in% anos_remover), ]"
   ]
  },
  {
   "cell_type": "code",
   "execution_count": 25,
   "id": "40bc2234",
   "metadata": {},
   "outputs": [
    {
     "data": {
      "text/html": [
       "154"
      ],
      "text/latex": [
       "154"
      ],
      "text/markdown": [
       "154"
      ],
      "text/plain": [
       "[1] 154"
      ]
     },
     "metadata": {},
     "output_type": "display_data"
    }
   ],
   "source": [
    "#Contagem de paises após remoção dos anos\n",
    "length(unique(dados$Pais))"
   ]
  },
  {
   "cell_type": "code",
   "execution_count": 26,
   "id": "73ac37a2",
   "metadata": {},
   "outputs": [
    {
     "data": {
      "text/html": [
       "<style>\n",
       ".list-inline {list-style: none; margin:0; padding: 0}\n",
       ".list-inline>li {display: inline-block}\n",
       ".list-inline>li:not(:last-child)::after {content: \"\\00b7\"; padding: 0 .5ex}\n",
       "</style>\n",
       "<ol class=list-inline><li>1458</li><li>11</li></ol>\n"
      ],
      "text/latex": [
       "\\begin{enumerate*}\n",
       "\\item 1458\n",
       "\\item 11\n",
       "\\end{enumerate*}\n"
      ],
      "text/markdown": [
       "1. 1458\n",
       "2. 11\n",
       "\n",
       "\n"
      ],
      "text/plain": [
       "[1] 1458   11"
      ]
     },
     "metadata": {},
     "output_type": "display_data"
    }
   ],
   "source": [
    "dim(dados)"
   ]
  },
  {
   "cell_type": "code",
   "execution_count": 27,
   "id": "3e4c03c5",
   "metadata": {},
   "outputs": [
    {
     "data": {
      "text/plain": [
       "\n",
       "2008 2009 2010 2011 2012 2013 2014 2015 2016 2017 2018 2019 \n",
       " 101  106  112  132  121  124  127  127  124  132  126  126 "
      ]
     },
     "metadata": {},
     "output_type": "display_data"
    }
   ],
   "source": [
    "table(dados$Ano)"
   ]
  },
  {
   "cell_type": "code",
   "execution_count": 28,
   "id": "cba15eb7",
   "metadata": {},
   "outputs": [
    {
     "data": {
      "text/html": [
       "<style>\n",
       ".dl-inline {width: auto; margin:0; padding: 0}\n",
       ".dl-inline>dt, .dl-inline>dd {float: none; width: auto; display: inline-block}\n",
       ".dl-inline>dt::after {content: \":\\0020\"; padding-right: .5ex}\n",
       ".dl-inline>dt:not(:first-of-type) {padding-left: .5ex}\n",
       "</style><dl class=dl-inline><dt>Pais</dt><dd>FALSE</dd><dt>Ano</dt><dd>TRUE</dd><dt>Indice_felicidade</dt><dd>TRUE</dd><dt>PIB_per_capita</dt><dd>TRUE</dd><dt>Suporte_social</dt><dd>TRUE</dd><dt>Expectativa_vida</dt><dd>TRUE</dd><dt>Indicador_liberdade</dt><dd>TRUE</dd><dt>Indicador_generosidade</dt><dd>TRUE</dd><dt>Indicador_corrupcao</dt><dd>TRUE</dd><dt>Afeto_positivo</dt><dd>TRUE</dd><dt>Afeto_negativo</dt><dd>TRUE</dd></dl>\n"
      ],
      "text/latex": [
       "\\begin{description*}\n",
       "\\item[Pais] FALSE\n",
       "\\item[Ano] TRUE\n",
       "\\item[Indice\\textbackslash{}\\_felicidade] TRUE\n",
       "\\item[PIB\\textbackslash{}\\_per\\textbackslash{}\\_capita] TRUE\n",
       "\\item[Suporte\\textbackslash{}\\_social] TRUE\n",
       "\\item[Expectativa\\textbackslash{}\\_vida] TRUE\n",
       "\\item[Indicador\\textbackslash{}\\_liberdade] TRUE\n",
       "\\item[Indicador\\textbackslash{}\\_generosidade] TRUE\n",
       "\\item[Indicador\\textbackslash{}\\_corrupcao] TRUE\n",
       "\\item[Afeto\\textbackslash{}\\_positivo] TRUE\n",
       "\\item[Afeto\\textbackslash{}\\_negativo] TRUE\n",
       "\\end{description*}\n"
      ],
      "text/markdown": [
       "Pais\n",
       ":   FALSEAno\n",
       ":   TRUEIndice_felicidade\n",
       ":   TRUEPIB_per_capita\n",
       ":   TRUESuporte_social\n",
       ":   TRUEExpectativa_vida\n",
       ":   TRUEIndicador_liberdade\n",
       ":   TRUEIndicador_generosidade\n",
       ":   TRUEIndicador_corrupcao\n",
       ":   TRUEAfeto_positivo\n",
       ":   TRUEAfeto_negativo\n",
       ":   TRUE\n",
       "\n"
      ],
      "text/plain": [
       "                  Pais                    Ano      Indice_felicidade \n",
       "                 FALSE                   TRUE                   TRUE \n",
       "        PIB_per_capita         Suporte_social       Expectativa_vida \n",
       "                  TRUE                   TRUE                   TRUE \n",
       "   Indicador_liberdade Indicador_generosidade    Indicador_corrupcao \n",
       "                  TRUE                   TRUE                   TRUE \n",
       "        Afeto_positivo         Afeto_negativo \n",
       "                  TRUE                   TRUE "
      ]
     },
     "metadata": {},
     "output_type": "display_data"
    }
   ],
   "source": [
    "#Extraindo as variáveis numericas: Primeiro pelo método sapply\n",
    "variaveis_numericas <- sapply(dados, is.numeric) #sapply aplica a função is.numeric a cada coluna. \n",
    "variaveis_numericas"
   ]
  },
  {
   "cell_type": "code",
   "execution_count": 29,
   "id": "7b770fe8",
   "metadata": {},
   "outputs": [
    {
     "data": {
      "text/html": [
       "<table class=\"dataframe\">\n",
       "<caption>A data.frame: 6 × 10</caption>\n",
       "<thead>\n",
       "\t<tr><th></th><th scope=col>Ano</th><th scope=col>Indice_felicidade</th><th scope=col>PIB_per_capita</th><th scope=col>Suporte_social</th><th scope=col>Expectativa_vida</th><th scope=col>Indicador_liberdade</th><th scope=col>Indicador_generosidade</th><th scope=col>Indicador_corrupcao</th><th scope=col>Afeto_positivo</th><th scope=col>Afeto_negativo</th></tr>\n",
       "\t<tr><th></th><th scope=col>&lt;int&gt;</th><th scope=col>&lt;dbl&gt;</th><th scope=col>&lt;dbl&gt;</th><th scope=col>&lt;dbl&gt;</th><th scope=col>&lt;dbl&gt;</th><th scope=col>&lt;dbl&gt;</th><th scope=col>&lt;dbl&gt;</th><th scope=col>&lt;dbl&gt;</th><th scope=col>&lt;dbl&gt;</th><th scope=col>&lt;dbl&gt;</th></tr>\n",
       "</thead>\n",
       "<tbody>\n",
       "\t<tr><th scope=row>1</th><td>2008</td><td>3.724</td><td>7.370</td><td>0.451</td><td>50.80</td><td>0.718</td><td>0.168</td><td>0.882</td><td>0.518</td><td>0.258</td></tr>\n",
       "\t<tr><th scope=row>2</th><td>2009</td><td>4.402</td><td>7.540</td><td>0.552</td><td>51.20</td><td>0.679</td><td>0.190</td><td>0.850</td><td>0.584</td><td>0.237</td></tr>\n",
       "\t<tr><th scope=row>3</th><td>2010</td><td>4.758</td><td>7.647</td><td>0.539</td><td>51.60</td><td>0.600</td><td>0.121</td><td>0.707</td><td>0.618</td><td>0.275</td></tr>\n",
       "\t<tr><th scope=row>4</th><td>2011</td><td>3.832</td><td>7.620</td><td>0.521</td><td>51.92</td><td>0.496</td><td>0.162</td><td>0.731</td><td>0.611</td><td>0.267</td></tr>\n",
       "\t<tr><th scope=row>5</th><td>2012</td><td>3.783</td><td>7.705</td><td>0.521</td><td>52.24</td><td>0.531</td><td>0.236</td><td>0.776</td><td>0.710</td><td>0.268</td></tr>\n",
       "\t<tr><th scope=row>6</th><td>2013</td><td>3.572</td><td>7.725</td><td>0.484</td><td>52.56</td><td>0.578</td><td>0.061</td><td>0.823</td><td>0.621</td><td>0.273</td></tr>\n",
       "</tbody>\n",
       "</table>\n"
      ],
      "text/latex": [
       "A data.frame: 6 × 10\n",
       "\\begin{tabular}{r|llllllllll}\n",
       "  & Ano & Indice\\_felicidade & PIB\\_per\\_capita & Suporte\\_social & Expectativa\\_vida & Indicador\\_liberdade & Indicador\\_generosidade & Indicador\\_corrupcao & Afeto\\_positivo & Afeto\\_negativo\\\\\n",
       "  & <int> & <dbl> & <dbl> & <dbl> & <dbl> & <dbl> & <dbl> & <dbl> & <dbl> & <dbl>\\\\\n",
       "\\hline\n",
       "\t1 & 2008 & 3.724 & 7.370 & 0.451 & 50.80 & 0.718 & 0.168 & 0.882 & 0.518 & 0.258\\\\\n",
       "\t2 & 2009 & 4.402 & 7.540 & 0.552 & 51.20 & 0.679 & 0.190 & 0.850 & 0.584 & 0.237\\\\\n",
       "\t3 & 2010 & 4.758 & 7.647 & 0.539 & 51.60 & 0.600 & 0.121 & 0.707 & 0.618 & 0.275\\\\\n",
       "\t4 & 2011 & 3.832 & 7.620 & 0.521 & 51.92 & 0.496 & 0.162 & 0.731 & 0.611 & 0.267\\\\\n",
       "\t5 & 2012 & 3.783 & 7.705 & 0.521 & 52.24 & 0.531 & 0.236 & 0.776 & 0.710 & 0.268\\\\\n",
       "\t6 & 2013 & 3.572 & 7.725 & 0.484 & 52.56 & 0.578 & 0.061 & 0.823 & 0.621 & 0.273\\\\\n",
       "\\end{tabular}\n"
      ],
      "text/markdown": [
       "\n",
       "A data.frame: 6 × 10\n",
       "\n",
       "| <!--/--> | Ano &lt;int&gt; | Indice_felicidade &lt;dbl&gt; | PIB_per_capita &lt;dbl&gt; | Suporte_social &lt;dbl&gt; | Expectativa_vida &lt;dbl&gt; | Indicador_liberdade &lt;dbl&gt; | Indicador_generosidade &lt;dbl&gt; | Indicador_corrupcao &lt;dbl&gt; | Afeto_positivo &lt;dbl&gt; | Afeto_negativo &lt;dbl&gt; |\n",
       "|---|---|---|---|---|---|---|---|---|---|---|\n",
       "| 1 | 2008 | 3.724 | 7.370 | 0.451 | 50.80 | 0.718 | 0.168 | 0.882 | 0.518 | 0.258 |\n",
       "| 2 | 2009 | 4.402 | 7.540 | 0.552 | 51.20 | 0.679 | 0.190 | 0.850 | 0.584 | 0.237 |\n",
       "| 3 | 2010 | 4.758 | 7.647 | 0.539 | 51.60 | 0.600 | 0.121 | 0.707 | 0.618 | 0.275 |\n",
       "| 4 | 2011 | 3.832 | 7.620 | 0.521 | 51.92 | 0.496 | 0.162 | 0.731 | 0.611 | 0.267 |\n",
       "| 5 | 2012 | 3.783 | 7.705 | 0.521 | 52.24 | 0.531 | 0.236 | 0.776 | 0.710 | 0.268 |\n",
       "| 6 | 2013 | 3.572 | 7.725 | 0.484 | 52.56 | 0.578 | 0.061 | 0.823 | 0.621 | 0.273 |\n",
       "\n"
      ],
      "text/plain": [
       "  Ano  Indice_felicidade PIB_per_capita Suporte_social Expectativa_vida\n",
       "1 2008 3.724             7.370          0.451          50.80           \n",
       "2 2009 4.402             7.540          0.552          51.20           \n",
       "3 2010 4.758             7.647          0.539          51.60           \n",
       "4 2011 3.832             7.620          0.521          51.92           \n",
       "5 2012 3.783             7.705          0.521          52.24           \n",
       "6 2013 3.572             7.725          0.484          52.56           \n",
       "  Indicador_liberdade Indicador_generosidade Indicador_corrupcao Afeto_positivo\n",
       "1 0.718               0.168                  0.882               0.518         \n",
       "2 0.679               0.190                  0.850               0.584         \n",
       "3 0.600               0.121                  0.707               0.618         \n",
       "4 0.496               0.162                  0.731               0.611         \n",
       "5 0.531               0.236                  0.776               0.710         \n",
       "6 0.578               0.061                  0.823               0.621         \n",
       "  Afeto_negativo\n",
       "1 0.258         \n",
       "2 0.237         \n",
       "3 0.275         \n",
       "4 0.267         \n",
       "5 0.268         \n",
       "6 0.273         "
      ]
     },
     "metadata": {},
     "output_type": "display_data"
    },
    {
     "data": {
      "text/html": [
       "<style>\n",
       ".list-inline {list-style: none; margin:0; padding: 0}\n",
       ".list-inline>li {display: inline-block}\n",
       ".list-inline>li:not(:last-child)::after {content: \"\\00b7\"; padding: 0 .5ex}\n",
       "</style>\n",
       "<ol class=list-inline><li>1458</li><li>10</li></ol>\n"
      ],
      "text/latex": [
       "\\begin{enumerate*}\n",
       "\\item 1458\n",
       "\\item 10\n",
       "\\end{enumerate*}\n"
      ],
      "text/markdown": [
       "1. 1458\n",
       "2. 10\n",
       "\n",
       "\n"
      ],
      "text/plain": [
       "[1] 1458   10"
      ]
     },
     "metadata": {},
     "output_type": "display_data"
    }
   ],
   "source": [
    "dados_numericos <- dados[variaveis_numericas]\n",
    "head(dados_numericos)\n",
    "dim(dados_numericos)"
   ]
  },
  {
   "cell_type": "code",
   "execution_count": 30,
   "id": "9a2a01c0",
   "metadata": {},
   "outputs": [
    {
     "data": {
      "text/html": [
       "<table class=\"dataframe\">\n",
       "<caption>A data.frame: 6 × 10</caption>\n",
       "<thead>\n",
       "\t<tr><th></th><th scope=col>Ano</th><th scope=col>Indice_felicidade</th><th scope=col>PIB_per_capita</th><th scope=col>Suporte_social</th><th scope=col>Expectativa_vida</th><th scope=col>Indicador_liberdade</th><th scope=col>Indicador_generosidade</th><th scope=col>Indicador_corrupcao</th><th scope=col>Afeto_positivo</th><th scope=col>Afeto_negativo</th></tr>\n",
       "\t<tr><th></th><th scope=col>&lt;int&gt;</th><th scope=col>&lt;dbl&gt;</th><th scope=col>&lt;dbl&gt;</th><th scope=col>&lt;dbl&gt;</th><th scope=col>&lt;dbl&gt;</th><th scope=col>&lt;dbl&gt;</th><th scope=col>&lt;dbl&gt;</th><th scope=col>&lt;dbl&gt;</th><th scope=col>&lt;dbl&gt;</th><th scope=col>&lt;dbl&gt;</th></tr>\n",
       "</thead>\n",
       "<tbody>\n",
       "\t<tr><th scope=row>1</th><td>2008</td><td>3.724</td><td>7.370</td><td>0.451</td><td>50.80</td><td>0.718</td><td>0.168</td><td>0.882</td><td>0.518</td><td>0.258</td></tr>\n",
       "\t<tr><th scope=row>2</th><td>2009</td><td>4.402</td><td>7.540</td><td>0.552</td><td>51.20</td><td>0.679</td><td>0.190</td><td>0.850</td><td>0.584</td><td>0.237</td></tr>\n",
       "\t<tr><th scope=row>3</th><td>2010</td><td>4.758</td><td>7.647</td><td>0.539</td><td>51.60</td><td>0.600</td><td>0.121</td><td>0.707</td><td>0.618</td><td>0.275</td></tr>\n",
       "\t<tr><th scope=row>4</th><td>2011</td><td>3.832</td><td>7.620</td><td>0.521</td><td>51.92</td><td>0.496</td><td>0.162</td><td>0.731</td><td>0.611</td><td>0.267</td></tr>\n",
       "\t<tr><th scope=row>5</th><td>2012</td><td>3.783</td><td>7.705</td><td>0.521</td><td>52.24</td><td>0.531</td><td>0.236</td><td>0.776</td><td>0.710</td><td>0.268</td></tr>\n",
       "\t<tr><th scope=row>6</th><td>2013</td><td>3.572</td><td>7.725</td><td>0.484</td><td>52.56</td><td>0.578</td><td>0.061</td><td>0.823</td><td>0.621</td><td>0.273</td></tr>\n",
       "</tbody>\n",
       "</table>\n"
      ],
      "text/latex": [
       "A data.frame: 6 × 10\n",
       "\\begin{tabular}{r|llllllllll}\n",
       "  & Ano & Indice\\_felicidade & PIB\\_per\\_capita & Suporte\\_social & Expectativa\\_vida & Indicador\\_liberdade & Indicador\\_generosidade & Indicador\\_corrupcao & Afeto\\_positivo & Afeto\\_negativo\\\\\n",
       "  & <int> & <dbl> & <dbl> & <dbl> & <dbl> & <dbl> & <dbl> & <dbl> & <dbl> & <dbl>\\\\\n",
       "\\hline\n",
       "\t1 & 2008 & 3.724 & 7.370 & 0.451 & 50.80 & 0.718 & 0.168 & 0.882 & 0.518 & 0.258\\\\\n",
       "\t2 & 2009 & 4.402 & 7.540 & 0.552 & 51.20 & 0.679 & 0.190 & 0.850 & 0.584 & 0.237\\\\\n",
       "\t3 & 2010 & 4.758 & 7.647 & 0.539 & 51.60 & 0.600 & 0.121 & 0.707 & 0.618 & 0.275\\\\\n",
       "\t4 & 2011 & 3.832 & 7.620 & 0.521 & 51.92 & 0.496 & 0.162 & 0.731 & 0.611 & 0.267\\\\\n",
       "\t5 & 2012 & 3.783 & 7.705 & 0.521 & 52.24 & 0.531 & 0.236 & 0.776 & 0.710 & 0.268\\\\\n",
       "\t6 & 2013 & 3.572 & 7.725 & 0.484 & 52.56 & 0.578 & 0.061 & 0.823 & 0.621 & 0.273\\\\\n",
       "\\end{tabular}\n"
      ],
      "text/markdown": [
       "\n",
       "A data.frame: 6 × 10\n",
       "\n",
       "| <!--/--> | Ano &lt;int&gt; | Indice_felicidade &lt;dbl&gt; | PIB_per_capita &lt;dbl&gt; | Suporte_social &lt;dbl&gt; | Expectativa_vida &lt;dbl&gt; | Indicador_liberdade &lt;dbl&gt; | Indicador_generosidade &lt;dbl&gt; | Indicador_corrupcao &lt;dbl&gt; | Afeto_positivo &lt;dbl&gt; | Afeto_negativo &lt;dbl&gt; |\n",
       "|---|---|---|---|---|---|---|---|---|---|---|\n",
       "| 1 | 2008 | 3.724 | 7.370 | 0.451 | 50.80 | 0.718 | 0.168 | 0.882 | 0.518 | 0.258 |\n",
       "| 2 | 2009 | 4.402 | 7.540 | 0.552 | 51.20 | 0.679 | 0.190 | 0.850 | 0.584 | 0.237 |\n",
       "| 3 | 2010 | 4.758 | 7.647 | 0.539 | 51.60 | 0.600 | 0.121 | 0.707 | 0.618 | 0.275 |\n",
       "| 4 | 2011 | 3.832 | 7.620 | 0.521 | 51.92 | 0.496 | 0.162 | 0.731 | 0.611 | 0.267 |\n",
       "| 5 | 2012 | 3.783 | 7.705 | 0.521 | 52.24 | 0.531 | 0.236 | 0.776 | 0.710 | 0.268 |\n",
       "| 6 | 2013 | 3.572 | 7.725 | 0.484 | 52.56 | 0.578 | 0.061 | 0.823 | 0.621 | 0.273 |\n",
       "\n"
      ],
      "text/plain": [
       "  Ano  Indice_felicidade PIB_per_capita Suporte_social Expectativa_vida\n",
       "1 2008 3.724             7.370          0.451          50.80           \n",
       "2 2009 4.402             7.540          0.552          51.20           \n",
       "3 2010 4.758             7.647          0.539          51.60           \n",
       "4 2011 3.832             7.620          0.521          51.92           \n",
       "5 2012 3.783             7.705          0.521          52.24           \n",
       "6 2013 3.572             7.725          0.484          52.56           \n",
       "  Indicador_liberdade Indicador_generosidade Indicador_corrupcao Afeto_positivo\n",
       "1 0.718               0.168                  0.882               0.518         \n",
       "2 0.679               0.190                  0.850               0.584         \n",
       "3 0.600               0.121                  0.707               0.618         \n",
       "4 0.496               0.162                  0.731               0.611         \n",
       "5 0.531               0.236                  0.776               0.710         \n",
       "6 0.578               0.061                  0.823               0.621         \n",
       "  Afeto_negativo\n",
       "1 0.258         \n",
       "2 0.237         \n",
       "3 0.275         \n",
       "4 0.267         \n",
       "5 0.268         \n",
       "6 0.273         "
      ]
     },
     "metadata": {},
     "output_type": "display_data"
    },
    {
     "data": {
      "text/html": [
       "<style>\n",
       ".list-inline {list-style: none; margin:0; padding: 0}\n",
       ".list-inline>li {display: inline-block}\n",
       ".list-inline>li:not(:last-child)::after {content: \"\\00b7\"; padding: 0 .5ex}\n",
       "</style>\n",
       "<ol class=list-inline><li>1458</li><li>10</li></ol>\n"
      ],
      "text/latex": [
       "\\begin{enumerate*}\n",
       "\\item 1458\n",
       "\\item 10\n",
       "\\end{enumerate*}\n"
      ],
      "text/markdown": [
       "1. 1458\n",
       "2. 10\n",
       "\n",
       "\n"
      ],
      "text/plain": [
       "[1] 1458   10"
      ]
     },
     "metadata": {},
     "output_type": "display_data"
    }
   ],
   "source": [
    "#Usando select\n",
    "dados_numericos_a <- select_if(dados, is.numeric)\n",
    "head(dados_numericos_a)\n",
    "dim(dados_numericos_a)"
   ]
  },
  {
   "cell_type": "code",
   "execution_count": 31,
   "id": "42c78c60",
   "metadata": {},
   "outputs": [
    {
     "data": {
      "text/html": [
       "<table class=\"dataframe\">\n",
       "<caption>A matrix: 10 × 10 of type dbl</caption>\n",
       "<thead>\n",
       "\t<tr><th></th><th scope=col>Ano</th><th scope=col>Indice_felicidade</th><th scope=col>PIB_per_capita</th><th scope=col>Suporte_social</th><th scope=col>Expectativa_vida</th><th scope=col>Indicador_liberdade</th><th scope=col>Indicador_generosidade</th><th scope=col>Indicador_corrupcao</th><th scope=col>Afeto_positivo</th><th scope=col>Afeto_negativo</th></tr>\n",
       "</thead>\n",
       "<tbody>\n",
       "\t<tr><th scope=row>Ano</th><td> 1.00000000</td><td> 0.02236586</td><td> 0.050371225</td><td> 0.01096172</td><td> 0.12888737</td><td> 0.2445672</td><td>-0.034251879</td><td>-0.08141031</td><td> 0.02247053</td><td> 0.20734596</td></tr>\n",
       "\t<tr><th scope=row>Indice_felicidade</th><td> 0.02236586</td><td> 1.00000000</td><td> 0.789007821</td><td> 0.71419311</td><td> 0.75711629</td><td> 0.5160062</td><td> 0.188541730</td><td>-0.43380056</td><td> 0.53476358</td><td>-0.31011272</td></tr>\n",
       "\t<tr><th scope=row>PIB_per_capita</th><td> 0.05037122</td><td> 0.78900782</td><td> 1.000000000</td><td> 0.70655046</td><td> 0.86227595</td><td> 0.3440583</td><td>-0.008470999</td><td>-0.33223842</td><td> 0.29964156</td><td>-0.24011205</td></tr>\n",
       "\t<tr><th scope=row>Suporte_social</th><td> 0.01096172</td><td> 0.71419311</td><td> 0.706550456</td><td> 1.00000000</td><td> 0.62088952</td><td> 0.4099891</td><td> 0.064480877</td><td>-0.22074476</td><td> 0.45386308</td><td>-0.43336714</td></tr>\n",
       "\t<tr><th scope=row>Expectativa_vida</th><td> 0.12888737</td><td> 0.75711629</td><td> 0.862275954</td><td> 0.62088952</td><td> 1.00000000</td><td> 0.3786709</td><td> 0.032975384</td><td>-0.33150124</td><td> 0.32991905</td><td>-0.16962055</td></tr>\n",
       "\t<tr><th scope=row>Indicador_liberdade</th><td> 0.24456723</td><td> 0.51600618</td><td> 0.344058263</td><td> 0.40998909</td><td> 0.37867085</td><td> 1.0000000</td><td> 0.333592355</td><td>-0.48157289</td><td> 0.62355293</td><td>-0.28090352</td></tr>\n",
       "\t<tr><th scope=row>Indicador_generosidade</th><td>-0.03425188</td><td> 0.18854173</td><td>-0.008470999</td><td> 0.06448088</td><td> 0.03297538</td><td> 0.3335924</td><td> 1.000000000</td><td>-0.29779956</td><td> 0.36830152</td><td>-0.08727321</td></tr>\n",
       "\t<tr><th scope=row>Indicador_corrupcao</th><td>-0.08141031</td><td>-0.43380056</td><td>-0.332238416</td><td>-0.22074476</td><td>-0.33150124</td><td>-0.4815729</td><td>-0.297799559</td><td> 1.00000000</td><td>-0.29986176</td><td> 0.27840008</td></tr>\n",
       "\t<tr><th scope=row>Afeto_positivo</th><td> 0.02247053</td><td> 0.53476358</td><td> 0.299641559</td><td> 0.45386308</td><td> 0.32991905</td><td> 0.6235529</td><td> 0.368301521</td><td>-0.29986176</td><td> 1.00000000</td><td>-0.36854356</td></tr>\n",
       "\t<tr><th scope=row>Afeto_negativo</th><td> 0.20734596</td><td>-0.31011272</td><td>-0.240112048</td><td>-0.43336714</td><td>-0.16962055</td><td>-0.2809035</td><td>-0.087273212</td><td> 0.27840008</td><td>-0.36854356</td><td> 1.00000000</td></tr>\n",
       "</tbody>\n",
       "</table>\n"
      ],
      "text/latex": [
       "A matrix: 10 × 10 of type dbl\n",
       "\\begin{tabular}{r|llllllllll}\n",
       "  & Ano & Indice\\_felicidade & PIB\\_per\\_capita & Suporte\\_social & Expectativa\\_vida & Indicador\\_liberdade & Indicador\\_generosidade & Indicador\\_corrupcao & Afeto\\_positivo & Afeto\\_negativo\\\\\n",
       "\\hline\n",
       "\tAno &  1.00000000 &  0.02236586 &  0.050371225 &  0.01096172 &  0.12888737 &  0.2445672 & -0.034251879 & -0.08141031 &  0.02247053 &  0.20734596\\\\\n",
       "\tIndice\\_felicidade &  0.02236586 &  1.00000000 &  0.789007821 &  0.71419311 &  0.75711629 &  0.5160062 &  0.188541730 & -0.43380056 &  0.53476358 & -0.31011272\\\\\n",
       "\tPIB\\_per\\_capita &  0.05037122 &  0.78900782 &  1.000000000 &  0.70655046 &  0.86227595 &  0.3440583 & -0.008470999 & -0.33223842 &  0.29964156 & -0.24011205\\\\\n",
       "\tSuporte\\_social &  0.01096172 &  0.71419311 &  0.706550456 &  1.00000000 &  0.62088952 &  0.4099891 &  0.064480877 & -0.22074476 &  0.45386308 & -0.43336714\\\\\n",
       "\tExpectativa\\_vida &  0.12888737 &  0.75711629 &  0.862275954 &  0.62088952 &  1.00000000 &  0.3786709 &  0.032975384 & -0.33150124 &  0.32991905 & -0.16962055\\\\\n",
       "\tIndicador\\_liberdade &  0.24456723 &  0.51600618 &  0.344058263 &  0.40998909 &  0.37867085 &  1.0000000 &  0.333592355 & -0.48157289 &  0.62355293 & -0.28090352\\\\\n",
       "\tIndicador\\_generosidade & -0.03425188 &  0.18854173 & -0.008470999 &  0.06448088 &  0.03297538 &  0.3335924 &  1.000000000 & -0.29779956 &  0.36830152 & -0.08727321\\\\\n",
       "\tIndicador\\_corrupcao & -0.08141031 & -0.43380056 & -0.332238416 & -0.22074476 & -0.33150124 & -0.4815729 & -0.297799559 &  1.00000000 & -0.29986176 &  0.27840008\\\\\n",
       "\tAfeto\\_positivo &  0.02247053 &  0.53476358 &  0.299641559 &  0.45386308 &  0.32991905 &  0.6235529 &  0.368301521 & -0.29986176 &  1.00000000 & -0.36854356\\\\\n",
       "\tAfeto\\_negativo &  0.20734596 & -0.31011272 & -0.240112048 & -0.43336714 & -0.16962055 & -0.2809035 & -0.087273212 &  0.27840008 & -0.36854356 &  1.00000000\\\\\n",
       "\\end{tabular}\n"
      ],
      "text/markdown": [
       "\n",
       "A matrix: 10 × 10 of type dbl\n",
       "\n",
       "| <!--/--> | Ano | Indice_felicidade | PIB_per_capita | Suporte_social | Expectativa_vida | Indicador_liberdade | Indicador_generosidade | Indicador_corrupcao | Afeto_positivo | Afeto_negativo |\n",
       "|---|---|---|---|---|---|---|---|---|---|---|\n",
       "| Ano |  1.00000000 |  0.02236586 |  0.050371225 |  0.01096172 |  0.12888737 |  0.2445672 | -0.034251879 | -0.08141031 |  0.02247053 |  0.20734596 |\n",
       "| Indice_felicidade |  0.02236586 |  1.00000000 |  0.789007821 |  0.71419311 |  0.75711629 |  0.5160062 |  0.188541730 | -0.43380056 |  0.53476358 | -0.31011272 |\n",
       "| PIB_per_capita |  0.05037122 |  0.78900782 |  1.000000000 |  0.70655046 |  0.86227595 |  0.3440583 | -0.008470999 | -0.33223842 |  0.29964156 | -0.24011205 |\n",
       "| Suporte_social |  0.01096172 |  0.71419311 |  0.706550456 |  1.00000000 |  0.62088952 |  0.4099891 |  0.064480877 | -0.22074476 |  0.45386308 | -0.43336714 |\n",
       "| Expectativa_vida |  0.12888737 |  0.75711629 |  0.862275954 |  0.62088952 |  1.00000000 |  0.3786709 |  0.032975384 | -0.33150124 |  0.32991905 | -0.16962055 |\n",
       "| Indicador_liberdade |  0.24456723 |  0.51600618 |  0.344058263 |  0.40998909 |  0.37867085 |  1.0000000 |  0.333592355 | -0.48157289 |  0.62355293 | -0.28090352 |\n",
       "| Indicador_generosidade | -0.03425188 |  0.18854173 | -0.008470999 |  0.06448088 |  0.03297538 |  0.3335924 |  1.000000000 | -0.29779956 |  0.36830152 | -0.08727321 |\n",
       "| Indicador_corrupcao | -0.08141031 | -0.43380056 | -0.332238416 | -0.22074476 | -0.33150124 | -0.4815729 | -0.297799559 |  1.00000000 | -0.29986176 |  0.27840008 |\n",
       "| Afeto_positivo |  0.02247053 |  0.53476358 |  0.299641559 |  0.45386308 |  0.32991905 |  0.6235529 |  0.368301521 | -0.29986176 |  1.00000000 | -0.36854356 |\n",
       "| Afeto_negativo |  0.20734596 | -0.31011272 | -0.240112048 | -0.43336714 | -0.16962055 | -0.2809035 | -0.087273212 |  0.27840008 | -0.36854356 |  1.00000000 |\n",
       "\n"
      ],
      "text/plain": [
       "                       Ano         Indice_felicidade PIB_per_capita\n",
       "Ano                     1.00000000  0.02236586        0.050371225  \n",
       "Indice_felicidade       0.02236586  1.00000000        0.789007821  \n",
       "PIB_per_capita          0.05037122  0.78900782        1.000000000  \n",
       "Suporte_social          0.01096172  0.71419311        0.706550456  \n",
       "Expectativa_vida        0.12888737  0.75711629        0.862275954  \n",
       "Indicador_liberdade     0.24456723  0.51600618        0.344058263  \n",
       "Indicador_generosidade -0.03425188  0.18854173       -0.008470999  \n",
       "Indicador_corrupcao    -0.08141031 -0.43380056       -0.332238416  \n",
       "Afeto_positivo          0.02247053  0.53476358        0.299641559  \n",
       "Afeto_negativo          0.20734596 -0.31011272       -0.240112048  \n",
       "                       Suporte_social Expectativa_vida Indicador_liberdade\n",
       "Ano                     0.01096172     0.12888737       0.2445672         \n",
       "Indice_felicidade       0.71419311     0.75711629       0.5160062         \n",
       "PIB_per_capita          0.70655046     0.86227595       0.3440583         \n",
       "Suporte_social          1.00000000     0.62088952       0.4099891         \n",
       "Expectativa_vida        0.62088952     1.00000000       0.3786709         \n",
       "Indicador_liberdade     0.40998909     0.37867085       1.0000000         \n",
       "Indicador_generosidade  0.06448088     0.03297538       0.3335924         \n",
       "Indicador_corrupcao    -0.22074476    -0.33150124      -0.4815729         \n",
       "Afeto_positivo          0.45386308     0.32991905       0.6235529         \n",
       "Afeto_negativo         -0.43336714    -0.16962055      -0.2809035         \n",
       "                       Indicador_generosidade Indicador_corrupcao\n",
       "Ano                    -0.034251879           -0.08141031        \n",
       "Indice_felicidade       0.188541730           -0.43380056        \n",
       "PIB_per_capita         -0.008470999           -0.33223842        \n",
       "Suporte_social          0.064480877           -0.22074476        \n",
       "Expectativa_vida        0.032975384           -0.33150124        \n",
       "Indicador_liberdade     0.333592355           -0.48157289        \n",
       "Indicador_generosidade  1.000000000           -0.29779956        \n",
       "Indicador_corrupcao    -0.297799559            1.00000000        \n",
       "Afeto_positivo          0.368301521           -0.29986176        \n",
       "Afeto_negativo         -0.087273212            0.27840008        \n",
       "                       Afeto_positivo Afeto_negativo\n",
       "Ano                     0.02247053     0.20734596   \n",
       "Indice_felicidade       0.53476358    -0.31011272   \n",
       "PIB_per_capita          0.29964156    -0.24011205   \n",
       "Suporte_social          0.45386308    -0.43336714   \n",
       "Expectativa_vida        0.32991905    -0.16962055   \n",
       "Indicador_liberdade     0.62355293    -0.28090352   \n",
       "Indicador_generosidade  0.36830152    -0.08727321   \n",
       "Indicador_corrupcao    -0.29986176     0.27840008   \n",
       "Afeto_positivo          1.00000000    -0.36854356   \n",
       "Afeto_negativo         -0.36854356     1.00000000   "
      ]
     },
     "metadata": {},
     "output_type": "display_data"
    }
   ],
   "source": [
    "matriz_cor <- cor(dados_numericos)\n",
    "matriz_cor"
   ]
  },
  {
   "cell_type": "code",
   "execution_count": 32,
   "id": "c825e4b4",
   "metadata": {},
   "outputs": [
    {
     "data": {
      "image/png": "[encoded data removed]",
      "text/plain": [
       "Plot with title \"\""
      ]
     },
     "metadata": {
      "image/png": {
       "height": 420,
       "width": 420
      }
     },
     "output_type": "display_data"
    }
   ],
   "source": [
    "corrplot(matriz_cor, method = 'color', type = 'upper', addCoef.col = 'springgreen2', tl.col = \"black\", tl.srt = 45) "
   ]
  },
  {
   "cell_type": "markdown",
   "id": "ffc56211",
   "metadata": {},
   "source": [
    "## Perguntas de negócios:\n",
    "\n",
    "- Para facilitar a visualização e exploração vamos agrupar os dados por país, infelizmente neste processo os dados por ano serão perdidos, mas como não estamos analisando dados socioeconômicos por ano, podemos utilizar esta abordagem:"
   ]
  },
  {
   "cell_type": "code",
   "execution_count": 33,
   "id": "37f83bff",
   "metadata": {},
   "outputs": [],
   "source": [
    "# Agrupando os dados e calculando média por país\n",
    "pib_pais <- dados %>%\n",
    "  group_by(Pais) %>% #Agrupando os dados com base na coluna pais\n",
    "  summarize(PIB_per_capita = mean(PIB_per_capita)) #criando uma coluna chamada PIB_Per_Capita com a media da coluna ja existente"
   ]
  },
  {
   "cell_type": "code",
   "execution_count": 34,
   "id": "0352dc98",
   "metadata": {},
   "outputs": [
    {
     "data": {
      "text/html": [
       "<table class=\"dataframe\">\n",
       "<caption>A tibble: 6 × 2</caption>\n",
       "<thead>\n",
       "\t<tr><th scope=col>Pais</th><th scope=col>PIB_per_capita</th></tr>\n",
       "\t<tr><th scope=col>&lt;chr&gt;</th><th scope=col>&lt;dbl&gt;</th></tr>\n",
       "</thead>\n",
       "<tbody>\n",
       "\t<tr><td>Afghanistan</td><td> 7.650833</td></tr>\n",
       "\t<tr><td>Albania    </td><td> 9.396182</td></tr>\n",
       "\t<tr><td>Algeria    </td><td> 9.329400</td></tr>\n",
       "\t<tr><td>Angola     </td><td> 8.990000</td></tr>\n",
       "\t<tr><td>Argentina  </td><td>10.058083</td></tr>\n",
       "\t<tr><td>Armenia    </td><td> 9.296667</td></tr>\n",
       "</tbody>\n",
       "</table>\n"
      ],
      "text/latex": [
       "A tibble: 6 × 2\n",
       "\\begin{tabular}{ll}\n",
       " Pais & PIB\\_per\\_capita\\\\\n",
       " <chr> & <dbl>\\\\\n",
       "\\hline\n",
       "\t Afghanistan &  7.650833\\\\\n",
       "\t Albania     &  9.396182\\\\\n",
       "\t Algeria     &  9.329400\\\\\n",
       "\t Angola      &  8.990000\\\\\n",
       "\t Argentina   & 10.058083\\\\\n",
       "\t Armenia     &  9.296667\\\\\n",
       "\\end{tabular}\n"
      ],
      "text/markdown": [
       "\n",
       "A tibble: 6 × 2\n",
       "\n",
       "| Pais &lt;chr&gt; | PIB_per_capita &lt;dbl&gt; |\n",
       "|---|---|\n",
       "| Afghanistan |  7.650833 |\n",
       "| Albania     |  9.396182 |\n",
       "| Algeria     |  9.329400 |\n",
       "| Angola      |  8.990000 |\n",
       "| Argentina   | 10.058083 |\n",
       "| Armenia     |  9.296667 |\n",
       "\n"
      ],
      "text/plain": [
       "  Pais        PIB_per_capita\n",
       "1 Afghanistan  7.650833     \n",
       "2 Albania      9.396182     \n",
       "3 Algeria      9.329400     \n",
       "4 Angola       8.990000     \n",
       "5 Argentina   10.058083     \n",
       "6 Armenia      9.296667     "
      ]
     },
     "metadata": {},
     "output_type": "display_data"
    }
   ],
   "source": [
    "head(pib_pais)"
   ]
  },
  {
   "cell_type": "code",
   "execution_count": 35,
   "id": "cb7aae01",
   "metadata": {},
   "outputs": [
    {
     "data": {
      "text/html": [
       "<table class=\"dataframe\">\n",
       "<caption>A tibble: 6 × 2</caption>\n",
       "<thead>\n",
       "\t<tr><th scope=col>Pais</th><th scope=col>Indice_felicidade</th></tr>\n",
       "\t<tr><th scope=col>&lt;chr&gt;</th><th scope=col>&lt;dbl&gt;</th></tr>\n",
       "</thead>\n",
       "<tbody>\n",
       "\t<tr><td>Afghanistan</td><td>3.594667</td></tr>\n",
       "\t<tr><td>Albania    </td><td>5.023000</td></tr>\n",
       "\t<tr><td>Algeria    </td><td>5.191800</td></tr>\n",
       "\t<tr><td>Angola     </td><td>4.420250</td></tr>\n",
       "\t<tr><td>Argentina  </td><td>6.363750</td></tr>\n",
       "\t<tr><td>Armenia    </td><td>4.501583</td></tr>\n",
       "</tbody>\n",
       "</table>\n"
      ],
      "text/latex": [
       "A tibble: 6 × 2\n",
       "\\begin{tabular}{ll}\n",
       " Pais & Indice\\_felicidade\\\\\n",
       " <chr> & <dbl>\\\\\n",
       "\\hline\n",
       "\t Afghanistan & 3.594667\\\\\n",
       "\t Albania     & 5.023000\\\\\n",
       "\t Algeria     & 5.191800\\\\\n",
       "\t Angola      & 4.420250\\\\\n",
       "\t Argentina   & 6.363750\\\\\n",
       "\t Armenia     & 4.501583\\\\\n",
       "\\end{tabular}\n"
      ],
      "text/markdown": [
       "\n",
       "A tibble: 6 × 2\n",
       "\n",
       "| Pais &lt;chr&gt; | Indice_felicidade &lt;dbl&gt; |\n",
       "|---|---|\n",
       "| Afghanistan | 3.594667 |\n",
       "| Albania     | 5.023000 |\n",
       "| Algeria     | 5.191800 |\n",
       "| Angola      | 4.420250 |\n",
       "| Argentina   | 6.363750 |\n",
       "| Armenia     | 4.501583 |\n",
       "\n"
      ],
      "text/plain": [
       "  Pais        Indice_felicidade\n",
       "1 Afghanistan 3.594667         \n",
       "2 Albania     5.023000         \n",
       "3 Algeria     5.191800         \n",
       "4 Angola      4.420250         \n",
       "5 Argentina   6.363750         \n",
       "6 Armenia     4.501583         "
      ]
     },
     "metadata": {},
     "output_type": "display_data"
    }
   ],
   "source": [
    "Indice_felicidade_pais <- dados %>% group_by(Pais) %>% summarize(Indice_felicidade = mean(Indice_felicidade))\n",
    "head(Indice_felicidade_pais)"
   ]
  },
  {
   "cell_type": "code",
   "execution_count": 36,
   "id": "3dbb7f89",
   "metadata": {},
   "outputs": [
    {
     "data": {
      "text/html": [
       "<table class=\"dataframe\">\n",
       "<caption>A tibble: 6 × 2</caption>\n",
       "<thead>\n",
       "\t<tr><th scope=col>Pais</th><th scope=col>Suporte_social</th></tr>\n",
       "\t<tr><th scope=col>&lt;chr&gt;</th><th scope=col>&lt;dbl&gt;</th></tr>\n",
       "</thead>\n",
       "<tbody>\n",
       "\t<tr><td>Afghanistan</td><td>0.5084167</td></tr>\n",
       "\t<tr><td>Albania    </td><td>0.7072727</td></tr>\n",
       "\t<tr><td>Algeria    </td><td>0.8116000</td></tr>\n",
       "\t<tr><td>Angola     </td><td>0.7382500</td></tr>\n",
       "\t<tr><td>Argentina  </td><td>0.9057500</td></tr>\n",
       "\t<tr><td>Armenia    </td><td>0.7181667</td></tr>\n",
       "</tbody>\n",
       "</table>\n"
      ],
      "text/latex": [
       "A tibble: 6 × 2\n",
       "\\begin{tabular}{ll}\n",
       " Pais & Suporte\\_social\\\\\n",
       " <chr> & <dbl>\\\\\n",
       "\\hline\n",
       "\t Afghanistan & 0.5084167\\\\\n",
       "\t Albania     & 0.7072727\\\\\n",
       "\t Algeria     & 0.8116000\\\\\n",
       "\t Angola      & 0.7382500\\\\\n",
       "\t Argentina   & 0.9057500\\\\\n",
       "\t Armenia     & 0.7181667\\\\\n",
       "\\end{tabular}\n"
      ],
      "text/markdown": [
       "\n",
       "A tibble: 6 × 2\n",
       "\n",
       "| Pais &lt;chr&gt; | Suporte_social &lt;dbl&gt; |\n",
       "|---|---|\n",
       "| Afghanistan | 0.5084167 |\n",
       "| Albania     | 0.7072727 |\n",
       "| Algeria     | 0.8116000 |\n",
       "| Angola      | 0.7382500 |\n",
       "| Argentina   | 0.9057500 |\n",
       "| Armenia     | 0.7181667 |\n",
       "\n"
      ],
      "text/plain": [
       "  Pais        Suporte_social\n",
       "1 Afghanistan 0.5084167     \n",
       "2 Albania     0.7072727     \n",
       "3 Algeria     0.8116000     \n",
       "4 Angola      0.7382500     \n",
       "5 Argentina   0.9057500     \n",
       "6 Armenia     0.7181667     "
      ]
     },
     "metadata": {},
     "output_type": "display_data"
    }
   ],
   "source": [
    "supor_social_pais <- dados %>% group_by(Pais) %>% summarize(Suporte_social = mean(Suporte_social))\n",
    "head(supor_social_pais)"
   ]
  },
  {
   "cell_type": "code",
   "execution_count": 37,
   "id": "5ba83ab8",
   "metadata": {},
   "outputs": [
    {
     "data": {
      "text/html": [
       "<table class=\"dataframe\">\n",
       "<caption>A tibble: 6 × 2</caption>\n",
       "<thead>\n",
       "\t<tr><th scope=col>Pais</th><th scope=col>Expectativa_vida</th></tr>\n",
       "\t<tr><th scope=col>&lt;chr&gt;</th><th scope=col>&lt;dbl&gt;</th></tr>\n",
       "</thead>\n",
       "<tbody>\n",
       "\t<tr><td>Afghanistan</td><td>52.26667</td></tr>\n",
       "\t<tr><td>Albania    </td><td>67.54545</td></tr>\n",
       "\t<tr><td>Algeria    </td><td>65.43600</td></tr>\n",
       "\t<tr><td>Angola     </td><td>53.55000</td></tr>\n",
       "\t<tr><td>Argentina  </td><td>67.96167</td></tr>\n",
       "\t<tr><td>Armenia    </td><td>65.89167</td></tr>\n",
       "</tbody>\n",
       "</table>\n"
      ],
      "text/latex": [
       "A tibble: 6 × 2\n",
       "\\begin{tabular}{ll}\n",
       " Pais & Expectativa\\_vida\\\\\n",
       " <chr> & <dbl>\\\\\n",
       "\\hline\n",
       "\t Afghanistan & 52.26667\\\\\n",
       "\t Albania     & 67.54545\\\\\n",
       "\t Algeria     & 65.43600\\\\\n",
       "\t Angola      & 53.55000\\\\\n",
       "\t Argentina   & 67.96167\\\\\n",
       "\t Armenia     & 65.89167\\\\\n",
       "\\end{tabular}\n"
      ],
      "text/markdown": [
       "\n",
       "A tibble: 6 × 2\n",
       "\n",
       "| Pais &lt;chr&gt; | Expectativa_vida &lt;dbl&gt; |\n",
       "|---|---|\n",
       "| Afghanistan | 52.26667 |\n",
       "| Albania     | 67.54545 |\n",
       "| Algeria     | 65.43600 |\n",
       "| Angola      | 53.55000 |\n",
       "| Argentina   | 67.96167 |\n",
       "| Armenia     | 65.89167 |\n",
       "\n"
      ],
      "text/plain": [
       "  Pais        Expectativa_vida\n",
       "1 Afghanistan 52.26667        \n",
       "2 Albania     67.54545        \n",
       "3 Algeria     65.43600        \n",
       "4 Angola      53.55000        \n",
       "5 Argentina   67.96167        \n",
       "6 Armenia     65.89167        "
      ]
     },
     "metadata": {},
     "output_type": "display_data"
    }
   ],
   "source": [
    "Expectativa_vida_pais <- dados %>% group_by(Pais) %>% summarize(Expectativa_vida = mean(Expectativa_vida))\n",
    "head(Expectativa_vida_pais)"
   ]
  },
  {
   "cell_type": "code",
   "execution_count": 38,
   "id": "3434f90d",
   "metadata": {},
   "outputs": [
    {
     "data": {
      "text/html": [
       "<table class=\"dataframe\">\n",
       "<caption>A tibble: 6 × 2</caption>\n",
       "<thead>\n",
       "\t<tr><th scope=col>Pais</th><th scope=col>Indicador_liberdade</th></tr>\n",
       "\t<tr><th scope=col>&lt;chr&gt;</th><th scope=col>&lt;dbl&gt;</th></tr>\n",
       "</thead>\n",
       "<tbody>\n",
       "\t<tr><td>Afghanistan</td><td>0.5181667</td></tr>\n",
       "\t<tr><td>Albania    </td><td>0.6668182</td></tr>\n",
       "\t<tr><td>Algeria    </td><td>0.5044000</td></tr>\n",
       "\t<tr><td>Angola     </td><td>0.4562500</td></tr>\n",
       "\t<tr><td>Argentina  </td><td>0.7761667</td></tr>\n",
       "\t<tr><td>Armenia    </td><td>0.5639167</td></tr>\n",
       "</tbody>\n",
       "</table>\n"
      ],
      "text/latex": [
       "A tibble: 6 × 2\n",
       "\\begin{tabular}{ll}\n",
       " Pais & Indicador\\_liberdade\\\\\n",
       " <chr> & <dbl>\\\\\n",
       "\\hline\n",
       "\t Afghanistan & 0.5181667\\\\\n",
       "\t Albania     & 0.6668182\\\\\n",
       "\t Algeria     & 0.5044000\\\\\n",
       "\t Angola      & 0.4562500\\\\\n",
       "\t Argentina   & 0.7761667\\\\\n",
       "\t Armenia     & 0.5639167\\\\\n",
       "\\end{tabular}\n"
      ],
      "text/markdown": [
       "\n",
       "A tibble: 6 × 2\n",
       "\n",
       "| Pais &lt;chr&gt; | Indicador_liberdade &lt;dbl&gt; |\n",
       "|---|---|\n",
       "| Afghanistan | 0.5181667 |\n",
       "| Albania     | 0.6668182 |\n",
       "| Algeria     | 0.5044000 |\n",
       "| Angola      | 0.4562500 |\n",
       "| Argentina   | 0.7761667 |\n",
       "| Armenia     | 0.5639167 |\n",
       "\n"
      ],
      "text/plain": [
       "  Pais        Indicador_liberdade\n",
       "1 Afghanistan 0.5181667          \n",
       "2 Albania     0.6668182          \n",
       "3 Algeria     0.5044000          \n",
       "4 Angola      0.4562500          \n",
       "5 Argentina   0.7761667          \n",
       "6 Armenia     0.5639167          "
      ]
     },
     "metadata": {},
     "output_type": "display_data"
    }
   ],
   "source": [
    "Indicador_liberdade_pais <- dados %>% group_by(Pais) %>% summarize(Indicador_liberdade = mean(Indicador_liberdade))\n",
    "head(Indicador_liberdade_pais)"
   ]
  },
  {
   "cell_type": "code",
   "execution_count": 39,
   "id": "2c875643",
   "metadata": {},
   "outputs": [
    {
     "data": {
      "text/html": [
       "<table class=\"dataframe\">\n",
       "<caption>A tibble: 6 × 2</caption>\n",
       "<thead>\n",
       "\t<tr><th scope=col>Pais</th><th scope=col>Indicador_generosidade</th></tr>\n",
       "\t<tr><th scope=col>&lt;chr&gt;</th><th scope=col>&lt;dbl&gt;</th></tr>\n",
       "</thead>\n",
       "<tbody>\n",
       "\t<tr><td>Afghanistan</td><td> 0.07008333</td></tr>\n",
       "\t<tr><td>Albania    </td><td>-0.09754545</td></tr>\n",
       "\t<tr><td>Algeria    </td><td>-0.13220000</td></tr>\n",
       "\t<tr><td>Angola     </td><td>-0.08825000</td></tr>\n",
       "\t<tr><td>Argentina  </td><td>-0.16483333</td></tr>\n",
       "\t<tr><td>Armenia    </td><td>-0.19275000</td></tr>\n",
       "</tbody>\n",
       "</table>\n"
      ],
      "text/latex": [
       "A tibble: 6 × 2\n",
       "\\begin{tabular}{ll}\n",
       " Pais & Indicador\\_generosidade\\\\\n",
       " <chr> & <dbl>\\\\\n",
       "\\hline\n",
       "\t Afghanistan &  0.07008333\\\\\n",
       "\t Albania     & -0.09754545\\\\\n",
       "\t Algeria     & -0.13220000\\\\\n",
       "\t Angola      & -0.08825000\\\\\n",
       "\t Argentina   & -0.16483333\\\\\n",
       "\t Armenia     & -0.19275000\\\\\n",
       "\\end{tabular}\n"
      ],
      "text/markdown": [
       "\n",
       "A tibble: 6 × 2\n",
       "\n",
       "| Pais &lt;chr&gt; | Indicador_generosidade &lt;dbl&gt; |\n",
       "|---|---|\n",
       "| Afghanistan |  0.07008333 |\n",
       "| Albania     | -0.09754545 |\n",
       "| Algeria     | -0.13220000 |\n",
       "| Angola      | -0.08825000 |\n",
       "| Argentina   | -0.16483333 |\n",
       "| Armenia     | -0.19275000 |\n",
       "\n"
      ],
      "text/plain": [
       "  Pais        Indicador_generosidade\n",
       "1 Afghanistan  0.07008333           \n",
       "2 Albania     -0.09754545           \n",
       "3 Algeria     -0.13220000           \n",
       "4 Angola      -0.08825000           \n",
       "5 Argentina   -0.16483333           \n",
       "6 Armenia     -0.19275000           "
      ]
     },
     "metadata": {},
     "output_type": "display_data"
    }
   ],
   "source": [
    "Indicador_generosidade_pais <- dados %>% group_by(Pais) %>% summarize(Indicador_generosidade = mean(Indicador_generosidade))\n",
    "head(Indicador_generosidade_pais)"
   ]
  },
  {
   "cell_type": "code",
   "execution_count": 40,
   "id": "2d39c640",
   "metadata": {},
   "outputs": [
    {
     "data": {
      "text/html": [
       "<table class=\"dataframe\">\n",
       "<caption>A tibble: 6 × 2</caption>\n",
       "<thead>\n",
       "\t<tr><th scope=col>Pais</th><th scope=col>Indicador_corrupcao</th></tr>\n",
       "\t<tr><th scope=col>&lt;chr&gt;</th><th scope=col>&lt;dbl&gt;</th></tr>\n",
       "</thead>\n",
       "<tbody>\n",
       "\t<tr><td>Afghanistan</td><td>0.8433333</td></tr>\n",
       "\t<tr><td>Albania    </td><td>0.8669091</td></tr>\n",
       "\t<tr><td>Algeria    </td><td>0.7056000</td></tr>\n",
       "\t<tr><td>Angola     </td><td>0.8667500</td></tr>\n",
       "\t<tr><td>Argentina  </td><td>0.8401667</td></tr>\n",
       "\t<tr><td>Armenia    </td><td>0.8486667</td></tr>\n",
       "</tbody>\n",
       "</table>\n"
      ],
      "text/latex": [
       "A tibble: 6 × 2\n",
       "\\begin{tabular}{ll}\n",
       " Pais & Indicador\\_corrupcao\\\\\n",
       " <chr> & <dbl>\\\\\n",
       "\\hline\n",
       "\t Afghanistan & 0.8433333\\\\\n",
       "\t Albania     & 0.8669091\\\\\n",
       "\t Algeria     & 0.7056000\\\\\n",
       "\t Angola      & 0.8667500\\\\\n",
       "\t Argentina   & 0.8401667\\\\\n",
       "\t Armenia     & 0.8486667\\\\\n",
       "\\end{tabular}\n"
      ],
      "text/markdown": [
       "\n",
       "A tibble: 6 × 2\n",
       "\n",
       "| Pais &lt;chr&gt; | Indicador_corrupcao &lt;dbl&gt; |\n",
       "|---|---|\n",
       "| Afghanistan | 0.8433333 |\n",
       "| Albania     | 0.8669091 |\n",
       "| Algeria     | 0.7056000 |\n",
       "| Angola      | 0.8667500 |\n",
       "| Argentina   | 0.8401667 |\n",
       "| Armenia     | 0.8486667 |\n",
       "\n"
      ],
      "text/plain": [
       "  Pais        Indicador_corrupcao\n",
       "1 Afghanistan 0.8433333          \n",
       "2 Albania     0.8669091          \n",
       "3 Algeria     0.7056000          \n",
       "4 Angola      0.8667500          \n",
       "5 Argentina   0.8401667          \n",
       "6 Armenia     0.8486667          "
      ]
     },
     "metadata": {},
     "output_type": "display_data"
    }
   ],
   "source": [
    "Indicador_corrupcao_pais <- dados %>% group_by(Pais) %>% summarize(Indicador_corrupcao = mean(Indicador_corrupcao))\n",
    "head(Indicador_corrupcao_pais)"
   ]
  },
  {
   "cell_type": "code",
   "execution_count": 41,
   "id": "4ef86e3a",
   "metadata": {},
   "outputs": [
    {
     "data": {
      "text/html": [
       "<table class=\"dataframe\">\n",
       "<caption>A tibble: 6 × 2</caption>\n",
       "<thead>\n",
       "\t<tr><th scope=col>Pais</th><th scope=col>Afeto_positivo</th></tr>\n",
       "\t<tr><th scope=col>&lt;chr&gt;</th><th scope=col>&lt;dbl&gt;</th></tr>\n",
       "</thead>\n",
       "<tbody>\n",
       "\t<tr><td>Afghanistan</td><td>0.5486667</td></tr>\n",
       "\t<tr><td>Albania    </td><td>0.6607273</td></tr>\n",
       "\t<tr><td>Algeria    </td><td>0.5944000</td></tr>\n",
       "\t<tr><td>Angola     </td><td>0.6135000</td></tr>\n",
       "\t<tr><td>Argentina  </td><td>0.8404167</td></tr>\n",
       "\t<tr><td>Armenia    </td><td>0.5585000</td></tr>\n",
       "</tbody>\n",
       "</table>\n"
      ],
      "text/latex": [
       "A tibble: 6 × 2\n",
       "\\begin{tabular}{ll}\n",
       " Pais & Afeto\\_positivo\\\\\n",
       " <chr> & <dbl>\\\\\n",
       "\\hline\n",
       "\t Afghanistan & 0.5486667\\\\\n",
       "\t Albania     & 0.6607273\\\\\n",
       "\t Algeria     & 0.5944000\\\\\n",
       "\t Angola      & 0.6135000\\\\\n",
       "\t Argentina   & 0.8404167\\\\\n",
       "\t Armenia     & 0.5585000\\\\\n",
       "\\end{tabular}\n"
      ],
      "text/markdown": [
       "\n",
       "A tibble: 6 × 2\n",
       "\n",
       "| Pais &lt;chr&gt; | Afeto_positivo &lt;dbl&gt; |\n",
       "|---|---|\n",
       "| Afghanistan | 0.5486667 |\n",
       "| Albania     | 0.6607273 |\n",
       "| Algeria     | 0.5944000 |\n",
       "| Angola      | 0.6135000 |\n",
       "| Argentina   | 0.8404167 |\n",
       "| Armenia     | 0.5585000 |\n",
       "\n"
      ],
      "text/plain": [
       "  Pais        Afeto_positivo\n",
       "1 Afghanistan 0.5486667     \n",
       "2 Albania     0.6607273     \n",
       "3 Algeria     0.5944000     \n",
       "4 Angola      0.6135000     \n",
       "5 Argentina   0.8404167     \n",
       "6 Armenia     0.5585000     "
      ]
     },
     "metadata": {},
     "output_type": "display_data"
    }
   ],
   "source": [
    "Afeto_positivo_pais <- dados %>% group_by(Pais) %>% summarize(Afeto_positivo = mean(Afeto_positivo))\n",
    "head(Afeto_positivo_pais)"
   ]
  },
  {
   "cell_type": "code",
   "execution_count": 42,
   "id": "16deb545",
   "metadata": {},
   "outputs": [
    {
     "data": {
      "text/html": [
       "<table class=\"dataframe\">\n",
       "<caption>A tibble: 6 × 2</caption>\n",
       "<thead>\n",
       "\t<tr><th scope=col>Pais</th><th scope=col>Afeto_negativo</th></tr>\n",
       "\t<tr><th scope=col>&lt;chr&gt;</th><th scope=col>&lt;dbl&gt;</th></tr>\n",
       "</thead>\n",
       "<tbody>\n",
       "\t<tr><td>Afghanistan</td><td>0.3265000</td></tr>\n",
       "\t<tr><td>Albania    </td><td>0.3071818</td></tr>\n",
       "\t<tr><td>Algeria    </td><td>0.2564000</td></tr>\n",
       "\t<tr><td>Angola     </td><td>0.3512500</td></tr>\n",
       "\t<tr><td>Argentina  </td><td>0.2759167</td></tr>\n",
       "\t<tr><td>Armenia    </td><td>0.4330000</td></tr>\n",
       "</tbody>\n",
       "</table>\n"
      ],
      "text/latex": [
       "A tibble: 6 × 2\n",
       "\\begin{tabular}{ll}\n",
       " Pais & Afeto\\_negativo\\\\\n",
       " <chr> & <dbl>\\\\\n",
       "\\hline\n",
       "\t Afghanistan & 0.3265000\\\\\n",
       "\t Albania     & 0.3071818\\\\\n",
       "\t Algeria     & 0.2564000\\\\\n",
       "\t Angola      & 0.3512500\\\\\n",
       "\t Argentina   & 0.2759167\\\\\n",
       "\t Armenia     & 0.4330000\\\\\n",
       "\\end{tabular}\n"
      ],
      "text/markdown": [
       "\n",
       "A tibble: 6 × 2\n",
       "\n",
       "| Pais &lt;chr&gt; | Afeto_negativo &lt;dbl&gt; |\n",
       "|---|---|\n",
       "| Afghanistan | 0.3265000 |\n",
       "| Albania     | 0.3071818 |\n",
       "| Algeria     | 0.2564000 |\n",
       "| Angola      | 0.3512500 |\n",
       "| Argentina   | 0.2759167 |\n",
       "| Armenia     | 0.4330000 |\n",
       "\n"
      ],
      "text/plain": [
       "  Pais        Afeto_negativo\n",
       "1 Afghanistan 0.3265000     \n",
       "2 Albania     0.3071818     \n",
       "3 Algeria     0.2564000     \n",
       "4 Angola      0.3512500     \n",
       "5 Argentina   0.2759167     \n",
       "6 Armenia     0.4330000     "
      ]
     },
     "metadata": {},
     "output_type": "display_data"
    }
   ],
   "source": [
    "Afeto_negativo_pais <- dados %>% group_by(Pais) %>% summarize(Afeto_negativo = mean(Afeto_negativo))\n",
    "head(Afeto_negativo_pais)"
   ]
  },
  {
   "cell_type": "code",
   "execution_count": 43,
   "id": "77ce9b2b",
   "metadata": {},
   "outputs": [
    {
     "data": {
      "text/html": [
       "<table class=\"dataframe\">\n",
       "<caption>A data.frame: 6 × 10</caption>\n",
       "<thead>\n",
       "\t<tr><th></th><th scope=col>Pais</th><th scope=col>PIB_per_capita</th><th scope=col>Indice_felicidade</th><th scope=col>Suporte_social</th><th scope=col>Expectativa_vida</th><th scope=col>Indicador_liberdade</th><th scope=col>Indicador_generosidade</th><th scope=col>Indicador_corrupcao</th><th scope=col>Afeto_positivo</th><th scope=col>Afeto_negativo</th></tr>\n",
       "\t<tr><th></th><th scope=col>&lt;chr&gt;</th><th scope=col>&lt;dbl&gt;</th><th scope=col>&lt;dbl&gt;</th><th scope=col>&lt;dbl&gt;</th><th scope=col>&lt;dbl&gt;</th><th scope=col>&lt;dbl&gt;</th><th scope=col>&lt;dbl&gt;</th><th scope=col>&lt;dbl&gt;</th><th scope=col>&lt;dbl&gt;</th><th scope=col>&lt;dbl&gt;</th></tr>\n",
       "</thead>\n",
       "<tbody>\n",
       "\t<tr><th scope=row>1</th><td>Afghanistan</td><td> 7.650833</td><td>3.594667</td><td>0.5084167</td><td>52.26667</td><td>0.5181667</td><td> 0.07008333</td><td>0.8433333</td><td>0.5486667</td><td>0.3265000</td></tr>\n",
       "\t<tr><th scope=row>2</th><td>Albania    </td><td> 9.396182</td><td>5.023000</td><td>0.7072727</td><td>67.54545</td><td>0.6668182</td><td>-0.09754545</td><td>0.8669091</td><td>0.6607273</td><td>0.3071818</td></tr>\n",
       "\t<tr><th scope=row>3</th><td>Algeria    </td><td> 9.329400</td><td>5.191800</td><td>0.8116000</td><td>65.43600</td><td>0.5044000</td><td>-0.13220000</td><td>0.7056000</td><td>0.5944000</td><td>0.2564000</td></tr>\n",
       "\t<tr><th scope=row>4</th><td>Angola     </td><td> 8.990000</td><td>4.420250</td><td>0.7382500</td><td>53.55000</td><td>0.4562500</td><td>-0.08825000</td><td>0.8667500</td><td>0.6135000</td><td>0.3512500</td></tr>\n",
       "\t<tr><th scope=row>5</th><td>Argentina  </td><td>10.058083</td><td>6.363750</td><td>0.9057500</td><td>67.96167</td><td>0.7761667</td><td>-0.16483333</td><td>0.8401667</td><td>0.8404167</td><td>0.2759167</td></tr>\n",
       "\t<tr><th scope=row>6</th><td>Armenia    </td><td> 9.296667</td><td>4.501583</td><td>0.7181667</td><td>65.89167</td><td>0.5639167</td><td>-0.19275000</td><td>0.8486667</td><td>0.5585000</td><td>0.4330000</td></tr>\n",
       "</tbody>\n",
       "</table>\n"
      ],
      "text/latex": [
       "A data.frame: 6 × 10\n",
       "\\begin{tabular}{r|llllllllll}\n",
       "  & Pais & PIB\\_per\\_capita & Indice\\_felicidade & Suporte\\_social & Expectativa\\_vida & Indicador\\_liberdade & Indicador\\_generosidade & Indicador\\_corrupcao & Afeto\\_positivo & Afeto\\_negativo\\\\\n",
       "  & <chr> & <dbl> & <dbl> & <dbl> & <dbl> & <dbl> & <dbl> & <dbl> & <dbl> & <dbl>\\\\\n",
       "\\hline\n",
       "\t1 & Afghanistan &  7.650833 & 3.594667 & 0.5084167 & 52.26667 & 0.5181667 &  0.07008333 & 0.8433333 & 0.5486667 & 0.3265000\\\\\n",
       "\t2 & Albania     &  9.396182 & 5.023000 & 0.7072727 & 67.54545 & 0.6668182 & -0.09754545 & 0.8669091 & 0.6607273 & 0.3071818\\\\\n",
       "\t3 & Algeria     &  9.329400 & 5.191800 & 0.8116000 & 65.43600 & 0.5044000 & -0.13220000 & 0.7056000 & 0.5944000 & 0.2564000\\\\\n",
       "\t4 & Angola      &  8.990000 & 4.420250 & 0.7382500 & 53.55000 & 0.4562500 & -0.08825000 & 0.8667500 & 0.6135000 & 0.3512500\\\\\n",
       "\t5 & Argentina   & 10.058083 & 6.363750 & 0.9057500 & 67.96167 & 0.7761667 & -0.16483333 & 0.8401667 & 0.8404167 & 0.2759167\\\\\n",
       "\t6 & Armenia     &  9.296667 & 4.501583 & 0.7181667 & 65.89167 & 0.5639167 & -0.19275000 & 0.8486667 & 0.5585000 & 0.4330000\\\\\n",
       "\\end{tabular}\n"
      ],
      "text/markdown": [
       "\n",
       "A data.frame: 6 × 10\n",
       "\n",
       "| <!--/--> | Pais &lt;chr&gt; | PIB_per_capita &lt;dbl&gt; | Indice_felicidade &lt;dbl&gt; | Suporte_social &lt;dbl&gt; | Expectativa_vida &lt;dbl&gt; | Indicador_liberdade &lt;dbl&gt; | Indicador_generosidade &lt;dbl&gt; | Indicador_corrupcao &lt;dbl&gt; | Afeto_positivo &lt;dbl&gt; | Afeto_negativo &lt;dbl&gt; |\n",
       "|---|---|---|---|---|---|---|---|---|---|---|\n",
       "| 1 | Afghanistan |  7.650833 | 3.594667 | 0.5084167 | 52.26667 | 0.5181667 |  0.07008333 | 0.8433333 | 0.5486667 | 0.3265000 |\n",
       "| 2 | Albania     |  9.396182 | 5.023000 | 0.7072727 | 67.54545 | 0.6668182 | -0.09754545 | 0.8669091 | 0.6607273 | 0.3071818 |\n",
       "| 3 | Algeria     |  9.329400 | 5.191800 | 0.8116000 | 65.43600 | 0.5044000 | -0.13220000 | 0.7056000 | 0.5944000 | 0.2564000 |\n",
       "| 4 | Angola      |  8.990000 | 4.420250 | 0.7382500 | 53.55000 | 0.4562500 | -0.08825000 | 0.8667500 | 0.6135000 | 0.3512500 |\n",
       "| 5 | Argentina   | 10.058083 | 6.363750 | 0.9057500 | 67.96167 | 0.7761667 | -0.16483333 | 0.8401667 | 0.8404167 | 0.2759167 |\n",
       "| 6 | Armenia     |  9.296667 | 4.501583 | 0.7181667 | 65.89167 | 0.5639167 | -0.19275000 | 0.8486667 | 0.5585000 | 0.4330000 |\n",
       "\n"
      ],
      "text/plain": [
       "  Pais        PIB_per_capita Indice_felicidade Suporte_social Expectativa_vida\n",
       "1 Afghanistan  7.650833      3.594667          0.5084167      52.26667        \n",
       "2 Albania      9.396182      5.023000          0.7072727      67.54545        \n",
       "3 Algeria      9.329400      5.191800          0.8116000      65.43600        \n",
       "4 Angola       8.990000      4.420250          0.7382500      53.55000        \n",
       "5 Argentina   10.058083      6.363750          0.9057500      67.96167        \n",
       "6 Armenia      9.296667      4.501583          0.7181667      65.89167        \n",
       "  Indicador_liberdade Indicador_generosidade Indicador_corrupcao Afeto_positivo\n",
       "1 0.5181667            0.07008333            0.8433333           0.5486667     \n",
       "2 0.6668182           -0.09754545            0.8669091           0.6607273     \n",
       "3 0.5044000           -0.13220000            0.7056000           0.5944000     \n",
       "4 0.4562500           -0.08825000            0.8667500           0.6135000     \n",
       "5 0.7761667           -0.16483333            0.8401667           0.8404167     \n",
       "6 0.5639167           -0.19275000            0.8486667           0.5585000     \n",
       "  Afeto_negativo\n",
       "1 0.3265000     \n",
       "2 0.3071818     \n",
       "3 0.2564000     \n",
       "4 0.3512500     \n",
       "5 0.2759167     \n",
       "6 0.4330000     "
      ]
     },
     "metadata": {},
     "output_type": "display_data"
    },
    {
     "data": {
      "text/html": [
       "<style>\n",
       ".list-inline {list-style: none; margin:0; padding: 0}\n",
       ".list-inline>li {display: inline-block}\n",
       ".list-inline>li:not(:last-child)::after {content: \"\\00b7\"; padding: 0 .5ex}\n",
       "</style>\n",
       "<ol class=list-inline><li>154</li><li>10</li></ol>\n"
      ],
      "text/latex": [
       "\\begin{enumerate*}\n",
       "\\item 154\n",
       "\\item 10\n",
       "\\end{enumerate*}\n"
      ],
      "text/markdown": [
       "1. 154\n",
       "2. 10\n",
       "\n",
       "\n"
      ],
      "text/plain": [
       "[1] 154  10"
      ]
     },
     "metadata": {},
     "output_type": "display_data"
    }
   ],
   "source": [
    "#Combinando os dfs com a função merge\n",
    "dados_combinados <- merge(pib_pais, Indice_felicidade_pais)\n",
    "dados_combinados <- merge(dados_combinados, supor_social_pais)\n",
    "dados_combinados <- merge(dados_combinados, Expectativa_vida_pais)\n",
    "dados_combinados <- merge(dados_combinados, Indicador_liberdade_pais)\n",
    "dados_combinados <- merge(dados_combinados, Indicador_generosidade_pais)\n",
    "dados_combinados <- merge(dados_combinados, Indicador_corrupcao_pais)\n",
    "dados_combinados <- merge(dados_combinados, Afeto_positivo_pais)\n",
    "dados_combinados <- merge(dados_combinados, Afeto_negativo_pais)\n",
    "\n",
    "head(dados_combinados)\n",
    "dim(dados_combinados)"
   ]
  },
  {
   "cell_type": "code",
   "execution_count": 44,
   "id": "c81459cf",
   "metadata": {},
   "outputs": [],
   "source": [
    "# Remover os dataframes originais\n",
    "rm(pib_pais, Indice_felicidade_pais, supor_social_pais, Expectativa_vida_pais,\n",
    "   Indicador_liberdade_pais, Indicador_generosidade_pais, Indicador_corrupcao_pais,\n",
    "   Afeto_positivo_pais, Afeto_negativo_pais)"
   ]
  },
  {
   "cell_type": "markdown",
   "id": "aeb44173",
   "metadata": {},
   "source": [
    "### Pergunta 1:O aumento do PIB per capita de um país afeta positivamente a expectativa de vida dos cidadãos ao nascer?Qual a correlação entre essas duas variáveis?"
   ]
  },
  {
   "cell_type": "code",
   "execution_count": 45,
   "id": "480522ed",
   "metadata": {},
   "outputs": [
    {
     "data": {
      "image/png": "[encoded data removed]",
      "text/plain": [
       "plot without title"
      ]
     },
     "metadata": {
      "image/png": {
       "height": 420,
       "width": 420
      }
     },
     "output_type": "display_data"
    }
   ],
   "source": [
    "plot(dados_combinados$PIB_per_capita, dados_combinados$Expectativa_vida)"
   ]
  },
  {
   "cell_type": "markdown",
   "id": "a34d0b53",
   "metadata": {},
   "source": [
    "Analisando o gráfico, observa-se uma relação positiva entre o crescimento do Produto Interno Bruto (PIB) - representado pela variável x - e a expectativa de vida - representada pela variável y."
   ]
  },
  {
   "cell_type": "code",
   "execution_count": 46,
   "id": "6b246350",
   "metadata": {},
   "outputs": [
    {
     "data": {
      "text/plain": [
       "\n",
       "\tPearson's product-moment correlation\n",
       "\n",
       "data:  dados_combinados$PIB_per_capita and dados_combinados$Expectativa_vida\n",
       "t = 20.197, df = 152, p-value < 2.2e-16\n",
       "alternative hypothesis: true correlation is not equal to 0\n",
       "95 percent confidence interval:\n",
       " 0.8039014 0.8913678\n",
       "sample estimates:\n",
       "      cor \n",
       "0.8535384 \n"
      ]
     },
     "metadata": {},
     "output_type": "display_data"
    }
   ],
   "source": [
    "#fazendo um teste de correlação de Pearson,\n",
    "cor.test(dados_combinados$PIB_per_capita, dados_combinados$Expectativa_vida, method = 'pearson')"
   ]
  },
  {
   "cell_type": "markdown",
   "id": "8a6326d8",
   "metadata": {},
   "source": [
    "- Conforme descrito acima, o  valor-p é muito pequeno, indicando que a correlação observada é estatisticamente significativa.\n",
    "- Há uma confiança de 95% de que a verdadeira correlação entre as variáveis está entre 0.8039014 e 0.8913678.\n",
    "- E a correlação amostral é de aproximadamente 0.8535.\n",
    "- Desta forma, o resultado sugere que há uma forte correlação positiva (0.8535) entre as variáveis PIB_per_capita e Expectativa_vida no conjunto de dados. "
   ]
  },
  {
   "cell_type": "markdown",
   "id": "21aecf59",
   "metadata": {},
   "source": [
    "### Pergunta 2: Existe uma correlação entre a escala de vida e a conscientização do público em geral sobre a corrupção nos negócios e no governo? Qual a correlação entre essas duas variáveis?"
   ]
  },
  {
   "cell_type": "code",
   "execution_count": 47,
   "id": "2db0eb25",
   "metadata": {},
   "outputs": [
    {
     "data": {
      "image/png": "[encoded data removed]",
      "text/plain": [
       "plot without title"
      ]
     },
     "metadata": {
      "image/png": {
       "height": 420,
       "width": 420
      }
     },
     "output_type": "display_data"
    }
   ],
   "source": [
    "plot(dados_combinados$Indice_felicidade, dados_combinados$Indicador_corrupcao)"
   ]
  },
  {
   "cell_type": "code",
   "execution_count": 48,
   "id": "a3aac30e",
   "metadata": {},
   "outputs": [
    {
     "data": {
      "text/plain": [
       "\n",
       "\tPearson's product-moment correlation\n",
       "\n",
       "data:  dados_combinados$Expectativa_vida and dados_combinados$Indicador_corrupcao\n",
       "t = -4.147, df = 152, p-value = 5.583e-05\n",
       "alternative hypothesis: true correlation is not equal to 0\n",
       "95 percent confidence interval:\n",
       " -0.4540764 -0.1691819\n",
       "sample estimates:\n",
       "       cor \n",
       "-0.3188118 \n"
      ]
     },
     "metadata": {},
     "output_type": "display_data"
    }
   ],
   "source": [
    "cor.test(dados_combinados$Expectativa_vida, dados_combinados$Indicador_corrupcao, method = 'pearson')"
   ]
  },
  {
   "cell_type": "markdown",
   "id": "1e64de15",
   "metadata": {},
   "source": [
    "### Pergunta 3: O aumento na escala de vida tem algum efeito na média de felicidade entre o público em geral?Qual a correlação entre essas duas variáveis?"
   ]
  },
  {
   "cell_type": "code",
   "execution_count": 49,
   "id": "7efb854d",
   "metadata": {},
   "outputs": [
    {
     "data": {
      "image/png": "[encoded data removed]",
      "text/plain": [
       "plot without title"
      ]
     },
     "metadata": {
      "image/png": {
       "height": 420,
       "width": 420
      }
     },
     "output_type": "display_data"
    }
   ],
   "source": [
    "plot(dados$Indice_felicidade, dados$Afeto_positivo)"
   ]
  },
  {
   "cell_type": "code",
   "execution_count": 50,
   "id": "d25b0df4",
   "metadata": {},
   "outputs": [
    {
     "data": {
      "text/plain": [
       "\n",
       "\tPearson's product-moment correlation\n",
       "\n",
       "data:  dados$Indice_felicidade and dados$Afeto_positivo\n",
       "t = 24.148, df = 1456, p-value < 2.2e-16\n",
       "alternative hypothesis: true correlation is not equal to 0\n",
       "95 percent confidence interval:\n",
       " 0.4970724 0.5704405\n",
       "sample estimates:\n",
       "      cor \n",
       "0.5347636 \n"
      ]
     },
     "metadata": {},
     "output_type": "display_data"
    }
   ],
   "source": [
    "cor.test(dados$Indice_felicidade, dados$Afeto_positivo, method= 'pearson')"
   ]
  },
  {
   "cell_type": "markdown",
   "id": "1675cc2d",
   "metadata": {},
   "source": [
    "### Pergunta 4: O país com o menor índice de suporte social tem maior percepção de corrupção em relação às empresas e ao governo no país?"
   ]
  },
  {
   "cell_type": "code",
   "execution_count": 51,
   "id": "44699c6b",
   "metadata": {},
   "outputs": [
    {
     "data": {
      "text/html": [
       "<table class=\"dataframe\">\n",
       "<caption>A data.frame: 1 × 10</caption>\n",
       "<thead>\n",
       "\t<tr><th></th><th scope=col>Pais</th><th scope=col>PIB_per_capita</th><th scope=col>Indice_felicidade</th><th scope=col>Suporte_social</th><th scope=col>Expectativa_vida</th><th scope=col>Indicador_liberdade</th><th scope=col>Indicador_generosidade</th><th scope=col>Indicador_corrupcao</th><th scope=col>Afeto_positivo</th><th scope=col>Afeto_negativo</th></tr>\n",
       "\t<tr><th></th><th scope=col>&lt;chr&gt;</th><th scope=col>&lt;dbl&gt;</th><th scope=col>&lt;dbl&gt;</th><th scope=col>&lt;dbl&gt;</th><th scope=col>&lt;dbl&gt;</th><th scope=col>&lt;dbl&gt;</th><th scope=col>&lt;dbl&gt;</th><th scope=col>&lt;dbl&gt;</th><th scope=col>&lt;dbl&gt;</th><th scope=col>&lt;dbl&gt;</th></tr>\n",
       "</thead>\n",
       "<tbody>\n",
       "\t<tr><th scope=row>27</th><td>Central African Republic</td><td>6.9545</td><td>3.35375</td><td>0.37</td><td>43.97</td><td>0.68475</td><td>0.0135</td><td>0.857</td><td>0.56</td><td>0.40675</td></tr>\n",
       "</tbody>\n",
       "</table>\n"
      ],
      "text/latex": [
       "A data.frame: 1 × 10\n",
       "\\begin{tabular}{r|llllllllll}\n",
       "  & Pais & PIB\\_per\\_capita & Indice\\_felicidade & Suporte\\_social & Expectativa\\_vida & Indicador\\_liberdade & Indicador\\_generosidade & Indicador\\_corrupcao & Afeto\\_positivo & Afeto\\_negativo\\\\\n",
       "  & <chr> & <dbl> & <dbl> & <dbl> & <dbl> & <dbl> & <dbl> & <dbl> & <dbl> & <dbl>\\\\\n",
       "\\hline\n",
       "\t27 & Central African Republic & 6.9545 & 3.35375 & 0.37 & 43.97 & 0.68475 & 0.0135 & 0.857 & 0.56 & 0.40675\\\\\n",
       "\\end{tabular}\n"
      ],
      "text/markdown": [
       "\n",
       "A data.frame: 1 × 10\n",
       "\n",
       "| <!--/--> | Pais &lt;chr&gt; | PIB_per_capita &lt;dbl&gt; | Indice_felicidade &lt;dbl&gt; | Suporte_social &lt;dbl&gt; | Expectativa_vida &lt;dbl&gt; | Indicador_liberdade &lt;dbl&gt; | Indicador_generosidade &lt;dbl&gt; | Indicador_corrupcao &lt;dbl&gt; | Afeto_positivo &lt;dbl&gt; | Afeto_negativo &lt;dbl&gt; |\n",
       "|---|---|---|---|---|---|---|---|---|---|---|\n",
       "| 27 | Central African Republic | 6.9545 | 3.35375 | 0.37 | 43.97 | 0.68475 | 0.0135 | 0.857 | 0.56 | 0.40675 |\n",
       "\n"
      ],
      "text/plain": [
       "   Pais                     PIB_per_capita Indice_felicidade Suporte_social\n",
       "27 Central African Republic 6.9545         3.35375           0.37          \n",
       "   Expectativa_vida Indicador_liberdade Indicador_generosidade\n",
       "27 43.97            0.68475             0.0135                \n",
       "   Indicador_corrupcao Afeto_positivo Afeto_negativo\n",
       "27 0.857               0.56           0.40675       "
      ]
     },
     "metadata": {},
     "output_type": "display_data"
    }
   ],
   "source": [
    "#Procurando o indice com menor valor da coluna suporte social\n",
    "pais_suporte <- dados_combinados[which.min(dados_combinados$Suporte_social), ]\n",
    "pais_suporte"
   ]
  },
  {
   "cell_type": "code",
   "execution_count": 52,
   "id": "3752043f",
   "metadata": {},
   "outputs": [
    {
     "data": {
      "text/html": [
       "0.953272727272727"
      ],
      "text/latex": [
       "0.953272727272727"
      ],
      "text/markdown": [
       "0.953272727272727"
      ],
      "text/plain": [
       "[1] 0.9532727"
      ]
     },
     "metadata": {},
     "output_type": "display_data"
    },
    {
     "data": {
      "text/html": [
       "0.100909090909091"
      ],
      "text/latex": [
       "0.100909090909091"
      ],
      "text/markdown": [
       "0.100909090909091"
      ],
      "text/plain": [
       "[1] 0.1009091"
      ]
     },
     "metadata": {},
     "output_type": "display_data"
    }
   ],
   "source": [
    "max(dados_combinados$Indicador_corrupcao)\n",
    "min(dados_combinados$Indicador_corrupcao)"
   ]
  },
  {
   "cell_type": "markdown",
   "id": "5ebaa94a",
   "metadata": {},
   "source": [
    "Conforme observado anteriormente, o país que registra o menor índice de suporte social também exibe uma percepção de corrupção significativamente elevada, embora não alcance o valor máximo, permanece bastante próximo desse patamar."
   ]
  },
  {
   "cell_type": "markdown",
   "id": "8eae6deb",
   "metadata": {},
   "source": [
    "### Pergunta 5: Pessoas generosas são mais felizes?"
   ]
  },
  {
   "cell_type": "code",
   "execution_count": 53,
   "id": "6d2bd98f",
   "metadata": {},
   "outputs": [
    {
     "data": {
      "image/png": "[encoded data removed]",
      "text/plain": [
       "plot without title"
      ]
     },
     "metadata": {
      "image/png": {
       "height": 420,
       "width": 420
      }
     },
     "output_type": "display_data"
    }
   ],
   "source": [
    "plot(dados_combinados$Indicador_generosidade, dados_combinados$Afeto_positivo)"
   ]
  },
  {
   "cell_type": "code",
   "execution_count": 54,
   "id": "44ccb265",
   "metadata": {},
   "outputs": [
    {
     "data": {
      "text/plain": [
       "\n",
       "\tPearson's product-moment correlation\n",
       "\n",
       "data:  dados_combinados$Indicador_generosidade and dados_combinados$Afeto_positivo\n",
       "t = 5.4193, df = 152, p-value = 2.299e-07\n",
       "alternative hypothesis: true correlation is not equal to 0\n",
       "95 percent confidence interval:\n",
       " 0.2608430 0.5270213\n",
       "sample estimates:\n",
       "      cor \n",
       "0.4024025 \n"
      ]
     },
     "metadata": {},
     "output_type": "display_data"
    }
   ],
   "source": [
    "cor.test(dados_combinados$Indicador_generosidade, dados_combinados$Afeto_positivo, method = 'pearson')"
   ]
  }
 ],
 "metadata": {
  "kernelspec": {
   "display_name": "R",
   "language": "R",
   "name": "ir"
  },
  "language_info": {
   "codemirror_mode": "r",
   "file_extension": ".r",
   "mimetype": "text/x-r-source",
   "name": "R",
   "pygments_lexer": "r",
   "version": "4.2.2"
  }
 },
 "nbformat": 4,
 "nbformat_minor": 5
}
