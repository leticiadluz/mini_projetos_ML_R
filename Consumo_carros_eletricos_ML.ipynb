{
 "cells": [
  {
   "cell_type": "markdown",
   "id": "0ef25b6a",
   "metadata": {},
   "source": [
    "## Prevendo o Consumo de Energia de Carros Elétricos\n",
    "\n",
    "### Uma empresa da área de transporte e logística deseja migrar sua frota para carros elétricos com o objetivo de reduzir os custos. Antes de tomar a decisão, a empresa gostaria de prever o consumo de energia de carros elétricos com base em diversos fatores de utilização e características dos veículos.\n",
    "\n",
    "**Desta forma, iremos construir um modelo de Machine Learning capaz de prever o consumo de energia de carros elétricos com base em diversos fatores, tais como o tipo e número de motores elétricos do veículo, o peso do veículo, a capacidade de carga, entre outros atributos.**\n",
    "\n",
    "- O conjunto de dados lista todos os carros totalmente elétricos com seus atributos (propriedades) disponíveis atualmente no mercado. A coleção não contém dados sobre carros híbridos e carros elétricos dos chamados “extensores de alcance”. Os carros a hidrogênio também não foram incluídos no conjunto de dados devido ao número insuficiente de modelos produzidos em massa e à especificidade diferente (em comparação com veículo elétrico) do veículo, incluindo os diferentes métodos de carregamento.\n",
    " - O conjunto de dados inclui carros que, a partir de 2 de dezembro de 2020, poderiam ser adquiridos na Polônia como novos em um revendedor autorizado e aqueles disponíveis em pré-venda pública e geral, mas apenas se uma lista de preços publicamente disponível com versões de equipamentos e parâmetros técnicos completos estivesse disponível. A lista não inclui carros descontinuados que não podem ser adquiridos como novos de um revendedor autorizado (também quando não estão disponíveis em estoque).\n",
    "- O conjunto de dados de carros elétricos inclui todos os carros totalmente elétricos no mercado primário que foram obtidos de materiais oficiais (especificações técnicas e catálogos) fornecidos por fabricantes de automóveis com licença para vender carros na Polônia. Esses materiais foram baixados de seus sites oficiais. Caso os dados fornecidos pelo fabricante estivessem incompletos, as informações eram complementadas com dados do AutoCatálogo SAMAR.\n",
    "- A base de dados composta por 53 carros elétricos (cada variante de um modelo – que difere em termos de capacidade da bateria, potência do motor, etc. – é tratada como separada) e 22 variáveis (25 variáveis, incluindo marca, modelo e “nome do carro” mesclando estes dois anteriores).\n",
    "- O Dataset está disponível em: https://data.mendeley.com/datasets/tb9yrptydn/2"
   ]
  },
  {
   "cell_type": "code",
   "execution_count": 1,
   "id": "9fe00306",
   "metadata": {},
   "outputs": [
    {
     "name": "stderr",
     "output_type": "stream",
     "text": [
      "Warning message:\n",
      "\"package 'readxl' was built under R version 4.2.3\"\n",
      "Warning message:\n",
      "\"package 'dplyr' was built under R version 4.2.3\"\n",
      "\n",
      "Attaching package: 'dplyr'\n",
      "\n",
      "\n",
      "The following objects are masked from 'package:stats':\n",
      "\n",
      "    filter, lag\n",
      "\n",
      "\n",
      "The following objects are masked from 'package:base':\n",
      "\n",
      "    intersect, setdiff, setequal, union\n",
      "\n",
      "\n",
      "Warning message:\n",
      "\"package 'randomForest' was built under R version 4.2.3\"\n",
      "randomForest 4.7-1.1\n",
      "\n",
      "Type rfNews() to see new features/changes/bug fixes.\n",
      "\n",
      "\n",
      "Attaching package: 'randomForest'\n",
      "\n",
      "\n",
      "The following object is masked from 'package:dplyr':\n",
      "\n",
      "    combine\n",
      "\n",
      "\n",
      "Warning message:\n",
      "\"package 'ggplot2' was built under R version 4.2.3\"\n",
      "\n",
      "Attaching package: 'ggplot2'\n",
      "\n",
      "\n",
      "The following object is masked from 'package:randomForest':\n",
      "\n",
      "    margin\n",
      "\n",
      "\n",
      "Warning message:\n",
      "\"package 'caTools' was built under R version 4.2.3\"\n"
     ]
    }
   ],
   "source": [
    "# Carregando a biblioteca readxl para leitura do arquivo\n",
    "library(readxl)\n",
    "# Para manipulação dos dados\n",
    "library(dplyr)\n",
    "# Modelo randomForest para criar um plot de importância das variáveis\n",
    "library(randomForest)\n",
    "# Para criação de gráficos\n",
    "library(ggplot2)\n",
    "# Divide os dados em dados de teste e treino\n",
    "library(caTools)"
   ]
  },
  {
   "cell_type": "code",
   "execution_count": 2,
   "id": "fc1b2746",
   "metadata": {},
   "outputs": [
    {
     "data": {
      "text/html": [
       "<table class=\"dataframe\">\n",
       "<caption>A tibble: 6 × 25</caption>\n",
       "<thead>\n",
       "\t<tr><th scope=col>Car full name</th><th scope=col>Make</th><th scope=col>Model</th><th scope=col>Minimal price (gross) [PLN]</th><th scope=col>Engine power [KM]</th><th scope=col>Maximum torque [Nm]</th><th scope=col>Type of brakes</th><th scope=col>Drive type</th><th scope=col>Battery capacity [kWh]</th><th scope=col>Range (WLTP) [km]</th><th scope=col>⋯</th><th scope=col>Permissable gross weight [kg]</th><th scope=col>Maximum load capacity [kg]</th><th scope=col>Number of seats</th><th scope=col>Number of doors</th><th scope=col>Tire size [in]</th><th scope=col>Maximum speed [kph]</th><th scope=col>Boot capacity (VDA) [l]</th><th scope=col>Acceleration 0-100 kph [s]</th><th scope=col>Maximum DC charging power [kW]</th><th scope=col>mean - Energy consumption [kWh/100 km]</th></tr>\n",
       "\t<tr><th scope=col>&lt;chr&gt;</th><th scope=col>&lt;chr&gt;</th><th scope=col>&lt;chr&gt;</th><th scope=col>&lt;dbl&gt;</th><th scope=col>&lt;dbl&gt;</th><th scope=col>&lt;dbl&gt;</th><th scope=col>&lt;chr&gt;</th><th scope=col>&lt;chr&gt;</th><th scope=col>&lt;dbl&gt;</th><th scope=col>&lt;dbl&gt;</th><th scope=col>⋯</th><th scope=col>&lt;dbl&gt;</th><th scope=col>&lt;dbl&gt;</th><th scope=col>&lt;dbl&gt;</th><th scope=col>&lt;dbl&gt;</th><th scope=col>&lt;dbl&gt;</th><th scope=col>&lt;dbl&gt;</th><th scope=col>&lt;dbl&gt;</th><th scope=col>&lt;dbl&gt;</th><th scope=col>&lt;dbl&gt;</th><th scope=col>&lt;dbl&gt;</th></tr>\n",
       "</thead>\n",
       "<tbody>\n",
       "\t<tr><td>Audi e-tron 55 quattro          </td><td>Audi</td><td>e-tron 55 quattro          </td><td>345700</td><td>360</td><td>664</td><td>disc (front + rear)</td><td>4WD</td><td>95</td><td>438</td><td>⋯</td><td>3130</td><td>640</td><td>5</td><td>5</td><td>19</td><td>200</td><td>660</td><td>5.7</td><td>150</td><td>24.45</td></tr>\n",
       "\t<tr><td>Audi e-tron 50 quattro          </td><td>Audi</td><td>e-tron 50 quattro          </td><td>308400</td><td>313</td><td>540</td><td>disc (front + rear)</td><td>4WD</td><td>71</td><td>340</td><td>⋯</td><td>3040</td><td>670</td><td>5</td><td>5</td><td>19</td><td>190</td><td>660</td><td>6.8</td><td>150</td><td>23.80</td></tr>\n",
       "\t<tr><td>Audi e-tron S quattro           </td><td>Audi</td><td>e-tron S quattro           </td><td>414900</td><td>503</td><td>973</td><td>disc (front + rear)</td><td>4WD</td><td>95</td><td>364</td><td>⋯</td><td>3130</td><td>565</td><td>5</td><td>5</td><td>20</td><td>210</td><td>660</td><td>4.5</td><td>150</td><td>27.55</td></tr>\n",
       "\t<tr><td>Audi e-tron Sportback 50 quattro</td><td>Audi</td><td>e-tron Sportback 50 quattro</td><td>319700</td><td>313</td><td>540</td><td>disc (front + rear)</td><td>4WD</td><td>71</td><td>346</td><td>⋯</td><td>3040</td><td>640</td><td>5</td><td>5</td><td>19</td><td>190</td><td>615</td><td>6.8</td><td>150</td><td>23.30</td></tr>\n",
       "\t<tr><td>Audi e-tron Sportback 55 quattro</td><td>Audi</td><td>e-tron Sportback 55 quattro</td><td>357000</td><td>360</td><td>664</td><td>disc (front + rear)</td><td>4WD</td><td>95</td><td>447</td><td>⋯</td><td>3130</td><td>670</td><td>5</td><td>5</td><td>19</td><td>200</td><td>615</td><td>5.7</td><td>150</td><td>23.85</td></tr>\n",
       "\t<tr><td>Audi e-tron Sportback S quattro </td><td>Audi</td><td>e-tron Sportback S quattro </td><td>426200</td><td>503</td><td>973</td><td>disc (front + rear)</td><td>4WD</td><td>95</td><td>369</td><td>⋯</td><td>3130</td><td>565</td><td>5</td><td>5</td><td>20</td><td>210</td><td>615</td><td>4.5</td><td>150</td><td>27.20</td></tr>\n",
       "</tbody>\n",
       "</table>\n"
      ],
      "text/latex": [
       "A tibble: 6 × 25\n",
       "\\begin{tabular}{lllllllllllllllllllll}\n",
       " Car full name & Make & Model & Minimal price (gross) {[}PLN{]} & Engine power {[}KM{]} & Maximum torque {[}Nm{]} & Type of brakes & Drive type & Battery capacity {[}kWh{]} & Range (WLTP) {[}km{]} & ⋯ & Permissable gross weight {[}kg{]} & Maximum load capacity {[}kg{]} & Number of seats & Number of doors & Tire size {[}in{]} & Maximum speed {[}kph{]} & Boot capacity (VDA) {[}l{]} & Acceleration 0-100 kph {[}s{]} & Maximum DC charging power {[}kW{]} & mean - Energy consumption {[}kWh/100 km{]}\\\\\n",
       " <chr> & <chr> & <chr> & <dbl> & <dbl> & <dbl> & <chr> & <chr> & <dbl> & <dbl> & ⋯ & <dbl> & <dbl> & <dbl> & <dbl> & <dbl> & <dbl> & <dbl> & <dbl> & <dbl> & <dbl>\\\\\n",
       "\\hline\n",
       "\t Audi e-tron 55 quattro           & Audi & e-tron 55 quattro           & 345700 & 360 & 664 & disc (front + rear) & 4WD & 95 & 438 & ⋯ & 3130 & 640 & 5 & 5 & 19 & 200 & 660 & 5.7 & 150 & 24.45\\\\\n",
       "\t Audi e-tron 50 quattro           & Audi & e-tron 50 quattro           & 308400 & 313 & 540 & disc (front + rear) & 4WD & 71 & 340 & ⋯ & 3040 & 670 & 5 & 5 & 19 & 190 & 660 & 6.8 & 150 & 23.80\\\\\n",
       "\t Audi e-tron S quattro            & Audi & e-tron S quattro            & 414900 & 503 & 973 & disc (front + rear) & 4WD & 95 & 364 & ⋯ & 3130 & 565 & 5 & 5 & 20 & 210 & 660 & 4.5 & 150 & 27.55\\\\\n",
       "\t Audi e-tron Sportback 50 quattro & Audi & e-tron Sportback 50 quattro & 319700 & 313 & 540 & disc (front + rear) & 4WD & 71 & 346 & ⋯ & 3040 & 640 & 5 & 5 & 19 & 190 & 615 & 6.8 & 150 & 23.30\\\\\n",
       "\t Audi e-tron Sportback 55 quattro & Audi & e-tron Sportback 55 quattro & 357000 & 360 & 664 & disc (front + rear) & 4WD & 95 & 447 & ⋯ & 3130 & 670 & 5 & 5 & 19 & 200 & 615 & 5.7 & 150 & 23.85\\\\\n",
       "\t Audi e-tron Sportback S quattro  & Audi & e-tron Sportback S quattro  & 426200 & 503 & 973 & disc (front + rear) & 4WD & 95 & 369 & ⋯ & 3130 & 565 & 5 & 5 & 20 & 210 & 615 & 4.5 & 150 & 27.20\\\\\n",
       "\\end{tabular}\n"
      ],
      "text/markdown": [
       "\n",
       "A tibble: 6 × 25\n",
       "\n",
       "| Car full name &lt;chr&gt; | Make &lt;chr&gt; | Model &lt;chr&gt; | Minimal price (gross) [PLN] &lt;dbl&gt; | Engine power [KM] &lt;dbl&gt; | Maximum torque [Nm] &lt;dbl&gt; | Type of brakes &lt;chr&gt; | Drive type &lt;chr&gt; | Battery capacity [kWh] &lt;dbl&gt; | Range (WLTP) [km] &lt;dbl&gt; | ⋯ ⋯ | Permissable gross weight [kg] &lt;dbl&gt; | Maximum load capacity [kg] &lt;dbl&gt; | Number of seats &lt;dbl&gt; | Number of doors &lt;dbl&gt; | Tire size [in] &lt;dbl&gt; | Maximum speed [kph] &lt;dbl&gt; | Boot capacity (VDA) [l] &lt;dbl&gt; | Acceleration 0-100 kph [s] &lt;dbl&gt; | Maximum DC charging power [kW] &lt;dbl&gt; | mean - Energy consumption [kWh/100 km] &lt;dbl&gt; |\n",
       "|---|---|---|---|---|---|---|---|---|---|---|---|---|---|---|---|---|---|---|---|---|\n",
       "| Audi e-tron 55 quattro           | Audi | e-tron 55 quattro           | 345700 | 360 | 664 | disc (front + rear) | 4WD | 95 | 438 | ⋯ | 3130 | 640 | 5 | 5 | 19 | 200 | 660 | 5.7 | 150 | 24.45 |\n",
       "| Audi e-tron 50 quattro           | Audi | e-tron 50 quattro           | 308400 | 313 | 540 | disc (front + rear) | 4WD | 71 | 340 | ⋯ | 3040 | 670 | 5 | 5 | 19 | 190 | 660 | 6.8 | 150 | 23.80 |\n",
       "| Audi e-tron S quattro            | Audi | e-tron S quattro            | 414900 | 503 | 973 | disc (front + rear) | 4WD | 95 | 364 | ⋯ | 3130 | 565 | 5 | 5 | 20 | 210 | 660 | 4.5 | 150 | 27.55 |\n",
       "| Audi e-tron Sportback 50 quattro | Audi | e-tron Sportback 50 quattro | 319700 | 313 | 540 | disc (front + rear) | 4WD | 71 | 346 | ⋯ | 3040 | 640 | 5 | 5 | 19 | 190 | 615 | 6.8 | 150 | 23.30 |\n",
       "| Audi e-tron Sportback 55 quattro | Audi | e-tron Sportback 55 quattro | 357000 | 360 | 664 | disc (front + rear) | 4WD | 95 | 447 | ⋯ | 3130 | 670 | 5 | 5 | 19 | 200 | 615 | 5.7 | 150 | 23.85 |\n",
       "| Audi e-tron Sportback S quattro  | Audi | e-tron Sportback S quattro  | 426200 | 503 | 973 | disc (front + rear) | 4WD | 95 | 369 | ⋯ | 3130 | 565 | 5 | 5 | 20 | 210 | 615 | 4.5 | 150 | 27.20 |\n",
       "\n"
      ],
      "text/plain": [
       "  Car full name                    Make Model                      \n",
       "1 Audi e-tron 55 quattro           Audi e-tron 55 quattro          \n",
       "2 Audi e-tron 50 quattro           Audi e-tron 50 quattro          \n",
       "3 Audi e-tron S quattro            Audi e-tron S quattro           \n",
       "4 Audi e-tron Sportback 50 quattro Audi e-tron Sportback 50 quattro\n",
       "5 Audi e-tron Sportback 55 quattro Audi e-tron Sportback 55 quattro\n",
       "6 Audi e-tron Sportback S quattro  Audi e-tron Sportback S quattro \n",
       "  Minimal price (gross) [PLN] Engine power [KM] Maximum torque [Nm]\n",
       "1 345700                      360               664                \n",
       "2 308400                      313               540                \n",
       "3 414900                      503               973                \n",
       "4 319700                      313               540                \n",
       "5 357000                      360               664                \n",
       "6 426200                      503               973                \n",
       "  Type of brakes      Drive type Battery capacity [kWh] Range (WLTP) [km] ⋯\n",
       "1 disc (front + rear) 4WD        95                     438               ⋯\n",
       "2 disc (front + rear) 4WD        71                     340               ⋯\n",
       "3 disc (front + rear) 4WD        95                     364               ⋯\n",
       "4 disc (front + rear) 4WD        71                     346               ⋯\n",
       "5 disc (front + rear) 4WD        95                     447               ⋯\n",
       "6 disc (front + rear) 4WD        95                     369               ⋯\n",
       "  Permissable gross weight [kg] Maximum load capacity [kg] Number of seats\n",
       "1 3130                          640                        5              \n",
       "2 3040                          670                        5              \n",
       "3 3130                          565                        5              \n",
       "4 3040                          640                        5              \n",
       "5 3130                          670                        5              \n",
       "6 3130                          565                        5              \n",
       "  Number of doors Tire size [in] Maximum speed [kph] Boot capacity (VDA) [l]\n",
       "1 5               19             200                 660                    \n",
       "2 5               19             190                 660                    \n",
       "3 5               20             210                 660                    \n",
       "4 5               19             190                 615                    \n",
       "5 5               19             200                 615                    \n",
       "6 5               20             210                 615                    \n",
       "  Acceleration 0-100 kph [s] Maximum DC charging power [kW]\n",
       "1 5.7                        150                           \n",
       "2 6.8                        150                           \n",
       "3 4.5                        150                           \n",
       "4 6.8                        150                           \n",
       "5 5.7                        150                           \n",
       "6 4.5                        150                           \n",
       "  mean - Energy consumption [kWh/100 km]\n",
       "1 24.45                                 \n",
       "2 23.80                                 \n",
       "3 27.55                                 \n",
       "4 23.30                                 \n",
       "5 23.85                                 \n",
       "6 27.20                                 "
      ]
     },
     "metadata": {},
     "output_type": "display_data"
    },
    {
     "data": {
      "text/html": [
       "<style>\n",
       ".list-inline {list-style: none; margin:0; padding: 0}\n",
       ".list-inline>li {display: inline-block}\n",
       ".list-inline>li:not(:last-child)::after {content: \"\\00b7\"; padding: 0 .5ex}\n",
       "</style>\n",
       "<ol class=list-inline><li>53</li><li>25</li></ol>\n"
      ],
      "text/latex": [
       "\\begin{enumerate*}\n",
       "\\item 53\n",
       "\\item 25\n",
       "\\end{enumerate*}\n"
      ],
      "text/markdown": [
       "1. 53\n",
       "2. 25\n",
       "\n",
       "\n"
      ],
      "text/plain": [
       "[1] 53 25"
      ]
     },
     "metadata": {},
     "output_type": "display_data"
    }
   ],
   "source": [
    "# leitura do arquivo com a biblioteca readxl\n",
    "dados <- read_xlsx('FEV-data-Excel.xlsx')\n",
    "\n",
    "# Visualização dos dados e dimensões\n",
    "head(dados)\n",
    "dim(dados)"
   ]
  },
  {
   "cell_type": "code",
   "execution_count": 3,
   "id": "963c3922",
   "metadata": {},
   "outputs": [
    {
     "name": "stdout",
     "output_type": "stream",
     "text": [
      "Rows: 53\n",
      "Columns: 25\n",
      "$ `Car full name`                          \u001b[3m\u001b[90m<chr>\u001b[39m\u001b[23m \"Audi e-tron 55 quattro\", \"Au…\n",
      "$ Make                                     \u001b[3m\u001b[90m<chr>\u001b[39m\u001b[23m \"Audi\", \"Audi\", \"Audi\", \"Audi…\n",
      "$ Model                                    \u001b[3m\u001b[90m<chr>\u001b[39m\u001b[23m \"e-tron 55 quattro\", \"e-tron …\n",
      "$ `Minimal price (gross) [PLN]`            \u001b[3m\u001b[90m<dbl>\u001b[39m\u001b[23m 345700, 308400, 414900, 31970…\n",
      "$ `Engine power [KM]`                      \u001b[3m\u001b[90m<dbl>\u001b[39m\u001b[23m 360, 313, 503, 313, 360, 503,…\n",
      "$ `Maximum torque [Nm]`                    \u001b[3m\u001b[90m<dbl>\u001b[39m\u001b[23m 664, 540, 973, 540, 664, 973,…\n",
      "$ `Type of brakes`                         \u001b[3m\u001b[90m<chr>\u001b[39m\u001b[23m \"disc (front + rear)\", \"disc …\n",
      "$ `Drive type`                             \u001b[3m\u001b[90m<chr>\u001b[39m\u001b[23m \"4WD\", \"4WD\", \"4WD\", \"4WD\", \"…\n",
      "$ `Battery capacity [kWh]`                 \u001b[3m\u001b[90m<dbl>\u001b[39m\u001b[23m 95.0, 71.0, 95.0, 71.0, 95.0,…\n",
      "$ `Range (WLTP) [km]`                      \u001b[3m\u001b[90m<dbl>\u001b[39m\u001b[23m 438, 340, 364, 346, 447, 369,…\n",
      "$ `Wheelbase [cm]`                         \u001b[3m\u001b[90m<dbl>\u001b[39m\u001b[23m 292.8, 292.8, 292.8, 292.8, 2…\n",
      "$ `Length [cm]`                            \u001b[3m\u001b[90m<dbl>\u001b[39m\u001b[23m 490.1, 490.1, 490.2, 490.1, 4…\n",
      "$ `Width [cm]`                             \u001b[3m\u001b[90m<dbl>\u001b[39m\u001b[23m 193.5, 193.5, 197.6, 193.5, 1…\n",
      "$ `Height [cm]`                            \u001b[3m\u001b[90m<dbl>\u001b[39m\u001b[23m 162.9, 162.9, 162.9, 161.6, 1…\n",
      "$ `Minimal empty weight [kg]`              \u001b[3m\u001b[90m<dbl>\u001b[39m\u001b[23m 2565, 2445, 2695, 2445, 2595,…\n",
      "$ `Permissable gross weight [kg]`          \u001b[3m\u001b[90m<dbl>\u001b[39m\u001b[23m 3130, 3040, 3130, 3040, 3130,…\n",
      "$ `Maximum load capacity [kg]`             \u001b[3m\u001b[90m<dbl>\u001b[39m\u001b[23m 640, 670, 565, 640, 670, 565,…\n",
      "$ `Number of seats`                        \u001b[3m\u001b[90m<dbl>\u001b[39m\u001b[23m 5, 5, 5, 5, 5, 5, 4, 4, 5, 5,…\n",
      "$ `Number of doors`                        \u001b[3m\u001b[90m<dbl>\u001b[39m\u001b[23m 5, 5, 5, 5, 5, 5, 5, 5, 5, 5,…\n",
      "$ `Tire size [in]`                         \u001b[3m\u001b[90m<dbl>\u001b[39m\u001b[23m 19, 19, 20, 19, 19, 20, 19, 2…\n",
      "$ `Maximum speed [kph]`                    \u001b[3m\u001b[90m<dbl>\u001b[39m\u001b[23m 200, 190, 210, 190, 200, 210,…\n",
      "$ `Boot capacity (VDA) [l]`                \u001b[3m\u001b[90m<dbl>\u001b[39m\u001b[23m 660, 660, 660, 615, 615, 615,…\n",
      "$ `Acceleration 0-100 kph [s]`             \u001b[3m\u001b[90m<dbl>\u001b[39m\u001b[23m 5.7, 6.8, 4.5, 6.8, 5.7, 4.5,…\n",
      "$ `Maximum DC charging power [kW]`         \u001b[3m\u001b[90m<dbl>\u001b[39m\u001b[23m 150, 150, 150, 150, 150, 150,…\n",
      "$ `mean - Energy consumption [kWh/100 km]` \u001b[3m\u001b[90m<dbl>\u001b[39m\u001b[23m 24.45, 23.80, 27.55, 23.30, 2…\n"
     ]
    }
   ],
   "source": [
    "# Estrutura dos dados  com a biblioteca Dplyr\n",
    "glimpse(dados)"
   ]
  },
  {
   "cell_type": "markdown",
   "id": "4016ac51",
   "metadata": {},
   "source": [
    "### Dicionário de dados:\n",
    "- full name: Nome completo\n",
    "- Make: Fabricante\n",
    "- Model: Modelo\n",
    "- Minimal price (gross) [PLN]: Preço mínimo (bruto) [PLN]\n",
    "- Engine power [KM]: Potência do motor [KM]\n",
    "- Maximum torque [Nm]: Torque máximo [Nm]\n",
    "- Type of brakes: Tipo de freios\n",
    "- Drive type: Tipo de tração\n",
    "- Battery capacity [kWh]: Capacidade da bateria [kWh]\n",
    "- Range (WLTP) [km]: Autonomia (WLTP) [km]\n",
    "- Wheelbase [cm]: Distância entre eixos [cm]\n",
    "- Length [cm]: Comprimento [cm]\n",
    "- Width [cm]: Largura [cm] \n",
    "- Height [cm]: Altura [cm] \n",
    "- Minimal empty weight [kg]:Peso mínimo vazio [kg]  \n",
    "- Permissable gross weight [kg]: Peso bruto permitido [kg]\n",
    "- Maximum load capacity [kg]: Capacidade máxima de carga [kg]\n",
    "- Number of seats: Número de assentos\n",
    "- Number of doors: Número de portas\n",
    "- Tire size [in]: Tamanho dos pneus [pol.]\n",
    "- Maximum speed [kph]: Velocidade máxima [km/h]\n",
    "- Boot capacity (VDA) [l]: Capacidade do porta-malas (VDA) [litros]\n",
    "- Acceleration 0-100 kph [s]: Aceleração 0-100 km/h [s]\n",
    "- Maximum DC charging power [kW]: Potência máxima de carga CC [kW]\n",
    "- mean - Energy consumption [kWh/100 km]: Média - Consumo de energia [kWh/100 km]"
   ]
  },
  {
   "cell_type": "code",
   "execution_count": 4,
   "id": "f958dc33",
   "metadata": {},
   "outputs": [],
   "source": [
    "# Armazenando o DataFrame em uma nova variável pra realizar alterações\n",
    "dados_1 <- dados"
   ]
  },
  {
   "cell_type": "code",
   "execution_count": 5,
   "id": "d263ef6e",
   "metadata": {},
   "outputs": [],
   "source": [
    "# Criando um vetor para renomear as colunas:\n",
    "novos_nomes <- c('Nome', 'Fabricante', 'Modelo', 'Preco_minimo_bruto', 'Potencia_motor_km', 'Torque_maximo_nm', 'Tipo_freio',\n",
    "                'Tipo_tracao','Capacidade_bateria_kwh','Autonomia_km','Distancia_eixos_cm', 'Comprimento_cm','Largura_cm',\n",
    "                 'Altura_cm', 'Peso_minimo_vazio_kg','Peso_bruto_permitido_kg','Capacidade_máxima_carga_kg', 'Numero_assentos',\n",
    "                 'Numero_portas', 'Tamanho_pneus','Velocidade_maxima_kmh', 'Capacidade_porta_malas_L','Aceleracao_kmh', \n",
    "                 'Potencia_maxima_carga_kw', 'Consumo_energia_medio_kwh_100km')"
   ]
  },
  {
   "cell_type": "code",
   "execution_count": 6,
   "id": "fa23ad1b",
   "metadata": {},
   "outputs": [
    {
     "data": {
      "text/html": [
       "<table class=\"dataframe\">\n",
       "<caption>A tibble: 6 × 25</caption>\n",
       "<thead>\n",
       "\t<tr><th scope=col>Nome</th><th scope=col>Fabricante</th><th scope=col>Modelo</th><th scope=col>Preco_minimo_bruto</th><th scope=col>Potencia_motor_km</th><th scope=col>Torque_maximo_nm</th><th scope=col>Tipo_freio</th><th scope=col>Tipo_tracao</th><th scope=col>Capacidade_bateria_kwh</th><th scope=col>Autonomia_km</th><th scope=col>⋯</th><th scope=col>Peso_bruto_permitido_kg</th><th scope=col>Capacidade_máxima_carga_kg</th><th scope=col>Numero_assentos</th><th scope=col>Numero_portas</th><th scope=col>Tamanho_pneus</th><th scope=col>Velocidade_maxima_kmh</th><th scope=col>Capacidade_porta_malas_L</th><th scope=col>Aceleracao_kmh</th><th scope=col>Potencia_maxima_carga_kw</th><th scope=col>Consumo_energia_medio_kwh_100km</th></tr>\n",
       "\t<tr><th scope=col>&lt;chr&gt;</th><th scope=col>&lt;chr&gt;</th><th scope=col>&lt;chr&gt;</th><th scope=col>&lt;dbl&gt;</th><th scope=col>&lt;dbl&gt;</th><th scope=col>&lt;dbl&gt;</th><th scope=col>&lt;chr&gt;</th><th scope=col>&lt;chr&gt;</th><th scope=col>&lt;dbl&gt;</th><th scope=col>&lt;dbl&gt;</th><th scope=col>⋯</th><th scope=col>&lt;dbl&gt;</th><th scope=col>&lt;dbl&gt;</th><th scope=col>&lt;dbl&gt;</th><th scope=col>&lt;dbl&gt;</th><th scope=col>&lt;dbl&gt;</th><th scope=col>&lt;dbl&gt;</th><th scope=col>&lt;dbl&gt;</th><th scope=col>&lt;dbl&gt;</th><th scope=col>&lt;dbl&gt;</th><th scope=col>&lt;dbl&gt;</th></tr>\n",
       "</thead>\n",
       "<tbody>\n",
       "\t<tr><td>Audi e-tron 55 quattro          </td><td>Audi</td><td>e-tron 55 quattro          </td><td>345700</td><td>360</td><td>664</td><td>disc (front + rear)</td><td>4WD</td><td>95</td><td>438</td><td>⋯</td><td>3130</td><td>640</td><td>5</td><td>5</td><td>19</td><td>200</td><td>660</td><td>5.7</td><td>150</td><td>24.45</td></tr>\n",
       "\t<tr><td>Audi e-tron 50 quattro          </td><td>Audi</td><td>e-tron 50 quattro          </td><td>308400</td><td>313</td><td>540</td><td>disc (front + rear)</td><td>4WD</td><td>71</td><td>340</td><td>⋯</td><td>3040</td><td>670</td><td>5</td><td>5</td><td>19</td><td>190</td><td>660</td><td>6.8</td><td>150</td><td>23.80</td></tr>\n",
       "\t<tr><td>Audi e-tron S quattro           </td><td>Audi</td><td>e-tron S quattro           </td><td>414900</td><td>503</td><td>973</td><td>disc (front + rear)</td><td>4WD</td><td>95</td><td>364</td><td>⋯</td><td>3130</td><td>565</td><td>5</td><td>5</td><td>20</td><td>210</td><td>660</td><td>4.5</td><td>150</td><td>27.55</td></tr>\n",
       "\t<tr><td>Audi e-tron Sportback 50 quattro</td><td>Audi</td><td>e-tron Sportback 50 quattro</td><td>319700</td><td>313</td><td>540</td><td>disc (front + rear)</td><td>4WD</td><td>71</td><td>346</td><td>⋯</td><td>3040</td><td>640</td><td>5</td><td>5</td><td>19</td><td>190</td><td>615</td><td>6.8</td><td>150</td><td>23.30</td></tr>\n",
       "\t<tr><td>Audi e-tron Sportback 55 quattro</td><td>Audi</td><td>e-tron Sportback 55 quattro</td><td>357000</td><td>360</td><td>664</td><td>disc (front + rear)</td><td>4WD</td><td>95</td><td>447</td><td>⋯</td><td>3130</td><td>670</td><td>5</td><td>5</td><td>19</td><td>200</td><td>615</td><td>5.7</td><td>150</td><td>23.85</td></tr>\n",
       "\t<tr><td>Audi e-tron Sportback S quattro </td><td>Audi</td><td>e-tron Sportback S quattro </td><td>426200</td><td>503</td><td>973</td><td>disc (front + rear)</td><td>4WD</td><td>95</td><td>369</td><td>⋯</td><td>3130</td><td>565</td><td>5</td><td>5</td><td>20</td><td>210</td><td>615</td><td>4.5</td><td>150</td><td>27.20</td></tr>\n",
       "</tbody>\n",
       "</table>\n"
      ],
      "text/latex": [
       "A tibble: 6 × 25\n",
       "\\begin{tabular}{lllllllllllllllllllll}\n",
       " Nome & Fabricante & Modelo & Preco\\_minimo\\_bruto & Potencia\\_motor\\_km & Torque\\_maximo\\_nm & Tipo\\_freio & Tipo\\_tracao & Capacidade\\_bateria\\_kwh & Autonomia\\_km & ⋯ & Peso\\_bruto\\_permitido\\_kg & Capacidade\\_máxima\\_carga\\_kg & Numero\\_assentos & Numero\\_portas & Tamanho\\_pneus & Velocidade\\_maxima\\_kmh & Capacidade\\_porta\\_malas\\_L & Aceleracao\\_kmh & Potencia\\_maxima\\_carga\\_kw & Consumo\\_energia\\_medio\\_kwh\\_100km\\\\\n",
       " <chr> & <chr> & <chr> & <dbl> & <dbl> & <dbl> & <chr> & <chr> & <dbl> & <dbl> & ⋯ & <dbl> & <dbl> & <dbl> & <dbl> & <dbl> & <dbl> & <dbl> & <dbl> & <dbl> & <dbl>\\\\\n",
       "\\hline\n",
       "\t Audi e-tron 55 quattro           & Audi & e-tron 55 quattro           & 345700 & 360 & 664 & disc (front + rear) & 4WD & 95 & 438 & ⋯ & 3130 & 640 & 5 & 5 & 19 & 200 & 660 & 5.7 & 150 & 24.45\\\\\n",
       "\t Audi e-tron 50 quattro           & Audi & e-tron 50 quattro           & 308400 & 313 & 540 & disc (front + rear) & 4WD & 71 & 340 & ⋯ & 3040 & 670 & 5 & 5 & 19 & 190 & 660 & 6.8 & 150 & 23.80\\\\\n",
       "\t Audi e-tron S quattro            & Audi & e-tron S quattro            & 414900 & 503 & 973 & disc (front + rear) & 4WD & 95 & 364 & ⋯ & 3130 & 565 & 5 & 5 & 20 & 210 & 660 & 4.5 & 150 & 27.55\\\\\n",
       "\t Audi e-tron Sportback 50 quattro & Audi & e-tron Sportback 50 quattro & 319700 & 313 & 540 & disc (front + rear) & 4WD & 71 & 346 & ⋯ & 3040 & 640 & 5 & 5 & 19 & 190 & 615 & 6.8 & 150 & 23.30\\\\\n",
       "\t Audi e-tron Sportback 55 quattro & Audi & e-tron Sportback 55 quattro & 357000 & 360 & 664 & disc (front + rear) & 4WD & 95 & 447 & ⋯ & 3130 & 670 & 5 & 5 & 19 & 200 & 615 & 5.7 & 150 & 23.85\\\\\n",
       "\t Audi e-tron Sportback S quattro  & Audi & e-tron Sportback S quattro  & 426200 & 503 & 973 & disc (front + rear) & 4WD & 95 & 369 & ⋯ & 3130 & 565 & 5 & 5 & 20 & 210 & 615 & 4.5 & 150 & 27.20\\\\\n",
       "\\end{tabular}\n"
      ],
      "text/markdown": [
       "\n",
       "A tibble: 6 × 25\n",
       "\n",
       "| Nome &lt;chr&gt; | Fabricante &lt;chr&gt; | Modelo &lt;chr&gt; | Preco_minimo_bruto &lt;dbl&gt; | Potencia_motor_km &lt;dbl&gt; | Torque_maximo_nm &lt;dbl&gt; | Tipo_freio &lt;chr&gt; | Tipo_tracao &lt;chr&gt; | Capacidade_bateria_kwh &lt;dbl&gt; | Autonomia_km &lt;dbl&gt; | ⋯ ⋯ | Peso_bruto_permitido_kg &lt;dbl&gt; | Capacidade_máxima_carga_kg &lt;dbl&gt; | Numero_assentos &lt;dbl&gt; | Numero_portas &lt;dbl&gt; | Tamanho_pneus &lt;dbl&gt; | Velocidade_maxima_kmh &lt;dbl&gt; | Capacidade_porta_malas_L &lt;dbl&gt; | Aceleracao_kmh &lt;dbl&gt; | Potencia_maxima_carga_kw &lt;dbl&gt; | Consumo_energia_medio_kwh_100km &lt;dbl&gt; |\n",
       "|---|---|---|---|---|---|---|---|---|---|---|---|---|---|---|---|---|---|---|---|---|\n",
       "| Audi e-tron 55 quattro           | Audi | e-tron 55 quattro           | 345700 | 360 | 664 | disc (front + rear) | 4WD | 95 | 438 | ⋯ | 3130 | 640 | 5 | 5 | 19 | 200 | 660 | 5.7 | 150 | 24.45 |\n",
       "| Audi e-tron 50 quattro           | Audi | e-tron 50 quattro           | 308400 | 313 | 540 | disc (front + rear) | 4WD | 71 | 340 | ⋯ | 3040 | 670 | 5 | 5 | 19 | 190 | 660 | 6.8 | 150 | 23.80 |\n",
       "| Audi e-tron S quattro            | Audi | e-tron S quattro            | 414900 | 503 | 973 | disc (front + rear) | 4WD | 95 | 364 | ⋯ | 3130 | 565 | 5 | 5 | 20 | 210 | 660 | 4.5 | 150 | 27.55 |\n",
       "| Audi e-tron Sportback 50 quattro | Audi | e-tron Sportback 50 quattro | 319700 | 313 | 540 | disc (front + rear) | 4WD | 71 | 346 | ⋯ | 3040 | 640 | 5 | 5 | 19 | 190 | 615 | 6.8 | 150 | 23.30 |\n",
       "| Audi e-tron Sportback 55 quattro | Audi | e-tron Sportback 55 quattro | 357000 | 360 | 664 | disc (front + rear) | 4WD | 95 | 447 | ⋯ | 3130 | 670 | 5 | 5 | 19 | 200 | 615 | 5.7 | 150 | 23.85 |\n",
       "| Audi e-tron Sportback S quattro  | Audi | e-tron Sportback S quattro  | 426200 | 503 | 973 | disc (front + rear) | 4WD | 95 | 369 | ⋯ | 3130 | 565 | 5 | 5 | 20 | 210 | 615 | 4.5 | 150 | 27.20 |\n",
       "\n"
      ],
      "text/plain": [
       "  Nome                             Fabricante Modelo                     \n",
       "1 Audi e-tron 55 quattro           Audi       e-tron 55 quattro          \n",
       "2 Audi e-tron 50 quattro           Audi       e-tron 50 quattro          \n",
       "3 Audi e-tron S quattro            Audi       e-tron S quattro           \n",
       "4 Audi e-tron Sportback 50 quattro Audi       e-tron Sportback 50 quattro\n",
       "5 Audi e-tron Sportback 55 quattro Audi       e-tron Sportback 55 quattro\n",
       "6 Audi e-tron Sportback S quattro  Audi       e-tron Sportback S quattro \n",
       "  Preco_minimo_bruto Potencia_motor_km Torque_maximo_nm Tipo_freio         \n",
       "1 345700             360               664              disc (front + rear)\n",
       "2 308400             313               540              disc (front + rear)\n",
       "3 414900             503               973              disc (front + rear)\n",
       "4 319700             313               540              disc (front + rear)\n",
       "5 357000             360               664              disc (front + rear)\n",
       "6 426200             503               973              disc (front + rear)\n",
       "  Tipo_tracao Capacidade_bateria_kwh Autonomia_km ⋯ Peso_bruto_permitido_kg\n",
       "1 4WD         95                     438          ⋯ 3130                   \n",
       "2 4WD         71                     340          ⋯ 3040                   \n",
       "3 4WD         95                     364          ⋯ 3130                   \n",
       "4 4WD         71                     346          ⋯ 3040                   \n",
       "5 4WD         95                     447          ⋯ 3130                   \n",
       "6 4WD         95                     369          ⋯ 3130                   \n",
       "  Capacidade_máxima_carga_kg Numero_assentos Numero_portas Tamanho_pneus\n",
       "1 640                        5               5             19           \n",
       "2 670                        5               5             19           \n",
       "3 565                        5               5             20           \n",
       "4 640                        5               5             19           \n",
       "5 670                        5               5             19           \n",
       "6 565                        5               5             20           \n",
       "  Velocidade_maxima_kmh Capacidade_porta_malas_L Aceleracao_kmh\n",
       "1 200                   660                      5.7           \n",
       "2 190                   660                      6.8           \n",
       "3 210                   660                      4.5           \n",
       "4 190                   615                      6.8           \n",
       "5 200                   615                      5.7           \n",
       "6 210                   615                      4.5           \n",
       "  Potencia_maxima_carga_kw Consumo_energia_medio_kwh_100km\n",
       "1 150                      24.45                          \n",
       "2 150                      23.80                          \n",
       "3 150                      27.55                          \n",
       "4 150                      23.30                          \n",
       "5 150                      23.85                          \n",
       "6 150                      27.20                          "
      ]
     },
     "metadata": {},
     "output_type": "display_data"
    },
    {
     "data": {
      "text/html": [
       "<style>\n",
       ".list-inline {list-style: none; margin:0; padding: 0}\n",
       ".list-inline>li {display: inline-block}\n",
       ".list-inline>li:not(:last-child)::after {content: \"\\00b7\"; padding: 0 .5ex}\n",
       "</style>\n",
       "<ol class=list-inline><li>53</li><li>25</li></ol>\n"
      ],
      "text/latex": [
       "\\begin{enumerate*}\n",
       "\\item 53\n",
       "\\item 25\n",
       "\\end{enumerate*}\n"
      ],
      "text/markdown": [
       "1. 53\n",
       "2. 25\n",
       "\n",
       "\n"
      ],
      "text/plain": [
       "[1] 53 25"
      ]
     },
     "metadata": {},
     "output_type": "display_data"
    }
   ],
   "source": [
    "# Renomeando as colunas\n",
    "colnames(dados_1) <- novos_nomes\n",
    "\n",
    "# Visualização dos dados\n",
    "head(dados_1)\n",
    "dim(dados_1)"
   ]
  },
  {
   "cell_type": "code",
   "execution_count": 7,
   "id": "e1bb660a",
   "metadata": {},
   "outputs": [],
   "source": [
    "# Convertendo as colunas modelo, fabricante, tipo de freio, tração,  número de assentos e portas em fatores\n",
    "# Estas variáveis são consideradas categóricas porque representam características de cada veículo.\n",
    "dados_1$Modelo <- as.factor(dados_1$Modelo)\n",
    "dados_1$Fabricante <- as.factor(dados_1$Fabricante)\n",
    "dados_1$Tipo_freio <- as.factor(dados_1$Tipo_freio)\n",
    "dados_1$Tipo_tracao <- as.factor(dados_1$Tipo_tracao)\n",
    "dados_1$Numero_assentos <- as.factor(dados_1$Numero_assentos)\n",
    "dados_1$Numero_portas <- as.factor(dados_1$Numero_portas)"
   ]
  },
  {
   "cell_type": "code",
   "execution_count": 8,
   "id": "8f778575",
   "metadata": {},
   "outputs": [
    {
     "name": "stdout",
     "output_type": "stream",
     "text": [
      "tibble [53 × 25] (S3: tbl_df/tbl/data.frame)\n",
      " $ Nome                           : chr [1:53] \"Audi e-tron 55 quattro\" \"Audi e-tron 50 quattro\" \"Audi e-tron S quattro\" \"Audi e-tron Sportback 50 quattro\" ...\n",
      " $ Fabricante                     : Factor w/ 20 levels \"Audi\",\"BMW\",\"Citroën\",..: 1 1 1 1 1 1 2 2 2 3 ...\n",
      " $ Modelo                         : Factor w/ 53 levels \"Citigo-e iV\",..: 16 15 17 18 19 20 28 29 34 8 ...\n",
      " $ Preco_minimo_bruto             : num [1:53] 345700 308400 414900 319700 357000 ...\n",
      " $ Potencia_motor_km              : num [1:53] 360 313 503 313 360 503 170 184 286 136 ...\n",
      " $ Torque_maximo_nm               : num [1:53] 664 540 973 540 664 973 250 270 400 260 ...\n",
      " $ Tipo_freio                     : Factor w/ 2 levels \"disc (front + rear)\",..: 1 1 1 1 1 1 1 1 1 1 ...\n",
      " $ Tipo_tracao                    : Factor w/ 3 levels \"2WD (front)\",..: 3 3 3 3 3 3 2 2 2 1 ...\n",
      " $ Capacidade_bateria_kwh         : num [1:53] 95 71 95 71 95 95 42.2 42.2 80 50 ...\n",
      " $ Autonomia_km                   : num [1:53] 438 340 364 346 447 369 359 345 460 350 ...\n",
      " $ Distancia_eixos_cm             : num [1:53] 293 293 293 293 293 ...\n",
      " $ Comprimento_cm                 : num [1:53] 490 490 490 490 490 ...\n",
      " $ Largura_cm                     : num [1:53] 194 194 198 194 194 ...\n",
      " $ Altura_cm                      : num [1:53] 163 163 163 162 162 ...\n",
      " $ Peso_minimo_vazio_kg           : num [1:53] 2565 2445 2695 2445 2595 ...\n",
      " $ Peso_bruto_permitido_kg        : num [1:53] 3130 3040 3130 3040 3130 ...\n",
      " $ Capacidade_máxima_carga_kg     : num [1:53] 640 670 565 640 670 565 440 440 540 459 ...\n",
      " $ Numero_assentos                : Factor w/ 6 levels \"2\",\"4\",\"5\",\"6\",..: 3 3 3 3 3 3 2 2 3 3 ...\n",
      " $ Numero_portas                  : Factor w/ 3 levels \"3\",\"4\",\"5\": 3 3 3 3 3 3 3 3 3 3 ...\n",
      " $ Tamanho_pneus                  : num [1:53] 19 19 20 19 19 20 19 20 19 16 ...\n",
      " $ Velocidade_maxima_kmh          : num [1:53] 200 190 210 190 200 210 160 160 180 150 ...\n",
      " $ Capacidade_porta_malas_L       : num [1:53] 660 660 660 615 615 615 260 260 510 380 ...\n",
      " $ Aceleracao_kmh                 : num [1:53] 5.7 6.8 4.5 6.8 5.7 4.5 8.1 6.9 6.8 9.5 ...\n",
      " $ Potencia_maxima_carga_kw       : num [1:53] 150 150 150 150 150 150 50 50 150 100 ...\n",
      " $ Consumo_energia_medio_kwh_100km: num [1:53] 24.4 23.8 27.6 23.3 23.9 ...\n"
     ]
    }
   ],
   "source": [
    "#Estrutura dos dados\n",
    "str(dados_1)"
   ]
  },
  {
   "cell_type": "code",
   "execution_count": 9,
   "id": "aba573ec",
   "metadata": {},
   "outputs": [
    {
     "data": {
      "text/html": [
       "<table class=\"dataframe\">\n",
       "<caption>A data.frame: 25 × 1</caption>\n",
       "<thead>\n",
       "\t<tr><th></th><th scope=col>colSums.is.na.dados_1..</th></tr>\n",
       "\t<tr><th></th><th scope=col>&lt;dbl&gt;</th></tr>\n",
       "</thead>\n",
       "<tbody>\n",
       "\t<tr><th scope=row>Nome</th><td>0</td></tr>\n",
       "\t<tr><th scope=row>Fabricante</th><td>0</td></tr>\n",
       "\t<tr><th scope=row>Modelo</th><td>0</td></tr>\n",
       "\t<tr><th scope=row>Preco_minimo_bruto</th><td>0</td></tr>\n",
       "\t<tr><th scope=row>Potencia_motor_km</th><td>0</td></tr>\n",
       "\t<tr><th scope=row>Torque_maximo_nm</th><td>0</td></tr>\n",
       "\t<tr><th scope=row>Tipo_freio</th><td>1</td></tr>\n",
       "\t<tr><th scope=row>Tipo_tracao</th><td>0</td></tr>\n",
       "\t<tr><th scope=row>Capacidade_bateria_kwh</th><td>0</td></tr>\n",
       "\t<tr><th scope=row>Autonomia_km</th><td>0</td></tr>\n",
       "\t<tr><th scope=row>Distancia_eixos_cm</th><td>0</td></tr>\n",
       "\t<tr><th scope=row>Comprimento_cm</th><td>0</td></tr>\n",
       "\t<tr><th scope=row>Largura_cm</th><td>0</td></tr>\n",
       "\t<tr><th scope=row>Altura_cm</th><td>0</td></tr>\n",
       "\t<tr><th scope=row>Peso_minimo_vazio_kg</th><td>0</td></tr>\n",
       "\t<tr><th scope=row>Peso_bruto_permitido_kg</th><td>8</td></tr>\n",
       "\t<tr><th scope=row>Capacidade_máxima_carga_kg</th><td>8</td></tr>\n",
       "\t<tr><th scope=row>Numero_assentos</th><td>0</td></tr>\n",
       "\t<tr><th scope=row>Numero_portas</th><td>0</td></tr>\n",
       "\t<tr><th scope=row>Tamanho_pneus</th><td>0</td></tr>\n",
       "\t<tr><th scope=row>Velocidade_maxima_kmh</th><td>0</td></tr>\n",
       "\t<tr><th scope=row>Capacidade_porta_malas_L</th><td>1</td></tr>\n",
       "\t<tr><th scope=row>Aceleracao_kmh</th><td>3</td></tr>\n",
       "\t<tr><th scope=row>Potencia_maxima_carga_kw</th><td>0</td></tr>\n",
       "\t<tr><th scope=row>Consumo_energia_medio_kwh_100km</th><td>9</td></tr>\n",
       "</tbody>\n",
       "</table>\n"
      ],
      "text/latex": [
       "A data.frame: 25 × 1\n",
       "\\begin{tabular}{r|l}\n",
       "  & colSums.is.na.dados\\_1..\\\\\n",
       "  & <dbl>\\\\\n",
       "\\hline\n",
       "\tNome & 0\\\\\n",
       "\tFabricante & 0\\\\\n",
       "\tModelo & 0\\\\\n",
       "\tPreco\\_minimo\\_bruto & 0\\\\\n",
       "\tPotencia\\_motor\\_km & 0\\\\\n",
       "\tTorque\\_maximo\\_nm & 0\\\\\n",
       "\tTipo\\_freio & 1\\\\\n",
       "\tTipo\\_tracao & 0\\\\\n",
       "\tCapacidade\\_bateria\\_kwh & 0\\\\\n",
       "\tAutonomia\\_km & 0\\\\\n",
       "\tDistancia\\_eixos\\_cm & 0\\\\\n",
       "\tComprimento\\_cm & 0\\\\\n",
       "\tLargura\\_cm & 0\\\\\n",
       "\tAltura\\_cm & 0\\\\\n",
       "\tPeso\\_minimo\\_vazio\\_kg & 0\\\\\n",
       "\tPeso\\_bruto\\_permitido\\_kg & 8\\\\\n",
       "\tCapacidade\\_máxima\\_carga\\_kg & 8\\\\\n",
       "\tNumero\\_assentos & 0\\\\\n",
       "\tNumero\\_portas & 0\\\\\n",
       "\tTamanho\\_pneus & 0\\\\\n",
       "\tVelocidade\\_maxima\\_kmh & 0\\\\\n",
       "\tCapacidade\\_porta\\_malas\\_L & 1\\\\\n",
       "\tAceleracao\\_kmh & 3\\\\\n",
       "\tPotencia\\_maxima\\_carga\\_kw & 0\\\\\n",
       "\tConsumo\\_energia\\_medio\\_kwh\\_100km & 9\\\\\n",
       "\\end{tabular}\n"
      ],
      "text/markdown": [
       "\n",
       "A data.frame: 25 × 1\n",
       "\n",
       "| <!--/--> | colSums.is.na.dados_1.. &lt;dbl&gt; |\n",
       "|---|---|\n",
       "| Nome | 0 |\n",
       "| Fabricante | 0 |\n",
       "| Modelo | 0 |\n",
       "| Preco_minimo_bruto | 0 |\n",
       "| Potencia_motor_km | 0 |\n",
       "| Torque_maximo_nm | 0 |\n",
       "| Tipo_freio | 1 |\n",
       "| Tipo_tracao | 0 |\n",
       "| Capacidade_bateria_kwh | 0 |\n",
       "| Autonomia_km | 0 |\n",
       "| Distancia_eixos_cm | 0 |\n",
       "| Comprimento_cm | 0 |\n",
       "| Largura_cm | 0 |\n",
       "| Altura_cm | 0 |\n",
       "| Peso_minimo_vazio_kg | 0 |\n",
       "| Peso_bruto_permitido_kg | 8 |\n",
       "| Capacidade_máxima_carga_kg | 8 |\n",
       "| Numero_assentos | 0 |\n",
       "| Numero_portas | 0 |\n",
       "| Tamanho_pneus | 0 |\n",
       "| Velocidade_maxima_kmh | 0 |\n",
       "| Capacidade_porta_malas_L | 1 |\n",
       "| Aceleracao_kmh | 3 |\n",
       "| Potencia_maxima_carga_kw | 0 |\n",
       "| Consumo_energia_medio_kwh_100km | 9 |\n",
       "\n"
      ],
      "text/plain": [
       "                                colSums.is.na.dados_1..\n",
       "Nome                            0                      \n",
       "Fabricante                      0                      \n",
       "Modelo                          0                      \n",
       "Preco_minimo_bruto              0                      \n",
       "Potencia_motor_km               0                      \n",
       "Torque_maximo_nm                0                      \n",
       "Tipo_freio                      1                      \n",
       "Tipo_tracao                     0                      \n",
       "Capacidade_bateria_kwh          0                      \n",
       "Autonomia_km                    0                      \n",
       "Distancia_eixos_cm              0                      \n",
       "Comprimento_cm                  0                      \n",
       "Largura_cm                      0                      \n",
       "Altura_cm                       0                      \n",
       "Peso_minimo_vazio_kg            0                      \n",
       "Peso_bruto_permitido_kg         8                      \n",
       "Capacidade_máxima_carga_kg      8                      \n",
       "Numero_assentos                 0                      \n",
       "Numero_portas                   0                      \n",
       "Tamanho_pneus                   0                      \n",
       "Velocidade_maxima_kmh           0                      \n",
       "Capacidade_porta_malas_L        1                      \n",
       "Aceleracao_kmh                  3                      \n",
       "Potencia_maxima_carga_kw        0                      \n",
       "Consumo_energia_medio_kwh_100km 9                      "
      ]
     },
     "metadata": {},
     "output_type": "display_data"
    }
   ],
   "source": [
    "# Verificando valores nulos\n",
    "data.frame(colSums(is.na(dados_1)))"
   ]
  },
  {
   "cell_type": "code",
   "execution_count": 10,
   "id": "b4ac8629",
   "metadata": {
    "scrolled": true
   },
   "outputs": [
    {
     "data": {
      "text/plain": [
       "     Nome                Fabricante                   Modelo  \n",
       " Length:53          Tesla     : 7   Citigo-e iV          : 1  \n",
       " Class :character   Audi      : 6   Cooper SE            : 1  \n",
       " Mode  :character   Kia       : 4   Corsa-e              : 1  \n",
       "                    Porsche   : 4   DS3 Crossback e-tense: 1  \n",
       "                    Volkswagen: 4   e                    : 1  \n",
       "                    BMW       : 3   e-2008               : 1  \n",
       "                    (Other)   :25   (Other)              :47  \n",
       " Preco_minimo_bruto Potencia_motor_km Torque_maximo_nm\n",
       " Min.   : 82050     Min.   : 82.0     Min.   : 160    \n",
       " 1st Qu.:142900     1st Qu.:136.0     1st Qu.: 260    \n",
       " Median :178400     Median :204.0     Median : 362    \n",
       " Mean   :246159     Mean   :269.8     Mean   : 460    \n",
       " 3rd Qu.:339480     3rd Qu.:372.0     3rd Qu.: 640    \n",
       " Max.   :794000     Max.   :772.0     Max.   :1140    \n",
       "                                                      \n",
       "                      Tipo_freio      Tipo_tracao Capacidade_bateria_kwh\n",
       " disc (front + rear)       :45   2WD (front):24   Min.   : 17.60        \n",
       " disc (front) + drum (rear): 7   2WD (rear) :11   1st Qu.: 40.00        \n",
       " NA's                      : 1   4WD        :18   Median : 58.00        \n",
       "                                                  Mean   : 62.37        \n",
       "                                                  3rd Qu.: 80.00        \n",
       "                                                  Max.   :100.00        \n",
       "                                                                        \n",
       "  Autonomia_km   Distancia_eixos_cm Comprimento_cm    Largura_cm   \n",
       " Min.   :148.0   Min.   :187.3      Min.   :269.5   Min.   :164.5  \n",
       " 1st Qu.:289.0   1st Qu.:258.8      1st Qu.:411.8   1st Qu.:178.8  \n",
       " Median :364.0   Median :270.0      Median :447.0   Median :180.9  \n",
       " Mean   :376.9   Mean   :273.6      Mean   :442.5   Mean   :186.2  \n",
       " 3rd Qu.:450.0   3rd Qu.:290.0      3rd Qu.:490.1   3rd Qu.:193.5  \n",
       " Max.   :652.0   Max.   :327.5      Max.   :514.0   Max.   :255.8  \n",
       "                                                                   \n",
       "   Altura_cm     Peso_minimo_vazio_kg Peso_bruto_permitido_kg\n",
       " Min.   :137.8   Min.   :1035         Min.   :1310           \n",
       " 1st Qu.:148.1   1st Qu.:1530         1st Qu.:1916           \n",
       " Median :155.6   Median :1685         Median :2119           \n",
       " Mean   :155.4   Mean   :1868         Mean   :2289           \n",
       " 3rd Qu.:161.5   3rd Qu.:2370         3rd Qu.:2870           \n",
       " Max.   :191.0   Max.   :2710         Max.   :3500           \n",
       "                                      NA's   :8              \n",
       " Capacidade_máxima_carga_kg Numero_assentos Numero_portas Tamanho_pneus  \n",
       " Min.   : 290.0             2: 1            3: 2          Min.   :14.00  \n",
       " 1st Qu.: 440.0             4:10            4: 4          1st Qu.:16.00  \n",
       " Median : 486.0             5:38            5:47          Median :17.00  \n",
       " Mean   : 520.5             6: 1                          Mean   :17.68  \n",
       " 3rd Qu.: 575.0             7: 2                          3rd Qu.:19.00  \n",
       " Max.   :1056.0             8: 1                          Max.   :21.00  \n",
       " NA's   :8                                                               \n",
       " Velocidade_maxima_kmh Capacidade_porta_malas_L Aceleracao_kmh  \n",
       " Min.   :123.0         Min.   :171.0            Min.   : 2.500  \n",
       " 1st Qu.:150.0         1st Qu.:315.0            1st Qu.: 4.875  \n",
       " Median :160.0         Median :425.0            Median : 7.700  \n",
       " Mean   :178.2         Mean   :445.1            Mean   : 7.360  \n",
       " 3rd Qu.:200.0         3rd Qu.:558.0            3rd Qu.: 9.375  \n",
       " Max.   :261.0         Max.   :870.0            Max.   :13.100  \n",
       "                       NA's   :1                NA's   :3       \n",
       " Potencia_maxima_carga_kw Consumo_energia_medio_kwh_100km\n",
       " Min.   : 22.0            Min.   :13.10                  \n",
       " 1st Qu.:100.0            1st Qu.:15.60                  \n",
       " Median :100.0            Median :17.05                  \n",
       " Mean   :113.5            Mean   :18.99                  \n",
       " 3rd Qu.:150.0            3rd Qu.:23.50                  \n",
       " Max.   :270.0            Max.   :28.20                  \n",
       "                          NA's   :9                      "
      ]
     },
     "metadata": {},
     "output_type": "display_data"
    }
   ],
   "source": [
    "# Resumo estatistico \n",
    "summary(dados_1)"
   ]
  },
  {
   "cell_type": "code",
   "execution_count": 11,
   "id": "72f4f515",
   "metadata": {},
   "outputs": [
    {
     "data": {
      "image/png": "[encoded data removed]",
      "text/plain": [
       "Plot with title \"Histogram of dados_1$Peso_bruto_permitido_kg\""
      ]
     },
     "metadata": {
      "image/png": {
       "height": 420,
       "width": 420
      }
     },
     "output_type": "display_data"
    }
   ],
   "source": [
    "# Visualizando a distribuição dos dados de colunas valores faltantes\n",
    "hist(dados_1$Peso_bruto_permitido_kg)"
   ]
  },
  {
   "cell_type": "markdown",
   "id": "c339de3b",
   "metadata": {},
   "source": [
    "**A distribuição é assimétrica positiva (à direita). Isso indica que a cauda direita da distribuição é mais longa, e a maioria dos valores está concentrada à esquerda da média (a média é maior que a mediana), desta forma, vamos optar por substituir os valores ausentes pela mediana, que é uma medida mais robusta nestas condições, uma vez que não depende da magnitude dos dados.**"
   ]
  },
  {
   "cell_type": "code",
   "execution_count": 12,
   "id": "a9d948a6",
   "metadata": {},
   "outputs": [],
   "source": [
    "# Substituindo valores ausentes pela mediana \n",
    "dados_1$Peso_bruto_permitido_kg <- ifelse(is.na(dados_1$Peso_bruto_permitido_kg),\n",
    "                                          median(dados_1$Peso_bruto_permitido_kg, na.rm = TRUE),\n",
    "                                          dados_1$Peso_bruto_permitido_kg)"
   ]
  },
  {
   "cell_type": "code",
   "execution_count": 13,
   "id": "d3298f23",
   "metadata": {},
   "outputs": [
    {
     "data": {
      "image/png": "[encoded data removed]",
      "text/plain": [
       "Plot with title \"Histogram of dados_1$Capacidade_máxima_carga_kg\""
      ]
     },
     "metadata": {
      "image/png": {
       "height": 420,
       "width": 420
      }
     },
     "output_type": "display_data"
    }
   ],
   "source": [
    "# Histograma para Potencia Maxima Carga \n",
    "hist(dados_1$Capacidade_máxima_carga_kg)"
   ]
  },
  {
   "cell_type": "markdown",
   "id": "128da1f7",
   "metadata": {},
   "source": [
    "**A distribuição é assimétrica positiva (à direita). Isso indica que a cauda direita da distribuição é mais longa, e a maioria dos valores está concentrada à esquerda da média (a média é maior que a mediana), desta forma, vamos optar por substituir os valores ausentes pela mediana, que é uma medida mais robusta nestas condições, uma vez que não depende da magnitude dos dados.**"
   ]
  },
  {
   "cell_type": "code",
   "execution_count": 14,
   "id": "87113580",
   "metadata": {},
   "outputs": [],
   "source": [
    "# Devido a forma de distribuição e presença de outlier, vamos substituir valores ausentes pela mediana \n",
    "dados_1$Capacidade_máxima_carga_kg <- ifelse(is.na(dados_1$Capacidade_máxima_carga_kg),\n",
    "                                          median(dados_1$Capacidade_máxima_carga_kg, na.rm = TRUE),\n",
    "                                          dados_1$Capacidade_máxima_carga_kg)"
   ]
  },
  {
   "cell_type": "code",
   "execution_count": 15,
   "id": "fb8a93cc",
   "metadata": {},
   "outputs": [
    {
     "data": {
      "image/png": "[encoded data removed]",
      "text/plain": [
       "Plot with title \"Histogram of dados_1$Consumo_energia_medio_kwh_100km\""
      ]
     },
     "metadata": {
      "image/png": {
       "height": 420,
       "width": 420
      }
     },
     "output_type": "display_data"
    }
   ],
   "source": [
    "# Histograma para Consumo Energia Medio\n",
    "hist(dados_1$Consumo_energia_medio_kwh_100km)"
   ]
  },
  {
   "cell_type": "markdown",
   "id": "0396fee3",
   "metadata": {},
   "source": [
    "**A distribuição é assimétrica positiva (à direita). Isso indica que a cauda direita da distribuição é mais longa, e a maioria dos valores está concentrada à esquerda da média (a média é maior que a mediana), desta forma, vamos optar por substituir os valores ausentes pela mediana, que é uma medida mais robusta nestas condições, uma vez que não depende da magnitude dos dados.**"
   ]
  },
  {
   "cell_type": "code",
   "execution_count": 16,
   "id": "a10f1771",
   "metadata": {},
   "outputs": [],
   "source": [
    "#vamos substituir valores ausentes pela mediana \n",
    "dados_1$Consumo_energia_medio_kwh_100km <- ifelse(is.na(dados_1$Consumo_energia_medio_kwh_100km),\n",
    "                                          median(dados_1$Consumo_energia_medio_kwh_100km, na.rm = TRUE),\n",
    "                                          dados_1$Consumo_energia_medio_kwh_100km)"
   ]
  },
  {
   "cell_type": "code",
   "execution_count": 17,
   "id": "83d9116e",
   "metadata": {},
   "outputs": [
    {
     "data": {
      "text/html": [
       "<table class=\"dataframe\">\n",
       "<caption>A data.frame: 25 × 1</caption>\n",
       "<thead>\n",
       "\t<tr><th></th><th scope=col>colSums.is.na.dados_1..</th></tr>\n",
       "\t<tr><th></th><th scope=col>&lt;dbl&gt;</th></tr>\n",
       "</thead>\n",
       "<tbody>\n",
       "\t<tr><th scope=row>Nome</th><td>0</td></tr>\n",
       "\t<tr><th scope=row>Fabricante</th><td>0</td></tr>\n",
       "\t<tr><th scope=row>Modelo</th><td>0</td></tr>\n",
       "\t<tr><th scope=row>Preco_minimo_bruto</th><td>0</td></tr>\n",
       "\t<tr><th scope=row>Potencia_motor_km</th><td>0</td></tr>\n",
       "\t<tr><th scope=row>Torque_maximo_nm</th><td>0</td></tr>\n",
       "\t<tr><th scope=row>Tipo_freio</th><td>1</td></tr>\n",
       "\t<tr><th scope=row>Tipo_tracao</th><td>0</td></tr>\n",
       "\t<tr><th scope=row>Capacidade_bateria_kwh</th><td>0</td></tr>\n",
       "\t<tr><th scope=row>Autonomia_km</th><td>0</td></tr>\n",
       "\t<tr><th scope=row>Distancia_eixos_cm</th><td>0</td></tr>\n",
       "\t<tr><th scope=row>Comprimento_cm</th><td>0</td></tr>\n",
       "\t<tr><th scope=row>Largura_cm</th><td>0</td></tr>\n",
       "\t<tr><th scope=row>Altura_cm</th><td>0</td></tr>\n",
       "\t<tr><th scope=row>Peso_minimo_vazio_kg</th><td>0</td></tr>\n",
       "\t<tr><th scope=row>Peso_bruto_permitido_kg</th><td>0</td></tr>\n",
       "\t<tr><th scope=row>Capacidade_máxima_carga_kg</th><td>0</td></tr>\n",
       "\t<tr><th scope=row>Numero_assentos</th><td>0</td></tr>\n",
       "\t<tr><th scope=row>Numero_portas</th><td>0</td></tr>\n",
       "\t<tr><th scope=row>Tamanho_pneus</th><td>0</td></tr>\n",
       "\t<tr><th scope=row>Velocidade_maxima_kmh</th><td>0</td></tr>\n",
       "\t<tr><th scope=row>Capacidade_porta_malas_L</th><td>1</td></tr>\n",
       "\t<tr><th scope=row>Aceleracao_kmh</th><td>3</td></tr>\n",
       "\t<tr><th scope=row>Potencia_maxima_carga_kw</th><td>0</td></tr>\n",
       "\t<tr><th scope=row>Consumo_energia_medio_kwh_100km</th><td>0</td></tr>\n",
       "</tbody>\n",
       "</table>\n"
      ],
      "text/latex": [
       "A data.frame: 25 × 1\n",
       "\\begin{tabular}{r|l}\n",
       "  & colSums.is.na.dados\\_1..\\\\\n",
       "  & <dbl>\\\\\n",
       "\\hline\n",
       "\tNome & 0\\\\\n",
       "\tFabricante & 0\\\\\n",
       "\tModelo & 0\\\\\n",
       "\tPreco\\_minimo\\_bruto & 0\\\\\n",
       "\tPotencia\\_motor\\_km & 0\\\\\n",
       "\tTorque\\_maximo\\_nm & 0\\\\\n",
       "\tTipo\\_freio & 1\\\\\n",
       "\tTipo\\_tracao & 0\\\\\n",
       "\tCapacidade\\_bateria\\_kwh & 0\\\\\n",
       "\tAutonomia\\_km & 0\\\\\n",
       "\tDistancia\\_eixos\\_cm & 0\\\\\n",
       "\tComprimento\\_cm & 0\\\\\n",
       "\tLargura\\_cm & 0\\\\\n",
       "\tAltura\\_cm & 0\\\\\n",
       "\tPeso\\_minimo\\_vazio\\_kg & 0\\\\\n",
       "\tPeso\\_bruto\\_permitido\\_kg & 0\\\\\n",
       "\tCapacidade\\_máxima\\_carga\\_kg & 0\\\\\n",
       "\tNumero\\_assentos & 0\\\\\n",
       "\tNumero\\_portas & 0\\\\\n",
       "\tTamanho\\_pneus & 0\\\\\n",
       "\tVelocidade\\_maxima\\_kmh & 0\\\\\n",
       "\tCapacidade\\_porta\\_malas\\_L & 1\\\\\n",
       "\tAceleracao\\_kmh & 3\\\\\n",
       "\tPotencia\\_maxima\\_carga\\_kw & 0\\\\\n",
       "\tConsumo\\_energia\\_medio\\_kwh\\_100km & 0\\\\\n",
       "\\end{tabular}\n"
      ],
      "text/markdown": [
       "\n",
       "A data.frame: 25 × 1\n",
       "\n",
       "| <!--/--> | colSums.is.na.dados_1.. &lt;dbl&gt; |\n",
       "|---|---|\n",
       "| Nome | 0 |\n",
       "| Fabricante | 0 |\n",
       "| Modelo | 0 |\n",
       "| Preco_minimo_bruto | 0 |\n",
       "| Potencia_motor_km | 0 |\n",
       "| Torque_maximo_nm | 0 |\n",
       "| Tipo_freio | 1 |\n",
       "| Tipo_tracao | 0 |\n",
       "| Capacidade_bateria_kwh | 0 |\n",
       "| Autonomia_km | 0 |\n",
       "| Distancia_eixos_cm | 0 |\n",
       "| Comprimento_cm | 0 |\n",
       "| Largura_cm | 0 |\n",
       "| Altura_cm | 0 |\n",
       "| Peso_minimo_vazio_kg | 0 |\n",
       "| Peso_bruto_permitido_kg | 0 |\n",
       "| Capacidade_máxima_carga_kg | 0 |\n",
       "| Numero_assentos | 0 |\n",
       "| Numero_portas | 0 |\n",
       "| Tamanho_pneus | 0 |\n",
       "| Velocidade_maxima_kmh | 0 |\n",
       "| Capacidade_porta_malas_L | 1 |\n",
       "| Aceleracao_kmh | 3 |\n",
       "| Potencia_maxima_carga_kw | 0 |\n",
       "| Consumo_energia_medio_kwh_100km | 0 |\n",
       "\n"
      ],
      "text/plain": [
       "                                colSums.is.na.dados_1..\n",
       "Nome                            0                      \n",
       "Fabricante                      0                      \n",
       "Modelo                          0                      \n",
       "Preco_minimo_bruto              0                      \n",
       "Potencia_motor_km               0                      \n",
       "Torque_maximo_nm                0                      \n",
       "Tipo_freio                      1                      \n",
       "Tipo_tracao                     0                      \n",
       "Capacidade_bateria_kwh          0                      \n",
       "Autonomia_km                    0                      \n",
       "Distancia_eixos_cm              0                      \n",
       "Comprimento_cm                  0                      \n",
       "Largura_cm                      0                      \n",
       "Altura_cm                       0                      \n",
       "Peso_minimo_vazio_kg            0                      \n",
       "Peso_bruto_permitido_kg         0                      \n",
       "Capacidade_máxima_carga_kg      0                      \n",
       "Numero_assentos                 0                      \n",
       "Numero_portas                   0                      \n",
       "Tamanho_pneus                   0                      \n",
       "Velocidade_maxima_kmh           0                      \n",
       "Capacidade_porta_malas_L        1                      \n",
       "Aceleracao_kmh                  3                      \n",
       "Potencia_maxima_carga_kw        0                      \n",
       "Consumo_energia_medio_kwh_100km 0                      "
      ]
     },
     "metadata": {},
     "output_type": "display_data"
    }
   ],
   "source": [
    "# Verificando novamente valores nulos\n",
    "data.frame(colSums(is.na(dados_1)))"
   ]
  },
  {
   "cell_type": "code",
   "execution_count": 18,
   "id": "3be147a7",
   "metadata": {},
   "outputs": [
    {
     "data": {
      "text/html": [
       "<style>\n",
       ".list-inline {list-style: none; margin:0; padding: 0}\n",
       ".list-inline>li {display: inline-block}\n",
       ".list-inline>li:not(:last-child)::after {content: \"\\00b7\"; padding: 0 .5ex}\n",
       "</style>\n",
       "<ol class=list-inline><li>50</li><li>25</li></ol>\n"
      ],
      "text/latex": [
       "\\begin{enumerate*}\n",
       "\\item 50\n",
       "\\item 25\n",
       "\\end{enumerate*}\n"
      ],
      "text/markdown": [
       "1. 50\n",
       "2. 25\n",
       "\n",
       "\n"
      ],
      "text/plain": [
       "[1] 50 25"
      ]
     },
     "metadata": {},
     "output_type": "display_data"
    }
   ],
   "source": [
    "# Removendo demais valores ausentes\n",
    "dados_1 <- na.omit(dados_1)\n",
    "dim(dados_1) # Verificando a quantidade de linhas removidas"
   ]
  },
  {
   "cell_type": "markdown",
   "id": "111cafbe",
   "metadata": {},
   "source": [
    "**Como foram apenas três linhas removidas vamos manter esta alteração ao invés de tratar estes dados isoladamente.**"
   ]
  },
  {
   "cell_type": "markdown",
   "id": "36f98b0d",
   "metadata": {},
   "source": [
    "## Modelos"
   ]
  },
  {
   "cell_type": "code",
   "execution_count": 19,
   "id": "b35d6bda",
   "metadata": {},
   "outputs": [
    {
     "data": {
      "image/png": "[encoded data removed]",
      "text/plain": [
       "plot without title"
      ]
     },
     "metadata": {
      "image/png": {
       "height": 420,
       "width": 420
      }
     },
     "output_type": "display_data"
    }
   ],
   "source": [
    "# Verificando a importância das variáveis com a biblioteca randomForest\n",
    "set.seed(50)  # para reprodutibilidade\n",
    "modelo1 <- randomForest(Consumo_energia_medio_kwh_100km ~ .,\n",
    "                        data = dados_1, \n",
    "                        ntree = 100, nodesize = 10, importance = T)\n",
    "varImpPlot(modelo1)"
   ]
  },
  {
   "cell_type": "markdown",
   "id": "f05e4775",
   "metadata": {},
   "source": [
    "### Seleção de variáveis:\n",
    "\n",
    " #### Variáveis não incluídas:\n",
    "- Capacidade_máxima_carga_kg: Refere-se à capacidade máxima de carga que o veículo pode suportar.\n",
    "- Peso_minimo_vazio_kg: Indica o peso mínimo do veículo quando está vazio\n",
    "     - Como a soma do peso mínimo vazio (Peso_minimo_vazio_kg) e da capacidade máxima de carga (Capacidade_máxima_carga_kg) geralmente se aproxima do conceito de peso bruto permitido (Peso_bruto_permitido_kg) não vamos escolher estas duas variáveis **e vamos optar por manter apenas a variável Peso_bruto_permitido_kg que apresenta maior importância.**\n",
    " \n",
    "#### Variáveis escolhidas:\n",
    "\n",
    "- Fabricante\n",
    "- Peso_bruto_permitido_kg\n",
    "- Comprimento_cm\n",
    "- Preco_minimo_bruto\n",
    "- Capacidade_porta_malas_L\n",
    "\n",
    "\n",
    "\n"
   ]
  },
  {
   "cell_type": "markdown",
   "id": "3e73c029",
   "metadata": {},
   "source": [
    "### Gráficos das variáveis mais importantes e variável preditora:"
   ]
  },
  {
   "cell_type": "code",
   "execution_count": 20,
   "id": "4201bfc8",
   "metadata": {},
   "outputs": [
    {
     "data": {
      "image/png": "[encoded data removed]",
      "text/plain": [
       "plot without title"
      ]
     },
     "metadata": {
      "image/png": {
       "height": 420,
       "width": 420
      }
     },
     "output_type": "display_data"
    }
   ],
   "source": [
    "# Histograma para Distribuição de Fabricantes com a biblioteca ggplot2\n",
    "ggplot(dados_1, aes(x = Fabricante)) +\n",
    "  geom_bar(aes(fill = Fabricante), color = 'black', position = 'dodge') +\n",
    "  scale_fill_manual(values = c('antiquewhite2', 'lightseagreen', 'darkmagenta', 'peru', 'mediumvioletred', 'seashell2', \n",
    "                               'slategray4', 'royalblue2', 'darkslategrey', 'darkgoldenrod3', 'bisque4', 'aquamarine1', \n",
    "                               'floralwhite', 'lemonchiffon4', 'mediumspringgreen', 'darkgreen', 'mistyrose2', 'slateblue4', \n",
    "                               'saddlebrown',  'chocolate3')) + #Cores\n",
    "  labs(title = 'Distribuição de Fabricantes', x = 'Fabricante', y = 'Frequência') +\n",
    "  theme_minimal() +\n",
    "  theme(axis.text.x = element_blank()) # Remove a legenda do eixo x"
   ]
  },
  {
   "cell_type": "code",
   "execution_count": 21,
   "id": "abe56046",
   "metadata": {},
   "outputs": [
    {
     "data": {
      "image/png": "[encoded data removed]",
      "text/plain": [
       "Plot with title \"Histograma de Peso Bruto Permitido\""
      ]
     },
     "metadata": {
      "image/png": {
       "height": 420,
       "width": 420
      }
     },
     "output_type": "display_data"
    }
   ],
   "source": [
    "hist(dados_1$Peso_bruto_permitido_kg, breaks = 20, \n",
    "     main = 'Histograma de Peso Bruto Permitido',\n",
    "     xlab = 'Peso Bruto Permitido (Kg)',\n",
    "     ylab = 'Frequência',\n",
    "     col = 'dodgerblue', \n",
    "     border = 'black' )"
   ]
  },
  {
   "cell_type": "code",
   "execution_count": 22,
   "id": "0b9dbbb4",
   "metadata": {},
   "outputs": [
    {
     "data": {
      "image/png": "[encoded data removed]",
      "text/plain": [
       "Plot with title \"Histograma de Comprimento em Cm\""
      ]
     },
     "metadata": {
      "image/png": {
       "height": 420,
       "width": 420
      }
     },
     "output_type": "display_data"
    }
   ],
   "source": [
    "hist(dados_1$Comprimento_cm, breaks = 20, \n",
    "     main = 'Histograma de Comprimento em Cm',\n",
    "     xlab = 'Comprimento (cm)',\n",
    "     ylab = 'Frequência',\n",
    "     col = 'springgreen3', \n",
    "     border = 'black' )"
   ]
  },
  {
   "cell_type": "code",
   "execution_count": 23,
   "id": "f5f785b1",
   "metadata": {},
   "outputs": [
    {
     "data": {
      "image/png": "[encoded data removed]",
      "text/plain": [
       "Plot with title \"Histograma de Preço Minimo Bruto\""
      ]
     },
     "metadata": {
      "image/png": {
       "height": 420,
       "width": 420
      }
     },
     "output_type": "display_data"
    }
   ],
   "source": [
    "hist(dados_1$Preco_minimo_bruto, breaks = 20, \n",
    "     main = 'Histograma de Preço Minimo Bruto',\n",
    "     xlab = 'Preço Minimo Bruto',\n",
    "     ylab = 'Frequência',\n",
    "     col = 'orchid3', \n",
    "     border = 'black' )"
   ]
  },
  {
   "cell_type": "code",
   "execution_count": 24,
   "id": "e59e1ea0",
   "metadata": {},
   "outputs": [
    {
     "data": {
      "image/png": "[encoded data removed]",
      "text/plain": [
       "Plot with title \"Capacidade Porta Malas L\""
      ]
     },
     "metadata": {
      "image/png": {
       "height": 420,
       "width": 420
      }
     },
     "output_type": "display_data"
    }
   ],
   "source": [
    "hist(dados_1$Capacidade_porta_malas_L, breaks = 20, \n",
    "     main = 'Capacidade Porta Malas L',\n",
    "     xlab = 'Capacidade Porta Malas (L)',\n",
    "     ylab = 'Frequência',\n",
    "     col = 'olivedrab2', \n",
    "     border = 'black' )"
   ]
  },
  {
   "cell_type": "code",
   "execution_count": 25,
   "id": "c260b78f",
   "metadata": {},
   "outputs": [
    {
     "data": {
      "image/png": "[encoded data removed]",
      "text/plain": [
       "Plot with title \"Consumo de Energia Medio em kWh/100Km\""
      ]
     },
     "metadata": {
      "image/png": {
       "height": 420,
       "width": 420
      }
     },
     "output_type": "display_data"
    }
   ],
   "source": [
    "hist(dados_1$Consumo_energia_medio_kwh_100km, breaks = 20, \n",
    "     main = 'Consumo de Energia Medio em kWh/100Km',\n",
    "     xlab = 'Consumo de Energia Medio em (kWh/100Km)',\n",
    "     ylab = 'Frequência',\n",
    "     col = 'slateblue4', \n",
    "     border = 'black' )"
   ]
  },
  {
   "cell_type": "markdown",
   "id": "2bc0c10e",
   "metadata": {},
   "source": [
    "### Observamos um padrão nas distribuições de frequência entre três variáveis preditoras numéricas e a variável alvo. Esta consistência é importante para a criação do modelo, pois indica que as características que influenciam as variáveis preditoras mantêm uma relação estável com a variável alvo."
   ]
  },
  {
   "cell_type": "markdown",
   "id": "2215d4e5",
   "metadata": {},
   "source": [
    "### Verificando multicolinearidade entre as variáveis numéricas:"
   ]
  },
  {
   "cell_type": "code",
   "execution_count": 26,
   "id": "3ee47159",
   "metadata": {},
   "outputs": [
    {
     "data": {
      "text/html": [
       "<table class=\"dataframe\">\n",
       "<caption>A matrix: 5 × 5 of type dbl</caption>\n",
       "<thead>\n",
       "\t<tr><th></th><th scope=col>Consumo_energia_medio_kwh_100km</th><th scope=col>Peso_bruto_permitido_kg</th><th scope=col>Comprimento_cm</th><th scope=col>Preco_minimo_bruto</th><th scope=col>Capacidade_porta_malas_L</th></tr>\n",
       "</thead>\n",
       "<tbody>\n",
       "\t<tr><th scope=row>Consumo_energia_medio_kwh_100km</th><td>1.0000000</td><td>0.8762153</td><td>0.5992937</td><td>0.7032231</td><td>0.5248615</td></tr>\n",
       "\t<tr><th scope=row>Peso_bruto_permitido_kg</th><td>0.8762153</td><td>1.0000000</td><td>0.7848402</td><td>0.6887002</td><td>0.6493304</td></tr>\n",
       "\t<tr><th scope=row>Comprimento_cm</th><td>0.5992937</td><td>0.7848402</td><td>1.0000000</td><td>0.7497626</td><td>0.8294602</td></tr>\n",
       "\t<tr><th scope=row>Preco_minimo_bruto</th><td>0.7032231</td><td>0.6887002</td><td>0.7497626</td><td>1.0000000</td><td>0.6368423</td></tr>\n",
       "\t<tr><th scope=row>Capacidade_porta_malas_L</th><td>0.5248615</td><td>0.6493304</td><td>0.8294602</td><td>0.6368423</td><td>1.0000000</td></tr>\n",
       "</tbody>\n",
       "</table>\n"
      ],
      "text/latex": [
       "A matrix: 5 × 5 of type dbl\n",
       "\\begin{tabular}{r|lllll}\n",
       "  & Consumo\\_energia\\_medio\\_kwh\\_100km & Peso\\_bruto\\_permitido\\_kg & Comprimento\\_cm & Preco\\_minimo\\_bruto & Capacidade\\_porta\\_malas\\_L\\\\\n",
       "\\hline\n",
       "\tConsumo\\_energia\\_medio\\_kwh\\_100km & 1.0000000 & 0.8762153 & 0.5992937 & 0.7032231 & 0.5248615\\\\\n",
       "\tPeso\\_bruto\\_permitido\\_kg & 0.8762153 & 1.0000000 & 0.7848402 & 0.6887002 & 0.6493304\\\\\n",
       "\tComprimento\\_cm & 0.5992937 & 0.7848402 & 1.0000000 & 0.7497626 & 0.8294602\\\\\n",
       "\tPreco\\_minimo\\_bruto & 0.7032231 & 0.6887002 & 0.7497626 & 1.0000000 & 0.6368423\\\\\n",
       "\tCapacidade\\_porta\\_malas\\_L & 0.5248615 & 0.6493304 & 0.8294602 & 0.6368423 & 1.0000000\\\\\n",
       "\\end{tabular}\n"
      ],
      "text/markdown": [
       "\n",
       "A matrix: 5 × 5 of type dbl\n",
       "\n",
       "| <!--/--> | Consumo_energia_medio_kwh_100km | Peso_bruto_permitido_kg | Comprimento_cm | Preco_minimo_bruto | Capacidade_porta_malas_L |\n",
       "|---|---|---|---|---|---|\n",
       "| Consumo_energia_medio_kwh_100km | 1.0000000 | 0.8762153 | 0.5992937 | 0.7032231 | 0.5248615 |\n",
       "| Peso_bruto_permitido_kg | 0.8762153 | 1.0000000 | 0.7848402 | 0.6887002 | 0.6493304 |\n",
       "| Comprimento_cm | 0.5992937 | 0.7848402 | 1.0000000 | 0.7497626 | 0.8294602 |\n",
       "| Preco_minimo_bruto | 0.7032231 | 0.6887002 | 0.7497626 | 1.0000000 | 0.6368423 |\n",
       "| Capacidade_porta_malas_L | 0.5248615 | 0.6493304 | 0.8294602 | 0.6368423 | 1.0000000 |\n",
       "\n"
      ],
      "text/plain": [
       "                                Consumo_energia_medio_kwh_100km\n",
       "Consumo_energia_medio_kwh_100km 1.0000000                      \n",
       "Peso_bruto_permitido_kg         0.8762153                      \n",
       "Comprimento_cm                  0.5992937                      \n",
       "Preco_minimo_bruto              0.7032231                      \n",
       "Capacidade_porta_malas_L        0.5248615                      \n",
       "                                Peso_bruto_permitido_kg Comprimento_cm\n",
       "Consumo_energia_medio_kwh_100km 0.8762153               0.5992937     \n",
       "Peso_bruto_permitido_kg         1.0000000               0.7848402     \n",
       "Comprimento_cm                  0.7848402               1.0000000     \n",
       "Preco_minimo_bruto              0.6887002               0.7497626     \n",
       "Capacidade_porta_malas_L        0.6493304               0.8294602     \n",
       "                                Preco_minimo_bruto Capacidade_porta_malas_L\n",
       "Consumo_energia_medio_kwh_100km 0.7032231          0.5248615               \n",
       "Peso_bruto_permitido_kg         0.6887002          0.6493304               \n",
       "Comprimento_cm                  0.7497626          0.8294602               \n",
       "Preco_minimo_bruto              1.0000000          0.6368423               \n",
       "Capacidade_porta_malas_L        0.6368423          1.0000000               "
      ]
     },
     "metadata": {},
     "output_type": "display_data"
    }
   ],
   "source": [
    "# Armazenando colunas numericas para verificar multicolinearidade\n",
    "colunas_interesse <- c('Consumo_energia_medio_kwh_100km', 'Peso_bruto_permitido_kg', 'Comprimento_cm', 'Preco_minimo_bruto',\n",
    "                       'Capacidade_porta_malas_L')\n",
    "                       \n",
    "# Criando dataframe apenas com colunas de interesse\n",
    "dados_colunas_relevantes <- dados_1[colunas_interesse]\n",
    "\n",
    "# Calculando a matriz de correlação e verificando multicolinearidade\n",
    "cor_matrix <- cor(dados_colunas_relevantes)\n",
    "cor_matrix"
   ]
  },
  {
   "cell_type": "markdown",
   "id": "33d68d6d",
   "metadata": {},
   "source": [
    "### Verificamos que entre as variáveis númericas há multicolinearidade, ou seja, as variáveis independentes em um modelo de regressão estão altamente correlacionadas entre si. Vamos optar manter apenas a variável Peso_bruto_permitido_kg que apresenta maior correlação com a variável alvo e realizar o treinamento do modelo. Caso seja necessário, posteriormente podemos aplicar engenharia de atributos nas demais variáveis. "
   ]
  },
  {
   "cell_type": "code",
   "execution_count": 27,
   "id": "9f760165",
   "metadata": {},
   "outputs": [],
   "source": [
    "# Divindo os dados em dados de teste e treino com a biblioteca caTools\n",
    "set.seed(70) # para reprodutibilidade\n",
    "split = sample.split(dados_1$Fabricante, SplitRatio = 0.65)"
   ]
  },
  {
   "cell_type": "code",
   "execution_count": 28,
   "id": "3d1d295e",
   "metadata": {},
   "outputs": [
    {
     "data": {
      "text/html": [
       "<style>\n",
       ".list-inline {list-style: none; margin:0; padding: 0}\n",
       ".list-inline>li {display: inline-block}\n",
       ".list-inline>li:not(:last-child)::after {content: \"\\00b7\"; padding: 0 .5ex}\n",
       "</style>\n",
       "<ol class=list-inline><li>35</li><li>25</li></ol>\n"
      ],
      "text/latex": [
       "\\begin{enumerate*}\n",
       "\\item 35\n",
       "\\item 25\n",
       "\\end{enumerate*}\n"
      ],
      "text/markdown": [
       "1. 35\n",
       "2. 25\n",
       "\n",
       "\n"
      ],
      "text/plain": [
       "[1] 35 25"
      ]
     },
     "metadata": {},
     "output_type": "display_data"
    },
    {
     "data": {
      "text/html": [
       "<style>\n",
       ".list-inline {list-style: none; margin:0; padding: 0}\n",
       ".list-inline>li {display: inline-block}\n",
       ".list-inline>li:not(:last-child)::after {content: \"\\00b7\"; padding: 0 .5ex}\n",
       "</style>\n",
       "<ol class=list-inline><li>15</li><li>25</li></ol>\n"
      ],
      "text/latex": [
       "\\begin{enumerate*}\n",
       "\\item 15\n",
       "\\item 25\n",
       "\\end{enumerate*}\n"
      ],
      "text/markdown": [
       "1. 15\n",
       "2. 25\n",
       "\n",
       "\n"
      ],
      "text/plain": [
       "[1] 15 25"
      ]
     },
     "metadata": {},
     "output_type": "display_data"
    }
   ],
   "source": [
    "# Datasets de treino e de teste\n",
    "dados_treino = subset(dados_1, split == TRUE)\n",
    "dados_teste = subset(dados_1, split == FALSE)\n",
    "dim(dados_treino)\n",
    "dim(dados_teste)"
   ]
  },
  {
   "cell_type": "markdown",
   "id": "973a69ae",
   "metadata": {},
   "source": [
    "### Há 20 categorias para a coluna Fabricante em um conjunto de dados relativamente pequeno, precisamos garantir que todas as categorias estejam presentes nos dados de treino."
   ]
  },
  {
   "cell_type": "code",
   "execution_count": 29,
   "id": "2dd8dbce",
   "metadata": {},
   "outputs": [
    {
     "data": {
      "text/html": [
       "<style>\n",
       ".list-inline {list-style: none; margin:0; padding: 0}\n",
       ".list-inline>li {display: inline-block}\n",
       ".list-inline>li:not(:last-child)::after {content: \"\\00b7\"; padding: 0 .5ex}\n",
       "</style>\n",
       "<ol class=list-inline><li>Audi</li><li>Audi</li><li>Audi</li><li>Audi</li><li>BMW</li><li>BMW</li><li>Citroën</li><li>DS</li><li>Honda</li><li>Hyundai</li><li>Hyundai</li><li>Jaguar</li><li>Kia</li><li>Kia</li><li>Kia</li><li>Mazda</li><li>Mercedes-Benz</li><li>Mini</li><li>Nissan</li><li>Opel</li><li>Peugeot</li><li>Porsche</li><li>Porsche</li><li>Porsche</li><li>Renault</li><li>Skoda</li><li>Smart</li><li>Tesla</li><li>Tesla</li><li>Tesla</li><li>Tesla</li><li>Tesla</li><li>Volkswagen</li><li>Volkswagen</li><li>Volkswagen</li></ol>\n",
       "\n",
       "<details>\n",
       "\t<summary style=display:list-item;cursor:pointer>\n",
       "\t\t<strong>Levels</strong>:\n",
       "\t</summary>\n",
       "\t<style>\n",
       "\t.list-inline {list-style: none; margin:0; padding: 0}\n",
       "\t.list-inline>li {display: inline-block}\n",
       "\t.list-inline>li:not(:last-child)::after {content: \"\\00b7\"; padding: 0 .5ex}\n",
       "\t</style>\n",
       "\t<ol class=list-inline><li>'Audi'</li><li>'BMW'</li><li>'Citroën'</li><li>'DS'</li><li>'Honda'</li><li>'Hyundai'</li><li>'Jaguar'</li><li>'Kia'</li><li>'Mazda'</li><li>'Mercedes-Benz'</li><li>'Mini'</li><li>'Nissan'</li><li>'Opel'</li><li>'Peugeot'</li><li>'Porsche'</li><li>'Renault'</li><li>'Skoda'</li><li>'Smart'</li><li>'Tesla'</li><li>'Volkswagen'</li></ol>\n",
       "</details>"
      ],
      "text/latex": [
       "\\begin{enumerate*}\n",
       "\\item Audi\n",
       "\\item Audi\n",
       "\\item Audi\n",
       "\\item Audi\n",
       "\\item BMW\n",
       "\\item BMW\n",
       "\\item Citroën\n",
       "\\item DS\n",
       "\\item Honda\n",
       "\\item Hyundai\n",
       "\\item Hyundai\n",
       "\\item Jaguar\n",
       "\\item Kia\n",
       "\\item Kia\n",
       "\\item Kia\n",
       "\\item Mazda\n",
       "\\item Mercedes-Benz\n",
       "\\item Mini\n",
       "\\item Nissan\n",
       "\\item Opel\n",
       "\\item Peugeot\n",
       "\\item Porsche\n",
       "\\item Porsche\n",
       "\\item Porsche\n",
       "\\item Renault\n",
       "\\item Skoda\n",
       "\\item Smart\n",
       "\\item Tesla\n",
       "\\item Tesla\n",
       "\\item Tesla\n",
       "\\item Tesla\n",
       "\\item Tesla\n",
       "\\item Volkswagen\n",
       "\\item Volkswagen\n",
       "\\item Volkswagen\n",
       "\\end{enumerate*}\n",
       "\n",
       "\\emph{Levels}: \\begin{enumerate*}\n",
       "\\item 'Audi'\n",
       "\\item 'BMW'\n",
       "\\item 'Citroën'\n",
       "\\item 'DS'\n",
       "\\item 'Honda'\n",
       "\\item 'Hyundai'\n",
       "\\item 'Jaguar'\n",
       "\\item 'Kia'\n",
       "\\item 'Mazda'\n",
       "\\item 'Mercedes-Benz'\n",
       "\\item 'Mini'\n",
       "\\item 'Nissan'\n",
       "\\item 'Opel'\n",
       "\\item 'Peugeot'\n",
       "\\item 'Porsche'\n",
       "\\item 'Renault'\n",
       "\\item 'Skoda'\n",
       "\\item 'Smart'\n",
       "\\item 'Tesla'\n",
       "\\item 'Volkswagen'\n",
       "\\end{enumerate*}\n"
      ],
      "text/markdown": [
       "1. Audi\n",
       "2. Audi\n",
       "3. Audi\n",
       "4. Audi\n",
       "5. BMW\n",
       "6. BMW\n",
       "7. Citroën\n",
       "8. DS\n",
       "9. Honda\n",
       "10. Hyundai\n",
       "11. Hyundai\n",
       "12. Jaguar\n",
       "13. Kia\n",
       "14. Kia\n",
       "15. Kia\n",
       "16. Mazda\n",
       "17. Mercedes-Benz\n",
       "18. Mini\n",
       "19. Nissan\n",
       "20. Opel\n",
       "21. Peugeot\n",
       "22. Porsche\n",
       "23. Porsche\n",
       "24. Porsche\n",
       "25. Renault\n",
       "26. Skoda\n",
       "27. Smart\n",
       "28. Tesla\n",
       "29. Tesla\n",
       "30. Tesla\n",
       "31. Tesla\n",
       "32. Tesla\n",
       "33. Volkswagen\n",
       "34. Volkswagen\n",
       "35. Volkswagen\n",
       "\n",
       "\n",
       "\n",
       "**Levels**: 1. 'Audi'\n",
       "2. 'BMW'\n",
       "3. 'Citroën'\n",
       "4. 'DS'\n",
       "5. 'Honda'\n",
       "6. 'Hyundai'\n",
       "7. 'Jaguar'\n",
       "8. 'Kia'\n",
       "9. 'Mazda'\n",
       "10. 'Mercedes-Benz'\n",
       "11. 'Mini'\n",
       "12. 'Nissan'\n",
       "13. 'Opel'\n",
       "14. 'Peugeot'\n",
       "15. 'Porsche'\n",
       "16. 'Renault'\n",
       "17. 'Skoda'\n",
       "18. 'Smart'\n",
       "19. 'Tesla'\n",
       "20. 'Volkswagen'\n",
       "\n",
       "\n"
      ],
      "text/plain": [
       " [1] Audi          Audi          Audi          Audi          BMW          \n",
       " [6] BMW           Citroën       DS            Honda         Hyundai      \n",
       "[11] Hyundai       Jaguar        Kia           Kia           Kia          \n",
       "[16] Mazda         Mercedes-Benz Mini          Nissan        Opel         \n",
       "[21] Peugeot       Porsche       Porsche       Porsche       Renault      \n",
       "[26] Skoda         Smart         Tesla         Tesla         Tesla        \n",
       "[31] Tesla         Tesla         Volkswagen    Volkswagen    Volkswagen   \n",
       "20 Levels: Audi BMW Citroën DS Honda Hyundai Jaguar Kia Mazda ... Volkswagen"
      ]
     },
     "metadata": {},
     "output_type": "display_data"
    }
   ],
   "source": [
    "dados_treino$Fabricante"
   ]
  },
  {
   "cell_type": "code",
   "execution_count": 30,
   "id": "95ed492b",
   "metadata": {},
   "outputs": [
    {
     "data": {
      "text/html": [
       "<style>\n",
       ".list-inline {list-style: none; margin:0; padding: 0}\n",
       ".list-inline>li {display: inline-block}\n",
       ".list-inline>li:not(:last-child)::after {content: \"\\00b7\"; padding: 0 .5ex}\n",
       "</style>\n",
       "<ol class=list-inline><li>Audi</li><li>Audi</li><li>BMW</li><li>Honda</li><li>Hyundai</li><li>Kia</li><li>Nissan</li><li>Opel</li><li>Porsche</li><li>Renault</li><li>Smart</li><li>Tesla</li><li>Tesla</li><li>Volkswagen</li><li>Citroën</li></ol>\n",
       "\n",
       "<details>\n",
       "\t<summary style=display:list-item;cursor:pointer>\n",
       "\t\t<strong>Levels</strong>:\n",
       "\t</summary>\n",
       "\t<style>\n",
       "\t.list-inline {list-style: none; margin:0; padding: 0}\n",
       "\t.list-inline>li {display: inline-block}\n",
       "\t.list-inline>li:not(:last-child)::after {content: \"\\00b7\"; padding: 0 .5ex}\n",
       "\t</style>\n",
       "\t<ol class=list-inline><li>'Audi'</li><li>'BMW'</li><li>'Citroën'</li><li>'DS'</li><li>'Honda'</li><li>'Hyundai'</li><li>'Jaguar'</li><li>'Kia'</li><li>'Mazda'</li><li>'Mercedes-Benz'</li><li>'Mini'</li><li>'Nissan'</li><li>'Opel'</li><li>'Peugeot'</li><li>'Porsche'</li><li>'Renault'</li><li>'Skoda'</li><li>'Smart'</li><li>'Tesla'</li><li>'Volkswagen'</li></ol>\n",
       "</details>"
      ],
      "text/latex": [
       "\\begin{enumerate*}\n",
       "\\item Audi\n",
       "\\item Audi\n",
       "\\item BMW\n",
       "\\item Honda\n",
       "\\item Hyundai\n",
       "\\item Kia\n",
       "\\item Nissan\n",
       "\\item Opel\n",
       "\\item Porsche\n",
       "\\item Renault\n",
       "\\item Smart\n",
       "\\item Tesla\n",
       "\\item Tesla\n",
       "\\item Volkswagen\n",
       "\\item Citroën\n",
       "\\end{enumerate*}\n",
       "\n",
       "\\emph{Levels}: \\begin{enumerate*}\n",
       "\\item 'Audi'\n",
       "\\item 'BMW'\n",
       "\\item 'Citroën'\n",
       "\\item 'DS'\n",
       "\\item 'Honda'\n",
       "\\item 'Hyundai'\n",
       "\\item 'Jaguar'\n",
       "\\item 'Kia'\n",
       "\\item 'Mazda'\n",
       "\\item 'Mercedes-Benz'\n",
       "\\item 'Mini'\n",
       "\\item 'Nissan'\n",
       "\\item 'Opel'\n",
       "\\item 'Peugeot'\n",
       "\\item 'Porsche'\n",
       "\\item 'Renault'\n",
       "\\item 'Skoda'\n",
       "\\item 'Smart'\n",
       "\\item 'Tesla'\n",
       "\\item 'Volkswagen'\n",
       "\\end{enumerate*}\n"
      ],
      "text/markdown": [
       "1. Audi\n",
       "2. Audi\n",
       "3. BMW\n",
       "4. Honda\n",
       "5. Hyundai\n",
       "6. Kia\n",
       "7. Nissan\n",
       "8. Opel\n",
       "9. Porsche\n",
       "10. Renault\n",
       "11. Smart\n",
       "12. Tesla\n",
       "13. Tesla\n",
       "14. Volkswagen\n",
       "15. Citroën\n",
       "\n",
       "\n",
       "\n",
       "**Levels**: 1. 'Audi'\n",
       "2. 'BMW'\n",
       "3. 'Citroën'\n",
       "4. 'DS'\n",
       "5. 'Honda'\n",
       "6. 'Hyundai'\n",
       "7. 'Jaguar'\n",
       "8. 'Kia'\n",
       "9. 'Mazda'\n",
       "10. 'Mercedes-Benz'\n",
       "11. 'Mini'\n",
       "12. 'Nissan'\n",
       "13. 'Opel'\n",
       "14. 'Peugeot'\n",
       "15. 'Porsche'\n",
       "16. 'Renault'\n",
       "17. 'Skoda'\n",
       "18. 'Smart'\n",
       "19. 'Tesla'\n",
       "20. 'Volkswagen'\n",
       "\n",
       "\n"
      ],
      "text/plain": [
       " [1] Audi       Audi       BMW        Honda      Hyundai    Kia       \n",
       " [7] Nissan     Opel       Porsche    Renault    Smart      Tesla     \n",
       "[13] Tesla      Volkswagen Citroën   \n",
       "20 Levels: Audi BMW Citroën DS Honda Hyundai Jaguar Kia Mazda ... Volkswagen"
      ]
     },
     "metadata": {},
     "output_type": "display_data"
    }
   ],
   "source": [
    "dados_teste$Fabricante"
   ]
  },
  {
   "cell_type": "code",
   "execution_count": 31,
   "id": "3831b3e7",
   "metadata": {},
   "outputs": [
    {
     "data": {
      "text/plain": [
       "\n",
       "Call:\n",
       "lm(formula = Consumo_energia_medio_kwh_100km ~ Peso_bruto_permitido_kg + \n",
       "    Fabricante, data = dados_treino)\n",
       "\n",
       "Residuals:\n",
       "    Min      1Q  Median      3Q     Max \n",
       "-2.0547  0.0000  0.0000  0.2021  1.8349 \n",
       "\n",
       "Coefficients:\n",
       "                          Estimate Std. Error t value Pr(>|t|)    \n",
       "(Intercept)             13.1792537  3.0546689   4.314 0.000713 ***\n",
       "Peso_bruto_permitido_kg  0.0040051  0.0009659   4.147 0.000988 ***\n",
       "FabricanteBMW           -6.1505409  1.2999284  -4.731 0.000322 ***\n",
       "FabricanteCitroën       -4.1393881  1.6602855  -2.493 0.025804 *  \n",
       "FabricanteDS            -5.4892614  1.6759445  -3.275 0.005527 ** \n",
       "FabricanteHonda         -3.4086534  1.7537914  -1.944 0.072325 .  \n",
       "FabricanteHyundai       -6.8697428  1.4041202  -4.893 0.000238 ***\n",
       "FabricanteJaguar        -2.6727831  1.3382313  -1.997 0.065616 .  \n",
       "FabricanteKia           -4.9140357  1.4810089  -3.318 0.005077 ** \n",
       "FabricanteMazda         -7.1659911  1.5886667  -4.511 0.000489 ***\n",
       "FabricanteMercedes-Benz -3.1041512  1.2800292  -2.425 0.029421 *  \n",
       "FabricanteMini          -3.5182226  1.8113975  -1.942 0.072498 .  \n",
       "FabricanteNissan        -2.6693628  1.6634011  -1.605 0.130860    \n",
       "FabricanteOpel          -4.2029625  1.7136816  -2.453 0.027904 *  \n",
       "FabricantePeugeot       -4.4609726  1.7123850  -2.605 0.020769 *  \n",
       "FabricantePorsche       -0.2504970  0.8956091  -0.280 0.783802    \n",
       "FabricanteRenault       -4.6413273  1.6677766  -2.783 0.014664 *  \n",
       "FabricanteSkoda         -3.8570065  1.9833843  -1.945 0.072186 .  \n",
       "FabricanteSmart         -2.0758917  2.1509270  -0.965 0.350864    \n",
       "FabricanteTesla         -4.6159911  1.2214701  -3.779 0.002033 ** \n",
       "FabricanteVolkswagen    -5.8501820  1.2632584  -4.631 0.000389 ***\n",
       "---\n",
       "Signif. codes:  0 '***' 0.001 '**' 0.01 '*' 0.05 '.' 0.1 ' ' 1\n",
       "\n",
       "Residual standard error: 1.136 on 14 degrees of freedom\n",
       "Multiple R-squared:  0.9653,\tAdjusted R-squared:  0.9157 \n",
       "F-statistic: 19.46 on 20 and 14 DF,  p-value: 5.274e-07\n"
      ]
     },
     "metadata": {},
     "output_type": "display_data"
    }
   ],
   "source": [
    "# Treinando o modelo com as duas variáveis que apresentaram maior importância\n",
    "modelo_2 <- lm(Consumo_energia_medio_kwh_100km ~ Peso_bruto_permitido_kg + Fabricante,  data = dados_treino)\n",
    "summary(modelo_2)"
   ]
  },
  {
   "cell_type": "code",
   "execution_count": 32,
   "id": "c41058b3",
   "metadata": {},
   "outputs": [],
   "source": [
    "# Fazendo previsões com os dados de teste\n",
    "previsao <- predict(modelo_2, dados_teste)"
   ]
  },
  {
   "cell_type": "markdown",
   "id": "ca9f573a",
   "metadata": {},
   "source": [
    "**Não é necessário excluir a variável alvo (variável dependente) ao fazer previsões com um modelo de regressão linear (lm) no R. A função predict no R já está configurada para lidar com isso.  Quando usamos a função predict para fazer previsões em um conjunto de dados de teste ou novos dados, o modelo automaticamente considera as variáveis independentes para gerar previsões para a variável dependente.**"
   ]
  },
  {
   "cell_type": "code",
   "execution_count": 33,
   "id": "601b6959",
   "metadata": {},
   "outputs": [
    {
     "data": {
      "text/html": [
       "<table class=\"dataframe\">\n",
       "<caption>A data.frame: 15 × 2</caption>\n",
       "<thead>\n",
       "\t<tr><th></th><th scope=col>Previsao</th><th scope=col>X.Real</th></tr>\n",
       "\t<tr><th></th><th scope=col>&lt;dbl&gt;</th><th scope=col>&lt;dbl&gt;</th></tr>\n",
       "</thead>\n",
       "<tbody>\n",
       "\t<tr><th scope=row>1</th><td>25.35466</td><td>23.80</td></tr>\n",
       "\t<tr><th scope=row>2</th><td>25.71511</td><td>23.85</td></tr>\n",
       "\t<tr><th scope=row>3</th><td>13.95748</td><td>14.30</td></tr>\n",
       "\t<tr><th scope=row>4</th><td>17.26008</td><td>17.50</td></tr>\n",
       "\t<tr><th scope=row>5</th><td>14.39975</td><td>15.00</td></tr>\n",
       "\t<tr><th scope=row>6</th><td>16.59576</td><td>15.30</td></tr>\n",
       "\t<tr><th scope=row>7</th><td>19.08073</td><td>17.10</td></tr>\n",
       "\t<tr><th scope=row>8</th><td>17.04650</td><td>17.60</td></tr>\n",
       "\t<tr><th scope=row>9</th><td>24.46335</td><td>24.10</td></tr>\n",
       "\t<tr><th scope=row>10</th><td>16.50000</td><td>16.50</td></tr>\n",
       "\t<tr><th scope=row>11</th><td>17.39132</td><td>17.00</td></tr>\n",
       "\t<tr><th scope=row>12</th><td>17.05000</td><td>17.05</td></tr>\n",
       "\t<tr><th scope=row>13</th><td>17.05000</td><td>17.05</td></tr>\n",
       "\t<tr><th scope=row>14</th><td>16.42057</td><td>15.40</td></tr>\n",
       "\t<tr><th scope=row>15</th><td>20.29410</td><td>25.20</td></tr>\n",
       "</tbody>\n",
       "</table>\n"
      ],
      "text/latex": [
       "A data.frame: 15 × 2\n",
       "\\begin{tabular}{r|ll}\n",
       "  & Previsao & X.Real\\\\\n",
       "  & <dbl> & <dbl>\\\\\n",
       "\\hline\n",
       "\t1 & 25.35466 & 23.80\\\\\n",
       "\t2 & 25.71511 & 23.85\\\\\n",
       "\t3 & 13.95748 & 14.30\\\\\n",
       "\t4 & 17.26008 & 17.50\\\\\n",
       "\t5 & 14.39975 & 15.00\\\\\n",
       "\t6 & 16.59576 & 15.30\\\\\n",
       "\t7 & 19.08073 & 17.10\\\\\n",
       "\t8 & 17.04650 & 17.60\\\\\n",
       "\t9 & 24.46335 & 24.10\\\\\n",
       "\t10 & 16.50000 & 16.50\\\\\n",
       "\t11 & 17.39132 & 17.00\\\\\n",
       "\t12 & 17.05000 & 17.05\\\\\n",
       "\t13 & 17.05000 & 17.05\\\\\n",
       "\t14 & 16.42057 & 15.40\\\\\n",
       "\t15 & 20.29410 & 25.20\\\\\n",
       "\\end{tabular}\n"
      ],
      "text/markdown": [
       "\n",
       "A data.frame: 15 × 2\n",
       "\n",
       "| <!--/--> | Previsao &lt;dbl&gt; | X.Real &lt;dbl&gt; |\n",
       "|---|---|---|\n",
       "| 1 | 25.35466 | 23.80 |\n",
       "| 2 | 25.71511 | 23.85 |\n",
       "| 3 | 13.95748 | 14.30 |\n",
       "| 4 | 17.26008 | 17.50 |\n",
       "| 5 | 14.39975 | 15.00 |\n",
       "| 6 | 16.59576 | 15.30 |\n",
       "| 7 | 19.08073 | 17.10 |\n",
       "| 8 | 17.04650 | 17.60 |\n",
       "| 9 | 24.46335 | 24.10 |\n",
       "| 10 | 16.50000 | 16.50 |\n",
       "| 11 | 17.39132 | 17.00 |\n",
       "| 12 | 17.05000 | 17.05 |\n",
       "| 13 | 17.05000 | 17.05 |\n",
       "| 14 | 16.42057 | 15.40 |\n",
       "| 15 | 20.29410 | 25.20 |\n",
       "\n"
      ],
      "text/plain": [
       "   Previsao X.Real\n",
       "1  25.35466 23.80 \n",
       "2  25.71511 23.85 \n",
       "3  13.95748 14.30 \n",
       "4  17.26008 17.50 \n",
       "5  14.39975 15.00 \n",
       "6  16.59576 15.30 \n",
       "7  19.08073 17.10 \n",
       "8  17.04650 17.60 \n",
       "9  24.46335 24.10 \n",
       "10 16.50000 16.50 \n",
       "11 17.39132 17.00 \n",
       "12 17.05000 17.05 \n",
       "13 17.05000 17.05 \n",
       "14 16.42057 15.40 \n",
       "15 20.29410 25.20 "
      ]
     },
     "metadata": {},
     "output_type": "display_data"
    }
   ],
   "source": [
    "# Comparando os valores previstos pelo modelo com os valores reais\n",
    "resultados <- cbind(previsao, dados_teste$Consumo_energia_medio_kwh_100km)\n",
    "colnames(resultados) <-c('Previsao', ' Real')\n",
    "resultados <- data.frame(resultados)\n",
    "resultados"
   ]
  },
  {
   "cell_type": "markdown",
   "id": "c3f37a58",
   "metadata": {},
   "source": [
    "### Calculando os erros do modelo\n",
    "Vamos medir o quanto os valores previstos do modelo diferem dos valores reais e consequentemente avaliar o desempenho de regressão: \n",
    "- MSE (Mean Squared Error):O MSE é calculado como a média dos quadrados dos erros entre os valores previstos pelo modelo e os valores reais, penalizando mais fortemente erros maiores, já que eles são elevados ao quadrado. Portanto, valores mais altos no MSE indicam um desempenho pior do modelo, enquanto valores menores indicam um desempenho melhor.\n",
    "- Em geral, um MSE mais próximo de zero é desejável, indicando que as previsões do modelo estão mais próximas dos valores reais."
   ]
  },
  {
   "cell_type": "code",
   "execution_count": 34,
   "id": "96deed90",
   "metadata": {},
   "outputs": [
    {
     "data": {
      "text/html": [
       "2.51559965172933"
      ],
      "text/latex": [
       "2.51559965172933"
      ],
      "text/markdown": [
       "2.51559965172933"
      ],
      "text/plain": [
       "[1] 2.5156"
      ]
     },
     "metadata": {},
     "output_type": "display_data"
    }
   ],
   "source": [
    "#Calculando o erro médio:\n",
    "MSE <- mean((resultados$X.Real - resultados$Previsao)^2)\n",
    "MSE"
   ]
  },
  {
   "cell_type": "markdown",
   "id": "65ab1de0",
   "metadata": {},
   "source": [
    " - RMSE (Root Mean Squared Error): O RMSE é simplesmente a raiz quadrada do MSE. Ele tem a vantagem de estar na mesma unidade que a variável de interesse, tornando mais fácil a interpretação."
   ]
  },
  {
   "cell_type": "code",
   "execution_count": 35,
   "id": "c21136ce",
   "metadata": {},
   "outputs": [
    {
     "data": {
      "text/html": [
       "1.5860642016417"
      ],
      "text/latex": [
       "1.5860642016417"
      ],
      "text/markdown": [
       "1.5860642016417"
      ],
      "text/plain": [
       "[1] 1.586064"
      ]
     },
     "metadata": {},
     "output_type": "display_data"
    }
   ],
   "source": [
    "RMSE <- MSE^0.5\n",
    "RMSE"
   ]
  },
  {
   "cell_type": "markdown",
   "id": "c50738d2",
   "metadata": {},
   "source": [
    "### Sumário do modelo"
   ]
  },
  {
   "cell_type": "code",
   "execution_count": 36,
   "id": "4ac70d24",
   "metadata": {},
   "outputs": [
    {
     "data": {
      "text/plain": [
       "\n",
       "Call:\n",
       "lm(formula = Consumo_energia_medio_kwh_100km ~ Peso_bruto_permitido_kg + \n",
       "    Fabricante, data = dados_treino)\n",
       "\n",
       "Residuals:\n",
       "    Min      1Q  Median      3Q     Max \n",
       "-2.0547  0.0000  0.0000  0.2021  1.8349 \n",
       "\n",
       "Coefficients:\n",
       "                          Estimate Std. Error t value Pr(>|t|)    \n",
       "(Intercept)             13.1792537  3.0546689   4.314 0.000713 ***\n",
       "Peso_bruto_permitido_kg  0.0040051  0.0009659   4.147 0.000988 ***\n",
       "FabricanteBMW           -6.1505409  1.2999284  -4.731 0.000322 ***\n",
       "FabricanteCitroën       -4.1393881  1.6602855  -2.493 0.025804 *  \n",
       "FabricanteDS            -5.4892614  1.6759445  -3.275 0.005527 ** \n",
       "FabricanteHonda         -3.4086534  1.7537914  -1.944 0.072325 .  \n",
       "FabricanteHyundai       -6.8697428  1.4041202  -4.893 0.000238 ***\n",
       "FabricanteJaguar        -2.6727831  1.3382313  -1.997 0.065616 .  \n",
       "FabricanteKia           -4.9140357  1.4810089  -3.318 0.005077 ** \n",
       "FabricanteMazda         -7.1659911  1.5886667  -4.511 0.000489 ***\n",
       "FabricanteMercedes-Benz -3.1041512  1.2800292  -2.425 0.029421 *  \n",
       "FabricanteMini          -3.5182226  1.8113975  -1.942 0.072498 .  \n",
       "FabricanteNissan        -2.6693628  1.6634011  -1.605 0.130860    \n",
       "FabricanteOpel          -4.2029625  1.7136816  -2.453 0.027904 *  \n",
       "FabricantePeugeot       -4.4609726  1.7123850  -2.605 0.020769 *  \n",
       "FabricantePorsche       -0.2504970  0.8956091  -0.280 0.783802    \n",
       "FabricanteRenault       -4.6413273  1.6677766  -2.783 0.014664 *  \n",
       "FabricanteSkoda         -3.8570065  1.9833843  -1.945 0.072186 .  \n",
       "FabricanteSmart         -2.0758917  2.1509270  -0.965 0.350864    \n",
       "FabricanteTesla         -4.6159911  1.2214701  -3.779 0.002033 ** \n",
       "FabricanteVolkswagen    -5.8501820  1.2632584  -4.631 0.000389 ***\n",
       "---\n",
       "Signif. codes:  0 '***' 0.001 '**' 0.01 '*' 0.05 '.' 0.1 ' ' 1\n",
       "\n",
       "Residual standard error: 1.136 on 14 degrees of freedom\n",
       "Multiple R-squared:  0.9653,\tAdjusted R-squared:  0.9157 \n",
       "F-statistic: 19.46 on 20 and 14 DF,  p-value: 5.274e-07\n"
      ]
     },
     "metadata": {},
     "output_type": "display_data"
    }
   ],
   "source": [
    "summary(modelo_2)"
   ]
  },
  {
   "cell_type": "markdown",
   "id": "05da8bb7",
   "metadata": {},
   "source": [
    "### Residuals:\n",
    "**Esta seção mostra um resumo estatístico dos resíduos (diferença entre os valores observados e os valores previstos pelo modelo).**\n",
    "\n",
    "- **Min, 1Q, Median, 3Q, Max** descrevem a distribuição dos resíduos. Seu objetivo é que esses valores sejam distribuídos simetricamente em torno de zero. É importante notar que a mediana e os quartis estão em 0, o que sugere que a distribuição dos resíduos é simétrica em torno de zero. Isso é uma boa indicação de que o modelo não está tendencioso (ou seja, os erros não têm uma tendência sistemática).\n",
    "\n",
    "\n",
    "### Coefficients:\n",
    " Exemplos:\n",
    "- **Estimate (Estimativa) para Peso_bruto_permitido_kg:** Para cada aumento de uma unidade no \"Peso_bruto_permitido_kg\", espera-se um aumento de 0.0040051 unidades na variável dependente, mantendo todas as outras variáveis constantes.\n",
    "- **Estimate (Estimativa) para FabricanteBMW:** Se a variável binária \"FabricanteBMW\" for igual a 1 (indicando que o fabricante é a BMW), espera-se uma diminuição de 6.1505409 unidades na variável dependente em comparação com a referência (quando \"FabricanteBMW\" é 0).\n",
    "- **Std. Error:** O erro padrão dos coeficientes, uma medida da variação dos coeficientes.\n",
    "- **t value:** A estatística t, usada para testar a hipótese nula de que o coeficiente é igual a zero (sem efeito). Quanto mais distante de zero (positivo ou negativo) for o valor t, mais significativo é o coeficiente. \n",
    "- **Pr(>|t|):**  Este é o valor p associado ao teste t. Ele indica a probabilidade de observar um valor t tão extremo quanto o observado, assumindo que a hipótese nula é verdadeira (hipótese nula: o coeficiente é zero) Isso significa que o coeficiente é estatisticamente significativo para prever a variável alvo. \n",
    "\n",
    "\n",
    "### Outras estatísticas:\n",
    "**Esta seção descreve os coeficientes do modelo de regressão.**\n",
    "\n",
    " - **Residual Standard Error (Erro Padrão Residual):** Este é o desvio padrão dos resíduos, ou seja, das diferenças entre os valores reais e os valores previstos pelo modelo. Quanto menor o Residual Standard Error, melhor o modelo se ajusta aos dados.  \n",
    "\n",
    "- **Multiple R-squared (R²):** Essa métrica indica a proporção da variabilidade na variável de resposta que é explicada pelo modelo. Neste caso, o R² é 0.9653, o que significa que aproximadamente 96,53% da variabilidade é explicada pelas variáveis independentes no modelo.  \n",
    "\n",
    "- **Adjusted R-squared (R² Ajustado):** O R² ajustado leva em consideração o número de variáveis independentes no modelo, penalizando a inclusão de variáveis que não melhoram significativamente a explicação da variabilidade. O valor é 0.9157, o que pode indicar o quão bem o modelo se ajusta aos dados, levando em conta o número de variáveis explicativas.  \n",
    "\n",
    "- **F-statistic (Estatística F):** A estatística F avalia a significância global do modelo. Valores mais altos indicam um modelo mais significativo. Neste caso, a estatística F é 19.46, com 20 e 14 graus de liberdade para o numerador e o denominador, respectivamente.  \n",
    "\n",
    "- **p-value (Valor p):** O valor p associado à estatística F indica a probabilidade de observar uma estatística F tão extrema quanto a observada, supondo que a hipótese nula (todos os coeficientes de regressão são zero) seja verdadeira. Um valor p muito baixo (como 5.274e-07) sugere que o modelo como um todo é estatisticamente significativo.\n",
    "\n",
    "### Verificando os resíduos do modelo:\n"
   ]
  },
  {
   "cell_type": "code",
   "execution_count": 37,
   "id": "e1024a58",
   "metadata": {},
   "outputs": [],
   "source": [
    "residuos <- resid(modelo_2)"
   ]
  },
  {
   "cell_type": "code",
   "execution_count": 38,
   "id": "53ce01d6",
   "metadata": {},
   "outputs": [
    {
     "data": {
      "image/png": "[encoded data removed]",
      "text/plain": [
       "plot without title"
      ]
     },
     "metadata": {
      "image/png": {
       "height": 420,
       "width": 420
      }
     },
     "output_type": "display_data"
    }
   ],
   "source": [
    "# Gráfico de Resíduos vs Valores Ajustados\n",
    "# Este gráfico ajuda a verificar a suposição de homocedasticidade. \n",
    "# Você espera ver pontos que não exibam nenhum padrão claro.\n",
    "ggplot(dados_treino, aes(x = predict(modelo_2), y = residuos)) +\n",
    "  geom_point() +\n",
    "  geom_smooth(method = 'loess', se = FALSE, formula = y ~ x) +\n",
    "  ggtitle('Resíduos vs Valores Ajustados') +\n",
    "  xlab('Valores Ajustados') +\n",
    "  ylab('Resíduos')"
   ]
  },
  {
   "cell_type": "markdown",
   "id": "2b151caf",
   "metadata": {},
   "source": [
    "**Cada ponto no gráfico:** Cada ponto no gráfico representa uma observação nos seus dados. O eixo x desse ponto é o valor predito (ajustado) pelo modelo para essa observação, e o eixo y é o resíduo correspondente para essa observação.\n",
    "\n",
    "**A linha suavizada (gerada pelo método 'loess' no geom_smooth)** acompanha os pontos no gráfico e oferece uma representação visual da tendência geral nos dados. Ela é uma estimativa suavizada da relação entre os valores ajustados (previstos pelo modelo) e os resíduos."
   ]
  },
  {
   "cell_type": "code",
   "execution_count": 39,
   "id": "b0b5b12d",
   "metadata": {},
   "outputs": [
    {
     "data": {
      "image/png": "[encoded data removed]",
      "text/plain": [
       "plot without title"
      ]
     },
     "metadata": {
      "image/png": {
       "height": 420,
       "width": 420
      }
     },
     "output_type": "display_data"
    }
   ],
   "source": [
    "# Histograma dos Resíduos\n",
    "# Este gráfico ajuda a verificar a normalidade dos resíduos. \n",
    "# Um histograma em forma de sino indica que os resíduos estão normalmente distribuídos, indicando que temos um \n",
    "# bom modelo de regressão.\n",
    "ggplot(dados_treino, aes(x = residuos)) +\n",
    "  geom_histogram(binwidth = 1, fill = 'deepskyblue3', alpha = 0.7) +\n",
    "  ggtitle('Histograma dos Resíduos') +\n",
    "  xlab('Resíduos')"
   ]
  },
  {
   "cell_type": "markdown",
   "id": "8220580f",
   "metadata": {},
   "source": [
    "### Interpretação\n",
    "\n",
    "- Ao analisar a performance do nosso modelo de regressão linear, as métricas **Mean Squared Error (MSE) e Root Mean Squared Error (RMSE)** revelam resultados promissores, indicando que o modelo gerado apresenta um bom desempenho.\n",
    "- O **MSE**, calculado como a média dos quadrados dos erros entre as previsões do modelo e os valores reais, apresentou um valor de 2.51. **O RMSE**, derivado diretamente do MSE, proporciona uma interpretação mais intuitiva ao expressar o erro médio em termos da unidade da variável dependente. Com um RMSE de 1.58, podemos afirmar que, em média, as previsões do modelo estão desviando apenas 1.58 unidades da realidade observada.\n",
    "- Além disso, podemos afirmar que os fatores considerados no modelo têm uma influência estatisticamente significativa na variável de interesse. Isso é indicado pelos valores-p muito baixos associados a cada preditor, sugerindo que a probabilidade de esses resultados ocorrerem ao acaso é extremamente baixa.\n",
    "- Além disso, **o modelo como um todo apresenta significância estatística**, como evidenciado pelo valor-p muito baixo para a estatística F. Essa estatística avalia a importância global do modelo, considerando o impacto coletivo de todos os fatores. O valor-p descrito sugere que o modelo proporciona um ajuste eficaz aos dados.\n",
    "- O **Multiple R-squared** reforça a qualidade global do modelo, indicando que cerca de 96,53% da variabilidade na variável dependente é explicada pelos preditores incluídos. \n",
    "- Por fim, ao analisarmos os resíduos gerados pelo modelo de regressão linear, observamos duas importantes suposições que contribuem para a confiabilidade no modelo: **podemos afirmar que os resíduos seguem a suposição de normalidade**, apresentando uma distribuição simétrica e aproximadamente normal. Além disso, **a dispersão dos resíduos demonstra homocedasticidade**, indicando uma consistência na dispersão dos resíduos em toda a faixa de valores preditos pelo modelo. "
   ]
  }
 ],
 "metadata": {
  "kernelspec": {
   "display_name": "R",
   "language": "R",
   "name": "ir"
  },
  "language_info": {
   "codemirror_mode": "r",
   "file_extension": ".r",
   "mimetype": "text/x-r-source",
   "name": "R",
   "pygments_lexer": "r",
   "version": "4.2.2"
  }
 },
 "nbformat": 4,
 "nbformat_minor": 5
}
