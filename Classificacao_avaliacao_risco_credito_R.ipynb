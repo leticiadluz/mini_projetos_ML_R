{
 "cells": [
  {
   "cell_type": "markdown",
   "id": "7b6265cf",
   "metadata": {},
   "source": [
    "### Avaliação de Risco de Crédito\n",
    "\n",
    "### Este experimento tem como objetivo criar um modelo preditivo para classificar o risco de concessão de crédito para clientes de uma instituição bancária.  \n",
    "\n",
    "**Dados:** O conjunto de dados “German Credit Data será usado para construir e treinar o modelo, neste experimento. Este dataset é baseado em dados reais gerados por um pesquisador da Universidade de Hamburgo, na Alemanha. O dataset contém 1000 observações e 20 variáveis, representando os dados de clientes, tais como: status da conta corrente, histórico de crédito, quantidade de crédito atual, empregabilidade, residência, idade, etc.  \n",
    "\n",
    "**Dataset:** https://archive.ics.uci.edu/ml/datasets/Statlog+(German+Credit+Data) \n",
    "\n",
    "**Objetivo:** O objetivo será prever o risco que cada cliente oferece para o banco, na hora de conceder uma linha de crédito. O modelo preditivo deve ser bastante preciso, pois conceder crédito a um cliente com péssimo potencial de pagamento, pode trazer um grande prejuízo para o banco.  "
   ]
  },
  {
   "cell_type": "markdown",
   "id": "8cf7b5e0",
   "metadata": {},
   "source": [
    "### Variáveis:\n",
    "\n",
    "- Atributo 1: Este atributo é do tipo categórico e tem como descrição indicar o status da conta corrente existente. Não possui unidades associadas, e não há valores ausentes.\n",
    "- Atributo 2: Trata-se de um atributo do tipo inteiro que representa a duração em meses. A unidade utilizada é meses, e não existem valores ausentes.\n",
    "- Atributo 3: Este atributo, de natureza categórica, descreve o histórico de crédito. Não há unidades associadas, e não existem valores ausentes.\n",
    "- Atributo 4: Classificado como categórico, este atributo indica o propósito do crédito. Não possui unidades e não há valores ausentes.\n",
    "- Atributo 5: É um atributo do tipo inteiro que representa o valor do crédito. Não há unidades especificadas, e não existem valores ausentes.\n",
    "- Atributo 6: Classificado como categórico, este atributo descreve a situação da conta poupança ou títulos. Não possui unidades e não há valores ausentes.\n",
    "- Atributo 7: De natureza categórica, este atributo indica a duração do emprego atual. Não há unidades associadas, e não existem valores ausentes.\n",
    "- Atributo 8: Atributo do tipo inteiro, representa a taxa de parcelamento como percentagem da renda disponível. A unidade utilizada é a porcentagem, e não há valores ausentes.\n",
    "- Atributo 9: Classificado como categórico, este atributo indica o estado civil ou status pessoal e sexo. Não possui unidades e não há valores ausentes.\n",
    "- Atributo 10: Categórico, este atributo descreve a presença de outros devedores ou fiadores. Não possui unidades e não há valores ausentes.\n",
    "- Atributo 11: Este atributo, do tipo inteiro, representa o tempo de residência atual. Não há unidades associadas, e não existem valores ausentes.\n",
    "- Atributo 12: Este atributo categórico indica o tipo de propriedade. Não há unidades associadas, e não existem valores ausentes.\n",
    "- Atributo 13: Representando a idade em anos, o Atributo 13 é do tipo inteiro. Não há unidades associadas, e não existem valores ausentes.\n",
    "- Atributo 14: Indicando a presença de outros planos de parcelamento, este atributo é categórico. Não há unidades associadas, e não existem valores ausentes.\n",
    "- Atributo 15: Este atributo categórico indica o tipo de habitação. Não há unidades associadas, e não existem valores ausentes.\n",
    "- Atributo 16: Representando o número de créditos existentes neste banco, o Atributo 16 é do tipo inteiro. Não há unidades associadas, e não existem valores ausentes.\n",
    "- Atributo 17: Indicando a ocupação ou emprego, este atributo é categórico. Não há unidades associadas, e não existem valores ausentes.\n",
    "- Atributo 18: Representando o número de pessoas responsáveis por prover sustento, o Atributo 18 é do tipo inteiro. Não há unidades associadas, e não existem valores ausentes.\n",
    "- Atributo 19: Este atributo binário indica a presença de telefone. Não há unidades associadas, e não existem valores ausentes.\n",
    "- Atributo 20: Indicando se o trabalhador é estrangeiro ou não, este atributo binário não possui unidades associadas, e não existem valores ausentes."
   ]
  },
  {
   "cell_type": "code",
   "execution_count": 1,
   "id": "60ea4a01",
   "metadata": {
    "vscode": {
     "languageId": "r"
    }
   },
   "outputs": [],
   "source": [
    "credit  <- read.csv('credito.csv')"
   ]
  },
  {
   "cell_type": "code",
   "execution_count": 2,
   "id": "e2dff947",
   "metadata": {
    "vscode": {
     "languageId": "r"
    }
   },
   "outputs": [
    {
     "data": {
      "text/html": [
       "<table class=\"dataframe\">\n",
       "<caption>A data.frame: 6 × 21</caption>\n",
       "<thead>\n",
       "\t<tr><th></th><th scope=col>A11</th><th scope=col>X6</th><th scope=col>A34</th><th scope=col>A43</th><th scope=col>X1169</th><th scope=col>A65</th><th scope=col>A75</th><th scope=col>X4</th><th scope=col>A93</th><th scope=col>A101</th><th scope=col>⋯</th><th scope=col>A121</th><th scope=col>X67</th><th scope=col>A143</th><th scope=col>A152</th><th scope=col>X2</th><th scope=col>A173</th><th scope=col>X1</th><th scope=col>A192</th><th scope=col>A201</th><th scope=col>X1.1</th></tr>\n",
       "\t<tr><th></th><th scope=col>&lt;chr&gt;</th><th scope=col>&lt;int&gt;</th><th scope=col>&lt;chr&gt;</th><th scope=col>&lt;chr&gt;</th><th scope=col>&lt;int&gt;</th><th scope=col>&lt;chr&gt;</th><th scope=col>&lt;chr&gt;</th><th scope=col>&lt;int&gt;</th><th scope=col>&lt;chr&gt;</th><th scope=col>&lt;chr&gt;</th><th scope=col>⋯</th><th scope=col>&lt;chr&gt;</th><th scope=col>&lt;int&gt;</th><th scope=col>&lt;chr&gt;</th><th scope=col>&lt;chr&gt;</th><th scope=col>&lt;int&gt;</th><th scope=col>&lt;chr&gt;</th><th scope=col>&lt;int&gt;</th><th scope=col>&lt;chr&gt;</th><th scope=col>&lt;chr&gt;</th><th scope=col>&lt;int&gt;</th></tr>\n",
       "</thead>\n",
       "<tbody>\n",
       "\t<tr><th scope=row>1</th><td>A12</td><td>48</td><td>A32</td><td>A43</td><td>5951</td><td>A61</td><td>A73</td><td>2</td><td>A92</td><td>A101</td><td>⋯</td><td>A121</td><td>22</td><td>A143</td><td>A152</td><td>1</td><td>A173</td><td>1</td><td>A191</td><td>A201</td><td>2</td></tr>\n",
       "\t<tr><th scope=row>2</th><td>A14</td><td>12</td><td>A34</td><td>A46</td><td>2096</td><td>A61</td><td>A74</td><td>2</td><td>A93</td><td>A101</td><td>⋯</td><td>A121</td><td>49</td><td>A143</td><td>A152</td><td>1</td><td>A172</td><td>2</td><td>A191</td><td>A201</td><td>1</td></tr>\n",
       "\t<tr><th scope=row>3</th><td>A11</td><td>42</td><td>A32</td><td>A42</td><td>7882</td><td>A61</td><td>A74</td><td>2</td><td>A93</td><td>A103</td><td>⋯</td><td>A122</td><td>45</td><td>A143</td><td>A153</td><td>1</td><td>A173</td><td>2</td><td>A191</td><td>A201</td><td>1</td></tr>\n",
       "\t<tr><th scope=row>4</th><td>A11</td><td>24</td><td>A33</td><td>A40</td><td>4870</td><td>A61</td><td>A73</td><td>3</td><td>A93</td><td>A101</td><td>⋯</td><td>A124</td><td>53</td><td>A143</td><td>A153</td><td>2</td><td>A173</td><td>2</td><td>A191</td><td>A201</td><td>2</td></tr>\n",
       "\t<tr><th scope=row>5</th><td>A14</td><td>36</td><td>A32</td><td>A46</td><td>9055</td><td>A65</td><td>A73</td><td>2</td><td>A93</td><td>A101</td><td>⋯</td><td>A124</td><td>35</td><td>A143</td><td>A153</td><td>1</td><td>A172</td><td>2</td><td>A192</td><td>A201</td><td>1</td></tr>\n",
       "\t<tr><th scope=row>6</th><td>A14</td><td>24</td><td>A32</td><td>A42</td><td>2835</td><td>A63</td><td>A75</td><td>3</td><td>A93</td><td>A101</td><td>⋯</td><td>A122</td><td>53</td><td>A143</td><td>A152</td><td>1</td><td>A173</td><td>1</td><td>A191</td><td>A201</td><td>1</td></tr>\n",
       "</tbody>\n",
       "</table>\n"
      ],
      "text/latex": [
       "A data.frame: 6 × 21\n",
       "\\begin{tabular}{r|lllllllllllllllllllll}\n",
       "  & A11 & X6 & A34 & A43 & X1169 & A65 & A75 & X4 & A93 & A101 & ⋯ & A121 & X67 & A143 & A152 & X2 & A173 & X1 & A192 & A201 & X1.1\\\\\n",
       "  & <chr> & <int> & <chr> & <chr> & <int> & <chr> & <chr> & <int> & <chr> & <chr> & ⋯ & <chr> & <int> & <chr> & <chr> & <int> & <chr> & <int> & <chr> & <chr> & <int>\\\\\n",
       "\\hline\n",
       "\t1 & A12 & 48 & A32 & A43 & 5951 & A61 & A73 & 2 & A92 & A101 & ⋯ & A121 & 22 & A143 & A152 & 1 & A173 & 1 & A191 & A201 & 2\\\\\n",
       "\t2 & A14 & 12 & A34 & A46 & 2096 & A61 & A74 & 2 & A93 & A101 & ⋯ & A121 & 49 & A143 & A152 & 1 & A172 & 2 & A191 & A201 & 1\\\\\n",
       "\t3 & A11 & 42 & A32 & A42 & 7882 & A61 & A74 & 2 & A93 & A103 & ⋯ & A122 & 45 & A143 & A153 & 1 & A173 & 2 & A191 & A201 & 1\\\\\n",
       "\t4 & A11 & 24 & A33 & A40 & 4870 & A61 & A73 & 3 & A93 & A101 & ⋯ & A124 & 53 & A143 & A153 & 2 & A173 & 2 & A191 & A201 & 2\\\\\n",
       "\t5 & A14 & 36 & A32 & A46 & 9055 & A65 & A73 & 2 & A93 & A101 & ⋯ & A124 & 35 & A143 & A153 & 1 & A172 & 2 & A192 & A201 & 1\\\\\n",
       "\t6 & A14 & 24 & A32 & A42 & 2835 & A63 & A75 & 3 & A93 & A101 & ⋯ & A122 & 53 & A143 & A152 & 1 & A173 & 1 & A191 & A201 & 1\\\\\n",
       "\\end{tabular}\n"
      ],
      "text/markdown": [
       "\n",
       "A data.frame: 6 × 21\n",
       "\n",
       "| <!--/--> | A11 &lt;chr&gt; | X6 &lt;int&gt; | A34 &lt;chr&gt; | A43 &lt;chr&gt; | X1169 &lt;int&gt; | A65 &lt;chr&gt; | A75 &lt;chr&gt; | X4 &lt;int&gt; | A93 &lt;chr&gt; | A101 &lt;chr&gt; | ⋯ ⋯ | A121 &lt;chr&gt; | X67 &lt;int&gt; | A143 &lt;chr&gt; | A152 &lt;chr&gt; | X2 &lt;int&gt; | A173 &lt;chr&gt; | X1 &lt;int&gt; | A192 &lt;chr&gt; | A201 &lt;chr&gt; | X1.1 &lt;int&gt; |\n",
       "|---|---|---|---|---|---|---|---|---|---|---|---|---|---|---|---|---|---|---|---|---|---|\n",
       "| 1 | A12 | 48 | A32 | A43 | 5951 | A61 | A73 | 2 | A92 | A101 | ⋯ | A121 | 22 | A143 | A152 | 1 | A173 | 1 | A191 | A201 | 2 |\n",
       "| 2 | A14 | 12 | A34 | A46 | 2096 | A61 | A74 | 2 | A93 | A101 | ⋯ | A121 | 49 | A143 | A152 | 1 | A172 | 2 | A191 | A201 | 1 |\n",
       "| 3 | A11 | 42 | A32 | A42 | 7882 | A61 | A74 | 2 | A93 | A103 | ⋯ | A122 | 45 | A143 | A153 | 1 | A173 | 2 | A191 | A201 | 1 |\n",
       "| 4 | A11 | 24 | A33 | A40 | 4870 | A61 | A73 | 3 | A93 | A101 | ⋯ | A124 | 53 | A143 | A153 | 2 | A173 | 2 | A191 | A201 | 2 |\n",
       "| 5 | A14 | 36 | A32 | A46 | 9055 | A65 | A73 | 2 | A93 | A101 | ⋯ | A124 | 35 | A143 | A153 | 1 | A172 | 2 | A192 | A201 | 1 |\n",
       "| 6 | A14 | 24 | A32 | A42 | 2835 | A63 | A75 | 3 | A93 | A101 | ⋯ | A122 | 53 | A143 | A152 | 1 | A173 | 1 | A191 | A201 | 1 |\n",
       "\n"
      ],
      "text/plain": [
       "  A11 X6 A34 A43 X1169 A65 A75 X4 A93 A101 ⋯ A121 X67 A143 A152 X2 A173 X1 A192\n",
       "1 A12 48 A32 A43 5951  A61 A73 2  A92 A101 ⋯ A121 22  A143 A152 1  A173 1  A191\n",
       "2 A14 12 A34 A46 2096  A61 A74 2  A93 A101 ⋯ A121 49  A143 A152 1  A172 2  A191\n",
       "3 A11 42 A32 A42 7882  A61 A74 2  A93 A103 ⋯ A122 45  A143 A153 1  A173 2  A191\n",
       "4 A11 24 A33 A40 4870  A61 A73 3  A93 A101 ⋯ A124 53  A143 A153 2  A173 2  A191\n",
       "5 A14 36 A32 A46 9055  A65 A73 2  A93 A101 ⋯ A124 35  A143 A153 1  A172 2  A192\n",
       "6 A14 24 A32 A42 2835  A63 A75 3  A93 A101 ⋯ A122 53  A143 A152 1  A173 1  A191\n",
       "  A201 X1.1\n",
       "1 A201 2   \n",
       "2 A201 1   \n",
       "3 A201 1   \n",
       "4 A201 2   \n",
       "5 A201 1   \n",
       "6 A201 1   "
      ]
     },
     "metadata": {},
     "output_type": "display_data"
    },
    {
     "data": {
      "text/html": [
       "<style>\n",
       ".list-inline {list-style: none; margin:0; padding: 0}\n",
       ".list-inline>li {display: inline-block}\n",
       ".list-inline>li:not(:last-child)::after {content: \"\\00b7\"; padding: 0 .5ex}\n",
       "</style>\n",
       "<ol class=list-inline><li>999</li><li>21</li></ol>\n"
      ],
      "text/latex": [
       "\\begin{enumerate*}\n",
       "\\item 999\n",
       "\\item 21\n",
       "\\end{enumerate*}\n"
      ],
      "text/markdown": [
       "1. 999\n",
       "2. 21\n",
       "\n",
       "\n"
      ],
      "text/plain": [
       "[1] 999  21"
      ]
     },
     "metadata": {},
     "output_type": "display_data"
    }
   ],
   "source": [
    "head(credit)\n",
    "dim(credit)"
   ]
  },
  {
   "cell_type": "markdown",
   "id": "7c12160c",
   "metadata": {},
   "source": [
    "### A última variável é a nossa variável target, que queremos prever:\n",
    "- (1 = Good,  2 = Bad)\n",
    "- Um, fornecer linha de crédito;\n",
    "- Dois, não fornecer linha de crétido."
   ]
  },
  {
   "cell_type": "code",
   "execution_count": 3,
   "id": "7d439187",
   "metadata": {
    "vscode": {
     "languageId": "r"
    }
   },
   "outputs": [
    {
     "name": "stderr",
     "output_type": "stream",
     "text": [
      "Warning message:\n",
      "\"package 'dplyr' was built under R version 4.2.3\"\n",
      "\n",
      "Attaching package: 'dplyr'\n",
      "\n",
      "\n",
      "The following objects are masked from 'package:stats':\n",
      "\n",
      "    filter, lag\n",
      "\n",
      "\n",
      "The following objects are masked from 'package:base':\n",
      "\n",
      "    intersect, setdiff, setequal, union\n",
      "\n",
      "\n"
     ]
    }
   ],
   "source": [
    "library(dplyr)"
   ]
  },
  {
   "cell_type": "code",
   "execution_count": 4,
   "id": "018b2db1",
   "metadata": {
    "vscode": {
     "languageId": "r"
    }
   },
   "outputs": [
    {
     "name": "stdout",
     "output_type": "stream",
     "text": [
      "Rows: 999\n",
      "Columns: 21\n",
      "$ A11   \u001b[3m\u001b[90m<chr>\u001b[39m\u001b[23m \"A12\", \"A14\", \"A11\", \"A11\", \"A14\", \"A14\", \"A12\", \"A14\", \"A12\", \"…\n",
      "$ X6    \u001b[3m\u001b[90m<int>\u001b[39m\u001b[23m 48, 12, 42, 24, 36, 24, 36, 12, 30, 12, 48, 12, 24, 15, 24, 24, …\n",
      "$ A34   \u001b[3m\u001b[90m<chr>\u001b[39m\u001b[23m \"A32\", \"A34\", \"A32\", \"A33\", \"A32\", \"A32\", \"A32\", \"A32\", \"A34\", \"…\n",
      "$ A43   \u001b[3m\u001b[90m<chr>\u001b[39m\u001b[23m \"A43\", \"A46\", \"A42\", \"A40\", \"A46\", \"A42\", \"A41\", \"A43\", \"A40\", \"…\n",
      "$ X1169 \u001b[3m\u001b[90m<int>\u001b[39m\u001b[23m 5951, 2096, 7882, 4870, 9055, 2835, 6948, 3059, 5234, 1295, 4308…\n",
      "$ A65   \u001b[3m\u001b[90m<chr>\u001b[39m\u001b[23m \"A61\", \"A61\", \"A61\", \"A61\", \"A65\", \"A63\", \"A61\", \"A64\", \"A61\", \"…\n",
      "$ A75   \u001b[3m\u001b[90m<chr>\u001b[39m\u001b[23m \"A73\", \"A74\", \"A74\", \"A73\", \"A73\", \"A75\", \"A73\", \"A74\", \"A71\", \"…\n",
      "$ X4    \u001b[3m\u001b[90m<int>\u001b[39m\u001b[23m 2, 2, 2, 3, 2, 3, 2, 2, 4, 3, 3, 1, 4, 2, 4, 4, 2, 4, 3, 4, 2, 1…\n",
      "$ A93   \u001b[3m\u001b[90m<chr>\u001b[39m\u001b[23m \"A92\", \"A93\", \"A93\", \"A93\", \"A93\", \"A93\", \"A93\", \"A91\", \"A94\", \"…\n",
      "$ A101  \u001b[3m\u001b[90m<chr>\u001b[39m\u001b[23m \"A101\", \"A101\", \"A103\", \"A101\", \"A101\", \"A101\", \"A101\", \"A101\", …\n",
      "$ X4.1  \u001b[3m\u001b[90m<int>\u001b[39m\u001b[23m 2, 3, 4, 4, 4, 4, 2, 4, 2, 1, 4, 1, 4, 4, 2, 4, 3, 2, 2, 4, 3, 3…\n",
      "$ A121  \u001b[3m\u001b[90m<chr>\u001b[39m\u001b[23m \"A121\", \"A121\", \"A122\", \"A124\", \"A124\", \"A122\", \"A123\", \"A121\", …\n",
      "$ X67   \u001b[3m\u001b[90m<int>\u001b[39m\u001b[23m 22, 49, 45, 53, 35, 53, 35, 61, 28, 25, 24, 22, 60, 28, 32, 53, …\n",
      "$ A143  \u001b[3m\u001b[90m<chr>\u001b[39m\u001b[23m \"A143\", \"A143\", \"A143\", \"A143\", \"A143\", \"A143\", \"A143\", \"A143\", …\n",
      "$ A152  \u001b[3m\u001b[90m<chr>\u001b[39m\u001b[23m \"A152\", \"A152\", \"A153\", \"A153\", \"A153\", \"A152\", \"A151\", \"A152\", …\n",
      "$ X2    \u001b[3m\u001b[90m<int>\u001b[39m\u001b[23m 1, 1, 1, 2, 1, 1, 1, 1, 2, 1, 1, 1, 2, 1, 1, 2, 3, 1, 1, 3, 1, 2…\n",
      "$ A173  \u001b[3m\u001b[90m<chr>\u001b[39m\u001b[23m \"A173\", \"A172\", \"A173\", \"A173\", \"A172\", \"A173\", \"A174\", \"A172\", …\n",
      "$ X1    \u001b[3m\u001b[90m<int>\u001b[39m\u001b[23m 1, 2, 2, 2, 2, 1, 1, 1, 1, 1, 1, 1, 1, 1, 1, 1, 1, 1, 2, 1, 2, 2…\n",
      "$ A192  \u001b[3m\u001b[90m<chr>\u001b[39m\u001b[23m \"A191\", \"A191\", \"A191\", \"A191\", \"A192\", \"A191\", \"A192\", \"A191\", …\n",
      "$ A201  \u001b[3m\u001b[90m<chr>\u001b[39m\u001b[23m \"A201\", \"A201\", \"A201\", \"A201\", \"A201\", \"A201\", \"A201\", \"A201\", …\n",
      "$ X1.1  \u001b[3m\u001b[90m<int>\u001b[39m\u001b[23m 2, 1, 1, 2, 1, 1, 1, 1, 2, 2, 2, 1, 2, 1, 2, 1, 1, 2, 1, 1, 1, 1…\n"
     ]
    }
   ],
   "source": [
    "glimpse(credit)"
   ]
  },
  {
   "cell_type": "code",
   "execution_count": 5,
   "id": "914daa2d",
   "metadata": {
    "vscode": {
     "languageId": "r"
    }
   },
   "outputs": [],
   "source": [
    "#Verificamos que as variáveis categóricas estão como caracter \n",
    "# Função para converter colunas de caractere em fatores\n",
    "converter_para_fatores <- function(df) {\n",
    "  for (coluna in names(df)) {\n",
    "    if (is.character(df[[coluna]])) {\n",
    "      df[[coluna]] <- factor(df[[coluna]])\n",
    "    }\n",
    "  }\n",
    "  return(df)\n",
    "}"
   ]
  },
  {
   "cell_type": "code",
   "execution_count": 6,
   "id": "9b0e8ace",
   "metadata": {
    "vscode": {
     "languageId": "r"
    }
   },
   "outputs": [
    {
     "data": {
      "text/html": [
       "<table class=\"dataframe\">\n",
       "<caption>A data.frame: 6 × 21</caption>\n",
       "<thead>\n",
       "\t<tr><th></th><th scope=col>A11</th><th scope=col>X6</th><th scope=col>A34</th><th scope=col>A43</th><th scope=col>X1169</th><th scope=col>A65</th><th scope=col>A75</th><th scope=col>X4</th><th scope=col>A93</th><th scope=col>A101</th><th scope=col>⋯</th><th scope=col>A121</th><th scope=col>X67</th><th scope=col>A143</th><th scope=col>A152</th><th scope=col>X2</th><th scope=col>A173</th><th scope=col>X1</th><th scope=col>A192</th><th scope=col>A201</th><th scope=col>X1.1</th></tr>\n",
       "\t<tr><th></th><th scope=col>&lt;fct&gt;</th><th scope=col>&lt;int&gt;</th><th scope=col>&lt;fct&gt;</th><th scope=col>&lt;fct&gt;</th><th scope=col>&lt;int&gt;</th><th scope=col>&lt;fct&gt;</th><th scope=col>&lt;fct&gt;</th><th scope=col>&lt;int&gt;</th><th scope=col>&lt;fct&gt;</th><th scope=col>&lt;fct&gt;</th><th scope=col>⋯</th><th scope=col>&lt;fct&gt;</th><th scope=col>&lt;int&gt;</th><th scope=col>&lt;fct&gt;</th><th scope=col>&lt;fct&gt;</th><th scope=col>&lt;int&gt;</th><th scope=col>&lt;fct&gt;</th><th scope=col>&lt;int&gt;</th><th scope=col>&lt;fct&gt;</th><th scope=col>&lt;fct&gt;</th><th scope=col>&lt;int&gt;</th></tr>\n",
       "</thead>\n",
       "<tbody>\n",
       "\t<tr><th scope=row>1</th><td>A12</td><td>48</td><td>A32</td><td>A43</td><td>5951</td><td>A61</td><td>A73</td><td>2</td><td>A92</td><td>A101</td><td>⋯</td><td>A121</td><td>22</td><td>A143</td><td>A152</td><td>1</td><td>A173</td><td>1</td><td>A191</td><td>A201</td><td>2</td></tr>\n",
       "\t<tr><th scope=row>2</th><td>A14</td><td>12</td><td>A34</td><td>A46</td><td>2096</td><td>A61</td><td>A74</td><td>2</td><td>A93</td><td>A101</td><td>⋯</td><td>A121</td><td>49</td><td>A143</td><td>A152</td><td>1</td><td>A172</td><td>2</td><td>A191</td><td>A201</td><td>1</td></tr>\n",
       "\t<tr><th scope=row>3</th><td>A11</td><td>42</td><td>A32</td><td>A42</td><td>7882</td><td>A61</td><td>A74</td><td>2</td><td>A93</td><td>A103</td><td>⋯</td><td>A122</td><td>45</td><td>A143</td><td>A153</td><td>1</td><td>A173</td><td>2</td><td>A191</td><td>A201</td><td>1</td></tr>\n",
       "\t<tr><th scope=row>4</th><td>A11</td><td>24</td><td>A33</td><td>A40</td><td>4870</td><td>A61</td><td>A73</td><td>3</td><td>A93</td><td>A101</td><td>⋯</td><td>A124</td><td>53</td><td>A143</td><td>A153</td><td>2</td><td>A173</td><td>2</td><td>A191</td><td>A201</td><td>2</td></tr>\n",
       "\t<tr><th scope=row>5</th><td>A14</td><td>36</td><td>A32</td><td>A46</td><td>9055</td><td>A65</td><td>A73</td><td>2</td><td>A93</td><td>A101</td><td>⋯</td><td>A124</td><td>35</td><td>A143</td><td>A153</td><td>1</td><td>A172</td><td>2</td><td>A192</td><td>A201</td><td>1</td></tr>\n",
       "\t<tr><th scope=row>6</th><td>A14</td><td>24</td><td>A32</td><td>A42</td><td>2835</td><td>A63</td><td>A75</td><td>3</td><td>A93</td><td>A101</td><td>⋯</td><td>A122</td><td>53</td><td>A143</td><td>A152</td><td>1</td><td>A173</td><td>1</td><td>A191</td><td>A201</td><td>1</td></tr>\n",
       "</tbody>\n",
       "</table>\n"
      ],
      "text/latex": [
       "A data.frame: 6 × 21\n",
       "\\begin{tabular}{r|lllllllllllllllllllll}\n",
       "  & A11 & X6 & A34 & A43 & X1169 & A65 & A75 & X4 & A93 & A101 & ⋯ & A121 & X67 & A143 & A152 & X2 & A173 & X1 & A192 & A201 & X1.1\\\\\n",
       "  & <fct> & <int> & <fct> & <fct> & <int> & <fct> & <fct> & <int> & <fct> & <fct> & ⋯ & <fct> & <int> & <fct> & <fct> & <int> & <fct> & <int> & <fct> & <fct> & <int>\\\\\n",
       "\\hline\n",
       "\t1 & A12 & 48 & A32 & A43 & 5951 & A61 & A73 & 2 & A92 & A101 & ⋯ & A121 & 22 & A143 & A152 & 1 & A173 & 1 & A191 & A201 & 2\\\\\n",
       "\t2 & A14 & 12 & A34 & A46 & 2096 & A61 & A74 & 2 & A93 & A101 & ⋯ & A121 & 49 & A143 & A152 & 1 & A172 & 2 & A191 & A201 & 1\\\\\n",
       "\t3 & A11 & 42 & A32 & A42 & 7882 & A61 & A74 & 2 & A93 & A103 & ⋯ & A122 & 45 & A143 & A153 & 1 & A173 & 2 & A191 & A201 & 1\\\\\n",
       "\t4 & A11 & 24 & A33 & A40 & 4870 & A61 & A73 & 3 & A93 & A101 & ⋯ & A124 & 53 & A143 & A153 & 2 & A173 & 2 & A191 & A201 & 2\\\\\n",
       "\t5 & A14 & 36 & A32 & A46 & 9055 & A65 & A73 & 2 & A93 & A101 & ⋯ & A124 & 35 & A143 & A153 & 1 & A172 & 2 & A192 & A201 & 1\\\\\n",
       "\t6 & A14 & 24 & A32 & A42 & 2835 & A63 & A75 & 3 & A93 & A101 & ⋯ & A122 & 53 & A143 & A152 & 1 & A173 & 1 & A191 & A201 & 1\\\\\n",
       "\\end{tabular}\n"
      ],
      "text/markdown": [
       "\n",
       "A data.frame: 6 × 21\n",
       "\n",
       "| <!--/--> | A11 &lt;fct&gt; | X6 &lt;int&gt; | A34 &lt;fct&gt; | A43 &lt;fct&gt; | X1169 &lt;int&gt; | A65 &lt;fct&gt; | A75 &lt;fct&gt; | X4 &lt;int&gt; | A93 &lt;fct&gt; | A101 &lt;fct&gt; | ⋯ ⋯ | A121 &lt;fct&gt; | X67 &lt;int&gt; | A143 &lt;fct&gt; | A152 &lt;fct&gt; | X2 &lt;int&gt; | A173 &lt;fct&gt; | X1 &lt;int&gt; | A192 &lt;fct&gt; | A201 &lt;fct&gt; | X1.1 &lt;int&gt; |\n",
       "|---|---|---|---|---|---|---|---|---|---|---|---|---|---|---|---|---|---|---|---|---|---|\n",
       "| 1 | A12 | 48 | A32 | A43 | 5951 | A61 | A73 | 2 | A92 | A101 | ⋯ | A121 | 22 | A143 | A152 | 1 | A173 | 1 | A191 | A201 | 2 |\n",
       "| 2 | A14 | 12 | A34 | A46 | 2096 | A61 | A74 | 2 | A93 | A101 | ⋯ | A121 | 49 | A143 | A152 | 1 | A172 | 2 | A191 | A201 | 1 |\n",
       "| 3 | A11 | 42 | A32 | A42 | 7882 | A61 | A74 | 2 | A93 | A103 | ⋯ | A122 | 45 | A143 | A153 | 1 | A173 | 2 | A191 | A201 | 1 |\n",
       "| 4 | A11 | 24 | A33 | A40 | 4870 | A61 | A73 | 3 | A93 | A101 | ⋯ | A124 | 53 | A143 | A153 | 2 | A173 | 2 | A191 | A201 | 2 |\n",
       "| 5 | A14 | 36 | A32 | A46 | 9055 | A65 | A73 | 2 | A93 | A101 | ⋯ | A124 | 35 | A143 | A153 | 1 | A172 | 2 | A192 | A201 | 1 |\n",
       "| 6 | A14 | 24 | A32 | A42 | 2835 | A63 | A75 | 3 | A93 | A101 | ⋯ | A122 | 53 | A143 | A152 | 1 | A173 | 1 | A191 | A201 | 1 |\n",
       "\n"
      ],
      "text/plain": [
       "  A11 X6 A34 A43 X1169 A65 A75 X4 A93 A101 ⋯ A121 X67 A143 A152 X2 A173 X1 A192\n",
       "1 A12 48 A32 A43 5951  A61 A73 2  A92 A101 ⋯ A121 22  A143 A152 1  A173 1  A191\n",
       "2 A14 12 A34 A46 2096  A61 A74 2  A93 A101 ⋯ A121 49  A143 A152 1  A172 2  A191\n",
       "3 A11 42 A32 A42 7882  A61 A74 2  A93 A103 ⋯ A122 45  A143 A153 1  A173 2  A191\n",
       "4 A11 24 A33 A40 4870  A61 A73 3  A93 A101 ⋯ A124 53  A143 A153 2  A173 2  A191\n",
       "5 A14 36 A32 A46 9055  A65 A73 2  A93 A101 ⋯ A124 35  A143 A153 1  A172 2  A192\n",
       "6 A14 24 A32 A42 2835  A63 A75 3  A93 A101 ⋯ A122 53  A143 A152 1  A173 1  A191\n",
       "  A201 X1.1\n",
       "1 A201 2   \n",
       "2 A201 1   \n",
       "3 A201 1   \n",
       "4 A201 2   \n",
       "5 A201 1   \n",
       "6 A201 1   "
      ]
     },
     "metadata": {},
     "output_type": "display_data"
    }
   ],
   "source": [
    "credit1 <-converter_para_fatores(credit)\n",
    "head(credit1)"
   ]
  },
  {
   "cell_type": "code",
   "execution_count": 7,
   "id": "17ab3305",
   "metadata": {
    "vscode": {
     "languageId": "r"
    }
   },
   "outputs": [],
   "source": [
    "# Criando a lista com os nomes das colunas\n",
    "lista_nomes <- c(\"status_conta\", \"duracao\", \"historico_credito\", \"proposito_credito\",\n",
    "                 \"valor_credito\", \"titulos_poupanca\", \"duracao_emprego\", \"taxa_parcelamento\",\n",
    "                 \"sexo_e_estado_civil\", \"outros_devedores\", \"tempo_residencia\", \"tipo_propriedade\",\n",
    "                 \"idade\", \"outras_parcelas\", \"tipo_habitacao\", \"creditos_existentes_neste_banco\",\n",
    "                 \"emprego\", \"num_dependentes\", \"telefone\", \"trabalhador_estrangeiro\", \"status_credito\")\n"
   ]
  },
  {
   "cell_type": "code",
   "execution_count": 8,
   "id": "0ea45016",
   "metadata": {
    "vscode": {
     "languageId": "r"
    }
   },
   "outputs": [
    {
     "data": {
      "text/html": [
       "<style>\n",
       ".list-inline {list-style: none; margin:0; padding: 0}\n",
       ".list-inline>li {display: inline-block}\n",
       ".list-inline>li:not(:last-child)::after {content: \"\\00b7\"; padding: 0 .5ex}\n",
       "</style>\n",
       "<ol class=list-inline><li>'status_conta'</li><li>'duracao'</li><li>'historico_credito'</li><li>'proposito_credito'</li><li>'valor_credito'</li><li>'titulos_poupanca'</li><li>'duracao_emprego'</li><li>'taxa_parcelamento'</li><li>'sexo_e_estado_civil'</li><li>'outros_devedores'</li><li>'tempo_residencia'</li><li>'tipo_propriedade'</li><li>'idade'</li><li>'outras_parcelas'</li><li>'tipo_habitacao'</li><li>'creditos_existentes_neste_banco'</li><li>'emprego'</li><li>'num_dependentes'</li><li>'telefone'</li><li>'trabalhador_estrangeiro'</li><li>'status_credito'</li></ol>\n"
      ],
      "text/latex": [
       "\\begin{enumerate*}\n",
       "\\item 'status\\_conta'\n",
       "\\item 'duracao'\n",
       "\\item 'historico\\_credito'\n",
       "\\item 'proposito\\_credito'\n",
       "\\item 'valor\\_credito'\n",
       "\\item 'titulos\\_poupanca'\n",
       "\\item 'duracao\\_emprego'\n",
       "\\item 'taxa\\_parcelamento'\n",
       "\\item 'sexo\\_e\\_estado\\_civil'\n",
       "\\item 'outros\\_devedores'\n",
       "\\item 'tempo\\_residencia'\n",
       "\\item 'tipo\\_propriedade'\n",
       "\\item 'idade'\n",
       "\\item 'outras\\_parcelas'\n",
       "\\item 'tipo\\_habitacao'\n",
       "\\item 'creditos\\_existentes\\_neste\\_banco'\n",
       "\\item 'emprego'\n",
       "\\item 'num\\_dependentes'\n",
       "\\item 'telefone'\n",
       "\\item 'trabalhador\\_estrangeiro'\n",
       "\\item 'status\\_credito'\n",
       "\\end{enumerate*}\n"
      ],
      "text/markdown": [
       "1. 'status_conta'\n",
       "2. 'duracao'\n",
       "3. 'historico_credito'\n",
       "4. 'proposito_credito'\n",
       "5. 'valor_credito'\n",
       "6. 'titulos_poupanca'\n",
       "7. 'duracao_emprego'\n",
       "8. 'taxa_parcelamento'\n",
       "9. 'sexo_e_estado_civil'\n",
       "10. 'outros_devedores'\n",
       "11. 'tempo_residencia'\n",
       "12. 'tipo_propriedade'\n",
       "13. 'idade'\n",
       "14. 'outras_parcelas'\n",
       "15. 'tipo_habitacao'\n",
       "16. 'creditos_existentes_neste_banco'\n",
       "17. 'emprego'\n",
       "18. 'num_dependentes'\n",
       "19. 'telefone'\n",
       "20. 'trabalhador_estrangeiro'\n",
       "21. 'status_credito'\n",
       "\n",
       "\n"
      ],
      "text/plain": [
       " [1] \"status_conta\"                    \"duracao\"                        \n",
       " [3] \"historico_credito\"               \"proposito_credito\"              \n",
       " [5] \"valor_credito\"                   \"titulos_poupanca\"               \n",
       " [7] \"duracao_emprego\"                 \"taxa_parcelamento\"              \n",
       " [9] \"sexo_e_estado_civil\"             \"outros_devedores\"               \n",
       "[11] \"tempo_residencia\"                \"tipo_propriedade\"               \n",
       "[13] \"idade\"                           \"outras_parcelas\"                \n",
       "[15] \"tipo_habitacao\"                  \"creditos_existentes_neste_banco\"\n",
       "[17] \"emprego\"                         \"num_dependentes\"                \n",
       "[19] \"telefone\"                        \"trabalhador_estrangeiro\"        \n",
       "[21] \"status_credito\"                 "
      ]
     },
     "metadata": {},
     "output_type": "display_data"
    }
   ],
   "source": [
    "lista_nomes"
   ]
  },
  {
   "cell_type": "code",
   "execution_count": 9,
   "id": "8e2dca16",
   "metadata": {
    "vscode": {
     "languageId": "r"
    }
   },
   "outputs": [
    {
     "data": {
      "text/html": [
       "<table class=\"dataframe\">\n",
       "<caption>A data.frame: 6 × 21</caption>\n",
       "<thead>\n",
       "\t<tr><th></th><th scope=col>status_conta</th><th scope=col>duracao</th><th scope=col>historico_credito</th><th scope=col>proposito_credito</th><th scope=col>valor_credito</th><th scope=col>titulos_poupanca</th><th scope=col>duracao_emprego</th><th scope=col>taxa_parcelamento</th><th scope=col>sexo_e_estado_civil</th><th scope=col>outros_devedores</th><th scope=col>⋯</th><th scope=col>tipo_propriedade</th><th scope=col>idade</th><th scope=col>outras_parcelas</th><th scope=col>tipo_habitacao</th><th scope=col>creditos_existentes_neste_banco</th><th scope=col>emprego</th><th scope=col>num_dependentes</th><th scope=col>telefone</th><th scope=col>trabalhador_estrangeiro</th><th scope=col>status_credito</th></tr>\n",
       "\t<tr><th></th><th scope=col>&lt;fct&gt;</th><th scope=col>&lt;int&gt;</th><th scope=col>&lt;fct&gt;</th><th scope=col>&lt;fct&gt;</th><th scope=col>&lt;int&gt;</th><th scope=col>&lt;fct&gt;</th><th scope=col>&lt;fct&gt;</th><th scope=col>&lt;int&gt;</th><th scope=col>&lt;fct&gt;</th><th scope=col>&lt;fct&gt;</th><th scope=col>⋯</th><th scope=col>&lt;fct&gt;</th><th scope=col>&lt;int&gt;</th><th scope=col>&lt;fct&gt;</th><th scope=col>&lt;fct&gt;</th><th scope=col>&lt;int&gt;</th><th scope=col>&lt;fct&gt;</th><th scope=col>&lt;int&gt;</th><th scope=col>&lt;fct&gt;</th><th scope=col>&lt;fct&gt;</th><th scope=col>&lt;int&gt;</th></tr>\n",
       "</thead>\n",
       "<tbody>\n",
       "\t<tr><th scope=row>1</th><td>A12</td><td>48</td><td>A32</td><td>A43</td><td>5951</td><td>A61</td><td>A73</td><td>2</td><td>A92</td><td>A101</td><td>⋯</td><td>A121</td><td>22</td><td>A143</td><td>A152</td><td>1</td><td>A173</td><td>1</td><td>A191</td><td>A201</td><td>2</td></tr>\n",
       "\t<tr><th scope=row>2</th><td>A14</td><td>12</td><td>A34</td><td>A46</td><td>2096</td><td>A61</td><td>A74</td><td>2</td><td>A93</td><td>A101</td><td>⋯</td><td>A121</td><td>49</td><td>A143</td><td>A152</td><td>1</td><td>A172</td><td>2</td><td>A191</td><td>A201</td><td>1</td></tr>\n",
       "\t<tr><th scope=row>3</th><td>A11</td><td>42</td><td>A32</td><td>A42</td><td>7882</td><td>A61</td><td>A74</td><td>2</td><td>A93</td><td>A103</td><td>⋯</td><td>A122</td><td>45</td><td>A143</td><td>A153</td><td>1</td><td>A173</td><td>2</td><td>A191</td><td>A201</td><td>1</td></tr>\n",
       "\t<tr><th scope=row>4</th><td>A11</td><td>24</td><td>A33</td><td>A40</td><td>4870</td><td>A61</td><td>A73</td><td>3</td><td>A93</td><td>A101</td><td>⋯</td><td>A124</td><td>53</td><td>A143</td><td>A153</td><td>2</td><td>A173</td><td>2</td><td>A191</td><td>A201</td><td>2</td></tr>\n",
       "\t<tr><th scope=row>5</th><td>A14</td><td>36</td><td>A32</td><td>A46</td><td>9055</td><td>A65</td><td>A73</td><td>2</td><td>A93</td><td>A101</td><td>⋯</td><td>A124</td><td>35</td><td>A143</td><td>A153</td><td>1</td><td>A172</td><td>2</td><td>A192</td><td>A201</td><td>1</td></tr>\n",
       "\t<tr><th scope=row>6</th><td>A14</td><td>24</td><td>A32</td><td>A42</td><td>2835</td><td>A63</td><td>A75</td><td>3</td><td>A93</td><td>A101</td><td>⋯</td><td>A122</td><td>53</td><td>A143</td><td>A152</td><td>1</td><td>A173</td><td>1</td><td>A191</td><td>A201</td><td>1</td></tr>\n",
       "</tbody>\n",
       "</table>\n"
      ],
      "text/latex": [
       "A data.frame: 6 × 21\n",
       "\\begin{tabular}{r|lllllllllllllllllllll}\n",
       "  & status\\_conta & duracao & historico\\_credito & proposito\\_credito & valor\\_credito & titulos\\_poupanca & duracao\\_emprego & taxa\\_parcelamento & sexo\\_e\\_estado\\_civil & outros\\_devedores & ⋯ & tipo\\_propriedade & idade & outras\\_parcelas & tipo\\_habitacao & creditos\\_existentes\\_neste\\_banco & emprego & num\\_dependentes & telefone & trabalhador\\_estrangeiro & status\\_credito\\\\\n",
       "  & <fct> & <int> & <fct> & <fct> & <int> & <fct> & <fct> & <int> & <fct> & <fct> & ⋯ & <fct> & <int> & <fct> & <fct> & <int> & <fct> & <int> & <fct> & <fct> & <int>\\\\\n",
       "\\hline\n",
       "\t1 & A12 & 48 & A32 & A43 & 5951 & A61 & A73 & 2 & A92 & A101 & ⋯ & A121 & 22 & A143 & A152 & 1 & A173 & 1 & A191 & A201 & 2\\\\\n",
       "\t2 & A14 & 12 & A34 & A46 & 2096 & A61 & A74 & 2 & A93 & A101 & ⋯ & A121 & 49 & A143 & A152 & 1 & A172 & 2 & A191 & A201 & 1\\\\\n",
       "\t3 & A11 & 42 & A32 & A42 & 7882 & A61 & A74 & 2 & A93 & A103 & ⋯ & A122 & 45 & A143 & A153 & 1 & A173 & 2 & A191 & A201 & 1\\\\\n",
       "\t4 & A11 & 24 & A33 & A40 & 4870 & A61 & A73 & 3 & A93 & A101 & ⋯ & A124 & 53 & A143 & A153 & 2 & A173 & 2 & A191 & A201 & 2\\\\\n",
       "\t5 & A14 & 36 & A32 & A46 & 9055 & A65 & A73 & 2 & A93 & A101 & ⋯ & A124 & 35 & A143 & A153 & 1 & A172 & 2 & A192 & A201 & 1\\\\\n",
       "\t6 & A14 & 24 & A32 & A42 & 2835 & A63 & A75 & 3 & A93 & A101 & ⋯ & A122 & 53 & A143 & A152 & 1 & A173 & 1 & A191 & A201 & 1\\\\\n",
       "\\end{tabular}\n"
      ],
      "text/markdown": [
       "\n",
       "A data.frame: 6 × 21\n",
       "\n",
       "| <!--/--> | status_conta &lt;fct&gt; | duracao &lt;int&gt; | historico_credito &lt;fct&gt; | proposito_credito &lt;fct&gt; | valor_credito &lt;int&gt; | titulos_poupanca &lt;fct&gt; | duracao_emprego &lt;fct&gt; | taxa_parcelamento &lt;int&gt; | sexo_e_estado_civil &lt;fct&gt; | outros_devedores &lt;fct&gt; | ⋯ ⋯ | tipo_propriedade &lt;fct&gt; | idade &lt;int&gt; | outras_parcelas &lt;fct&gt; | tipo_habitacao &lt;fct&gt; | creditos_existentes_neste_banco &lt;int&gt; | emprego &lt;fct&gt; | num_dependentes &lt;int&gt; | telefone &lt;fct&gt; | trabalhador_estrangeiro &lt;fct&gt; | status_credito &lt;int&gt; |\n",
       "|---|---|---|---|---|---|---|---|---|---|---|---|---|---|---|---|---|---|---|---|---|---|\n",
       "| 1 | A12 | 48 | A32 | A43 | 5951 | A61 | A73 | 2 | A92 | A101 | ⋯ | A121 | 22 | A143 | A152 | 1 | A173 | 1 | A191 | A201 | 2 |\n",
       "| 2 | A14 | 12 | A34 | A46 | 2096 | A61 | A74 | 2 | A93 | A101 | ⋯ | A121 | 49 | A143 | A152 | 1 | A172 | 2 | A191 | A201 | 1 |\n",
       "| 3 | A11 | 42 | A32 | A42 | 7882 | A61 | A74 | 2 | A93 | A103 | ⋯ | A122 | 45 | A143 | A153 | 1 | A173 | 2 | A191 | A201 | 1 |\n",
       "| 4 | A11 | 24 | A33 | A40 | 4870 | A61 | A73 | 3 | A93 | A101 | ⋯ | A124 | 53 | A143 | A153 | 2 | A173 | 2 | A191 | A201 | 2 |\n",
       "| 5 | A14 | 36 | A32 | A46 | 9055 | A65 | A73 | 2 | A93 | A101 | ⋯ | A124 | 35 | A143 | A153 | 1 | A172 | 2 | A192 | A201 | 1 |\n",
       "| 6 | A14 | 24 | A32 | A42 | 2835 | A63 | A75 | 3 | A93 | A101 | ⋯ | A122 | 53 | A143 | A152 | 1 | A173 | 1 | A191 | A201 | 1 |\n",
       "\n"
      ],
      "text/plain": [
       "  status_conta duracao historico_credito proposito_credito valor_credito\n",
       "1 A12          48      A32               A43               5951         \n",
       "2 A14          12      A34               A46               2096         \n",
       "3 A11          42      A32               A42               7882         \n",
       "4 A11          24      A33               A40               4870         \n",
       "5 A14          36      A32               A46               9055         \n",
       "6 A14          24      A32               A42               2835         \n",
       "  titulos_poupanca duracao_emprego taxa_parcelamento sexo_e_estado_civil\n",
       "1 A61              A73             2                 A92                \n",
       "2 A61              A74             2                 A93                \n",
       "3 A61              A74             2                 A93                \n",
       "4 A61              A73             3                 A93                \n",
       "5 A65              A73             2                 A93                \n",
       "6 A63              A75             3                 A93                \n",
       "  outros_devedores ⋯ tipo_propriedade idade outras_parcelas tipo_habitacao\n",
       "1 A101             ⋯ A121             22    A143            A152          \n",
       "2 A101             ⋯ A121             49    A143            A152          \n",
       "3 A103             ⋯ A122             45    A143            A153          \n",
       "4 A101             ⋯ A124             53    A143            A153          \n",
       "5 A101             ⋯ A124             35    A143            A153          \n",
       "6 A101             ⋯ A122             53    A143            A152          \n",
       "  creditos_existentes_neste_banco emprego num_dependentes telefone\n",
       "1 1                               A173    1               A191    \n",
       "2 1                               A172    2               A191    \n",
       "3 1                               A173    2               A191    \n",
       "4 2                               A173    2               A191    \n",
       "5 1                               A172    2               A192    \n",
       "6 1                               A173    1               A191    \n",
       "  trabalhador_estrangeiro status_credito\n",
       "1 A201                    2             \n",
       "2 A201                    1             \n",
       "3 A201                    1             \n",
       "4 A201                    2             \n",
       "5 A201                    1             \n",
       "6 A201                    1             "
      ]
     },
     "metadata": {},
     "output_type": "display_data"
    }
   ],
   "source": [
    "# Renomeando as colunas do dataframe\n",
    "colnames(credit1) <- lista_nomes\n",
    "head(credit1)"
   ]
  },
  {
   "cell_type": "code",
   "execution_count": 10,
   "id": "1f24d7eb",
   "metadata": {
    "vscode": {
     "languageId": "r"
    }
   },
   "outputs": [
    {
     "name": "stdout",
     "output_type": "stream",
     "text": [
      "Rows: 999\n",
      "Columns: 21\n",
      "$ status_conta                    \u001b[3m\u001b[90m<fct>\u001b[39m\u001b[23m A12, A14, A11, A11, A14, A14, A12, A14…\n",
      "$ duracao                         \u001b[3m\u001b[90m<int>\u001b[39m\u001b[23m 48, 12, 42, 24, 36, 24, 36, 12, 30, 12…\n",
      "$ historico_credito               \u001b[3m\u001b[90m<fct>\u001b[39m\u001b[23m A32, A34, A32, A33, A32, A32, A32, A32…\n",
      "$ proposito_credito               \u001b[3m\u001b[90m<fct>\u001b[39m\u001b[23m A43, A46, A42, A40, A46, A42, A41, A43…\n",
      "$ valor_credito                   \u001b[3m\u001b[90m<int>\u001b[39m\u001b[23m 5951, 2096, 7882, 4870, 9055, 2835, 69…\n",
      "$ titulos_poupanca                \u001b[3m\u001b[90m<fct>\u001b[39m\u001b[23m A61, A61, A61, A61, A65, A63, A61, A64…\n",
      "$ duracao_emprego                 \u001b[3m\u001b[90m<fct>\u001b[39m\u001b[23m A73, A74, A74, A73, A73, A75, A73, A74…\n",
      "$ taxa_parcelamento               \u001b[3m\u001b[90m<int>\u001b[39m\u001b[23m 2, 2, 2, 3, 2, 3, 2, 2, 4, 3, 3, 1, 4,…\n",
      "$ sexo_e_estado_civil             \u001b[3m\u001b[90m<fct>\u001b[39m\u001b[23m A92, A93, A93, A93, A93, A93, A93, A91…\n",
      "$ outros_devedores                \u001b[3m\u001b[90m<fct>\u001b[39m\u001b[23m A101, A101, A103, A101, A101, A101, A1…\n",
      "$ tempo_residencia                \u001b[3m\u001b[90m<int>\u001b[39m\u001b[23m 2, 3, 4, 4, 4, 4, 2, 4, 2, 1, 4, 1, 4,…\n",
      "$ tipo_propriedade                \u001b[3m\u001b[90m<fct>\u001b[39m\u001b[23m A121, A121, A122, A124, A124, A122, A1…\n",
      "$ idade                           \u001b[3m\u001b[90m<int>\u001b[39m\u001b[23m 22, 49, 45, 53, 35, 53, 35, 61, 28, 25…\n",
      "$ outras_parcelas                 \u001b[3m\u001b[90m<fct>\u001b[39m\u001b[23m A143, A143, A143, A143, A143, A143, A1…\n",
      "$ tipo_habitacao                  \u001b[3m\u001b[90m<fct>\u001b[39m\u001b[23m A152, A152, A153, A153, A153, A152, A1…\n",
      "$ creditos_existentes_neste_banco \u001b[3m\u001b[90m<int>\u001b[39m\u001b[23m 1, 1, 1, 2, 1, 1, 1, 1, 2, 1, 1, 1, 2,…\n",
      "$ emprego                         \u001b[3m\u001b[90m<fct>\u001b[39m\u001b[23m A173, A172, A173, A173, A172, A173, A1…\n",
      "$ num_dependentes                 \u001b[3m\u001b[90m<int>\u001b[39m\u001b[23m 1, 2, 2, 2, 2, 1, 1, 1, 1, 1, 1, 1, 1,…\n",
      "$ telefone                        \u001b[3m\u001b[90m<fct>\u001b[39m\u001b[23m A191, A191, A191, A191, A192, A191, A1…\n",
      "$ trabalhador_estrangeiro         \u001b[3m\u001b[90m<fct>\u001b[39m\u001b[23m A201, A201, A201, A201, A201, A201, A2…\n",
      "$ status_credito                  \u001b[3m\u001b[90m<int>\u001b[39m\u001b[23m 2, 1, 1, 2, 1, 1, 1, 1, 2, 2, 2, 1, 2,…\n"
     ]
    }
   ],
   "source": [
    "glimpse(credit1)"
   ]
  },
  {
   "cell_type": "code",
   "execution_count": 11,
   "id": "783f8bb3",
   "metadata": {
    "vscode": {
     "languageId": "r"
    }
   },
   "outputs": [
    {
     "data": {
      "text/plain": [
       "   Min. 1st Qu.  Median    Mean 3rd Qu.    Max. \n",
       "   4.00   12.00   18.00   20.92   24.00   72.00 "
      ]
     },
     "metadata": {},
     "output_type": "display_data"
    },
    {
     "data": {
      "text/html": [
       "33"
      ],
      "text/latex": [
       "33"
      ],
      "text/markdown": [
       "33"
      ],
      "text/plain": [
       "[1] 33"
      ]
     },
     "metadata": {},
     "output_type": "display_data"
    }
   ],
   "source": [
    "#Explorando variaveis numéricas\n",
    "summary(credit1$duracao)\n",
    "#Quantidade de valores unicos\n",
    "length(unique(credit1$duracao))"
   ]
  },
  {
   "cell_type": "code",
   "execution_count": 12,
   "id": "8c19c90d",
   "metadata": {
    "vscode": {
     "languageId": "r"
    }
   },
   "outputs": [
    {
     "data": {
      "text/plain": [
       "   Min. 1st Qu.  Median    Mean 3rd Qu.    Max. \n",
       "    250    1368    2320    3273    3972   18424 "
      ]
     },
     "metadata": {},
     "output_type": "display_data"
    },
    {
     "data": {
      "text/html": [
       "921"
      ],
      "text/latex": [
       "921"
      ],
      "text/markdown": [
       "921"
      ],
      "text/plain": [
       "[1] 921"
      ]
     },
     "metadata": {},
     "output_type": "display_data"
    }
   ],
   "source": [
    "#Explorando variaveis numéricas\n",
    "summary(credit1$valor_credito)\n",
    "#Quantidade de valores unicos\n",
    "length(unique(credit1$valor_credito))"
   ]
  },
  {
   "cell_type": "code",
   "execution_count": 13,
   "id": "575e96e4",
   "metadata": {
    "vscode": {
     "languageId": "r"
    }
   },
   "outputs": [
    {
     "data": {
      "text/plain": [
       "   Min. 1st Qu.  Median    Mean 3rd Qu.    Max. \n",
       "  1.000   2.000   3.000   2.972   4.000   4.000 "
      ]
     },
     "metadata": {},
     "output_type": "display_data"
    },
    {
     "data": {
      "text/html": [
       "4"
      ],
      "text/latex": [
       "4"
      ],
      "text/markdown": [
       "4"
      ],
      "text/plain": [
       "[1] 4"
      ]
     },
     "metadata": {},
     "output_type": "display_data"
    }
   ],
   "source": [
    "#Explorando variaveis numéricas\n",
    "summary(credit1$taxa_parcelamento)\n",
    "#Quantidade de valores unicos\n",
    "length(unique(credit1$taxa_parcelamento))"
   ]
  },
  {
   "cell_type": "code",
   "execution_count": 14,
   "id": "86274a0a",
   "metadata": {
    "vscode": {
     "languageId": "r"
    }
   },
   "outputs": [
    {
     "data": {
      "text/plain": [
       "   Min. 1st Qu.  Median    Mean 3rd Qu.    Max. \n",
       "  1.000   2.000   3.000   2.844   4.000   4.000 "
      ]
     },
     "metadata": {},
     "output_type": "display_data"
    },
    {
     "data": {
      "text/html": [
       "4"
      ],
      "text/latex": [
       "4"
      ],
      "text/markdown": [
       "4"
      ],
      "text/plain": [
       "[1] 4"
      ]
     },
     "metadata": {},
     "output_type": "display_data"
    }
   ],
   "source": [
    "#Explorando variaveis numéricas\n",
    "summary(credit1$tempo_residencia)\n",
    "#Quantidade de valores unicos\n",
    "length(unique(credit1$tempo_residencia))"
   ]
  },
  {
   "cell_type": "code",
   "execution_count": 15,
   "id": "3842c855",
   "metadata": {
    "vscode": {
     "languageId": "r"
    }
   },
   "outputs": [
    {
     "data": {
      "text/plain": [
       "   Min. 1st Qu.  Median    Mean 3rd Qu.    Max. \n",
       "  19.00   27.00   33.00   35.51   42.00   75.00 "
      ]
     },
     "metadata": {},
     "output_type": "display_data"
    },
    {
     "data": {
      "text/html": [
       "53"
      ],
      "text/latex": [
       "53"
      ],
      "text/markdown": [
       "53"
      ],
      "text/plain": [
       "[1] 53"
      ]
     },
     "metadata": {},
     "output_type": "display_data"
    }
   ],
   "source": [
    "#Explorando variaveis numéricas\n",
    "summary(credit1$idade)\n",
    "#Quantidade de valores unicos\n",
    "length(unique(credit1$idade))"
   ]
  },
  {
   "cell_type": "code",
   "execution_count": 16,
   "id": "581fd031",
   "metadata": {
    "vscode": {
     "languageId": "r"
    }
   },
   "outputs": [
    {
     "data": {
      "text/plain": [
       "   Min. 1st Qu.  Median    Mean 3rd Qu.    Max. \n",
       "  1.000   1.000   1.000   1.406   2.000   4.000 "
      ]
     },
     "metadata": {},
     "output_type": "display_data"
    },
    {
     "data": {
      "text/html": [
       "4"
      ],
      "text/latex": [
       "4"
      ],
      "text/markdown": [
       "4"
      ],
      "text/plain": [
       "[1] 4"
      ]
     },
     "metadata": {},
     "output_type": "display_data"
    }
   ],
   "source": [
    "#Explorando variaveis numéricas\n",
    "summary(credit1$creditos_existentes_neste_banco)\n",
    "#Quantidade de valores unicos\n",
    "length(unique(credit1$creditos_existentes_neste_banco))"
   ]
  },
  {
   "cell_type": "code",
   "execution_count": 17,
   "id": "3c3c2de5",
   "metadata": {
    "vscode": {
     "languageId": "r"
    }
   },
   "outputs": [
    {
     "data": {
      "text/plain": [
       "   Min. 1st Qu.  Median    Mean 3rd Qu.    Max. \n",
       "  1.000   1.000   1.000   1.155   1.000   2.000 "
      ]
     },
     "metadata": {},
     "output_type": "display_data"
    },
    {
     "data": {
      "text/html": [
       "2"
      ],
      "text/latex": [
       "2"
      ],
      "text/markdown": [
       "2"
      ],
      "text/plain": [
       "[1] 2"
      ]
     },
     "metadata": {},
     "output_type": "display_data"
    }
   ],
   "source": [
    "#Explorando variaveis numéricas\n",
    "summary(credit1$num_dependentes)\n",
    "#Quantidade de valores unicos\n",
    "length(unique(credit1$num_dependentes))"
   ]
  },
  {
   "cell_type": "markdown",
   "id": "8b759e2a",
   "metadata": {},
   "source": [
    "### Colunas com muitos valores únicos do tipo numérico podem apresentar desafios em modelos de machine learning, por isto iremos realizar engenharia de atributos nestas colunas:\n",
    "\n",
    "- Quando você tem uma variável numérica com muitos valores únicos e deseja dividi-la em intervalos (ranges) para facilitar a modelagem, uma abordagem comum é a discretização ou binning.\n",
    "- Discretizar uma variável refere-se ao processo de transformar uma variável contínua em uma variável categórica ao agrupar seus valores em intervalos específicos.  \n",
    "**Binning (ou Quantização)** refere-se ao processo de agrupar um conjunto contínuo de valores em intervalos discretos ou \"bins\". O objetivo é transformar uma variável contínua em uma variável categórica, atribuindo rótulos ou categorias a intervalos específicos. Isso é útil em situações em que a natureza contínua dos dados precisa ser simplificada ou quando se deseja criar uma representação categórica para uma variável."
   ]
  },
  {
   "cell_type": "code",
   "execution_count": 18,
   "id": "c99f53a5",
   "metadata": {
    "vscode": {
     "languageId": "r"
    }
   },
   "outputs": [
    {
     "data": {
      "image/png": "[encoded data removed]",
      "text/plain": [
       "Plot with title \"Histogram of credit1$duracao\""
      ]
     },
     "metadata": {
      "image/png": {
       "height": 420,
       "width": 420
      }
     },
     "output_type": "display_data"
    }
   ],
   "source": [
    "#vamos verificar a distribuição para verificar o número de bins \n",
    "hist(credit1$duracao) "
   ]
  },
  {
   "cell_type": "code",
   "execution_count": 19,
   "id": "69d05c54",
   "metadata": {
    "vscode": {
     "languageId": "r"
    }
   },
   "outputs": [
    {
     "data": {
      "image/png": "[encoded data removed]",
      "text/plain": [
       "Plot with title \"Histogram of credit1$valor_credito\""
      ]
     },
     "metadata": {
      "image/png": {
       "height": 420,
       "width": 420
      }
     },
     "output_type": "display_data"
    }
   ],
   "source": [
    "hist(credit1$valor_credito)"
   ]
  },
  {
   "cell_type": "code",
   "execution_count": 20,
   "id": "699b8c20",
   "metadata": {
    "vscode": {
     "languageId": "r"
    }
   },
   "outputs": [
    {
     "data": {
      "image/png": "[encoded data removed]",
      "text/plain": [
       "Plot with title \"Histogram of credit1$idade\""
      ]
     },
     "metadata": {
      "image/png": {
       "height": 420,
       "width": 420
      }
     },
     "output_type": "display_data"
    }
   ],
   "source": [
    "hist(credit1$idade)"
   ]
  },
  {
   "cell_type": "markdown",
   "id": "3bf597a5",
   "metadata": {},
   "source": [
    "### Vamos dividir duracao, valor_credito em 4 bins e idade em 5. Vamos criar novas colunas para  realizar estas alterações."
   ]
  },
  {
   "cell_type": "code",
   "execution_count": 21,
   "id": "7d4dc685",
   "metadata": {
    "vscode": {
     "languageId": "r"
    }
   },
   "outputs": [],
   "source": [
    "# Definindo limites dos intervalos desejados para duracao\n",
    "#A função cut já retornar os resultados em tipo fator. \n",
    "intervalos_duracao <- c(0,20,40,60,80)\n",
    "\n",
    "# Aplicando a discretização com base nos intervalos\n",
    "credit1$duracao_eng <- cut(credit1$duracao, breaks = intervalos_duracao)"
   ]
  },
  {
   "cell_type": "code",
   "execution_count": 22,
   "id": "ca97e1f3",
   "metadata": {
    "vscode": {
     "languageId": "r"
    }
   },
   "outputs": [],
   "source": [
    "# Definindo limites dos intervalos desejados para idade\n",
    "intervalos_idade <- c(0, 15, 30, 45, 60, 75)\n",
    "\n",
    "# Aplicando a discretização com base nos intervalos\n",
    "credit1$idade_eng <- cut(credit1$idade, breaks = intervalos_idade)\n"
   ]
  },
  {
   "cell_type": "code",
   "execution_count": 23,
   "id": "32cd0315",
   "metadata": {
    "vscode": {
     "languageId": "r"
    }
   },
   "outputs": [],
   "source": [
    "# Definindo limites dos intervalos desejados para credito\n",
    "intervalos_credito <- c(0,5000,10000,15000,20000)\n",
    "\n",
    "# Aplicando a discretização com base nos intervalos\n",
    "credit1$valor_credito_eng <- cut(credit1$valor_credito, breaks = intervalos_credito)"
   ]
  },
  {
   "cell_type": "code",
   "execution_count": 24,
   "id": "2e274846",
   "metadata": {
    "vscode": {
     "languageId": "r"
    }
   },
   "outputs": [
    {
     "data": {
      "text/html": [
       "<table class=\"dataframe\">\n",
       "<caption>A data.frame: 6 × 24</caption>\n",
       "<thead>\n",
       "\t<tr><th></th><th scope=col>status_conta</th><th scope=col>duracao</th><th scope=col>historico_credito</th><th scope=col>proposito_credito</th><th scope=col>valor_credito</th><th scope=col>titulos_poupanca</th><th scope=col>duracao_emprego</th><th scope=col>taxa_parcelamento</th><th scope=col>sexo_e_estado_civil</th><th scope=col>outros_devedores</th><th scope=col>⋯</th><th scope=col>tipo_habitacao</th><th scope=col>creditos_existentes_neste_banco</th><th scope=col>emprego</th><th scope=col>num_dependentes</th><th scope=col>telefone</th><th scope=col>trabalhador_estrangeiro</th><th scope=col>status_credito</th><th scope=col>duracao_eng</th><th scope=col>idade_eng</th><th scope=col>valor_credito_eng</th></tr>\n",
       "\t<tr><th></th><th scope=col>&lt;fct&gt;</th><th scope=col>&lt;int&gt;</th><th scope=col>&lt;fct&gt;</th><th scope=col>&lt;fct&gt;</th><th scope=col>&lt;int&gt;</th><th scope=col>&lt;fct&gt;</th><th scope=col>&lt;fct&gt;</th><th scope=col>&lt;int&gt;</th><th scope=col>&lt;fct&gt;</th><th scope=col>&lt;fct&gt;</th><th scope=col>⋯</th><th scope=col>&lt;fct&gt;</th><th scope=col>&lt;int&gt;</th><th scope=col>&lt;fct&gt;</th><th scope=col>&lt;int&gt;</th><th scope=col>&lt;fct&gt;</th><th scope=col>&lt;fct&gt;</th><th scope=col>&lt;int&gt;</th><th scope=col>&lt;fct&gt;</th><th scope=col>&lt;fct&gt;</th><th scope=col>&lt;fct&gt;</th></tr>\n",
       "</thead>\n",
       "<tbody>\n",
       "\t<tr><th scope=row>1</th><td>A12</td><td>48</td><td>A32</td><td>A43</td><td>5951</td><td>A61</td><td>A73</td><td>2</td><td>A92</td><td>A101</td><td>⋯</td><td>A152</td><td>1</td><td>A173</td><td>1</td><td>A191</td><td>A201</td><td>2</td><td>(40,60]</td><td>(15,30]</td><td>(5e+03,1e+04]</td></tr>\n",
       "\t<tr><th scope=row>2</th><td>A14</td><td>12</td><td>A34</td><td>A46</td><td>2096</td><td>A61</td><td>A74</td><td>2</td><td>A93</td><td>A101</td><td>⋯</td><td>A152</td><td>1</td><td>A172</td><td>2</td><td>A191</td><td>A201</td><td>1</td><td>(0,20] </td><td>(45,60]</td><td>(0,5e+03]    </td></tr>\n",
       "\t<tr><th scope=row>3</th><td>A11</td><td>42</td><td>A32</td><td>A42</td><td>7882</td><td>A61</td><td>A74</td><td>2</td><td>A93</td><td>A103</td><td>⋯</td><td>A153</td><td>1</td><td>A173</td><td>2</td><td>A191</td><td>A201</td><td>1</td><td>(40,60]</td><td>(30,45]</td><td>(5e+03,1e+04]</td></tr>\n",
       "\t<tr><th scope=row>4</th><td>A11</td><td>24</td><td>A33</td><td>A40</td><td>4870</td><td>A61</td><td>A73</td><td>3</td><td>A93</td><td>A101</td><td>⋯</td><td>A153</td><td>2</td><td>A173</td><td>2</td><td>A191</td><td>A201</td><td>2</td><td>(20,40]</td><td>(45,60]</td><td>(0,5e+03]    </td></tr>\n",
       "\t<tr><th scope=row>5</th><td>A14</td><td>36</td><td>A32</td><td>A46</td><td>9055</td><td>A65</td><td>A73</td><td>2</td><td>A93</td><td>A101</td><td>⋯</td><td>A153</td><td>1</td><td>A172</td><td>2</td><td>A192</td><td>A201</td><td>1</td><td>(20,40]</td><td>(30,45]</td><td>(5e+03,1e+04]</td></tr>\n",
       "\t<tr><th scope=row>6</th><td>A14</td><td>24</td><td>A32</td><td>A42</td><td>2835</td><td>A63</td><td>A75</td><td>3</td><td>A93</td><td>A101</td><td>⋯</td><td>A152</td><td>1</td><td>A173</td><td>1</td><td>A191</td><td>A201</td><td>1</td><td>(20,40]</td><td>(45,60]</td><td>(0,5e+03]    </td></tr>\n",
       "</tbody>\n",
       "</table>\n"
      ],
      "text/latex": [
       "A data.frame: 6 × 24\n",
       "\\begin{tabular}{r|lllllllllllllllllllll}\n",
       "  & status\\_conta & duracao & historico\\_credito & proposito\\_credito & valor\\_credito & titulos\\_poupanca & duracao\\_emprego & taxa\\_parcelamento & sexo\\_e\\_estado\\_civil & outros\\_devedores & ⋯ & tipo\\_habitacao & creditos\\_existentes\\_neste\\_banco & emprego & num\\_dependentes & telefone & trabalhador\\_estrangeiro & status\\_credito & duracao\\_eng & idade\\_eng & valor\\_credito\\_eng\\\\\n",
       "  & <fct> & <int> & <fct> & <fct> & <int> & <fct> & <fct> & <int> & <fct> & <fct> & ⋯ & <fct> & <int> & <fct> & <int> & <fct> & <fct> & <int> & <fct> & <fct> & <fct>\\\\\n",
       "\\hline\n",
       "\t1 & A12 & 48 & A32 & A43 & 5951 & A61 & A73 & 2 & A92 & A101 & ⋯ & A152 & 1 & A173 & 1 & A191 & A201 & 2 & (40,60{]} & (15,30{]} & (5e+03,1e+04{]}\\\\\n",
       "\t2 & A14 & 12 & A34 & A46 & 2096 & A61 & A74 & 2 & A93 & A101 & ⋯ & A152 & 1 & A172 & 2 & A191 & A201 & 1 & (0,20{]}  & (45,60{]} & (0,5e+03{]}    \\\\\n",
       "\t3 & A11 & 42 & A32 & A42 & 7882 & A61 & A74 & 2 & A93 & A103 & ⋯ & A153 & 1 & A173 & 2 & A191 & A201 & 1 & (40,60{]} & (30,45{]} & (5e+03,1e+04{]}\\\\\n",
       "\t4 & A11 & 24 & A33 & A40 & 4870 & A61 & A73 & 3 & A93 & A101 & ⋯ & A153 & 2 & A173 & 2 & A191 & A201 & 2 & (20,40{]} & (45,60{]} & (0,5e+03{]}    \\\\\n",
       "\t5 & A14 & 36 & A32 & A46 & 9055 & A65 & A73 & 2 & A93 & A101 & ⋯ & A153 & 1 & A172 & 2 & A192 & A201 & 1 & (20,40{]} & (30,45{]} & (5e+03,1e+04{]}\\\\\n",
       "\t6 & A14 & 24 & A32 & A42 & 2835 & A63 & A75 & 3 & A93 & A101 & ⋯ & A152 & 1 & A173 & 1 & A191 & A201 & 1 & (20,40{]} & (45,60{]} & (0,5e+03{]}    \\\\\n",
       "\\end{tabular}\n"
      ],
      "text/markdown": [
       "\n",
       "A data.frame: 6 × 24\n",
       "\n",
       "| <!--/--> | status_conta &lt;fct&gt; | duracao &lt;int&gt; | historico_credito &lt;fct&gt; | proposito_credito &lt;fct&gt; | valor_credito &lt;int&gt; | titulos_poupanca &lt;fct&gt; | duracao_emprego &lt;fct&gt; | taxa_parcelamento &lt;int&gt; | sexo_e_estado_civil &lt;fct&gt; | outros_devedores &lt;fct&gt; | ⋯ ⋯ | tipo_habitacao &lt;fct&gt; | creditos_existentes_neste_banco &lt;int&gt; | emprego &lt;fct&gt; | num_dependentes &lt;int&gt; | telefone &lt;fct&gt; | trabalhador_estrangeiro &lt;fct&gt; | status_credito &lt;int&gt; | duracao_eng &lt;fct&gt; | idade_eng &lt;fct&gt; | valor_credito_eng &lt;fct&gt; |\n",
       "|---|---|---|---|---|---|---|---|---|---|---|---|---|---|---|---|---|---|---|---|---|---|\n",
       "| 1 | A12 | 48 | A32 | A43 | 5951 | A61 | A73 | 2 | A92 | A101 | ⋯ | A152 | 1 | A173 | 1 | A191 | A201 | 2 | (40,60] | (15,30] | (5e+03,1e+04] |\n",
       "| 2 | A14 | 12 | A34 | A46 | 2096 | A61 | A74 | 2 | A93 | A101 | ⋯ | A152 | 1 | A172 | 2 | A191 | A201 | 1 | (0,20]  | (45,60] | (0,5e+03]     |\n",
       "| 3 | A11 | 42 | A32 | A42 | 7882 | A61 | A74 | 2 | A93 | A103 | ⋯ | A153 | 1 | A173 | 2 | A191 | A201 | 1 | (40,60] | (30,45] | (5e+03,1e+04] |\n",
       "| 4 | A11 | 24 | A33 | A40 | 4870 | A61 | A73 | 3 | A93 | A101 | ⋯ | A153 | 2 | A173 | 2 | A191 | A201 | 2 | (20,40] | (45,60] | (0,5e+03]     |\n",
       "| 5 | A14 | 36 | A32 | A46 | 9055 | A65 | A73 | 2 | A93 | A101 | ⋯ | A153 | 1 | A172 | 2 | A192 | A201 | 1 | (20,40] | (30,45] | (5e+03,1e+04] |\n",
       "| 6 | A14 | 24 | A32 | A42 | 2835 | A63 | A75 | 3 | A93 | A101 | ⋯ | A152 | 1 | A173 | 1 | A191 | A201 | 1 | (20,40] | (45,60] | (0,5e+03]     |\n",
       "\n"
      ],
      "text/plain": [
       "  status_conta duracao historico_credito proposito_credito valor_credito\n",
       "1 A12          48      A32               A43               5951         \n",
       "2 A14          12      A34               A46               2096         \n",
       "3 A11          42      A32               A42               7882         \n",
       "4 A11          24      A33               A40               4870         \n",
       "5 A14          36      A32               A46               9055         \n",
       "6 A14          24      A32               A42               2835         \n",
       "  titulos_poupanca duracao_emprego taxa_parcelamento sexo_e_estado_civil\n",
       "1 A61              A73             2                 A92                \n",
       "2 A61              A74             2                 A93                \n",
       "3 A61              A74             2                 A93                \n",
       "4 A61              A73             3                 A93                \n",
       "5 A65              A73             2                 A93                \n",
       "6 A63              A75             3                 A93                \n",
       "  outros_devedores ⋯ tipo_habitacao creditos_existentes_neste_banco emprego\n",
       "1 A101             ⋯ A152           1                               A173   \n",
       "2 A101             ⋯ A152           1                               A172   \n",
       "3 A103             ⋯ A153           1                               A173   \n",
       "4 A101             ⋯ A153           2                               A173   \n",
       "5 A101             ⋯ A153           1                               A172   \n",
       "6 A101             ⋯ A152           1                               A173   \n",
       "  num_dependentes telefone trabalhador_estrangeiro status_credito duracao_eng\n",
       "1 1               A191     A201                    2              (40,60]    \n",
       "2 2               A191     A201                    1              (0,20]     \n",
       "3 2               A191     A201                    1              (40,60]    \n",
       "4 2               A191     A201                    2              (20,40]    \n",
       "5 2               A192     A201                    1              (20,40]    \n",
       "6 1               A191     A201                    1              (20,40]    \n",
       "  idade_eng valor_credito_eng\n",
       "1 (15,30]   (5e+03,1e+04]    \n",
       "2 (45,60]   (0,5e+03]        \n",
       "3 (30,45]   (5e+03,1e+04]    \n",
       "4 (45,60]   (0,5e+03]        \n",
       "5 (30,45]   (5e+03,1e+04]    \n",
       "6 (45,60]   (0,5e+03]        "
      ]
     },
     "metadata": {},
     "output_type": "display_data"
    }
   ],
   "source": [
    "head(credit1)"
   ]
  },
  {
   "cell_type": "code",
   "execution_count": 25,
   "id": "076ee95e",
   "metadata": {
    "vscode": {
     "languageId": "r"
    }
   },
   "outputs": [
    {
     "name": "stdout",
     "output_type": "stream",
     "text": [
      "'data.frame':\t999 obs. of  24 variables:\n",
      " $ status_conta                   : Factor w/ 4 levels \"A11\",\"A12\",\"A13\",..: 2 4 1 1 4 4 2 4 2 2 ...\n",
      " $ duracao                        : int  48 12 42 24 36 24 36 12 30 12 ...\n",
      " $ historico_credito              : Factor w/ 5 levels \"A30\",\"A31\",\"A32\",..: 3 5 3 4 3 3 3 3 5 3 ...\n",
      " $ proposito_credito              : Factor w/ 10 levels \"A40\",\"A41\",\"A410\",..: 5 8 4 1 8 4 2 5 1 1 ...\n",
      " $ valor_credito                  : int  5951 2096 7882 4870 9055 2835 6948 3059 5234 1295 ...\n",
      " $ titulos_poupanca               : Factor w/ 5 levels \"A61\",\"A62\",\"A63\",..: 1 1 1 1 5 3 1 4 1 1 ...\n",
      " $ duracao_emprego                : Factor w/ 5 levels \"A71\",\"A72\",\"A73\",..: 3 4 4 3 3 5 3 4 1 2 ...\n",
      " $ taxa_parcelamento              : int  2 2 2 3 2 3 2 2 4 3 ...\n",
      " $ sexo_e_estado_civil            : Factor w/ 4 levels \"A91\",\"A92\",\"A93\",..: 2 3 3 3 3 3 3 1 4 2 ...\n",
      " $ outros_devedores               : Factor w/ 3 levels \"A101\",\"A102\",..: 1 1 3 1 1 1 1 1 1 1 ...\n",
      " $ tempo_residencia               : int  2 3 4 4 4 4 2 4 2 1 ...\n",
      " $ tipo_propriedade               : Factor w/ 4 levels \"A121\",\"A122\",..: 1 1 2 4 4 2 3 1 3 3 ...\n",
      " $ idade                          : int  22 49 45 53 35 53 35 61 28 25 ...\n",
      " $ outras_parcelas                : Factor w/ 3 levels \"A141\",\"A142\",..: 3 3 3 3 3 3 3 3 3 3 ...\n",
      " $ tipo_habitacao                 : Factor w/ 3 levels \"A151\",\"A152\",..: 2 2 3 3 3 2 1 2 2 1 ...\n",
      " $ creditos_existentes_neste_banco: int  1 1 1 2 1 1 1 1 2 1 ...\n",
      " $ emprego                        : Factor w/ 4 levels \"A171\",\"A172\",..: 3 2 3 3 2 3 4 2 4 3 ...\n",
      " $ num_dependentes                : int  1 2 2 2 2 1 1 1 1 1 ...\n",
      " $ telefone                       : Factor w/ 2 levels \"A191\",\"A192\": 1 1 1 1 2 1 2 1 1 1 ...\n",
      " $ trabalhador_estrangeiro        : Factor w/ 2 levels \"A201\",\"A202\": 1 1 1 1 1 1 1 1 1 1 ...\n",
      " $ status_credito                 : int  2 1 1 2 1 1 1 1 2 2 ...\n",
      " $ duracao_eng                    : Factor w/ 4 levels \"(0,20]\",\"(20,40]\",..: 3 1 3 2 2 2 2 1 2 1 ...\n",
      " $ idade_eng                      : Factor w/ 5 levels \"(0,15]\",\"(15,30]\",..: 2 4 3 4 3 4 3 5 2 2 ...\n",
      " $ valor_credito_eng              : Factor w/ 4 levels \"(0,5e+03]\",\"(5e+03,1e+04]\",..: 2 1 2 1 2 1 2 1 2 1 ...\n"
     ]
    }
   ],
   "source": [
    "str(credit1)"
   ]
  },
  {
   "cell_type": "code",
   "execution_count": 26,
   "id": "2111ebe1",
   "metadata": {
    "vscode": {
     "languageId": "r"
    }
   },
   "outputs": [
    {
     "name": "stderr",
     "output_type": "stream",
     "text": [
      "Warning message:\n",
      "\"package 'ggplot2' was built under R version 4.2.3\"\n"
     ]
    }
   ],
   "source": [
    "# Plots usando ggplot2\n",
    "library(ggplot2)"
   ]
  },
  {
   "cell_type": "code",
   "execution_count": 27,
   "id": "9e6167d0",
   "metadata": {
    "vscode": {
     "languageId": "r"
    }
   },
   "outputs": [],
   "source": [
    "#Estas colunas foram transformados, por tanto não vamos gerar histogramas delas:\n",
    "colunas_para_remover <- c('valor_credito', 'duracao', 'idade', 'status_credito')"
   ]
  },
  {
   "cell_type": "markdown",
   "id": "091856cd",
   "metadata": {},
   "source": [
    "**setdiff()** é uma função que retorna os elementos que estão presentes no primeiro vetor, mas ausentes nos outros vetores fornecidos"
   ]
  },
  {
   "cell_type": "code",
   "execution_count": 28,
   "id": "b1e6f219",
   "metadata": {
    "vscode": {
     "languageId": "r"
    }
   },
   "outputs": [
    {
     "data": {
      "image/png": "[encoded data removed]",
      "text/plain": [
       "plot without title"
      ]
     },
     "metadata": {
      "image/png": {
       "height": 420,
       "width": 420
      }
     },
     "output_type": "display_data"
    },
    {
     "data": {
      "image/png": "[encoded data removed]",
      "text/plain": [
       "plot without title"
      ]
     },
     "metadata": {
      "image/png": {
       "height": 420,
       "width": 420
      }
     },
     "output_type": "display_data"
    },
    {
     "data": {
      "image/png": "[encoded data removed]",
      "text/plain": [
       "plot without title"
      ]
     },
     "metadata": {
      "image/png": {
       "height": 420,
       "width": 420
      }
     },
     "output_type": "display_data"
    },
    {
     "data": {
      "image/png": "[encoded data removed]",
      "text/plain": [
       "plot without title"
      ]
     },
     "metadata": {
      "image/png": {
       "height": 420,
       "width": 420
      }
     },
     "output_type": "display_data"
    },
    {
     "data": {
      "image/png": "[encoded data removed]",
      "text/plain": [
       "plot without title"
      ]
     },
     "metadata": {
      "image/png": {
       "height": 420,
       "width": 420
      }
     },
     "output_type": "display_data"
    },
    {
     "data": {
      "image/png": "[encoded data removed]",
      "text/plain": [
       "plot without title"
      ]
     },
     "metadata": {
      "image/png": {
       "height": 420,
       "width": 420
      }
     },
     "output_type": "display_data"
    },
    {
     "data": {
      "image/png": "[encoded data removed]",
      "text/plain": [
       "plot without title"
      ]
     },
     "metadata": {
      "image/png": {
       "height": 420,
       "width": 420
      }
     },
     "output_type": "display_data"
    },
    {
     "data": {
      "image/png": "[encoded data removed]",
      "text/plain": [
       "plot without title"
      ]
     },
     "metadata": {
      "image/png": {
       "height": 420,
       "width": 420
      }
     },
     "output_type": "display_data"
    },
    {
     "data": {
      "image/png": "[encoded data removed]",
      "text/plain": [
       "plot without title"
      ]
     },
     "metadata": {
      "image/png": {
       "height": 420,
       "width": 420
      }
     },
     "output_type": "display_data"
    },
    {
     "data": {
      "image/png": "[encoded data removed]",
      "text/plain": [
       "plot without title"
      ]
     },
     "metadata": {
      "image/png": {
       "height": 420,
       "width": 420
      }
     },
     "output_type": "display_data"
    },
    {
     "data": {
      "image/png": "[encoded data removed]",
      "text/plain": [
       "plot without title"
      ]
     },
     "metadata": {
      "image/png": {
       "height": 420,
       "width": 420
      }
     },
     "output_type": "display_data"
    },
    {
     "data": {
      "image/png": "[encoded data removed]",
      "text/plain": [
       "plot without title"
      ]
     },
     "metadata": {
      "image/png": {
       "height": 420,
       "width": 420
      }
     },
     "output_type": "display_data"
    },
    {
     "data": {
      "image/png": "[encoded data removed]",
      "text/plain": [
       "plot without title"
      ]
     },
     "metadata": {
      "image/png": {
       "height": 420,
       "width": 420
      }
     },
     "output_type": "display_data"
    },
    {
     "data": {
      "image/png": "[encoded data removed]",
      "text/plain": [
       "plot without title"
      ]
     },
     "metadata": {
      "image/png": {
       "height": 420,
       "width": 420
      }
     },
     "output_type": "display_data"
    },
    {
     "data": {
      "image/png": "[encoded data removed]",
      "text/plain": [
       "plot without title"
      ]
     },
     "metadata": {
      "image/png": {
       "height": 420,
       "width": 420
      }
     },
     "output_type": "display_data"
    },
    {
     "data": {
      "image/png": "[encoded data removed]",
      "text/plain": [
       "plot without title"
      ]
     },
     "metadata": {
      "image/png": {
       "height": 420,
       "width": 420
      }
     },
     "output_type": "display_data"
    },
    {
     "data": {
      "image/png": "[encoded data removed]",
      "text/plain": [
       "plot without title"
      ]
     },
     "metadata": {
      "image/png": {
       "height": 420,
       "width": 420
      }
     },
     "output_type": "display_data"
    },
    {
     "data": {
      "image/png": "[encoded data removed]",
      "text/plain": [
       "plot without title"
      ]
     },
     "metadata": {
      "image/png": {
       "height": 420,
       "width": 420
      }
     },
     "output_type": "display_data"
    },
    {
     "data": {
      "image/png": "[encoded data removed]",
      "text/plain": [
       "plot without title"
      ]
     },
     "metadata": {
      "image/png": {
       "height": 420,
       "width": 420
      }
     },
     "output_type": "display_data"
    },
    {
     "data": {
      "image/png": "[encoded data removed]",
      "text/plain": [
       "plot without title"
      ]
     },
     "metadata": {
      "image/png": {
       "height": 420,
       "width": 420
      }
     },
     "output_type": "display_data"
    }
   ],
   "source": [
    "for (coluna in setdiff(colnames(credit1), colunas_para_remover)) {\n",
    "  print(\n",
    "    ggplot(credit1, aes(x = factor(status_credito, labels = c('Sim', 'Não')), fill = factor(.data[[coluna]]))) +  \n",
    "      geom_bar(position = 'dodge', stat = 'count') +\n",
    "      labs(title = sprintf('Histograma para %s', coluna),\n",
    "           x = 'Status Credito',\n",
    "           y = 'Contagem') +\n",
    "      theme(axis.text.x = element_text(size = 14))\n",
    "  )\n",
    "}"
   ]
  },
  {
   "cell_type": "code",
   "execution_count": 29,
   "id": "d98c00c0",
   "metadata": {
    "vscode": {
     "languageId": "r"
    }
   },
   "outputs": [
    {
     "data": {
      "text/html": [
       "699"
      ],
      "text/latex": [
       "699"
      ],
      "text/markdown": [
       "699"
      ],
      "text/plain": [
       "[1] 699"
      ]
     },
     "metadata": {},
     "output_type": "display_data"
    }
   ],
   "source": [
    "sum(credit1$status_credito == 1)"
   ]
  },
  {
   "cell_type": "code",
   "execution_count": 30,
   "id": "c70fde2d",
   "metadata": {
    "vscode": {
     "languageId": "r"
    }
   },
   "outputs": [
    {
     "data": {
      "text/html": [
       "300"
      ],
      "text/latex": [
       "300"
      ],
      "text/markdown": [
       "300"
      ],
      "text/plain": [
       "[1] 300"
      ]
     },
     "metadata": {},
     "output_type": "display_data"
    }
   ],
   "source": [
    "sum(credit1$status_credito == 2)"
   ]
  },
  {
   "cell_type": "code",
   "execution_count": 31,
   "id": "e52ffb34",
   "metadata": {
    "vscode": {
     "languageId": "r"
    }
   },
   "outputs": [
    {
     "data": {
      "text/plain": [
       "\n",
       "  1   2 \n",
       "699 300 "
      ]
     },
     "metadata": {},
     "output_type": "display_data"
    }
   ],
   "source": [
    "table(credit1$status_credito)"
   ]
  },
  {
   "cell_type": "markdown",
   "id": "1ad4fb6e",
   "metadata": {},
   "source": [
    "### Verificamos que algumas variáveis apresentam uma frequencia bem mais acentuada quando comparamos os grupos com status de credito 1 e 2. Porém, conforme demonstrado anteriormente há uma diferença entre o número de dados presentes em cada conjunto, desta forma, a discrepância no número de dados entre os dois grupos pode afetar a interpretação do histograma, especialmente se você estiver comparando diretamente as alturas das barras. \n",
    "- Quando há uma grande diferença no número de observações entre os grupos, as barras do grupo com mais observações podem parecer mais altas simplesmente devido ao maior número de dados, em vez de refletir uma diferença real na distribuição dos dados. **Desta forma, vamos criar uma amostra estratificada com base nos valores únicos da coluna 'status_credito'.**"
   ]
  },
  {
   "cell_type": "code",
   "execution_count": 32,
   "id": "ee6060e9",
   "metadata": {
    "vscode": {
     "languageId": "r"
    }
   },
   "outputs": [
    {
     "data": {
      "text/plain": [
       "\n",
       "  1   2 \n",
       "200 200 "
      ]
     },
     "metadata": {},
     "output_type": "display_data"
    }
   ],
   "source": [
    "# Realize a amostragem aleatória estratificada\n",
    "amostra_estratificada <- credit1 %>%\n",
    "  group_by(status_credito) %>% \n",
    "  group_split() %>% #divide o DF em grupos com base na variável pela qual ele foi agrupado,'status_credito', neste caso.\n",
    "  lapply(function(subset) slice_sample(subset, n = 200, replace = FALSE)) %>%\n",
    "  bind_rows()\n",
    "         \n",
    "# lapply é usado para aplicar a função anônima fornecida a cada grupo criado anteriormente.\n",
    "# A função slice_sample extrai uma amostra aleatória de cada grupo.\n",
    "# n= tamanho de amostra por grupo\n",
    "# replace = FALSE, amostra sem reposição.\n",
    "              \n",
    "# Verificando os resultados\n",
    "table(amostra_estratificada$status_credito)"
   ]
  },
  {
   "cell_type": "code",
   "execution_count": 33,
   "id": "6334305f",
   "metadata": {
    "vscode": {
     "languageId": "r"
    }
   },
   "outputs": [
    {
     "data": {
      "text/html": [
       "<table class=\"dataframe\">\n",
       "<caption>A tibble: 6 × 24</caption>\n",
       "<thead>\n",
       "\t<tr><th scope=col>status_conta</th><th scope=col>duracao</th><th scope=col>historico_credito</th><th scope=col>proposito_credito</th><th scope=col>valor_credito</th><th scope=col>titulos_poupanca</th><th scope=col>duracao_emprego</th><th scope=col>taxa_parcelamento</th><th scope=col>sexo_e_estado_civil</th><th scope=col>outros_devedores</th><th scope=col>⋯</th><th scope=col>tipo_habitacao</th><th scope=col>creditos_existentes_neste_banco</th><th scope=col>emprego</th><th scope=col>num_dependentes</th><th scope=col>telefone</th><th scope=col>trabalhador_estrangeiro</th><th scope=col>status_credito</th><th scope=col>duracao_eng</th><th scope=col>idade_eng</th><th scope=col>valor_credito_eng</th></tr>\n",
       "\t<tr><th scope=col>&lt;fct&gt;</th><th scope=col>&lt;int&gt;</th><th scope=col>&lt;fct&gt;</th><th scope=col>&lt;fct&gt;</th><th scope=col>&lt;int&gt;</th><th scope=col>&lt;fct&gt;</th><th scope=col>&lt;fct&gt;</th><th scope=col>&lt;int&gt;</th><th scope=col>&lt;fct&gt;</th><th scope=col>&lt;fct&gt;</th><th scope=col>⋯</th><th scope=col>&lt;fct&gt;</th><th scope=col>&lt;int&gt;</th><th scope=col>&lt;fct&gt;</th><th scope=col>&lt;int&gt;</th><th scope=col>&lt;fct&gt;</th><th scope=col>&lt;fct&gt;</th><th scope=col>&lt;int&gt;</th><th scope=col>&lt;fct&gt;</th><th scope=col>&lt;fct&gt;</th><th scope=col>&lt;fct&gt;</th></tr>\n",
       "</thead>\n",
       "<tbody>\n",
       "\t<tr><td>A11</td><td>12</td><td>A32</td><td>A43</td><td>2214</td><td>A61</td><td>A73</td><td>4</td><td>A93</td><td>A101</td><td>⋯</td><td>A152</td><td>1</td><td>A172</td><td>1</td><td>A191</td><td>A201</td><td>1</td><td>(0,20] </td><td>(15,30]</td><td>(0,5e+03]</td></tr>\n",
       "\t<tr><td>A14</td><td>12</td><td>A32</td><td>A40</td><td>3527</td><td>A65</td><td>A72</td><td>2</td><td>A93</td><td>A101</td><td>⋯</td><td>A152</td><td>1</td><td>A174</td><td>2</td><td>A192</td><td>A201</td><td>1</td><td>(0,20] </td><td>(30,45]</td><td>(0,5e+03]</td></tr>\n",
       "\t<tr><td>A11</td><td>10</td><td>A34</td><td>A40</td><td>2241</td><td>A61</td><td>A72</td><td>1</td><td>A93</td><td>A101</td><td>⋯</td><td>A151</td><td>2</td><td>A172</td><td>2</td><td>A191</td><td>A202</td><td>1</td><td>(0,20] </td><td>(45,60]</td><td>(0,5e+03]</td></tr>\n",
       "\t<tr><td>A12</td><td>36</td><td>A34</td><td>A43</td><td>2337</td><td>A61</td><td>A75</td><td>4</td><td>A93</td><td>A101</td><td>⋯</td><td>A152</td><td>1</td><td>A173</td><td>1</td><td>A191</td><td>A201</td><td>1</td><td>(20,40]</td><td>(30,45]</td><td>(0,5e+03]</td></tr>\n",
       "\t<tr><td>A11</td><td>24</td><td>A32</td><td>A42</td><td>4020</td><td>A61</td><td>A73</td><td>2</td><td>A93</td><td>A101</td><td>⋯</td><td>A152</td><td>1</td><td>A173</td><td>1</td><td>A191</td><td>A201</td><td>1</td><td>(20,40]</td><td>(15,30]</td><td>(0,5e+03]</td></tr>\n",
       "\t<tr><td>A14</td><td>24</td><td>A31</td><td>A49</td><td>1559</td><td>A61</td><td>A74</td><td>4</td><td>A93</td><td>A101</td><td>⋯</td><td>A152</td><td>1</td><td>A173</td><td>1</td><td>A192</td><td>A201</td><td>1</td><td>(20,40]</td><td>(45,60]</td><td>(0,5e+03]</td></tr>\n",
       "</tbody>\n",
       "</table>\n"
      ],
      "text/latex": [
       "A tibble: 6 × 24\n",
       "\\begin{tabular}{lllllllllllllllllllll}\n",
       " status\\_conta & duracao & historico\\_credito & proposito\\_credito & valor\\_credito & titulos\\_poupanca & duracao\\_emprego & taxa\\_parcelamento & sexo\\_e\\_estado\\_civil & outros\\_devedores & ⋯ & tipo\\_habitacao & creditos\\_existentes\\_neste\\_banco & emprego & num\\_dependentes & telefone & trabalhador\\_estrangeiro & status\\_credito & duracao\\_eng & idade\\_eng & valor\\_credito\\_eng\\\\\n",
       " <fct> & <int> & <fct> & <fct> & <int> & <fct> & <fct> & <int> & <fct> & <fct> & ⋯ & <fct> & <int> & <fct> & <int> & <fct> & <fct> & <int> & <fct> & <fct> & <fct>\\\\\n",
       "\\hline\n",
       "\t A11 & 12 & A32 & A43 & 2214 & A61 & A73 & 4 & A93 & A101 & ⋯ & A152 & 1 & A172 & 1 & A191 & A201 & 1 & (0,20{]}  & (15,30{]} & (0,5e+03{]}\\\\\n",
       "\t A14 & 12 & A32 & A40 & 3527 & A65 & A72 & 2 & A93 & A101 & ⋯ & A152 & 1 & A174 & 2 & A192 & A201 & 1 & (0,20{]}  & (30,45{]} & (0,5e+03{]}\\\\\n",
       "\t A11 & 10 & A34 & A40 & 2241 & A61 & A72 & 1 & A93 & A101 & ⋯ & A151 & 2 & A172 & 2 & A191 & A202 & 1 & (0,20{]}  & (45,60{]} & (0,5e+03{]}\\\\\n",
       "\t A12 & 36 & A34 & A43 & 2337 & A61 & A75 & 4 & A93 & A101 & ⋯ & A152 & 1 & A173 & 1 & A191 & A201 & 1 & (20,40{]} & (30,45{]} & (0,5e+03{]}\\\\\n",
       "\t A11 & 24 & A32 & A42 & 4020 & A61 & A73 & 2 & A93 & A101 & ⋯ & A152 & 1 & A173 & 1 & A191 & A201 & 1 & (20,40{]} & (15,30{]} & (0,5e+03{]}\\\\\n",
       "\t A14 & 24 & A31 & A49 & 1559 & A61 & A74 & 4 & A93 & A101 & ⋯ & A152 & 1 & A173 & 1 & A192 & A201 & 1 & (20,40{]} & (45,60{]} & (0,5e+03{]}\\\\\n",
       "\\end{tabular}\n"
      ],
      "text/markdown": [
       "\n",
       "A tibble: 6 × 24\n",
       "\n",
       "| status_conta &lt;fct&gt; | duracao &lt;int&gt; | historico_credito &lt;fct&gt; | proposito_credito &lt;fct&gt; | valor_credito &lt;int&gt; | titulos_poupanca &lt;fct&gt; | duracao_emprego &lt;fct&gt; | taxa_parcelamento &lt;int&gt; | sexo_e_estado_civil &lt;fct&gt; | outros_devedores &lt;fct&gt; | ⋯ ⋯ | tipo_habitacao &lt;fct&gt; | creditos_existentes_neste_banco &lt;int&gt; | emprego &lt;fct&gt; | num_dependentes &lt;int&gt; | telefone &lt;fct&gt; | trabalhador_estrangeiro &lt;fct&gt; | status_credito &lt;int&gt; | duracao_eng &lt;fct&gt; | idade_eng &lt;fct&gt; | valor_credito_eng &lt;fct&gt; |\n",
       "|---|---|---|---|---|---|---|---|---|---|---|---|---|---|---|---|---|---|---|---|---|\n",
       "| A11 | 12 | A32 | A43 | 2214 | A61 | A73 | 4 | A93 | A101 | ⋯ | A152 | 1 | A172 | 1 | A191 | A201 | 1 | (0,20]  | (15,30] | (0,5e+03] |\n",
       "| A14 | 12 | A32 | A40 | 3527 | A65 | A72 | 2 | A93 | A101 | ⋯ | A152 | 1 | A174 | 2 | A192 | A201 | 1 | (0,20]  | (30,45] | (0,5e+03] |\n",
       "| A11 | 10 | A34 | A40 | 2241 | A61 | A72 | 1 | A93 | A101 | ⋯ | A151 | 2 | A172 | 2 | A191 | A202 | 1 | (0,20]  | (45,60] | (0,5e+03] |\n",
       "| A12 | 36 | A34 | A43 | 2337 | A61 | A75 | 4 | A93 | A101 | ⋯ | A152 | 1 | A173 | 1 | A191 | A201 | 1 | (20,40] | (30,45] | (0,5e+03] |\n",
       "| A11 | 24 | A32 | A42 | 4020 | A61 | A73 | 2 | A93 | A101 | ⋯ | A152 | 1 | A173 | 1 | A191 | A201 | 1 | (20,40] | (15,30] | (0,5e+03] |\n",
       "| A14 | 24 | A31 | A49 | 1559 | A61 | A74 | 4 | A93 | A101 | ⋯ | A152 | 1 | A173 | 1 | A192 | A201 | 1 | (20,40] | (45,60] | (0,5e+03] |\n",
       "\n"
      ],
      "text/plain": [
       "  status_conta duracao historico_credito proposito_credito valor_credito\n",
       "1 A11          12      A32               A43               2214         \n",
       "2 A14          12      A32               A40               3527         \n",
       "3 A11          10      A34               A40               2241         \n",
       "4 A12          36      A34               A43               2337         \n",
       "5 A11          24      A32               A42               4020         \n",
       "6 A14          24      A31               A49               1559         \n",
       "  titulos_poupanca duracao_emprego taxa_parcelamento sexo_e_estado_civil\n",
       "1 A61              A73             4                 A93                \n",
       "2 A65              A72             2                 A93                \n",
       "3 A61              A72             1                 A93                \n",
       "4 A61              A75             4                 A93                \n",
       "5 A61              A73             2                 A93                \n",
       "6 A61              A74             4                 A93                \n",
       "  outros_devedores ⋯ tipo_habitacao creditos_existentes_neste_banco emprego\n",
       "1 A101             ⋯ A152           1                               A172   \n",
       "2 A101             ⋯ A152           1                               A174   \n",
       "3 A101             ⋯ A151           2                               A172   \n",
       "4 A101             ⋯ A152           1                               A173   \n",
       "5 A101             ⋯ A152           1                               A173   \n",
       "6 A101             ⋯ A152           1                               A173   \n",
       "  num_dependentes telefone trabalhador_estrangeiro status_credito duracao_eng\n",
       "1 1               A191     A201                    1              (0,20]     \n",
       "2 2               A192     A201                    1              (0,20]     \n",
       "3 2               A191     A202                    1              (0,20]     \n",
       "4 1               A191     A201                    1              (20,40]    \n",
       "5 1               A191     A201                    1              (20,40]    \n",
       "6 1               A192     A201                    1              (20,40]    \n",
       "  idade_eng valor_credito_eng\n",
       "1 (15,30]   (0,5e+03]        \n",
       "2 (30,45]   (0,5e+03]        \n",
       "3 (45,60]   (0,5e+03]        \n",
       "4 (30,45]   (0,5e+03]        \n",
       "5 (15,30]   (0,5e+03]        \n",
       "6 (45,60]   (0,5e+03]        "
      ]
     },
     "metadata": {},
     "output_type": "display_data"
    },
    {
     "data": {
      "text/html": [
       "<style>\n",
       ".list-inline {list-style: none; margin:0; padding: 0}\n",
       ".list-inline>li {display: inline-block}\n",
       ".list-inline>li:not(:last-child)::after {content: \"\\00b7\"; padding: 0 .5ex}\n",
       "</style>\n",
       "<ol class=list-inline><li>400</li><li>24</li></ol>\n"
      ],
      "text/latex": [
       "\\begin{enumerate*}\n",
       "\\item 400\n",
       "\\item 24\n",
       "\\end{enumerate*}\n"
      ],
      "text/markdown": [
       "1. 400\n",
       "2. 24\n",
       "\n",
       "\n"
      ],
      "text/plain": [
       "[1] 400  24"
      ]
     },
     "metadata": {},
     "output_type": "display_data"
    }
   ],
   "source": [
    "head(amostra_estratificada)\n",
    "dim(amostra_estratificada)"
   ]
  },
  {
   "cell_type": "code",
   "execution_count": 34,
   "id": "0f256a6a",
   "metadata": {
    "vscode": {
     "languageId": "r"
    }
   },
   "outputs": [
    {
     "data": {
      "image/png": "[encoded data removed]",
      "text/plain": [
       "plot without title"
      ]
     },
     "metadata": {
      "image/png": {
       "height": 420,
       "width": 420
      }
     },
     "output_type": "display_data"
    },
    {
     "data": {
      "image/png": "[encoded data removed]",
      "text/plain": [
       "plot without title"
      ]
     },
     "metadata": {
      "image/png": {
       "height": 420,
       "width": 420
      }
     },
     "output_type": "display_data"
    },
    {
     "data": {
      "image/png": "[encoded data removed]",
      "text/plain": [
       "plot without title"
      ]
     },
     "metadata": {
      "image/png": {
       "height": 420,
       "width": 420
      }
     },
     "output_type": "display_data"
    },
    {
     "data": {
      "image/png": "[encoded data removed]",
      "text/plain": [
       "plot without title"
      ]
     },
     "metadata": {
      "image/png": {
       "height": 420,
       "width": 420
      }
     },
     "output_type": "display_data"
    },
    {
     "data": {
      "image/png": "[encoded data removed]",
      "text/plain": [
       "plot without title"
      ]
     },
     "metadata": {
      "image/png": {
       "height": 420,
       "width": 420
      }
     },
     "output_type": "display_data"
    },
    {
     "data": {
      "image/png": "[encoded data removed]",
      "text/plain": [
       "plot without title"
      ]
     },
     "metadata": {
      "image/png": {
       "height": 420,
       "width": 420
      }
     },
     "output_type": "display_data"
    },
    {
     "data": {
      "image/png": "[encoded data removed]",
      "text/plain": [
       "plot without title"
      ]
     },
     "metadata": {
      "image/png": {
       "height": 420,
       "width": 420
      }
     },
     "output_type": "display_data"
    },
    {
     "data": {
      "image/png": "[encoded data removed]",
      "text/plain": [
       "plot without title"
      ]
     },
     "metadata": {
      "image/png": {
       "height": 420,
       "width": 420
      }
     },
     "output_type": "display_data"
    },
    {
     "data": {
      "image/png": "[encoded data removed]",
      "text/plain": [
       "plot without title"
      ]
     },
     "metadata": {
      "image/png": {
       "height": 420,
       "width": 420
      }
     },
     "output_type": "display_data"
    },
    {
     "data": {
      "image/png": "[encoded data removed]",
      "text/plain": [
       "plot without title"
      ]
     },
     "metadata": {
      "image/png": {
       "height": 420,
       "width": 420
      }
     },
     "output_type": "display_data"
    },
    {
     "data": {
      "image/png": "[encoded data removed]",
      "text/plain": [
       "plot without title"
      ]
     },
     "metadata": {
      "image/png": {
       "height": 420,
       "width": 420
      }
     },
     "output_type": "display_data"
    },
    {
     "data": {
      "image/png": "[encoded data removed]",
      "text/plain": [
       "plot without title"
      ]
     },
     "metadata": {
      "image/png": {
       "height": 420,
       "width": 420
      }
     },
     "output_type": "display_data"
    },
    {
     "data": {
      "image/png": "[encoded data removed]",
      "text/plain": [
       "plot without title"
      ]
     },
     "metadata": {
      "image/png": {
       "height": 420,
       "width": 420
      }
     },
     "output_type": "display_data"
    },
    {
     "data": {
      "image/png": "[encoded data removed]",
      "text/plain": [
       "plot without title"
      ]
     },
     "metadata": {
      "image/png": {
       "height": 420,
       "width": 420
      }
     },
     "output_type": "display_data"
    },
    {
     "data": {
      "image/png": "[encoded data removed]",
      "text/plain": [
       "plot without title"
      ]
     },
     "metadata": {
      "image/png": {
       "height": 420,
       "width": 420
      }
     },
     "output_type": "display_data"
    },
    {
     "data": {
      "image/png": "[encoded data removed]",
      "text/plain": [
       "plot without title"
      ]
     },
     "metadata": {
      "image/png": {
       "height": 420,
       "width": 420
      }
     },
     "output_type": "display_data"
    },
    {
     "data": {
      "image/png": "[encoded data removed]",
      "text/plain": [
       "plot without title"
      ]
     },
     "metadata": {
      "image/png": {
       "height": 420,
       "width": 420
      }
     },
     "output_type": "display_data"
    },
    {
     "data": {
      "image/png": "[encoded data removed]",
      "text/plain": [
       "plot without title"
      ]
     },
     "metadata": {
      "image/png": {
       "height": 420,
       "width": 420
      }
     },
     "output_type": "display_data"
    },
    {
     "data": {
      "image/png": "[encoded data removed]",
      "text/plain": [
       "plot without title"
      ]
     },
     "metadata": {
      "image/png": {
       "height": 420,
       "width": 420
      }
     },
     "output_type": "display_data"
    },
    {
     "data": {
      "image/png": "[encoded data removed]",
      "text/plain": [
       "plot without title"
      ]
     },
     "metadata": {
      "image/png": {
       "height": 420,
       "width": 420
      }
     },
     "output_type": "display_data"
    }
   ],
   "source": [
    "for (coluna in setdiff(colnames(amostra_estratificada), colunas_para_remover)) {\n",
    "  print(\n",
    "    ggplot(amostra_estratificada, aes(x = factor(status_credito, labels = c('Sim', 'Não')), fill = factor(.data[[coluna]]))) +  \n",
    "      geom_bar(position = 'dodge', stat = 'count') +\n",
    "      labs(title = sprintf('Histograma para %s', coluna),\n",
    "           x = 'Status Credito',\n",
    "           y = 'Contagem') +\n",
    "      theme(axis.text.x = element_text(size = 14))\n",
    "  )\n",
    "}"
   ]
  },
  {
   "cell_type": "markdown",
   "id": "a00e5b30",
   "metadata": {},
   "source": [
    "### Por meio da análise comparativa dos gráficos, é possível identificar as disparidades nas frequências de cada variável relacionada aos pagadores, distinguindo entre aqueles que são considerados bons ou maus pagadores."
   ]
  },
  {
   "cell_type": "markdown",
   "id": "7a526e10",
   "metadata": {},
   "source": [
    "### Um outro problema que pode ocorrer quando há uma grande discrepância no número de observações entre os grupos em um conjunto de dados, são as implicações significativas na construção e avaliação de modelos de machine learning. A disparidade no número de observações entre os grupos pode introduzir viés nos resultados do modelo.\n",
    " - Viés nos Dados de Treinamento: Se um grupo tem um número significativamente maior de observações do que o outro, o modelo pode ser mais influenciado pelos padrões desse grupo, levando a um desempenho subótimo para o grupo com menos dados.\n",
    "- Desempenho Desigual do Modelo: O modelo pode ter dificuldade em generalizar para o grupo menos representado, resultando em um desempenho inferior para essas instâncias.\n",
    "- Avaliação Distorcida: As métricas de avaliação do modelo podem ser distorcidas devido à predominância do grupo com mais dados. Isso pode levar a uma falsa impressão de que o modelo está performando bem quando, na realidade, ele pode estar negligenciando o grupo menos representado.\n",
    "- Overfitting: O modelo pode se ajustar demais aos padrões do grupo majoritário, tornando-se menos eficaz na previsão de instâncias do grupo minoritário.\n",
    "\n",
    "#### Desta forma, o balanceamento de dados é especialmente relevante em problemas de classificação, onde o objetivo é atribuir rótulos a instâncias de dados em diferentes classes. O balanceamento de dados é uma técnica utilizada em aprendizado de máquina para lidar com conjuntos de dados desbalanceados, nos quais uma classe (ou grupo) de instâncias é representada em muito maior quantidade do que outra. Existem duas abordagens principais para balanceamento de dados:\n",
    "- Oversampling (Supersampling): Nessa abordagem, a classe minoritária é aumentada, replicando instâncias existentes ou gerando novas instâncias sintéticas. O objetivo é equilibrar o número de observações entre as classes.\n",
    "- Undersampling (Subsampling): Nessa abordagem, a classe majoritária é reduzida, removendo aleatoriamente instâncias ou agrupamentos de instâncias. O objetivo é reduzir o número de observações na classe majoritária para equilibrar com a classe minoritária.\n",
    "- Além dessas técnicas, há abordagens mais avançadas, como o uso de algoritmos de geração de instâncias sintéticas (por exemplo, **SMOTE - Synthetic Minority Over-sampling Technique**), que cria instâncias sintéticas da classe minoritária para diversificar o conjunto de dados. Esta técnica é especialmente útil porque simplesmente replicar ou remover instâncias pode não ser suficiente para garantir um bom desempenho do modelo."
   ]
  },
  {
   "cell_type": "code",
   "execution_count": 35,
   "id": "418d00c3",
   "metadata": {
    "vscode": {
     "languageId": "r"
    }
   },
   "outputs": [],
   "source": [
    "#Criando um vetor para remover colunas que já foram ajustadas\n",
    "colunas_remover <- c('valor_credito', 'duracao', 'idade')"
   ]
  },
  {
   "cell_type": "code",
   "execution_count": 36,
   "id": "c4b6cab2",
   "metadata": {
    "vscode": {
     "languageId": "r"
    }
   },
   "outputs": [],
   "source": [
    "credit1$status_credito <- as.factor(credit1$status_credito)"
   ]
  },
  {
   "cell_type": "code",
   "execution_count": 37,
   "id": "fb21cf59",
   "metadata": {
    "vscode": {
     "languageId": "r"
    }
   },
   "outputs": [
    {
     "name": "stdout",
     "output_type": "stream",
     "text": [
      "'data.frame':\t999 obs. of  21 variables:\n",
      " $ status_conta                   : Factor w/ 4 levels \"A11\",\"A12\",\"A13\",..: 2 4 1 1 4 4 2 4 2 2 ...\n",
      " $ historico_credito              : Factor w/ 5 levels \"A30\",\"A31\",\"A32\",..: 3 5 3 4 3 3 3 3 5 3 ...\n",
      " $ proposito_credito              : Factor w/ 10 levels \"A40\",\"A41\",\"A410\",..: 5 8 4 1 8 4 2 5 1 1 ...\n",
      " $ titulos_poupanca               : Factor w/ 5 levels \"A61\",\"A62\",\"A63\",..: 1 1 1 1 5 3 1 4 1 1 ...\n",
      " $ duracao_emprego                : Factor w/ 5 levels \"A71\",\"A72\",\"A73\",..: 3 4 4 3 3 5 3 4 1 2 ...\n",
      " $ taxa_parcelamento              : int  2 2 2 3 2 3 2 2 4 3 ...\n",
      " $ sexo_e_estado_civil            : Factor w/ 4 levels \"A91\",\"A92\",\"A93\",..: 2 3 3 3 3 3 3 1 4 2 ...\n",
      " $ outros_devedores               : Factor w/ 3 levels \"A101\",\"A102\",..: 1 1 3 1 1 1 1 1 1 1 ...\n",
      " $ tempo_residencia               : int  2 3 4 4 4 4 2 4 2 1 ...\n",
      " $ tipo_propriedade               : Factor w/ 4 levels \"A121\",\"A122\",..: 1 1 2 4 4 2 3 1 3 3 ...\n",
      " $ outras_parcelas                : Factor w/ 3 levels \"A141\",\"A142\",..: 3 3 3 3 3 3 3 3 3 3 ...\n",
      " $ tipo_habitacao                 : Factor w/ 3 levels \"A151\",\"A152\",..: 2 2 3 3 3 2 1 2 2 1 ...\n",
      " $ creditos_existentes_neste_banco: int  1 1 1 2 1 1 1 1 2 1 ...\n",
      " $ emprego                        : Factor w/ 4 levels \"A171\",\"A172\",..: 3 2 3 3 2 3 4 2 4 3 ...\n",
      " $ num_dependentes                : int  1 2 2 2 2 1 1 1 1 1 ...\n",
      " $ telefone                       : Factor w/ 2 levels \"A191\",\"A192\": 1 1 1 1 2 1 2 1 1 1 ...\n",
      " $ trabalhador_estrangeiro        : Factor w/ 2 levels \"A201\",\"A202\": 1 1 1 1 1 1 1 1 1 1 ...\n",
      " $ status_credito                 : Factor w/ 2 levels \"1\",\"2\": 2 1 1 2 1 1 1 1 2 2 ...\n",
      " $ duracao_eng                    : Factor w/ 4 levels \"(0,20]\",\"(20,40]\",..: 3 1 3 2 2 2 2 1 2 1 ...\n",
      " $ idade_eng                      : Factor w/ 5 levels \"(0,15]\",\"(15,30]\",..: 2 4 3 4 3 4 3 5 2 2 ...\n",
      " $ valor_credito_eng              : Factor w/ 4 levels \"(0,5e+03]\",\"(5e+03,1e+04]\",..: 2 1 2 1 2 1 2 1 2 1 ...\n"
     ]
    }
   ],
   "source": [
    "credit2 <- select(credit1, -all_of(colunas_remover))\n",
    "str(credit2)"
   ]
  },
  {
   "cell_type": "code",
   "execution_count": 38,
   "id": "04b803ce",
   "metadata": {
    "vscode": {
     "languageId": "r"
    }
   },
   "outputs": [
    {
     "name": "stderr",
     "output_type": "stream",
     "text": [
      "Warning message:\n",
      "\"package 'performanceEstimation' was built under R version 4.2.3\"\n"
     ]
    }
   ],
   "source": [
    "# Usando função smote da biblioteca performanceEstimation\n",
    "library(performanceEstimation)"
   ]
  },
  {
   "cell_type": "markdown",
   "id": "a91d3d90",
   "metadata": {},
   "source": [
    "**A abordagem básica do SMOTE é a seguinte:**\n",
    "- Seleção de Exemplos da Classe Minoritária: O SMOTE escolhe aleatoriamente exemplos da classe minoritária no conjunto de dados.\n",
    "- Identificação de Vizinhos: Para cada exemplo escolhido, o SMOTE identifica seus vizinhos mais próximos na classe minoritária. Isso é geralmente feito usando alguma métrica de distância, como a distância Euclidiana.\n",
    "- Geração de Exemplos Sintéticos: O SMOTE cria exemplos sintéticos interpolando características entre o exemplo original e seus vizinhos. Isso é feito multiplicando a diferença entre as características do exemplo original e as de um vizinho pelo fator de balanceamento desejado. O fator de balanceamento é geralmente escolhido para determinar quantos exemplos sintéticos são gerados.\n",
    "- Incorporação dos Exemplos Sintéticos: Os exemplos sintéticos gerados são adicionados ao conjunto de dados original, aumentando assim a representação da classe minoritária.\n",
    "\n",
    "**perc.over:** Este parâmetro determina a porcentagem de sobreamostragem da classe minoritária. O valor de perc.over é um número que especifica quantas vezes o número de instâncias na classe minoritária deve ser aumentado. Por exemplo, se você tem 100 instâncias na classe minoritária e define perc.over como 100, a técnica SMOTE criará 100 instâncias sintéticas adicionais, resultando em um total de 200 instâncias na classe minoritária.\n",
    " \n",
    "**perc.under:** Após a aplicação do SMOTE para sobreamostrar a classe minoritária, o perc.under é usado para subamostrar a classe majoritária. Este parâmetro é uma porcentagem que indica a proporção final desejada da classe majoritária em relação à classe minoritária ampliada. Por exemplo, se perc.under é definido como 200 e a classe minoritária tem agora 200 instâncias (após o SMOTE), a classe majoritária será subamostrada para ter duas vezes esse número, ou seja, 400 instâncias.\n",
    "\n",
    "**O parâmetro \"k\"** refere-se ao número de vizinhos mais próximos a serem considerados ao gerar exemplos sintéticos para balancear as classes\n"
   ]
  },
  {
   "cell_type": "code",
   "execution_count": 39,
   "id": "74be4789",
   "metadata": {
    "vscode": {
     "languageId": "r"
    }
   },
   "outputs": [],
   "source": [
    "#Usando smote para balancear os dados\n",
    "dados_balanceados_smote <- performanceEstimation::smote(status_credito ~ ., credit2, perc.over = 1, k = 5, perc.under = 2)"
   ]
  },
  {
   "cell_type": "code",
   "execution_count": 40,
   "id": "db4cc1c3",
   "metadata": {
    "vscode": {
     "languageId": "r"
    }
   },
   "outputs": [
    {
     "data": {
      "text/plain": [
       "\n",
       "  1   2 \n",
       "600 600 "
      ]
     },
     "metadata": {},
     "output_type": "display_data"
    }
   ],
   "source": [
    "table(dados_balanceados_smote$status_credito)"
   ]
  },
  {
   "cell_type": "code",
   "execution_count": 41,
   "id": "a95108c2",
   "metadata": {
    "vscode": {
     "languageId": "r"
    }
   },
   "outputs": [
    {
     "data": {
      "text/html": [
       "<style>\n",
       ".list-inline {list-style: none; margin:0; padding: 0}\n",
       ".list-inline>li {display: inline-block}\n",
       ".list-inline>li:not(:last-child)::after {content: \"\\00b7\"; padding: 0 .5ex}\n",
       "</style>\n",
       "<ol class=list-inline><li>1200</li><li>21</li></ol>\n"
      ],
      "text/latex": [
       "\\begin{enumerate*}\n",
       "\\item 1200\n",
       "\\item 21\n",
       "\\end{enumerate*}\n"
      ],
      "text/markdown": [
       "1. 1200\n",
       "2. 21\n",
       "\n",
       "\n"
      ],
      "text/plain": [
       "[1] 1200   21"
      ]
     },
     "metadata": {},
     "output_type": "display_data"
    }
   ],
   "source": [
    "dim(dados_balanceados_smote)"
   ]
  },
  {
   "cell_type": "markdown",
   "id": "f0c24ff1",
   "metadata": {},
   "source": [
    "A biblioteca **\"ROSE\" (Random Over-Sampling Examples)** no R é uma ferramenta específica para lidar com o desbalanceamento de classes em conjuntos de dados. Ela fornece métodos para equilibrar as classes, principalmente por meio de oversampling aleatório. \n",
    "- Abordagem: O ROSE realiza o oversampling aleatório, o que significa que ele cria cópias exatas de exemplos da classe minoritária e as adiciona ao conjunto de dados. Isso é feito de maneira aleatória, sem levar em consideração a estrutura dos dados."
   ]
  },
  {
   "cell_type": "code",
   "execution_count": 42,
   "id": "ee1b2283",
   "metadata": {
    "vscode": {
     "languageId": "r"
    }
   },
   "outputs": [
    {
     "name": "stderr",
     "output_type": "stream",
     "text": [
      "Warning message:\n",
      "\"package 'ROSE' was built under R version 4.2.3\"\n",
      "Loaded ROSE 0.0-4\n",
      "\n",
      "\n"
     ]
    }
   ],
   "source": [
    "library(ROSE)"
   ]
  },
  {
   "cell_type": "code",
   "execution_count": 43,
   "id": "6126e5f5",
   "metadata": {
    "vscode": {
     "languageId": "r"
    }
   },
   "outputs": [],
   "source": [
    "set.seed(42) # para reprodutibilidade\n",
    "dados_balanceados_rose <- ROSE(status_credito ~ ., data = credit2)$data"
   ]
  },
  {
   "cell_type": "code",
   "execution_count": 44,
   "id": "7f704ce3",
   "metadata": {
    "vscode": {
     "languageId": "r"
    }
   },
   "outputs": [
    {
     "data": {
      "text/html": [
       "<style>\n",
       ".list-inline {list-style: none; margin:0; padding: 0}\n",
       ".list-inline>li {display: inline-block}\n",
       ".list-inline>li:not(:last-child)::after {content: \"\\00b7\"; padding: 0 .5ex}\n",
       "</style>\n",
       "<ol class=list-inline><li>999</li><li>21</li></ol>\n"
      ],
      "text/latex": [
       "\\begin{enumerate*}\n",
       "\\item 999\n",
       "\\item 21\n",
       "\\end{enumerate*}\n"
      ],
      "text/markdown": [
       "1. 999\n",
       "2. 21\n",
       "\n",
       "\n"
      ],
      "text/plain": [
       "[1] 999  21"
      ]
     },
     "metadata": {},
     "output_type": "display_data"
    },
    {
     "data": {
      "text/plain": [
       "\n",
       "  1   2 \n",
       "526 473 "
      ]
     },
     "metadata": {},
     "output_type": "display_data"
    }
   ],
   "source": [
    "dim(dados_balanceados_rose)\n",
    "table(dados_balanceados_rose$status_credito)"
   ]
  },
  {
   "cell_type": "code",
   "execution_count": 45,
   "id": "947a5143",
   "metadata": {
    "vscode": {
     "languageId": "r"
    }
   },
   "outputs": [
    {
     "name": "stderr",
     "output_type": "stream",
     "text": [
      "Warning message:\n",
      "\"package 'randomForest' was built under R version 4.2.3\"\n",
      "randomForest 4.7-1.1\n",
      "\n",
      "Type rfNews() to see new features/changes/bug fixes.\n",
      "\n",
      "\n",
      "Attaching package: 'randomForest'\n",
      "\n",
      "\n",
      "The following object is masked from 'package:ggplot2':\n",
      "\n",
      "    margin\n",
      "\n",
      "\n",
      "The following object is masked from 'package:dplyr':\n",
      "\n",
      "    combine\n",
      "\n",
      "\n"
     ]
    }
   ],
   "source": [
    "# Modelo randomForest para criar um plot de importância das variáveis\n",
    "library(randomForest)"
   ]
  },
  {
   "cell_type": "code",
   "execution_count": 46,
   "id": "1b57bfb6",
   "metadata": {
    "vscode": {
     "languageId": "r"
    }
   },
   "outputs": [
    {
     "data": {
      "image/png": "[encoded data removed]",
      "text/plain": [
       "plot without title"
      ]
     },
     "metadata": {
      "image/png": {
       "height": 420,
       "width": 420
      }
     },
     "output_type": "display_data"
    }
   ],
   "source": [
    "#Utilizando randomForest para verificar a importância das variáveis\n",
    "modelo1 <- randomForest(status_credito ~ .,\n",
    "                        data = dados_balanceados_smote, \n",
    "                        ntree = 100, nodesize = 10, importance = T)\n",
    "\n",
    "varImpPlot(modelo1)\n",
    "#ntree = 100: Define o número de árvores na floresta. Neste caso, são usadas 100 árvores.\n",
    "#nodesize = 10: Especifica o tamanho mínimo do nó para dividir uma árvore. \n",
    "#Neste caso, um nó não será dividido se o número de observações no nó for menor que 10.\n",
    "#importance = TRUE: Solicita ao modelo que calcule a importância das variáveis. "
   ]
  },
  {
   "cell_type": "markdown",
   "id": "b6e209e1",
   "metadata": {},
   "source": [
    "### Para este modelo vamos escolher as variáveis com base na tabela IncNodePurity (Gini Importance), essa tabela é baseada na diminuição da impureza dos nós da árvore, portanto, as variáveis escolhidas são :\n",
    " - status_conta, proposito_credito, titulos_poupanca, duracao_emprego e tempo de residencia"
   ]
  },
  {
   "cell_type": "code",
   "execution_count": 47,
   "id": "b9dc05e4",
   "metadata": {
    "vscode": {
     "languageId": "r"
    }
   },
   "outputs": [
    {
     "data": {
      "image/png": "[encoded data removed]",
      "text/plain": [
       "plot without title"
      ]
     },
     "metadata": {
      "image/png": {
       "height": 420,
       "width": 420
      }
     },
     "output_type": "display_data"
    }
   ],
   "source": [
    "modelo2 <- randomForest(status_credito ~ .,\n",
    "                        data = dados_balanceados_rose, \n",
    "                        ntree = 100, nodesize = 10, importance = T)\n",
    "\n",
    "varImpPlot(modelo2)"
   ]
  },
  {
   "cell_type": "markdown",
   "id": "102e4a56",
   "metadata": {},
   "source": [
    "### Para este modelo vamos escolher as variáveis com base na tabela IncNodePurity (Gini Importance), essa tabela é baseada na diminuição da impureza dos nós da árvore, portanto, as variáveis escolhidas são :\n",
    " - status_conta, proposito_credito, titulos_poupanca, historico_credito e duracao_emprego"
   ]
  },
  {
   "cell_type": "code",
   "execution_count": 48,
   "id": "d0b39807",
   "metadata": {
    "vscode": {
     "languageId": "r"
    }
   },
   "outputs": [
    {
     "name": "stderr",
     "output_type": "stream",
     "text": [
      "Warning message:\n",
      "\"package 'caTools' was built under R version 4.2.3\"\n"
     ]
    }
   ],
   "source": [
    "# Divindo os dados em dados de teste e treino\n",
    "library(caTools)"
   ]
  },
  {
   "cell_type": "code",
   "execution_count": 49,
   "id": "c4846333",
   "metadata": {
    "vscode": {
     "languageId": "r"
    }
   },
   "outputs": [],
   "source": [
    "# Split dos dados smote\n",
    "set.seed(101)\n",
    "split = sample.split(dados_balanceados_smote$status_credito, SplitRatio = 0.70)"
   ]
  },
  {
   "cell_type": "code",
   "execution_count": 50,
   "id": "7c164564",
   "metadata": {
    "vscode": {
     "languageId": "r"
    }
   },
   "outputs": [
    {
     "data": {
      "text/html": [
       "<style>\n",
       ".list-inline {list-style: none; margin:0; padding: 0}\n",
       ".list-inline>li {display: inline-block}\n",
       ".list-inline>li:not(:last-child)::after {content: \"\\00b7\"; padding: 0 .5ex}\n",
       "</style>\n",
       "<ol class=list-inline><li>840</li><li>21</li></ol>\n"
      ],
      "text/latex": [
       "\\begin{enumerate*}\n",
       "\\item 840\n",
       "\\item 21\n",
       "\\end{enumerate*}\n"
      ],
      "text/markdown": [
       "1. 840\n",
       "2. 21\n",
       "\n",
       "\n"
      ],
      "text/plain": [
       "[1] 840  21"
      ]
     },
     "metadata": {},
     "output_type": "display_data"
    },
    {
     "data": {
      "text/html": [
       "<style>\n",
       ".list-inline {list-style: none; margin:0; padding: 0}\n",
       ".list-inline>li {display: inline-block}\n",
       ".list-inline>li:not(:last-child)::after {content: \"\\00b7\"; padding: 0 .5ex}\n",
       "</style>\n",
       "<ol class=list-inline><li>360</li><li>21</li></ol>\n"
      ],
      "text/latex": [
       "\\begin{enumerate*}\n",
       "\\item 360\n",
       "\\item 21\n",
       "\\end{enumerate*}\n"
      ],
      "text/markdown": [
       "1. 360\n",
       "2. 21\n",
       "\n",
       "\n"
      ],
      "text/plain": [
       "[1] 360  21"
      ]
     },
     "metadata": {},
     "output_type": "display_data"
    }
   ],
   "source": [
    "# Datasets de treino e de teste\n",
    "dados_treino_smote = subset(dados_balanceados_smote, split == TRUE)\n",
    "dados_teste_smote = subset(dados_balanceados_smote, split == FALSE)\n",
    "dim(dados_treino_smote)\n",
    "dim(dados_teste_smote)"
   ]
  },
  {
   "cell_type": "markdown",
   "id": "339dd228",
   "metadata": {},
   "source": [
    "### Agora vamos utilizar três modelos: regressão logística, naiveBayes e randomForest vamos avaliar cada modelo e escolher o melhor e em seguida realizar o mesmo procedimento para os dados que foram balanceados pelo método Rose."
   ]
  },
  {
   "cell_type": "code",
   "execution_count": 51,
   "id": "d9d35caf",
   "metadata": {
    "vscode": {
     "languageId": "r"
    }
   },
   "outputs": [],
   "source": [
    "# Treinando modelo com regessão logistica\n",
    "modelo1_smote <- glm(status_credito ~ status_conta + proposito_credito + titulos_poupanca + duracao_emprego +\n",
    "                     tempo_residencia, family = binomial(link = 'logit'), data = dados_treino_smote)"
   ]
  },
  {
   "cell_type": "code",
   "execution_count": 52,
   "id": "fd7d4d9a",
   "metadata": {
    "vscode": {
     "languageId": "r"
    }
   },
   "outputs": [
    {
     "data": {
      "text/plain": [
       "\n",
       "Call:\n",
       "glm(formula = status_credito ~ status_conta + proposito_credito + \n",
       "    titulos_poupanca + duracao_emprego + tempo_residencia, family = binomial(link = \"logit\"), \n",
       "    data = dados_treino_smote)\n",
       "\n",
       "Deviance Residuals: \n",
       "     Min        1Q    Median        3Q       Max  \n",
       "-2.00850  -0.97805   0.05826   0.95421   2.23587  \n",
       "\n",
       "Coefficients:\n",
       "                      Estimate Std. Error z value Pr(>|z|)    \n",
       "(Intercept)            0.83172    0.40742   2.041  0.04121 *  \n",
       "status_contaA12       -0.31848    0.20122  -1.583  0.11348    \n",
       "status_contaA13       -1.07044    0.34534  -3.100  0.00194 ** \n",
       "status_contaA14       -1.79054    0.21608  -8.287  < 2e-16 ***\n",
       "proposito_creditoA41  -0.85275    0.34214  -2.492  0.01269 *  \n",
       "proposito_creditoA410 -0.80611    0.63692  -1.266  0.20564    \n",
       "proposito_creditoA42  -0.40518    0.23483  -1.725  0.08444 .  \n",
       "proposito_creditoA43  -0.59848    0.22501  -2.660  0.00782 ** \n",
       "proposito_creditoA44  -0.96178    0.75168  -1.279  0.20072    \n",
       "proposito_creditoA45   0.72198    0.63163   1.143  0.25302    \n",
       "proposito_creditoA46   0.96587    0.37801   2.555  0.01061 *  \n",
       "proposito_creditoA48  -2.45947    1.09571  -2.245  0.02479 *  \n",
       "proposito_creditoA49   0.25181    0.29370   0.857  0.39123    \n",
       "titulos_poupancaA62    0.04337    0.27910   0.155  0.87651    \n",
       "titulos_poupancaA63   -0.62886    0.34367  -1.830  0.06727 .  \n",
       "titulos_poupancaA64   -1.64296    0.42160  -3.897 9.74e-05 ***\n",
       "titulos_poupancaA65   -0.57763    0.24008  -2.406  0.01613 *  \n",
       "duracao_empregoA72     1.06721    0.34726   3.073  0.00212 ** \n",
       "duracao_empregoA73     0.41608    0.32239   1.291  0.19683    \n",
       "duracao_empregoA74    -0.32962    0.35069  -0.940  0.34725    \n",
       "duracao_empregoA75     0.15786    0.34375   0.459  0.64607    \n",
       "tempo_residencia      -0.02467    0.07801  -0.316  0.75180    \n",
       "---\n",
       "Signif. codes:  0 '***' 0.001 '**' 0.01 '*' 0.05 '.' 0.1 ' ' 1\n",
       "\n",
       "(Dispersion parameter for binomial family taken to be 1)\n",
       "\n",
       "    Null deviance: 1164.5  on 839  degrees of freedom\n",
       "Residual deviance:  963.4  on 818  degrees of freedom\n",
       "AIC: 1007.4\n",
       "\n",
       "Number of Fisher Scoring iterations: 4\n"
      ]
     },
     "metadata": {},
     "output_type": "display_data"
    }
   ],
   "source": [
    "summary(modelo1_smote)"
   ]
  },
  {
   "cell_type": "code",
   "execution_count": 53,
   "id": "d82f418f",
   "metadata": {
    "vscode": {
     "languageId": "r"
    }
   },
   "outputs": [],
   "source": [
    "# Treinando modelo com regessão logistica com as melhores variáveis\n",
    "modelo2_smote <- glm(status_credito ~ status_conta + proposito_credito + titulos_poupanca,\n",
    "                     family = binomial(link = 'logit'), data = dados_treino_smote)"
   ]
  },
  {
   "cell_type": "code",
   "execution_count": 54,
   "id": "5699abe6",
   "metadata": {
    "vscode": {
     "languageId": "r"
    }
   },
   "outputs": [
    {
     "data": {
      "text/plain": [
       "\n",
       "Call:\n",
       "glm(formula = status_credito ~ status_conta + proposito_credito + \n",
       "    titulos_poupanca, family = binomial(link = \"logit\"), data = dados_treino_smote)\n",
       "\n",
       "Deviance Residuals: \n",
       "    Min       1Q   Median       3Q      Max  \n",
       "-2.0735  -0.9799   0.1420   0.9655   2.1478  \n",
       "\n",
       "Coefficients:\n",
       "                      Estimate Std. Error z value Pr(>|z|)    \n",
       "(Intercept)            0.98872    0.19055   5.189 2.12e-07 ***\n",
       "status_contaA12       -0.25625    0.19516  -1.313 0.189176    \n",
       "status_contaA13       -0.91129    0.32933  -2.767 0.005655 ** \n",
       "status_contaA14       -1.72919    0.20996  -8.236  < 2e-16 ***\n",
       "proposito_creditoA41  -0.83931    0.33556  -2.501 0.012376 *  \n",
       "proposito_creditoA410 -0.95815    0.62230  -1.540 0.123635    \n",
       "proposito_creditoA42  -0.27873    0.22776  -1.224 0.221025    \n",
       "proposito_creditoA43  -0.46743    0.21446  -2.180 0.029293 *  \n",
       "proposito_creditoA44  -0.69943    0.71722  -0.975 0.329465    \n",
       "proposito_creditoA45   0.58229    0.61932   0.940 0.347118    \n",
       "proposito_creditoA46   1.03715    0.37476   2.768 0.005648 ** \n",
       "proposito_creditoA48  -2.56127    1.09005  -2.350 0.018790 *  \n",
       "proposito_creditoA49   0.25626    0.29226   0.877 0.380582    \n",
       "titulos_poupancaA62    0.06765    0.26989   0.251 0.802090    \n",
       "titulos_poupancaA63   -0.61851    0.33105  -1.868 0.061715 .  \n",
       "titulos_poupancaA64   -1.50249    0.40554  -3.705 0.000211 ***\n",
       "titulos_poupancaA65   -0.62184    0.23398  -2.658 0.007869 ** \n",
       "---\n",
       "Signif. codes:  0 '***' 0.001 '**' 0.01 '*' 0.05 '.' 0.1 ' ' 1\n",
       "\n",
       "(Dispersion parameter for binomial family taken to be 1)\n",
       "\n",
       "    Null deviance: 1164.49  on 839  degrees of freedom\n",
       "Residual deviance:  995.09  on 823  degrees of freedom\n",
       "AIC: 1029.1\n",
       "\n",
       "Number of Fisher Scoring iterations: 4\n"
      ]
     },
     "metadata": {},
     "output_type": "display_data"
    }
   ],
   "source": [
    "summary(modelo2_smote)"
   ]
  },
  {
   "cell_type": "code",
   "execution_count": 55,
   "id": "d15e6fe9",
   "metadata": {
    "vscode": {
     "languageId": "r"
    }
   },
   "outputs": [],
   "source": [
    "# Fazendo previsões no conjunto de teste\n",
    "previsa1 <- predict(modelo2_smote, newdata = dados_teste_smote, type = 'response')\n",
    "previsao1 <- ifelse(previsa1 > 0.5, 2, 1) #cutoff:1 bom pagador, 2: mau pagador"
   ]
  },
  {
   "cell_type": "code",
   "execution_count": 56,
   "id": "9650acce",
   "metadata": {
    "vscode": {
     "languageId": "r"
    }
   },
   "outputs": [
    {
     "data": {
      "text/html": [
       "<style>\n",
       ".list-inline {list-style: none; margin:0; padding: 0}\n",
       ".list-inline>li {display: inline-block}\n",
       ".list-inline>li:not(:last-child)::after {content: \"\\00b7\"; padding: 0 .5ex}\n",
       "</style>\n",
       "<ol class=list-inline><li>'1'</li><li>'2'</li></ol>\n"
      ],
      "text/latex": [
       "\\begin{enumerate*}\n",
       "\\item '1'\n",
       "\\item '2'\n",
       "\\end{enumerate*}\n"
      ],
      "text/markdown": [
       "1. '1'\n",
       "2. '2'\n",
       "\n",
       "\n"
      ],
      "text/plain": [
       "[1] \"1\" \"2\""
      ]
     },
     "metadata": {},
     "output_type": "display_data"
    }
   ],
   "source": [
    "levels(dados_teste_smote$status_credito)"
   ]
  },
  {
   "cell_type": "markdown",
   "id": "f9af4858",
   "metadata": {},
   "source": [
    "**type = 'response':** Este argumento especifica o tipo de previsões desejado. No contexto de uma regressão logística, 'response' significa que você está interessado nas probabilidades previstas."
   ]
  },
  {
   "cell_type": "code",
   "execution_count": 57,
   "id": "2cd7209d",
   "metadata": {
    "vscode": {
     "languageId": "r"
    }
   },
   "outputs": [
    {
     "name": "stderr",
     "output_type": "stream",
     "text": [
      "Warning message:\n",
      "\"package 'caret' was built under R version 4.2.3\"\n",
      "Carregando pacotes exigidos: lattice\n",
      "\n",
      "Warning message:\n",
      "\"package 'lattice' was built under R version 4.2.3\"\n"
     ]
    }
   ],
   "source": [
    "library(caret)"
   ]
  },
  {
   "cell_type": "code",
   "execution_count": 58,
   "id": "2dba5788",
   "metadata": {
    "vscode": {
     "languageId": "r"
    }
   },
   "outputs": [
    {
     "name": "stdout",
     "output_type": "stream",
     "text": [
      "Confusion Matrix and Statistics\n",
      "\n",
      "          Reference\n",
      "Prediction   1   2\n",
      "         1 115  40\n",
      "         2  65 140\n",
      "                                          \n",
      "               Accuracy : 0.7083          \n",
      "                 95% CI : (0.6584, 0.7548)\n",
      "    No Information Rate : 0.5             \n",
      "    P-Value [Acc > NIR] : 7.886e-16       \n",
      "                                          \n",
      "                  Kappa : 0.4167          \n",
      "                                          \n",
      " Mcnemar's Test P-Value : 0.01917         \n",
      "                                          \n",
      "            Sensitivity : 0.6389          \n",
      "            Specificity : 0.7778          \n",
      "         Pos Pred Value : 0.7419          \n",
      "         Neg Pred Value : 0.6829          \n",
      "             Prevalence : 0.5000          \n",
      "         Detection Rate : 0.3194          \n",
      "   Detection Prevalence : 0.4306          \n",
      "      Balanced Accuracy : 0.7083          \n",
      "                                          \n",
      "       'Positive' Class : 1               \n",
      "                                          \n"
     ]
    }
   ],
   "source": [
    "# Matriz de confusão\n",
    "matriz_confusao <- confusionMatrix(as.factor(previsao1), dados_teste_smote$status_credito)\n",
    "print(matriz_confusao)"
   ]
  },
  {
   "cell_type": "code",
   "execution_count": 59,
   "id": "c0a468ba",
   "metadata": {
    "vscode": {
     "languageId": "r"
    }
   },
   "outputs": [
    {
     "name": "stderr",
     "output_type": "stream",
     "text": [
      "Warning message:\n",
      "\"package 'e1071' was built under R version 4.2.3\"\n"
     ]
    }
   ],
   "source": [
    "#NaiveBayes\n",
    "library(e1071)"
   ]
  },
  {
   "cell_type": "code",
   "execution_count": 60,
   "id": "98512ac4",
   "metadata": {
    "vscode": {
     "languageId": "r"
    }
   },
   "outputs": [
    {
     "data": {
      "text/plain": [
       "\n",
       "Naive Bayes Classifier for Discrete Predictors\n",
       "\n",
       "Call:\n",
       "naiveBayes.default(x = X, y = Y, laplace = laplace)\n",
       "\n",
       "A-priori probabilities:\n",
       "Y\n",
       "  1   2 \n",
       "0.5 0.5 \n",
       "\n",
       "Conditional probabilities:\n",
       "   status_conta\n",
       "Y          A11        A12        A13        A14\n",
       "  1 0.23809524 0.25476190 0.06666667 0.44047619\n",
       "  2 0.45952381 0.34761905 0.05000000 0.14285714\n",
       "\n",
       "   proposito_credito\n",
       "Y           A40         A41        A410         A42         A43         A44\n",
       "  1 0.214285714 0.097619048 0.016666667 0.204761905 0.302380952 0.014285714\n",
       "  2 0.264285714 0.047619048 0.011904762 0.207142857 0.223809524 0.009523810\n",
       "   proposito_credito\n",
       "Y           A45         A46         A48         A49\n",
       "  1 0.014285714 0.030952381 0.021428571 0.083333333\n",
       "  2 0.021428571 0.097619048 0.002380952 0.114285714\n",
       "\n",
       "   titulos_poupanca\n",
       "Y          A61        A62        A63        A64        A65\n",
       "  1 0.55238095 0.08571429 0.10238095 0.06904762 0.19047619\n",
       "  2 0.73571429 0.10476190 0.03809524 0.02380952 0.09761905\n"
      ]
     },
     "metadata": {},
     "output_type": "display_data"
    }
   ],
   "source": [
    "# Treinando o modelo\n",
    "modelo3_smote <- naiveBayes(status_credito ~ status_conta + proposito_credito + titulos_poupanca, data = dados_treino_smote)\n",
    "modelo3_smote"
   ]
  },
  {
   "cell_type": "code",
   "execution_count": 61,
   "id": "28dfb45a",
   "metadata": {
    "vscode": {
     "languageId": "r"
    }
   },
   "outputs": [],
   "source": [
    "# Fazendo as previsoes, excluindo a coluna com a variável alvo\n",
    "previsao2 <- predict(modelo3_smote, dados_teste_smote[,-18])"
   ]
  },
  {
   "cell_type": "code",
   "execution_count": 62,
   "id": "fc4595fb",
   "metadata": {
    "vscode": {
     "languageId": "r"
    }
   },
   "outputs": [
    {
     "name": "stdout",
     "output_type": "stream",
     "text": [
      "Confusion Matrix and Statistics\n",
      "\n",
      "          Reference\n",
      "Prediction   1   2\n",
      "         1 114  38\n",
      "         2  66 142\n",
      "                                          \n",
      "               Accuracy : 0.7111          \n",
      "                 95% CI : (0.6613, 0.7574)\n",
      "    No Information Rate : 0.5             \n",
      "    P-Value [Acc > NIR] : 3.205e-16       \n",
      "                                          \n",
      "                  Kappa : 0.4222          \n",
      "                                          \n",
      " Mcnemar's Test P-Value : 0.008107        \n",
      "                                          \n",
      "            Sensitivity : 0.6333          \n",
      "            Specificity : 0.7889          \n",
      "         Pos Pred Value : 0.7500          \n",
      "         Neg Pred Value : 0.6827          \n",
      "             Prevalence : 0.5000          \n",
      "         Detection Rate : 0.3167          \n",
      "   Detection Prevalence : 0.4222          \n",
      "      Balanced Accuracy : 0.7111          \n",
      "                                          \n",
      "       'Positive' Class : 1               \n",
      "                                          \n"
     ]
    }
   ],
   "source": [
    "# Matriz de confusão\n",
    "matriz_confusao <- confusionMatrix(previsao2, dados_teste_smote$status_credito)\n",
    "print(matriz_confusao)"
   ]
  },
  {
   "cell_type": "code",
   "execution_count": 63,
   "id": "3db68757",
   "metadata": {
    "vscode": {
     "languageId": "r"
    }
   },
   "outputs": [
    {
     "name": "stdout",
     "output_type": "stream",
     "text": [
      "\n",
      "Call:\n",
      " randomForest(formula = status_credito ~ status_conta + proposito_credito +      titulos_poupanca, data = dados_treino_smote, ntree = 100,      nodesize = 10) \n",
      "               Type of random forest: classification\n",
      "                     Number of trees: 100\n",
      "No. of variables tried at each split: 1\n",
      "\n",
      "        OOB estimate of  error rate: 32.26%\n",
      "Confusion matrix:\n",
      "    1   2 class.error\n",
      "1 250 170   0.4047619\n",
      "2 101 319   0.2404762\n"
     ]
    }
   ],
   "source": [
    "#randomForest\n",
    "modelo4_smote <- randomForest(status_credito ~ status_conta + proposito_credito + titulos_poupanca,\n",
    "                        data = dados_treino_smote, \n",
    "                        ntree = 100, nodesize = 10)\n",
    "print(modelo4_smote)\n",
    "#Agora eu não quero  preciso do importance = TRUE: porque já sabemos a importância das variáveis, queremos apenas o modelo."
   ]
  },
  {
   "cell_type": "code",
   "execution_count": 64,
   "id": "7683aed1",
   "metadata": {
    "vscode": {
     "languageId": "r"
    }
   },
   "outputs": [],
   "source": [
    "# Fazendo as previsoes\n",
    "previsao3 <- predict(modelo4_smote, newdata = dados_teste_smote)"
   ]
  },
  {
   "cell_type": "code",
   "execution_count": 65,
   "id": "e190734d",
   "metadata": {
    "vscode": {
     "languageId": "r"
    }
   },
   "outputs": [
    {
     "name": "stdout",
     "output_type": "stream",
     "text": [
      "Confusion Matrix and Statistics\n",
      "\n",
      "          Reference\n",
      "Prediction   1   2\n",
      "         1 120  34\n",
      "         2  60 146\n",
      "                                          \n",
      "               Accuracy : 0.7389          \n",
      "                 95% CI : (0.6903, 0.7835)\n",
      "    No Information Rate : 0.5             \n",
      "    P-Value [Acc > NIR] : < 2.2e-16       \n",
      "                                          \n",
      "                  Kappa : 0.4778          \n",
      "                                          \n",
      " Mcnemar's Test P-Value : 0.009922        \n",
      "                                          \n",
      "            Sensitivity : 0.6667          \n",
      "            Specificity : 0.8111          \n",
      "         Pos Pred Value : 0.7792          \n",
      "         Neg Pred Value : 0.7087          \n",
      "             Prevalence : 0.5000          \n",
      "         Detection Rate : 0.3333          \n",
      "   Detection Prevalence : 0.4278          \n",
      "      Balanced Accuracy : 0.7389          \n",
      "                                          \n",
      "       'Positive' Class : 1               \n",
      "                                          \n"
     ]
    }
   ],
   "source": [
    "# Matriz de confusão\n",
    "matriz_confusao <- confusionMatrix(previsao3, dados_teste_smote$status_credito)\n",
    "print(matriz_confusao)"
   ]
  },
  {
   "cell_type": "markdown",
   "id": "5ecf3e2a",
   "metadata": {},
   "source": [
    "### Agora vamos testar os mesmos modelos mas para o dataset que foi balanceado pelo método Rose."
   ]
  },
  {
   "cell_type": "code",
   "execution_count": 66,
   "id": "3460c429",
   "metadata": {
    "vscode": {
     "languageId": "r"
    }
   },
   "outputs": [],
   "source": [
    "# Split dos dados  rose\n",
    "set.seed(101)\n",
    "split <- sample.split(dados_balanceados_rose$status_credito, SplitRatio = 0.70 )"
   ]
  },
  {
   "cell_type": "code",
   "execution_count": 67,
   "id": "2bc4d950",
   "metadata": {
    "vscode": {
     "languageId": "r"
    }
   },
   "outputs": [
    {
     "data": {
      "text/html": [
       "<style>\n",
       ".list-inline {list-style: none; margin:0; padding: 0}\n",
       ".list-inline>li {display: inline-block}\n",
       ".list-inline>li:not(:last-child)::after {content: \"\\00b7\"; padding: 0 .5ex}\n",
       "</style>\n",
       "<ol class=list-inline><li>833</li><li>21</li></ol>\n"
      ],
      "text/latex": [
       "\\begin{enumerate*}\n",
       "\\item 833\n",
       "\\item 21\n",
       "\\end{enumerate*}\n"
      ],
      "text/markdown": [
       "1. 833\n",
       "2. 21\n",
       "\n",
       "\n"
      ],
      "text/plain": [
       "[1] 833  21"
      ]
     },
     "metadata": {},
     "output_type": "display_data"
    },
    {
     "data": {
      "text/html": [
       "<style>\n",
       ".list-inline {list-style: none; margin:0; padding: 0}\n",
       ".list-inline>li {display: inline-block}\n",
       ".list-inline>li:not(:last-child)::after {content: \"\\00b7\"; padding: 0 .5ex}\n",
       "</style>\n",
       "<ol class=list-inline><li>367</li><li>21</li></ol>\n"
      ],
      "text/latex": [
       "\\begin{enumerate*}\n",
       "\\item 367\n",
       "\\item 21\n",
       "\\end{enumerate*}\n"
      ],
      "text/markdown": [
       "1. 367\n",
       "2. 21\n",
       "\n",
       "\n"
      ],
      "text/plain": [
       "[1] 367  21"
      ]
     },
     "metadata": {},
     "output_type": "display_data"
    }
   ],
   "source": [
    "# Datasets de treino e de teste\n",
    "dados_treino_rose <- subset(dados_balanceados_smote, split == TRUE)\n",
    "dados_teste_rose <- subset(dados_balanceados_smote, split == FALSE)\n",
    "dim(dados_treino_rose)\n",
    "dim(dados_teste_rose)"
   ]
  },
  {
   "cell_type": "code",
   "execution_count": 68,
   "id": "bfaaa23b",
   "metadata": {
    "vscode": {
     "languageId": "r"
    }
   },
   "outputs": [],
   "source": [
    "# Treinando modelo com regessão logistica\n",
    "modelo1_rose <- glm(status_credito ~ status_conta + proposito_credito + titulos_poupanca + duracao_emprego +\n",
    "                     historico_credito, family = binomial(link = 'logit'), data = dados_treino_rose)"
   ]
  },
  {
   "cell_type": "code",
   "execution_count": 69,
   "id": "c6e4748c",
   "metadata": {
    "vscode": {
     "languageId": "r"
    }
   },
   "outputs": [
    {
     "data": {
      "text/plain": [
       "\n",
       "Call:\n",
       "glm(formula = status_credito ~ status_conta + proposito_credito + \n",
       "    titulos_poupanca + duracao_emprego + historico_credito, family = binomial(link = \"logit\"), \n",
       "    data = dados_treino_rose)\n",
       "\n",
       "Deviance Residuals: \n",
       "    Min       1Q   Median       3Q      Max  \n",
       "-1.9537  -0.9612  -0.1785   0.9402   2.3703  \n",
       "\n",
       "Coefficients:\n",
       "                      Estimate Std. Error z value Pr(>|z|)    \n",
       "(Intercept)            1.44847    0.53604   2.702  0.00689 ** \n",
       "status_contaA12       -0.16218    0.20544  -0.789  0.42984    \n",
       "status_contaA13       -0.98394    0.35983  -2.734  0.00625 ** \n",
       "status_contaA14       -1.60055    0.22302  -7.177 7.15e-13 ***\n",
       "proposito_creditoA41  -0.79974    0.33286  -2.403  0.01628 *  \n",
       "proposito_creditoA410 -1.28157    0.66526  -1.926  0.05405 .  \n",
       "proposito_creditoA42  -0.40589    0.23928  -1.696  0.08983 .  \n",
       "proposito_creditoA43  -0.65612    0.23130  -2.837  0.00456 ** \n",
       "proposito_creditoA44  -0.92679    0.71409  -1.298  0.19433    \n",
       "proposito_creditoA45   0.40985    0.65725   0.624  0.53290    \n",
       "proposito_creditoA46   0.89641    0.39268   2.283  0.02244 *  \n",
       "proposito_creditoA48  -3.14492    1.17654  -2.673  0.00752 ** \n",
       "proposito_creditoA49  -0.07051    0.32178  -0.219  0.82655    \n",
       "titulos_poupancaA62   -0.06671    0.28071  -0.238  0.81215    \n",
       "titulos_poupancaA63   -0.66374    0.35197  -1.886  0.05932 .  \n",
       "titulos_poupancaA64   -1.95463    0.47579  -4.108 3.99e-05 ***\n",
       "titulos_poupancaA65   -0.60606    0.24511  -2.473  0.01341 *  \n",
       "duracao_empregoA72     0.94997    0.35935   2.644  0.00820 ** \n",
       "duracao_empregoA73     0.40599    0.33362   1.217  0.22363    \n",
       "duracao_empregoA74    -0.37633    0.36212  -1.039  0.29868    \n",
       "duracao_empregoA75     0.21910    0.35038   0.625  0.53175    \n",
       "historico_creditoA31   0.37269    0.55473   0.672  0.50169    \n",
       "historico_creditoA32  -0.67427    0.40898  -1.649  0.09921 .  \n",
       "historico_creditoA33  -0.10663    0.47834  -0.223  0.82359    \n",
       "historico_creditoA34  -1.29090    0.42611  -3.029  0.00245 ** \n",
       "---\n",
       "Signif. codes:  0 '***' 0.001 '**' 0.01 '*' 0.05 '.' 0.1 ' ' 1\n",
       "\n",
       "(Dispersion parameter for binomial family taken to be 1)\n",
       "\n",
       "    Null deviance: 1154.75  on 832  degrees of freedom\n",
       "Residual deviance:  929.97  on 808  degrees of freedom\n",
       "AIC: 979.97\n",
       "\n",
       "Number of Fisher Scoring iterations: 4\n"
      ]
     },
     "metadata": {},
     "output_type": "display_data"
    }
   ],
   "source": [
    "summary(modelo1_rose)"
   ]
  },
  {
   "cell_type": "code",
   "execution_count": 70,
   "id": "13b26ebc",
   "metadata": {
    "vscode": {
     "languageId": "r"
    }
   },
   "outputs": [],
   "source": [
    "# Treinando modelo com regessão logistica com as melhores variáveis\n",
    "modelo2_rose <- glm(status_credito ~ status_conta + proposito_credito + titulos_poupanca + historico_credito,\n",
    "                     family = binomial(link = 'logit'), data = dados_treino_rose)"
   ]
  },
  {
   "cell_type": "code",
   "execution_count": 71,
   "id": "9fc720e5",
   "metadata": {
    "vscode": {
     "languageId": "r"
    }
   },
   "outputs": [
    {
     "data": {
      "text/plain": [
       "\n",
       "Call:\n",
       "glm(formula = status_credito ~ status_conta + proposito_credito + \n",
       "    titulos_poupanca + historico_credito, family = binomial(link = \"logit\"), \n",
       "    data = dados_treino_rose)\n",
       "\n",
       "Deviance Residuals: \n",
       "    Min       1Q   Median       3Q      Max  \n",
       "-2.0671  -0.9695  -0.2359   0.9755   2.2370  \n",
       "\n",
       "Coefficients:\n",
       "                      Estimate Std. Error z value Pr(>|z|)    \n",
       "(Intercept)            1.81481    0.42851   4.235 2.28e-05 ***\n",
       "status_contaA12       -0.15174    0.20068  -0.756 0.449583    \n",
       "status_contaA13       -0.88046    0.34886  -2.524 0.011608 *  \n",
       "status_contaA14       -1.54618    0.21893  -7.062 1.64e-12 ***\n",
       "proposito_creditoA41  -0.76382    0.32701  -2.336 0.019504 *  \n",
       "proposito_creditoA410 -1.32698    0.65243  -2.034 0.041961 *  \n",
       "proposito_creditoA42  -0.28690    0.23381  -1.227 0.219796    \n",
       "proposito_creditoA43  -0.53959    0.22319  -2.418 0.015623 *  \n",
       "proposito_creditoA44  -0.77088    0.66985  -1.151 0.249801    \n",
       "proposito_creditoA45   0.24194    0.64842   0.373 0.709054    \n",
       "proposito_creditoA46   0.97571    0.39028   2.500 0.012418 *  \n",
       "proposito_creditoA48  -3.15708    1.16253  -2.716 0.006614 ** \n",
       "proposito_creditoA49  -0.04985    0.31784  -0.157 0.875377    \n",
       "titulos_poupancaA62   -0.05088    0.27517  -0.185 0.853303    \n",
       "titulos_poupancaA63   -0.66166    0.33909  -1.951 0.051020 .  \n",
       "titulos_poupancaA64   -1.79422    0.45815  -3.916 8.99e-05 ***\n",
       "titulos_poupancaA65   -0.64305    0.23987  -2.681 0.007344 ** \n",
       "historico_creditoA31   0.19627    0.54804   0.358 0.720242    \n",
       "historico_creditoA32  -0.77967    0.40463  -1.927 0.053998 .  \n",
       "historico_creditoA33  -0.29859    0.47092  -0.634 0.526047    \n",
       "historico_creditoA34  -1.50265    0.41923  -3.584 0.000338 ***\n",
       "---\n",
       "Signif. codes:  0 '***' 0.001 '**' 0.01 '*' 0.05 '.' 0.1 ' ' 1\n",
       "\n",
       "(Dispersion parameter for binomial family taken to be 1)\n",
       "\n",
       "    Null deviance: 1154.75  on 832  degrees of freedom\n",
       "Residual deviance:  955.45  on 812  degrees of freedom\n",
       "AIC: 997.45\n",
       "\n",
       "Number of Fisher Scoring iterations: 4\n"
      ]
     },
     "metadata": {},
     "output_type": "display_data"
    }
   ],
   "source": [
    "summary(modelo2_rose)"
   ]
  },
  {
   "cell_type": "code",
   "execution_count": 72,
   "id": "8aa45b35",
   "metadata": {
    "vscode": {
     "languageId": "r"
    }
   },
   "outputs": [],
   "source": [
    "# Fazendo previsões no conjunto de teste\n",
    "previsa1 <- predict(modelo2_rose, newdata = dados_teste_rose, type = 'response')\n",
    "previsao1 <- ifelse(previsa1 > 0.5, 2, 1) #cutoff:1 bom pagador, 2: mau pagador"
   ]
  },
  {
   "cell_type": "code",
   "execution_count": 73,
   "id": "58ba603d",
   "metadata": {
    "vscode": {
     "languageId": "r"
    }
   },
   "outputs": [
    {
     "name": "stdout",
     "output_type": "stream",
     "text": [
      "Confusion Matrix and Statistics\n",
      "\n",
      "          Reference\n",
      "Prediction   1   2\n",
      "         1 126  42\n",
      "         2  55 144\n",
      "                                          \n",
      "               Accuracy : 0.7357          \n",
      "                 95% CI : (0.6874, 0.7801)\n",
      "    No Information Rate : 0.5068          \n",
      "    P-Value [Acc > NIR] : <2e-16          \n",
      "                                          \n",
      "                  Kappa : 0.4708          \n",
      "                                          \n",
      " Mcnemar's Test P-Value : 0.2231          \n",
      "                                          \n",
      "            Sensitivity : 0.6961          \n",
      "            Specificity : 0.7742          \n",
      "         Pos Pred Value : 0.7500          \n",
      "         Neg Pred Value : 0.7236          \n",
      "             Prevalence : 0.4932          \n",
      "         Detection Rate : 0.3433          \n",
      "   Detection Prevalence : 0.4578          \n",
      "      Balanced Accuracy : 0.7352          \n",
      "                                          \n",
      "       'Positive' Class : 1               \n",
      "                                          \n"
     ]
    }
   ],
   "source": [
    "# Matriz de confusão\n",
    "matriz_confusao <- confusionMatrix(as.factor(previsao1), dados_teste_rose$status_credito)\n",
    "print(matriz_confusao)"
   ]
  },
  {
   "cell_type": "code",
   "execution_count": 74,
   "id": "48acc03d",
   "metadata": {
    "vscode": {
     "languageId": "r"
    }
   },
   "outputs": [
    {
     "data": {
      "text/plain": [
       "\n",
       "Naive Bayes Classifier for Discrete Predictors\n",
       "\n",
       "Call:\n",
       "naiveBayes.default(x = X, y = Y, laplace = laplace)\n",
       "\n",
       "A-priori probabilities:\n",
       "Y\n",
       "        1         2 \n",
       "0.5030012 0.4969988 \n",
       "\n",
       "Conditional probabilities:\n",
       "   status_conta\n",
       "Y          A11        A12        A13        A14\n",
       "  1 0.23866348 0.25298329 0.06682578 0.44152745\n",
       "  2 0.44927536 0.36473430 0.04347826 0.14251208\n",
       "\n",
       "   proposito_credito\n",
       "Y           A40         A41        A410         A42         A43         A44\n",
       "  1 0.214797136 0.097852029 0.016706444 0.205250597 0.303102625 0.014319809\n",
       "  2 0.260869565 0.057971014 0.012077295 0.210144928 0.222222222 0.012077295\n",
       "   proposito_credito\n",
       "Y           A45         A46         A48         A49\n",
       "  1 0.014319809 0.031026253 0.019093079 0.083532220\n",
       "  2 0.019323671 0.091787440 0.002415459 0.111111111\n",
       "\n",
       "   titulos_poupanca\n",
       "Y          A61        A62        A63        A64        A65\n",
       "  1 0.55369928 0.08591885 0.10262530 0.06921241 0.18854415\n",
       "  2 0.73429952 0.10869565 0.03864734 0.01932367 0.09903382\n",
       "\n",
       "   historico_credito\n",
       "Y          A30        A31        A32        A33        A34\n",
       "  1 0.02386635 0.03341289 0.53460621 0.07159905 0.33651551\n",
       "  2 0.08454106 0.08454106 0.56521739 0.09903382 0.16666667\n"
      ]
     },
     "metadata": {},
     "output_type": "display_data"
    }
   ],
   "source": [
    "# Treinando o modelo\n",
    "modelo3_rose <- naiveBayes(status_credito ~ status_conta + proposito_credito + titulos_poupanca + historico_credito, \n",
    "                           data = dados_treino_rose)\n",
    "modelo3_rose"
   ]
  },
  {
   "cell_type": "code",
   "execution_count": 75,
   "id": "6351a5c3",
   "metadata": {
    "vscode": {
     "languageId": "r"
    }
   },
   "outputs": [],
   "source": [
    "# Fazendo as previsoes, excluindo a coluna com a variável alvo\n",
    "previsao2 <- predict(modelo3_rose, dados_teste_rose[,-18])"
   ]
  },
  {
   "cell_type": "code",
   "execution_count": 76,
   "id": "b943f082",
   "metadata": {
    "vscode": {
     "languageId": "r"
    }
   },
   "outputs": [
    {
     "name": "stdout",
     "output_type": "stream",
     "text": [
      "Confusion Matrix and Statistics\n",
      "\n",
      "          Reference\n",
      "Prediction   1   2\n",
      "         1 124  44\n",
      "         2  57 142\n",
      "                                         \n",
      "               Accuracy : 0.7248         \n",
      "                 95% CI : (0.676, 0.7699)\n",
      "    No Information Rate : 0.5068         \n",
      "    P-Value [Acc > NIR] : <2e-16         \n",
      "                                         \n",
      "                  Kappa : 0.449          \n",
      "                                         \n",
      " Mcnemar's Test P-Value : 0.2325         \n",
      "                                         \n",
      "            Sensitivity : 0.6851         \n",
      "            Specificity : 0.7634         \n",
      "         Pos Pred Value : 0.7381         \n",
      "         Neg Pred Value : 0.7136         \n",
      "             Prevalence : 0.4932         \n",
      "         Detection Rate : 0.3379         \n",
      "   Detection Prevalence : 0.4578         \n",
      "      Balanced Accuracy : 0.7243         \n",
      "                                         \n",
      "       'Positive' Class : 1              \n",
      "                                         \n"
     ]
    }
   ],
   "source": [
    "# Matriz de confusão\n",
    "matriz_confusao <- confusionMatrix(previsao2, dados_teste_rose$status_credito)\n",
    "print(matriz_confusao)"
   ]
  },
  {
   "cell_type": "code",
   "execution_count": 77,
   "id": "b28c65d4",
   "metadata": {
    "vscode": {
     "languageId": "r"
    }
   },
   "outputs": [
    {
     "name": "stdout",
     "output_type": "stream",
     "text": [
      "\n",
      "Call:\n",
      " randomForest(formula = status_credito ~ status_conta + proposito_credito +      titulos_poupanca + historico_credito, data = dados_treino_rose,      ntree = 100, nodesize = 10) \n",
      "               Type of random forest: classification\n",
      "                     Number of trees: 100\n",
      "No. of variables tried at each split: 2\n",
      "\n",
      "        OOB estimate of  error rate: 28.09%\n",
      "Confusion matrix:\n",
      "    1   2 class.error\n",
      "1 289 130   0.3102625\n",
      "2 104 310   0.2512077\n"
     ]
    }
   ],
   "source": [
    "#randomForest\n",
    "modelo4_rose <- randomForest(status_credito ~ status_conta + proposito_credito + titulos_poupanca + historico_credito,\n",
    "                        data = dados_treino_rose, \n",
    "                        ntree = 100, nodesize = 10)\n",
    "print(modelo4_rose)"
   ]
  },
  {
   "cell_type": "code",
   "execution_count": 78,
   "id": "8dbc52eb",
   "metadata": {
    "vscode": {
     "languageId": "r"
    }
   },
   "outputs": [],
   "source": [
    "# Fazendo as previsoes\n",
    "previsao3 <- predict(modelo4_rose, newdata = dados_teste_rose)"
   ]
  },
  {
   "cell_type": "code",
   "execution_count": 79,
   "id": "abe666da",
   "metadata": {
    "vscode": {
     "languageId": "r"
    }
   },
   "outputs": [
    {
     "name": "stdout",
     "output_type": "stream",
     "text": [
      "Confusion Matrix and Statistics\n",
      "\n",
      "          Reference\n",
      "Prediction   1   2\n",
      "         1 118  49\n",
      "         2  63 137\n",
      "                                          \n",
      "               Accuracy : 0.6948          \n",
      "                 95% CI : (0.6449, 0.7416)\n",
      "    No Information Rate : 0.5068          \n",
      "    P-Value [Acc > NIR] : 2.072e-13       \n",
      "                                          \n",
      "                  Kappa : 0.3889          \n",
      "                                          \n",
      " Mcnemar's Test P-Value : 0.2193          \n",
      "                                          \n",
      "            Sensitivity : 0.6519          \n",
      "            Specificity : 0.7366          \n",
      "         Pos Pred Value : 0.7066          \n",
      "         Neg Pred Value : 0.6850          \n",
      "             Prevalence : 0.4932          \n",
      "         Detection Rate : 0.3215          \n",
      "   Detection Prevalence : 0.4550          \n",
      "      Balanced Accuracy : 0.6942          \n",
      "                                          \n",
      "       'Positive' Class : 1               \n",
      "                                          \n"
     ]
    }
   ],
   "source": [
    "# Matriz de confusão\n",
    "matriz_confusao <- confusionMatrix(previsao3, dados_teste_rose$status_credito)\n",
    "print(matriz_confusao)"
   ]
  },
  {
   "cell_type": "markdown",
   "id": "93188d57",
   "metadata": {},
   "source": [
    "### Não foram observadas diferenças significativas entre os modelos, nem em relação aos métodos de balanceamento. Entretanto, destacamos que houve variação na escolha das variáveis para cada método de balanceamento. Diante disso, optamos por ajustar as variáveis do conjunto de dados utilizando a técnica SMOTE, considerando seu reconhecido desempenho superior em comparação com o método ROSE. Além disso, percebemos que as variáveis preditoras desempenham um papel mais fundamental na avaliação do modelo."
   ]
  },
  {
   "cell_type": "code",
   "execution_count": 80,
   "id": "c51b83da",
   "metadata": {
    "vscode": {
     "languageId": "r"
    }
   },
   "outputs": [],
   "source": [
    "# Treinando modelo com regressão logistica e excluindo variaveis menos importantes\n",
    "modelo1<- glm(status_credito ~ .\n",
    "              - trabalhador_estrangeiro\n",
    "              - telefone\n",
    "              - num_dependentes\n",
    "              - outros_devedores\n",
    "              - idade_eng\n",
    "              - valor_credito_eng\n",
    "              - sexo_e_estado_civil,\n",
    "              family = binomial(link = 'logit'), data = dados_treino_smote)"
   ]
  },
  {
   "cell_type": "code",
   "execution_count": 81,
   "id": "a5843974",
   "metadata": {
    "vscode": {
     "languageId": "r"
    }
   },
   "outputs": [
    {
     "data": {
      "text/plain": [
       "\n",
       "Call:\n",
       "glm(formula = status_credito ~ . - trabalhador_estrangeiro - \n",
       "    telefone - num_dependentes - outros_devedores - idade_eng - \n",
       "    valor_credito_eng - sexo_e_estado_civil, family = binomial(link = \"logit\"), \n",
       "    data = dados_treino_smote)\n",
       "\n",
       "Deviance Residuals: \n",
       "     Min        1Q    Median        3Q       Max  \n",
       "-2.29048  -0.87760  -0.06101   0.86190   2.32428  \n",
       "\n",
       "Coefficients:\n",
       "                                 Estimate Std. Error z value Pr(>|z|)    \n",
       "(Intercept)                      -0.09583    0.89267  -0.107 0.914507    \n",
       "status_contaA12                  -0.15345    0.21662  -0.708 0.478711    \n",
       "status_contaA13                  -0.78590    0.35430  -2.218 0.026544 *  \n",
       "status_contaA14                  -1.64209    0.23368  -7.027 2.11e-12 ***\n",
       "historico_creditoA31              0.46316    0.58763   0.788 0.430587    \n",
       "historico_creditoA32             -0.22149    0.42970  -0.515 0.606232    \n",
       "historico_creditoA33              0.14324    0.48821   0.293 0.769220    \n",
       "historico_creditoA34             -1.16422    0.43556  -2.673 0.007519 ** \n",
       "proposito_creditoA41             -1.22870    0.38282  -3.210 0.001329 ** \n",
       "proposito_creditoA410            -1.73486    0.71667  -2.421 0.015490 *  \n",
       "proposito_creditoA42             -0.41939    0.25111  -1.670 0.094887 .  \n",
       "proposito_creditoA43             -0.77021    0.24478  -3.147 0.001652 ** \n",
       "proposito_creditoA44             -1.05571    0.76331  -1.383 0.166646    \n",
       "proposito_creditoA45              0.45823    0.67249   0.681 0.495626    \n",
       "proposito_creditoA46              0.94737    0.40528   2.338 0.019408 *  \n",
       "proposito_creditoA48             -3.40278    1.19037  -2.859 0.004255 ** \n",
       "proposito_creditoA49             -0.29385    0.33973  -0.865 0.387066    \n",
       "titulos_poupancaA62              -0.36639    0.30315  -1.209 0.226802    \n",
       "titulos_poupancaA63              -0.65852    0.35939  -1.832 0.066905 .  \n",
       "titulos_poupancaA64              -1.81793    0.46245  -3.931 8.46e-05 ***\n",
       "titulos_poupancaA65              -0.65091    0.25733  -2.530 0.011422 *  \n",
       "duracao_empregoA72                0.42571    0.42801   0.995 0.319914    \n",
       "duracao_empregoA73               -0.14393    0.40743  -0.353 0.723891    \n",
       "duracao_empregoA74               -1.04089    0.43541  -2.391 0.016822 *  \n",
       "duracao_empregoA75               -0.43706    0.41776  -1.046 0.295473    \n",
       "taxa_parcelamento                 0.19468    0.08257   2.358 0.018383 *  \n",
       "tempo_residencia                 -0.08240    0.09000  -0.916 0.359916    \n",
       "tipo_propriedadeA122              0.54850    0.25089   2.186 0.028801 *  \n",
       "tipo_propriedadeA123              0.38660    0.22599   1.711 0.087131 .  \n",
       "tipo_propriedadeA124              0.53010    0.41212   1.286 0.198346    \n",
       "outras_parcelasA142              -0.07118    0.41568  -0.171 0.864029    \n",
       "outras_parcelasA143              -0.47805    0.24771  -1.930 0.053621 .  \n",
       "tipo_habitacaoA152               -0.51814    0.23400  -2.214 0.026814 *  \n",
       "tipo_habitacaoA153               -0.48325    0.46495  -1.039 0.298637    \n",
       "creditos_existentes_neste_banco   0.37697    0.19192   1.964 0.049510 *  \n",
       "empregoA172                       1.38408    0.60867   2.274 0.022970 *  \n",
       "empregoA173                       1.23280    0.58081   2.123 0.033791 *  \n",
       "empregoA174                       1.23224    0.58324   2.113 0.034624 *  \n",
       "duracao_eng(20,40]                0.35904    0.18870   1.903 0.057072 .  \n",
       "duracao_eng(40,60]                1.08432    0.31806   3.409 0.000652 ***\n",
       "duracao_eng(60,80]               14.09263  535.41131   0.026 0.979001    \n",
       "---\n",
       "Signif. codes:  0 '***' 0.001 '**' 0.01 '*' 0.05 '.' 0.1 ' ' 1\n",
       "\n",
       "(Dispersion parameter for binomial family taken to be 1)\n",
       "\n",
       "    Null deviance: 1164.49  on 839  degrees of freedom\n",
       "Residual deviance:  888.18  on 799  degrees of freedom\n",
       "AIC: 970.18\n",
       "\n",
       "Number of Fisher Scoring iterations: 12\n"
      ]
     },
     "metadata": {},
     "output_type": "display_data"
    }
   ],
   "source": [
    "summary(modelo1)"
   ]
  },
  {
   "cell_type": "code",
   "execution_count": 82,
   "id": "f5a2dd9f",
   "metadata": {
    "vscode": {
     "languageId": "r"
    }
   },
   "outputs": [],
   "source": [
    "# Fazendo previsões no conjunto de teste\n",
    "previsa1 <- predict(modelo1, newdata = dados_teste_smote, type = 'response')\n",
    "previsao1 <- ifelse(previsa1 > 0.5, 2, 1) #cutoff:1 bom pagador, 2: mau pagador"
   ]
  },
  {
   "cell_type": "code",
   "execution_count": 83,
   "id": "0de6940d",
   "metadata": {
    "vscode": {
     "languageId": "r"
    }
   },
   "outputs": [
    {
     "name": "stdout",
     "output_type": "stream",
     "text": [
      "Confusion Matrix and Statistics\n",
      "\n",
      "          Reference\n",
      "Prediction   1   2\n",
      "         1 132  54\n",
      "         2  48 126\n",
      "                                          \n",
      "               Accuracy : 0.7167          \n",
      "                 95% CI : (0.6671, 0.7627)\n",
      "    No Information Rate : 0.5             \n",
      "    P-Value [Acc > NIR] : <2e-16          \n",
      "                                          \n",
      "                  Kappa : 0.4333          \n",
      "                                          \n",
      " Mcnemar's Test P-Value : 0.6205          \n",
      "                                          \n",
      "            Sensitivity : 0.7333          \n",
      "            Specificity : 0.7000          \n",
      "         Pos Pred Value : 0.7097          \n",
      "         Neg Pred Value : 0.7241          \n",
      "             Prevalence : 0.5000          \n",
      "         Detection Rate : 0.3667          \n",
      "   Detection Prevalence : 0.5167          \n",
      "      Balanced Accuracy : 0.7167          \n",
      "                                          \n",
      "       'Positive' Class : 1               \n",
      "                                          \n"
     ]
    }
   ],
   "source": [
    "# Matriz de confusão\n",
    "matriz_confusao <- confusionMatrix(as.factor(previsao1), dados_teste_smote$status_credito)\n",
    "print(matriz_confusao)"
   ]
  },
  {
   "cell_type": "code",
   "execution_count": 84,
   "id": "f7ac55ba",
   "metadata": {
    "vscode": {
     "languageId": "r"
    }
   },
   "outputs": [
    {
     "data": {
      "text/plain": [
       "\n",
       "Naive Bayes Classifier for Discrete Predictors\n",
       "\n",
       "Call:\n",
       "naiveBayes.default(x = X, y = Y, laplace = laplace)\n",
       "\n",
       "A-priori probabilities:\n",
       "Y\n",
       "  1   2 \n",
       "0.5 0.5 \n",
       "\n",
       "Conditional probabilities:\n",
       "   status_conta\n",
       "Y          A11        A12        A13        A14\n",
       "  1 0.23809524 0.25476190 0.06666667 0.44047619\n",
       "  2 0.45952381 0.34761905 0.05000000 0.14285714\n",
       "\n",
       "   historico_credito\n",
       "Y          A30        A31        A32        A33        A34\n",
       "  1 0.02380952 0.03333333 0.53571429 0.07142857 0.33571429\n",
       "  2 0.08809524 0.07857143 0.56190476 0.10714286 0.16428571\n",
       "\n",
       "   proposito_credito\n",
       "Y           A40         A41        A410         A42         A43         A44\n",
       "  1 0.214285714 0.097619048 0.016666667 0.204761905 0.302380952 0.014285714\n",
       "  2 0.264285714 0.047619048 0.011904762 0.207142857 0.223809524 0.009523810\n",
       "   proposito_credito\n",
       "Y           A45         A46         A48         A49\n",
       "  1 0.014285714 0.030952381 0.021428571 0.083333333\n",
       "  2 0.021428571 0.097619048 0.002380952 0.114285714\n",
       "\n",
       "   titulos_poupanca\n",
       "Y          A61        A62        A63        A64        A65\n",
       "  1 0.55238095 0.08571429 0.10238095 0.06904762 0.19047619\n",
       "  2 0.73571429 0.10476190 0.03809524 0.02380952 0.09761905\n",
       "\n",
       "   duracao_emprego\n",
       "Y          A71        A72        A73        A74        A75\n",
       "  1 0.07619048 0.12857143 0.35714286 0.20952381 0.22857143\n",
       "  2 0.06666667 0.26904762 0.35238095 0.12857143 0.18333333\n",
       "\n",
       "   taxa_parcelamento\n",
       "Y       [,1]     [,2]\n",
       "  1 3.007143 1.104318\n",
       "  2 3.116431 1.029196\n",
       "\n",
       "   tempo_residencia\n",
       "Y       [,1]     [,2]\n",
       "  1 2.823810 1.121457\n",
       "  2 2.839081 1.071435\n",
       "\n",
       "   tipo_propriedade\n",
       "Y        A121      A122      A123      A124\n",
       "  1 0.2904762 0.2142857 0.3642857 0.1309524\n",
       "  2 0.2000000 0.2380952 0.3666667 0.1952381\n",
       "\n",
       "   outras_parcelas\n",
       "Y         A141       A142       A143\n",
       "  1 0.12380952 0.04523810 0.83095238\n",
       "  2 0.16190476 0.07142857 0.76666667\n",
       "\n",
       "   tipo_habitacao\n",
       "Y        A151      A152      A153\n",
       "  1 0.1619048 0.7380952 0.1000000\n",
       "  2 0.2309524 0.6309524 0.1380952\n",
       "\n",
       "   creditos_existentes_neste_banco\n",
       "Y       [,1]      [,2]\n",
       "  1 1.407143 0.5849720\n",
       "  2 1.373562 0.5428788\n",
       "\n",
       "   emprego\n",
       "Y         A171       A172       A173       A174\n",
       "  1 0.04047619 0.18571429 0.63095238 0.14285714\n",
       "  2 0.01904762 0.20000000 0.63809524 0.14285714\n",
       "\n",
       "   duracao_eng\n",
       "Y        (0,20]     (20,40]     (40,60]     (60,80]\n",
       "  1 0.583333333 0.347619048 0.069047619 0.000000000\n",
       "  2 0.454761905 0.407142857 0.135714286 0.002380952\n"
      ]
     },
     "metadata": {},
     "output_type": "display_data"
    }
   ],
   "source": [
    "# Treinando o modelo\n",
    "modelo2 <- naiveBayes(status_credito ~ . \n",
    "                      - trabalhador_estrangeiro \n",
    "                      - telefone \n",
    "                      - num_dependentes \n",
    "                      - outros_devedores \n",
    "                      - idade_eng \n",
    "                      - valor_credito_eng \n",
    "                      - sexo_e_estado_civil, \n",
    "                      data = dados_treino_smote)\n",
    "modelo2"
   ]
  },
  {
   "cell_type": "code",
   "execution_count": 85,
   "id": "3b260b37",
   "metadata": {
    "vscode": {
     "languageId": "r"
    }
   },
   "outputs": [],
   "source": [
    "# Fazendo as previsoes, excluindo a coluna com a variável alvo\n",
    "previsao2 <- predict(modelo2, dados_teste_smote[,-18])"
   ]
  },
  {
   "cell_type": "code",
   "execution_count": 86,
   "id": "57ea638d",
   "metadata": {
    "vscode": {
     "languageId": "r"
    }
   },
   "outputs": [
    {
     "name": "stdout",
     "output_type": "stream",
     "text": [
      "Confusion Matrix and Statistics\n",
      "\n",
      "          Reference\n",
      "Prediction   1   2\n",
      "         1 129  51\n",
      "         2  51 129\n",
      "                                          \n",
      "               Accuracy : 0.7167          \n",
      "                 95% CI : (0.6671, 0.7627)\n",
      "    No Information Rate : 0.5             \n",
      "    P-Value [Acc > NIR] : <2e-16          \n",
      "                                          \n",
      "                  Kappa : 0.4333          \n",
      "                                          \n",
      " Mcnemar's Test P-Value : 1               \n",
      "                                          \n",
      "            Sensitivity : 0.7167          \n",
      "            Specificity : 0.7167          \n",
      "         Pos Pred Value : 0.7167          \n",
      "         Neg Pred Value : 0.7167          \n",
      "             Prevalence : 0.5000          \n",
      "         Detection Rate : 0.3583          \n",
      "   Detection Prevalence : 0.5000          \n",
      "      Balanced Accuracy : 0.7167          \n",
      "                                          \n",
      "       'Positive' Class : 1               \n",
      "                                          \n"
     ]
    }
   ],
   "source": [
    "# Matriz de confusão\n",
    "matriz_confusao <- confusionMatrix(previsao2, dados_teste_smote$status_credito)\n",
    "print(matriz_confusao)"
   ]
  },
  {
   "cell_type": "code",
   "execution_count": 87,
   "id": "125f6c01",
   "metadata": {
    "vscode": {
     "languageId": "r"
    }
   },
   "outputs": [
    {
     "name": "stdout",
     "output_type": "stream",
     "text": [
      "\n",
      "Call:\n",
      " randomForest(formula = status_credito ~ . - trabalhador_estrangeiro -      telefone - num_dependentes - outros_devedores - idade_eng -      valor_credito_eng - sexo_e_estado_civil, data = dados_treino_smote,      ntree = 100, nodesize = 10) \n",
      "               Type of random forest: classification\n",
      "                     Number of trees: 100\n",
      "No. of variables tried at each split: 3\n",
      "\n",
      "        OOB estimate of  error rate: 19.64%\n",
      "Confusion matrix:\n",
      "    1   2 class.error\n",
      "1 344  76   0.1809524\n",
      "2  89 331   0.2119048\n"
     ]
    }
   ],
   "source": [
    "#randomForest\n",
    "modelo4 <- randomForest(status_credito ~ . \n",
    "                      - trabalhador_estrangeiro \n",
    "                      - telefone \n",
    "                      - num_dependentes \n",
    "                      - outros_devedores \n",
    "                      - idade_eng \n",
    "                      - valor_credito_eng \n",
    "                      - sexo_e_estado_civil,\n",
    "                        data = dados_treino_smote, \n",
    "                        ntree = 100, nodesize = 10)\n",
    "print(modelo4)"
   ]
  },
  {
   "cell_type": "code",
   "execution_count": 88,
   "id": "43114990",
   "metadata": {
    "vscode": {
     "languageId": "r"
    }
   },
   "outputs": [],
   "source": [
    "# Fazendo as previsoes\n",
    "previsao3 <- predict(modelo4, newdata = dados_teste_smote)"
   ]
  },
  {
   "cell_type": "code",
   "execution_count": 89,
   "id": "af8eea6a",
   "metadata": {
    "vscode": {
     "languageId": "r"
    }
   },
   "outputs": [
    {
     "name": "stdout",
     "output_type": "stream",
     "text": [
      "Confusion Matrix and Statistics\n",
      "\n",
      "          Reference\n",
      "Prediction   1   2\n",
      "         1 151  40\n",
      "         2  29 140\n",
      "                                          \n",
      "               Accuracy : 0.8083          \n",
      "                 95% CI : (0.7638, 0.8477)\n",
      "    No Information Rate : 0.5             \n",
      "    P-Value [Acc > NIR] : <2e-16          \n",
      "                                          \n",
      "                  Kappa : 0.6167          \n",
      "                                          \n",
      " Mcnemar's Test P-Value : 0.2286          \n",
      "                                          \n",
      "            Sensitivity : 0.8389          \n",
      "            Specificity : 0.7778          \n",
      "         Pos Pred Value : 0.7906          \n",
      "         Neg Pred Value : 0.8284          \n",
      "             Prevalence : 0.5000          \n",
      "         Detection Rate : 0.4194          \n",
      "   Detection Prevalence : 0.5306          \n",
      "      Balanced Accuracy : 0.8083          \n",
      "                                          \n",
      "       'Positive' Class : 1               \n",
      "                                          \n"
     ]
    }
   ],
   "source": [
    "# Matriz de confusão\n",
    "matriz_confusao <- confusionMatrix(previsao3, dados_teste_smote$status_credito)\n",
    "print(matriz_confusao)"
   ]
  },
  {
   "cell_type": "markdown",
   "id": "f5832ec5",
   "metadata": {},
   "source": [
    "### Vamos, desta forma, optar por melhorar o modelo de randomForest, excluindo apenas as variáveis que aparecem em último lugar em grau de importância"
   ]
  },
  {
   "cell_type": "code",
   "execution_count": 90,
   "id": "033594d1",
   "metadata": {
    "vscode": {
     "languageId": "r"
    }
   },
   "outputs": [
    {
     "name": "stdout",
     "output_type": "stream",
     "text": [
      "\n",
      "Call:\n",
      " randomForest(formula = status_credito ~ . - trabalhador_estrangeiro -      telefone - num_dependentes, data = dados_treino_smote, ntree = 100,      nodesize = 10) \n",
      "               Type of random forest: classification\n",
      "                     Number of trees: 100\n",
      "No. of variables tried at each split: 4\n",
      "\n",
      "        OOB estimate of  error rate: 20.95%\n",
      "Confusion matrix:\n",
      "    1   2 class.error\n",
      "1 335  85   0.2023810\n",
      "2  91 329   0.2166667\n"
     ]
    }
   ],
   "source": [
    "#randomForest\n",
    "modelo5 <- randomForest(status_credito ~ . \n",
    "                      - trabalhador_estrangeiro \n",
    "                      - telefone \n",
    "                      - num_dependentes,\n",
    "                        data = dados_treino_smote, \n",
    "                        ntree = 100, nodesize = 10)\n",
    "print(modelo5)"
   ]
  },
  {
   "cell_type": "code",
   "execution_count": 91,
   "id": "a7313003",
   "metadata": {
    "vscode": {
     "languageId": "r"
    }
   },
   "outputs": [],
   "source": [
    "# Fazendo as previsoes \n",
    "previsao4 <- predict(modelo5, newdata = dados_teste_smote)"
   ]
  },
  {
   "cell_type": "code",
   "execution_count": 92,
   "id": "9a05e386",
   "metadata": {
    "vscode": {
     "languageId": "r"
    }
   },
   "outputs": [
    {
     "name": "stdout",
     "output_type": "stream",
     "text": [
      "Confusion Matrix and Statistics\n",
      "\n",
      "          Reference\n",
      "Prediction   1   2\n",
      "         1 150  41\n",
      "         2  30 139\n",
      "                                          \n",
      "               Accuracy : 0.8028          \n",
      "                 95% CI : (0.7579, 0.8426)\n",
      "    No Information Rate : 0.5             \n",
      "    P-Value [Acc > NIR] : <2e-16          \n",
      "                                          \n",
      "                  Kappa : 0.6056          \n",
      "                                          \n",
      " Mcnemar's Test P-Value : 0.2353          \n",
      "                                          \n",
      "            Sensitivity : 0.8333          \n",
      "            Specificity : 0.7722          \n",
      "         Pos Pred Value : 0.7853          \n",
      "         Neg Pred Value : 0.8225          \n",
      "             Prevalence : 0.5000          \n",
      "         Detection Rate : 0.4167          \n",
      "   Detection Prevalence : 0.5306          \n",
      "      Balanced Accuracy : 0.8028          \n",
      "                                          \n",
      "       'Positive' Class : 1               \n",
      "                                          \n"
     ]
    }
   ],
   "source": [
    "# Matriz de confusão\n",
    "matriz_confusao <- confusionMatrix(previsao4, dados_teste_smote$status_credito)\n",
    "print(matriz_confusao)"
   ]
  },
  {
   "cell_type": "code",
   "execution_count": 93,
   "id": "da49d307",
   "metadata": {
    "vscode": {
     "languageId": "r"
    }
   },
   "outputs": [
    {
     "data": {
      "text/plain": [
       "rf variable importance\n",
       "\n",
       "  only 20 most important variables shown (out of 55)\n",
       "\n",
       "                                Overall\n",
       "status_contaA14                  100.00\n",
       "tempo_residencia                  72.70\n",
       "taxa_parcelamento                 71.99\n",
       "creditos_existentes_neste_banco   43.70\n",
       "historico_creditoA34              29.83\n",
       "duracao_empregoA72                28.68\n",
       "outras_parcelasA143               24.72\n",
       "titulos_poupancaA65               24.10\n",
       "duracao_eng(20,40]                22.33\n",
       "idade_eng(15,30]                  20.69\n",
       "proposito_creditoA42              19.70\n",
       "telefoneA192                      19.62\n",
       "status_contaA12                   19.24\n",
       "empregoA173                       19.04\n",
       "tipo_habitacaoA152                19.02\n",
       "titulos_poupancaA64               18.95\n",
       "proposito_creditoA43              18.89\n",
       "duracao_empregoA75                18.84\n",
       "sexo_e_estado_civilA93            18.83\n",
       "idade_eng(30,45]                  18.69"
      ]
     },
     "metadata": {},
     "output_type": "display_data"
    }
   ],
   "source": [
    "# Treine um modelo de classificação usando Floresta Aleatória\n",
    "modelo6 <- train(status_credito ~ ., data = dados_treino_smote, method = 'rf')\n",
    "\n",
    "# Obtenha a importância das variáveis\n",
    "varImp(modelo6)"
   ]
  },
  {
   "cell_type": "code",
   "execution_count": 94,
   "id": "fb3ba5fa",
   "metadata": {
    "vscode": {
     "languageId": "r"
    }
   },
   "outputs": [
    {
     "data": {
      "image/png": "[encoded data removed]",
      "text/plain": [
       "plot without title"
      ]
     },
     "metadata": {
      "image/png": {
       "height": 420,
       "width": 420
      }
     },
     "output_type": "display_data"
    }
   ],
   "source": [
    "# Utilizando o pacote Caret para verificar  as variáveis mais relevantes no modelo\n",
    "plot(varImp(modelo6))"
   ]
  },
  {
   "cell_type": "code",
   "execution_count": 95,
   "id": "737ce9b2",
   "metadata": {
    "vscode": {
     "languageId": "r"
    }
   },
   "outputs": [
    {
     "name": "stdout",
     "output_type": "stream",
     "text": [
      "\n",
      "Call:\n",
      " randomForest(formula = status_credito ~ . - trabalhador_estrangeiro -      num_dependentes, data = dados_treino_smote, ntree = 100,      nodesize = 10) \n",
      "               Type of random forest: classification\n",
      "                     Number of trees: 100\n",
      "No. of variables tried at each split: 4\n",
      "\n",
      "        OOB estimate of  error rate: 20.24%\n",
      "Confusion matrix:\n",
      "    1   2 class.error\n",
      "1 339  81   0.1928571\n",
      "2  89 331   0.2119048\n"
     ]
    }
   ],
   "source": [
    "#randomForest resolvemos deixar a variável telefone porque uma das suas categorias se mostrou relevante.\n",
    "modelo7 <- randomForest(status_credito ~ . \n",
    "                      - trabalhador_estrangeiro \n",
    "                      - num_dependentes,\n",
    "                        data = dados_treino_smote, \n",
    "                        ntree = 100, nodesize = 10)\n",
    "print(modelo7)"
   ]
  },
  {
   "cell_type": "code",
   "execution_count": 96,
   "id": "9d7fb291",
   "metadata": {
    "vscode": {
     "languageId": "r"
    }
   },
   "outputs": [],
   "source": [
    "# Fazendo as previsoes \n",
    "previsao5 <- predict(modelo7, newdata = dados_teste_smote)"
   ]
  },
  {
   "cell_type": "code",
   "execution_count": 97,
   "id": "966dc500",
   "metadata": {
    "vscode": {
     "languageId": "r"
    }
   },
   "outputs": [
    {
     "name": "stdout",
     "output_type": "stream",
     "text": [
      "Confusion Matrix and Statistics\n",
      "\n",
      "          Reference\n",
      "Prediction   1   2\n",
      "         1 152  39\n",
      "         2  28 141\n",
      "                                          \n",
      "               Accuracy : 0.8139          \n",
      "                 95% CI : (0.7698, 0.8528)\n",
      "    No Information Rate : 0.5             \n",
      "    P-Value [Acc > NIR] : <2e-16          \n",
      "                                          \n",
      "                  Kappa : 0.6278          \n",
      "                                          \n",
      " Mcnemar's Test P-Value : 0.2218          \n",
      "                                          \n",
      "            Sensitivity : 0.8444          \n",
      "            Specificity : 0.7833          \n",
      "         Pos Pred Value : 0.7958          \n",
      "         Neg Pred Value : 0.8343          \n",
      "             Prevalence : 0.5000          \n",
      "         Detection Rate : 0.4222          \n",
      "   Detection Prevalence : 0.5306          \n",
      "      Balanced Accuracy : 0.8139          \n",
      "                                          \n",
      "       'Positive' Class : 1               \n",
      "                                          \n"
     ]
    }
   ],
   "source": [
    "# Matriz de confusão\n",
    "matriz_confusao <- confusionMatrix(previsao5, dados_teste_smote$status_credito)\n",
    "print(matriz_confusao)"
   ]
  },
  {
   "cell_type": "markdown",
   "id": "d564dae8",
   "metadata": {},
   "source": [
    "## O modelo 7 foi o que apresentou melhor performance, com uma acurácia de 0.8139, indicando que aproximadamente 81,39% das previsões feitas pelo modelo estavam corretas."
   ]
  },
  {
   "cell_type": "markdown",
   "id": "9ebcaa06",
   "metadata": {},
   "source": [
    "### Curva Roc\n",
    "A curva ROC é uma ferramenta gráfica que ilustra o desempenho de um modelo de classificação binária em diferentes limiares de decisão. Ela é construída plotando a:\n",
    "- Taxa de Verdadeiros Positivos (Sensibilidade) no eixo y e a \n",
    "- Taxa de Falsos Positivos no eixo x. \n",
    "Cada ponto na curva representa um ponto de corte diferente para a probabilidade de classificação positiva.\n",
    "\n",
    "#### A curva ROC ideal se move rapidamente para o canto superior esquerdo do gráfico, indicando uma alta sensibilidade (captura de verdadeiros positivos) e uma baixa taxa de falsos positivos.\n",
    "\n",
    "![curva.roc](curva.roc.jpg)"
   ]
  },
  {
   "cell_type": "code",
   "execution_count": 98,
   "id": "70a33364",
   "metadata": {
    "vscode": {
     "languageId": "r"
    }
   },
   "outputs": [
    {
     "name": "stderr",
     "output_type": "stream",
     "text": [
      "Warning message:\n",
      "\"package 'ROCR' was built under R version 4.2.3\"\n"
     ]
    }
   ],
   "source": [
    "# Gerando uma curva ROC em R\n",
    "library('ROCR')"
   ]
  },
  {
   "cell_type": "code",
   "execution_count": 99,
   "id": "7b4325e6",
   "metadata": {
    "vscode": {
     "languageId": "r"
    }
   },
   "outputs": [],
   "source": [
    "# Gerando as classes de dados\n",
    "classe1 <- predict(modelo7, newdata = dados_teste_smote, type = 'prob')\n",
    "classe2 <- dados_teste_smote$status_credito"
   ]
  },
  {
   "cell_type": "code",
   "execution_count": 100,
   "id": "496c81c5",
   "metadata": {
    "vscode": {
     "languageId": "r"
    }
   },
   "outputs": [
    {
     "data": {
      "text/html": [
       "<style>\n",
       ".list-inline {list-style: none; margin:0; padding: 0}\n",
       ".list-inline>li {display: inline-block}\n",
       ".list-inline>li:not(:last-child)::after {content: \"\\00b7\"; padding: 0 .5ex}\n",
       "</style>\n",
       "<ol class=list-inline><li>'1'</li><li>'2'</li></ol>\n"
      ],
      "text/latex": [
       "\\begin{enumerate*}\n",
       "\\item '1'\n",
       "\\item '2'\n",
       "\\end{enumerate*}\n"
      ],
      "text/markdown": [
       "1. '1'\n",
       "2. '2'\n",
       "\n",
       "\n"
      ],
      "text/plain": [
       "[1] \"1\" \"2\""
      ]
     },
     "metadata": {},
     "output_type": "display_data"
    }
   ],
   "source": [
    "levels(dados_teste_smote$status_credito)"
   ]
  },
  {
   "cell_type": "markdown",
   "id": "87a1b718",
   "metadata": {},
   "source": [
    "**'prob'** significa que você deseja obter probabilidades de pertencer a cada classe. Se for um problema de classificação binária, você terá duas colunas de probabilidade (uma para cada classe)."
   ]
  },
  {
   "cell_type": "code",
   "execution_count": 101,
   "id": "a1dcbec8",
   "metadata": {
    "vscode": {
     "languageId": "r"
    }
   },
   "outputs": [],
   "source": [
    "# Gerando a curva ROC\n",
    "predicao <- prediction(classe1[,2], classe2)\n",
    "performance <- performance(predicao, 'tpr', 'fpr') "
   ]
  },
  {
   "cell_type": "markdown",
   "id": "9152419b",
   "metadata": {},
   "source": [
    "**classe1[, 2]:** Está extraindo as probabilidades da segunda coluna de classe1. Presumo que a segunda coluna seja associada à classe positiva em um problema de classificação binária.  \n",
    "**'tpr'** representa a taxa de verdadeiros positivos (sensibilidade ou recall).  \n",
    "**'fpr'** representa a taxa de falsos positivos."
   ]
  },
  {
   "cell_type": "code",
   "execution_count": 102,
   "id": "437f0eaf",
   "metadata": {
    "vscode": {
     "languageId": "r"
    }
   },
   "outputs": [
    {
     "data": {
      "image/png": "[encoded data removed]",
      "text/plain": [
       "plot without title"
      ]
     },
     "metadata": {
      "image/png": {
       "height": 420,
       "width": 420
      }
     },
     "output_type": "display_data"
    }
   ],
   "source": [
    "plot(performance, col = 'red')"
   ]
  }
 ],
 "metadata": {
  "kernelspec": {
   "display_name": "R",
   "language": "R",
   "name": "ir"
  },
  "language_info": {
   "codemirror_mode": "r",
   "file_extension": ".r",
   "mimetype": "text/x-r-source",
   "name": "R",
   "pygments_lexer": "r",
   "version": "4.2.2"
  }
 },
 "nbformat": 4,
 "nbformat_minor": 5
}
